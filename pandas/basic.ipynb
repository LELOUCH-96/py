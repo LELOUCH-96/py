{
 "metadata": {
  "language_info": {
   "codemirror_mode": {
    "name": "ipython",
    "version": 3
   },
   "file_extension": ".py",
   "mimetype": "text/x-python",
   "name": "python",
   "nbconvert_exporter": "python",
   "pygments_lexer": "ipython3",
   "version": "3.7.3-final"
  },
  "orig_nbformat": 2,
  "kernelspec": {
   "name": "python3",
   "display_name": "Python 3",
   "language": "python"
  }
 },
 "nbformat": 4,
 "nbformat_minor": 2,
 "cells": [
  {
   "cell_type": "code",
   "execution_count": 1,
   "metadata": {},
   "outputs": [
    {
     "output_type": "execute_result",
     "data": {
      "text/plain": [
       "'0.24.2'"
      ]
     },
     "metadata": {},
     "execution_count": 1
    }
   ],
   "source": [
    "import pandas as pd\n",
    "pd.__version__"
   ]
  },
  {
   "cell_type": "code",
   "execution_count": 2,
   "metadata": {},
   "outputs": [
    {
     "output_type": "execute_result",
     "data": {
      "text/plain": [
       "          country continent  year  lifeExp       pop    gdpPercap\n",
       "0     Afghanistan      Asia  1952   28.801   8425333   779.445314\n",
       "1     Afghanistan      Asia  1957   30.332   9240934   820.853030\n",
       "2     Afghanistan      Asia  1962   31.997  10267083   853.100710\n",
       "3     Afghanistan      Asia  1967   34.020  11537966   836.197138\n",
       "4     Afghanistan      Asia  1972   36.088  13079460   739.981106\n",
       "5     Afghanistan      Asia  1977   38.438  14880372   786.113360\n",
       "6     Afghanistan      Asia  1982   39.854  12881816   978.011439\n",
       "7     Afghanistan      Asia  1987   40.822  13867957   852.395945\n",
       "8     Afghanistan      Asia  1992   41.674  16317921   649.341395\n",
       "9     Afghanistan      Asia  1997   41.763  22227415   635.341351\n",
       "10    Afghanistan      Asia  2002   42.129  25268405   726.734055\n",
       "11    Afghanistan      Asia  2007   43.828  31889923   974.580338\n",
       "12        Albania    Europe  1952   55.230   1282697  1601.056136\n",
       "13        Albania    Europe  1957   59.280   1476505  1942.284244\n",
       "14        Albania    Europe  1962   64.820   1728137  2312.888958\n",
       "15        Albania    Europe  1967   66.220   1984060  2760.196931\n",
       "16        Albania    Europe  1972   67.690   2263554  3313.422188\n",
       "17        Albania    Europe  1977   68.930   2509048  3533.003910\n",
       "18        Albania    Europe  1982   70.420   2780097  3630.880722\n",
       "19        Albania    Europe  1987   72.000   3075321  3738.932735\n",
       "20        Albania    Europe  1992   71.581   3326498  2497.437901\n",
       "21        Albania    Europe  1997   72.950   3428038  3193.054604\n",
       "22        Albania    Europe  2002   75.651   3508512  4604.211737\n",
       "23        Albania    Europe  2007   76.423   3600523  5937.029526\n",
       "24        Algeria    Africa  1952   43.077   9279525  2449.008185\n",
       "25        Algeria    Africa  1957   45.685  10270856  3013.976023\n",
       "26        Algeria    Africa  1962   48.303  11000948  2550.816880\n",
       "27        Algeria    Africa  1967   51.407  12760499  3246.991771\n",
       "28        Algeria    Africa  1972   54.518  14760787  4182.663766\n",
       "29        Algeria    Africa  1977   58.014  17152804  4910.416756\n",
       "...           ...       ...   ...      ...       ...          ...\n",
       "1674  Yemen, Rep.      Asia  1982   49.113   9657618  1977.557010\n",
       "1675  Yemen, Rep.      Asia  1987   52.922  11219340  1971.741538\n",
       "1676  Yemen, Rep.      Asia  1992   55.599  13367997  1879.496673\n",
       "1677  Yemen, Rep.      Asia  1997   58.020  15826497  2117.484526\n",
       "1678  Yemen, Rep.      Asia  2002   60.308  18701257  2234.820827\n",
       "1679  Yemen, Rep.      Asia  2007   62.698  22211743  2280.769906\n",
       "1680       Zambia    Africa  1952   42.038   2672000  1147.388831\n",
       "1681       Zambia    Africa  1957   44.077   3016000  1311.956766\n",
       "1682       Zambia    Africa  1962   46.023   3421000  1452.725766\n",
       "1683       Zambia    Africa  1967   47.768   3900000  1777.077318\n",
       "1684       Zambia    Africa  1972   50.107   4506497  1773.498265\n",
       "1685       Zambia    Africa  1977   51.386   5216550  1588.688299\n",
       "1686       Zambia    Africa  1982   51.821   6100407  1408.678565\n",
       "1687       Zambia    Africa  1987   50.821   7272406  1213.315116\n",
       "1688       Zambia    Africa  1992   46.100   8381163  1210.884633\n",
       "1689       Zambia    Africa  1997   40.238   9417789  1071.353818\n",
       "1690       Zambia    Africa  2002   39.193  10595811  1071.613938\n",
       "1691       Zambia    Africa  2007   42.384  11746035  1271.211593\n",
       "1692     Zimbabwe    Africa  1952   48.451   3080907   406.884115\n",
       "1693     Zimbabwe    Africa  1957   50.469   3646340   518.764268\n",
       "1694     Zimbabwe    Africa  1962   52.358   4277736   527.272182\n",
       "1695     Zimbabwe    Africa  1967   53.995   4995432   569.795071\n",
       "1696     Zimbabwe    Africa  1972   55.635   5861135   799.362176\n",
       "1697     Zimbabwe    Africa  1977   57.674   6642107   685.587682\n",
       "1698     Zimbabwe    Africa  1982   60.363   7636524   788.855041\n",
       "1699     Zimbabwe    Africa  1987   62.351   9216418   706.157306\n",
       "1700     Zimbabwe    Africa  1992   60.377  10704340   693.420786\n",
       "1701     Zimbabwe    Africa  1997   46.809  11404948   792.449960\n",
       "1702     Zimbabwe    Africa  2002   39.989  11926563   672.038623\n",
       "1703     Zimbabwe    Africa  2007   43.487  12311143   469.709298\n",
       "\n",
       "[1704 rows x 6 columns]"
      ],
      "text/html": "<div>\n<style scoped>\n    .dataframe tbody tr th:only-of-type {\n        vertical-align: middle;\n    }\n\n    .dataframe tbody tr th {\n        vertical-align: top;\n    }\n\n    .dataframe thead th {\n        text-align: right;\n    }\n</style>\n<table border=\"1\" class=\"dataframe\">\n  <thead>\n    <tr style=\"text-align: right;\">\n      <th></th>\n      <th>country</th>\n      <th>continent</th>\n      <th>year</th>\n      <th>lifeExp</th>\n      <th>pop</th>\n      <th>gdpPercap</th>\n    </tr>\n  </thead>\n  <tbody>\n    <tr>\n      <th>0</th>\n      <td>Afghanistan</td>\n      <td>Asia</td>\n      <td>1952</td>\n      <td>28.801</td>\n      <td>8425333</td>\n      <td>779.445314</td>\n    </tr>\n    <tr>\n      <th>1</th>\n      <td>Afghanistan</td>\n      <td>Asia</td>\n      <td>1957</td>\n      <td>30.332</td>\n      <td>9240934</td>\n      <td>820.853030</td>\n    </tr>\n    <tr>\n      <th>2</th>\n      <td>Afghanistan</td>\n      <td>Asia</td>\n      <td>1962</td>\n      <td>31.997</td>\n      <td>10267083</td>\n      <td>853.100710</td>\n    </tr>\n    <tr>\n      <th>3</th>\n      <td>Afghanistan</td>\n      <td>Asia</td>\n      <td>1967</td>\n      <td>34.020</td>\n      <td>11537966</td>\n      <td>836.197138</td>\n    </tr>\n    <tr>\n      <th>4</th>\n      <td>Afghanistan</td>\n      <td>Asia</td>\n      <td>1972</td>\n      <td>36.088</td>\n      <td>13079460</td>\n      <td>739.981106</td>\n    </tr>\n    <tr>\n      <th>5</th>\n      <td>Afghanistan</td>\n      <td>Asia</td>\n      <td>1977</td>\n      <td>38.438</td>\n      <td>14880372</td>\n      <td>786.113360</td>\n    </tr>\n    <tr>\n      <th>6</th>\n      <td>Afghanistan</td>\n      <td>Asia</td>\n      <td>1982</td>\n      <td>39.854</td>\n      <td>12881816</td>\n      <td>978.011439</td>\n    </tr>\n    <tr>\n      <th>7</th>\n      <td>Afghanistan</td>\n      <td>Asia</td>\n      <td>1987</td>\n      <td>40.822</td>\n      <td>13867957</td>\n      <td>852.395945</td>\n    </tr>\n    <tr>\n      <th>8</th>\n      <td>Afghanistan</td>\n      <td>Asia</td>\n      <td>1992</td>\n      <td>41.674</td>\n      <td>16317921</td>\n      <td>649.341395</td>\n    </tr>\n    <tr>\n      <th>9</th>\n      <td>Afghanistan</td>\n      <td>Asia</td>\n      <td>1997</td>\n      <td>41.763</td>\n      <td>22227415</td>\n      <td>635.341351</td>\n    </tr>\n    <tr>\n      <th>10</th>\n      <td>Afghanistan</td>\n      <td>Asia</td>\n      <td>2002</td>\n      <td>42.129</td>\n      <td>25268405</td>\n      <td>726.734055</td>\n    </tr>\n    <tr>\n      <th>11</th>\n      <td>Afghanistan</td>\n      <td>Asia</td>\n      <td>2007</td>\n      <td>43.828</td>\n      <td>31889923</td>\n      <td>974.580338</td>\n    </tr>\n    <tr>\n      <th>12</th>\n      <td>Albania</td>\n      <td>Europe</td>\n      <td>1952</td>\n      <td>55.230</td>\n      <td>1282697</td>\n      <td>1601.056136</td>\n    </tr>\n    <tr>\n      <th>13</th>\n      <td>Albania</td>\n      <td>Europe</td>\n      <td>1957</td>\n      <td>59.280</td>\n      <td>1476505</td>\n      <td>1942.284244</td>\n    </tr>\n    <tr>\n      <th>14</th>\n      <td>Albania</td>\n      <td>Europe</td>\n      <td>1962</td>\n      <td>64.820</td>\n      <td>1728137</td>\n      <td>2312.888958</td>\n    </tr>\n    <tr>\n      <th>15</th>\n      <td>Albania</td>\n      <td>Europe</td>\n      <td>1967</td>\n      <td>66.220</td>\n      <td>1984060</td>\n      <td>2760.196931</td>\n    </tr>\n    <tr>\n      <th>16</th>\n      <td>Albania</td>\n      <td>Europe</td>\n      <td>1972</td>\n      <td>67.690</td>\n      <td>2263554</td>\n      <td>3313.422188</td>\n    </tr>\n    <tr>\n      <th>17</th>\n      <td>Albania</td>\n      <td>Europe</td>\n      <td>1977</td>\n      <td>68.930</td>\n      <td>2509048</td>\n      <td>3533.003910</td>\n    </tr>\n    <tr>\n      <th>18</th>\n      <td>Albania</td>\n      <td>Europe</td>\n      <td>1982</td>\n      <td>70.420</td>\n      <td>2780097</td>\n      <td>3630.880722</td>\n    </tr>\n    <tr>\n      <th>19</th>\n      <td>Albania</td>\n      <td>Europe</td>\n      <td>1987</td>\n      <td>72.000</td>\n      <td>3075321</td>\n      <td>3738.932735</td>\n    </tr>\n    <tr>\n      <th>20</th>\n      <td>Albania</td>\n      <td>Europe</td>\n      <td>1992</td>\n      <td>71.581</td>\n      <td>3326498</td>\n      <td>2497.437901</td>\n    </tr>\n    <tr>\n      <th>21</th>\n      <td>Albania</td>\n      <td>Europe</td>\n      <td>1997</td>\n      <td>72.950</td>\n      <td>3428038</td>\n      <td>3193.054604</td>\n    </tr>\n    <tr>\n      <th>22</th>\n      <td>Albania</td>\n      <td>Europe</td>\n      <td>2002</td>\n      <td>75.651</td>\n      <td>3508512</td>\n      <td>4604.211737</td>\n    </tr>\n    <tr>\n      <th>23</th>\n      <td>Albania</td>\n      <td>Europe</td>\n      <td>2007</td>\n      <td>76.423</td>\n      <td>3600523</td>\n      <td>5937.029526</td>\n    </tr>\n    <tr>\n      <th>24</th>\n      <td>Algeria</td>\n      <td>Africa</td>\n      <td>1952</td>\n      <td>43.077</td>\n      <td>9279525</td>\n      <td>2449.008185</td>\n    </tr>\n    <tr>\n      <th>25</th>\n      <td>Algeria</td>\n      <td>Africa</td>\n      <td>1957</td>\n      <td>45.685</td>\n      <td>10270856</td>\n      <td>3013.976023</td>\n    </tr>\n    <tr>\n      <th>26</th>\n      <td>Algeria</td>\n      <td>Africa</td>\n      <td>1962</td>\n      <td>48.303</td>\n      <td>11000948</td>\n      <td>2550.816880</td>\n    </tr>\n    <tr>\n      <th>27</th>\n      <td>Algeria</td>\n      <td>Africa</td>\n      <td>1967</td>\n      <td>51.407</td>\n      <td>12760499</td>\n      <td>3246.991771</td>\n    </tr>\n    <tr>\n      <th>28</th>\n      <td>Algeria</td>\n      <td>Africa</td>\n      <td>1972</td>\n      <td>54.518</td>\n      <td>14760787</td>\n      <td>4182.663766</td>\n    </tr>\n    <tr>\n      <th>29</th>\n      <td>Algeria</td>\n      <td>Africa</td>\n      <td>1977</td>\n      <td>58.014</td>\n      <td>17152804</td>\n      <td>4910.416756</td>\n    </tr>\n    <tr>\n      <th>...</th>\n      <td>...</td>\n      <td>...</td>\n      <td>...</td>\n      <td>...</td>\n      <td>...</td>\n      <td>...</td>\n    </tr>\n    <tr>\n      <th>1674</th>\n      <td>Yemen, Rep.</td>\n      <td>Asia</td>\n      <td>1982</td>\n      <td>49.113</td>\n      <td>9657618</td>\n      <td>1977.557010</td>\n    </tr>\n    <tr>\n      <th>1675</th>\n      <td>Yemen, Rep.</td>\n      <td>Asia</td>\n      <td>1987</td>\n      <td>52.922</td>\n      <td>11219340</td>\n      <td>1971.741538</td>\n    </tr>\n    <tr>\n      <th>1676</th>\n      <td>Yemen, Rep.</td>\n      <td>Asia</td>\n      <td>1992</td>\n      <td>55.599</td>\n      <td>13367997</td>\n      <td>1879.496673</td>\n    </tr>\n    <tr>\n      <th>1677</th>\n      <td>Yemen, Rep.</td>\n      <td>Asia</td>\n      <td>1997</td>\n      <td>58.020</td>\n      <td>15826497</td>\n      <td>2117.484526</td>\n    </tr>\n    <tr>\n      <th>1678</th>\n      <td>Yemen, Rep.</td>\n      <td>Asia</td>\n      <td>2002</td>\n      <td>60.308</td>\n      <td>18701257</td>\n      <td>2234.820827</td>\n    </tr>\n    <tr>\n      <th>1679</th>\n      <td>Yemen, Rep.</td>\n      <td>Asia</td>\n      <td>2007</td>\n      <td>62.698</td>\n      <td>22211743</td>\n      <td>2280.769906</td>\n    </tr>\n    <tr>\n      <th>1680</th>\n      <td>Zambia</td>\n      <td>Africa</td>\n      <td>1952</td>\n      <td>42.038</td>\n      <td>2672000</td>\n      <td>1147.388831</td>\n    </tr>\n    <tr>\n      <th>1681</th>\n      <td>Zambia</td>\n      <td>Africa</td>\n      <td>1957</td>\n      <td>44.077</td>\n      <td>3016000</td>\n      <td>1311.956766</td>\n    </tr>\n    <tr>\n      <th>1682</th>\n      <td>Zambia</td>\n      <td>Africa</td>\n      <td>1962</td>\n      <td>46.023</td>\n      <td>3421000</td>\n      <td>1452.725766</td>\n    </tr>\n    <tr>\n      <th>1683</th>\n      <td>Zambia</td>\n      <td>Africa</td>\n      <td>1967</td>\n      <td>47.768</td>\n      <td>3900000</td>\n      <td>1777.077318</td>\n    </tr>\n    <tr>\n      <th>1684</th>\n      <td>Zambia</td>\n      <td>Africa</td>\n      <td>1972</td>\n      <td>50.107</td>\n      <td>4506497</td>\n      <td>1773.498265</td>\n    </tr>\n    <tr>\n      <th>1685</th>\n      <td>Zambia</td>\n      <td>Africa</td>\n      <td>1977</td>\n      <td>51.386</td>\n      <td>5216550</td>\n      <td>1588.688299</td>\n    </tr>\n    <tr>\n      <th>1686</th>\n      <td>Zambia</td>\n      <td>Africa</td>\n      <td>1982</td>\n      <td>51.821</td>\n      <td>6100407</td>\n      <td>1408.678565</td>\n    </tr>\n    <tr>\n      <th>1687</th>\n      <td>Zambia</td>\n      <td>Africa</td>\n      <td>1987</td>\n      <td>50.821</td>\n      <td>7272406</td>\n      <td>1213.315116</td>\n    </tr>\n    <tr>\n      <th>1688</th>\n      <td>Zambia</td>\n      <td>Africa</td>\n      <td>1992</td>\n      <td>46.100</td>\n      <td>8381163</td>\n      <td>1210.884633</td>\n    </tr>\n    <tr>\n      <th>1689</th>\n      <td>Zambia</td>\n      <td>Africa</td>\n      <td>1997</td>\n      <td>40.238</td>\n      <td>9417789</td>\n      <td>1071.353818</td>\n    </tr>\n    <tr>\n      <th>1690</th>\n      <td>Zambia</td>\n      <td>Africa</td>\n      <td>2002</td>\n      <td>39.193</td>\n      <td>10595811</td>\n      <td>1071.613938</td>\n    </tr>\n    <tr>\n      <th>1691</th>\n      <td>Zambia</td>\n      <td>Africa</td>\n      <td>2007</td>\n      <td>42.384</td>\n      <td>11746035</td>\n      <td>1271.211593</td>\n    </tr>\n    <tr>\n      <th>1692</th>\n      <td>Zimbabwe</td>\n      <td>Africa</td>\n      <td>1952</td>\n      <td>48.451</td>\n      <td>3080907</td>\n      <td>406.884115</td>\n    </tr>\n    <tr>\n      <th>1693</th>\n      <td>Zimbabwe</td>\n      <td>Africa</td>\n      <td>1957</td>\n      <td>50.469</td>\n      <td>3646340</td>\n      <td>518.764268</td>\n    </tr>\n    <tr>\n      <th>1694</th>\n      <td>Zimbabwe</td>\n      <td>Africa</td>\n      <td>1962</td>\n      <td>52.358</td>\n      <td>4277736</td>\n      <td>527.272182</td>\n    </tr>\n    <tr>\n      <th>1695</th>\n      <td>Zimbabwe</td>\n      <td>Africa</td>\n      <td>1967</td>\n      <td>53.995</td>\n      <td>4995432</td>\n      <td>569.795071</td>\n    </tr>\n    <tr>\n      <th>1696</th>\n      <td>Zimbabwe</td>\n      <td>Africa</td>\n      <td>1972</td>\n      <td>55.635</td>\n      <td>5861135</td>\n      <td>799.362176</td>\n    </tr>\n    <tr>\n      <th>1697</th>\n      <td>Zimbabwe</td>\n      <td>Africa</td>\n      <td>1977</td>\n      <td>57.674</td>\n      <td>6642107</td>\n      <td>685.587682</td>\n    </tr>\n    <tr>\n      <th>1698</th>\n      <td>Zimbabwe</td>\n      <td>Africa</td>\n      <td>1982</td>\n      <td>60.363</td>\n      <td>7636524</td>\n      <td>788.855041</td>\n    </tr>\n    <tr>\n      <th>1699</th>\n      <td>Zimbabwe</td>\n      <td>Africa</td>\n      <td>1987</td>\n      <td>62.351</td>\n      <td>9216418</td>\n      <td>706.157306</td>\n    </tr>\n    <tr>\n      <th>1700</th>\n      <td>Zimbabwe</td>\n      <td>Africa</td>\n      <td>1992</td>\n      <td>60.377</td>\n      <td>10704340</td>\n      <td>693.420786</td>\n    </tr>\n    <tr>\n      <th>1701</th>\n      <td>Zimbabwe</td>\n      <td>Africa</td>\n      <td>1997</td>\n      <td>46.809</td>\n      <td>11404948</td>\n      <td>792.449960</td>\n    </tr>\n    <tr>\n      <th>1702</th>\n      <td>Zimbabwe</td>\n      <td>Africa</td>\n      <td>2002</td>\n      <td>39.989</td>\n      <td>11926563</td>\n      <td>672.038623</td>\n    </tr>\n    <tr>\n      <th>1703</th>\n      <td>Zimbabwe</td>\n      <td>Africa</td>\n      <td>2007</td>\n      <td>43.487</td>\n      <td>12311143</td>\n      <td>469.709298</td>\n    </tr>\n  </tbody>\n</table>\n<p>1704 rows × 6 columns</p>\n</div>"
     },
     "metadata": {},
     "execution_count": 2
    }
   ],
   "source": [
    "pd.read_csv(\"../data/gapminder.tsv\", sep = '\\t') #here for tsv we need to use sep as '\\t'\n"
   ]
  },
  {
   "cell_type": "code",
   "execution_count": 3,
   "metadata": {},
   "outputs": [],
   "source": [
    "df = pd.read_csv(\"../data/gapminder.tsv\",sep='\\t')"
   ]
  },
  {
   "cell_type": "code",
   "execution_count": 4,
   "metadata": {},
   "outputs": [
    {
     "output_type": "execute_result",
     "data": {
      "text/plain": [
       "pandas.core.frame.DataFrame"
      ]
     },
     "metadata": {},
     "execution_count": 4
    }
   ],
   "source": [
    "type(df)"
   ]
  },
  {
   "cell_type": "code",
   "execution_count": 5,
   "metadata": {},
   "outputs": [
    {
     "output_type": "execute_result",
     "data": {
      "text/plain": [
       "(1704, 6)"
      ]
     },
     "metadata": {},
     "execution_count": 5
    }
   ],
   "source": [
    "df.shape"
   ]
  },
  {
   "cell_type": "code",
   "execution_count": 6,
   "metadata": {},
   "outputs": [
    {
     "output_type": "stream",
     "name": "stdout",
     "text": [
      "<class 'pandas.core.frame.DataFrame'>\nRangeIndex: 1704 entries, 0 to 1703\nData columns (total 6 columns):\ncountry      1704 non-null object\ncontinent    1704 non-null object\nyear         1704 non-null int64\nlifeExp      1704 non-null float64\npop          1704 non-null int64\ngdpPercap    1704 non-null float64\ndtypes: float64(2), int64(2), object(2)\nmemory usage: 80.0+ KB\n"
     ]
    }
   ],
   "source": [
    "df.info()"
   ]
  },
  {
   "cell_type": "code",
   "execution_count": 7,
   "metadata": {},
   "outputs": [
    {
     "output_type": "execute_result",
     "data": {
      "text/plain": [
       "       country continent  year  lifeExp       pop   gdpPercap\n",
       "0  Afghanistan      Asia  1952   28.801   8425333  779.445314\n",
       "1  Afghanistan      Asia  1957   30.332   9240934  820.853030\n",
       "2  Afghanistan      Asia  1962   31.997  10267083  853.100710\n",
       "3  Afghanistan      Asia  1967   34.020  11537966  836.197138\n",
       "4  Afghanistan      Asia  1972   36.088  13079460  739.981106"
      ],
      "text/html": "<div>\n<style scoped>\n    .dataframe tbody tr th:only-of-type {\n        vertical-align: middle;\n    }\n\n    .dataframe tbody tr th {\n        vertical-align: top;\n    }\n\n    .dataframe thead th {\n        text-align: right;\n    }\n</style>\n<table border=\"1\" class=\"dataframe\">\n  <thead>\n    <tr style=\"text-align: right;\">\n      <th></th>\n      <th>country</th>\n      <th>continent</th>\n      <th>year</th>\n      <th>lifeExp</th>\n      <th>pop</th>\n      <th>gdpPercap</th>\n    </tr>\n  </thead>\n  <tbody>\n    <tr>\n      <th>0</th>\n      <td>Afghanistan</td>\n      <td>Asia</td>\n      <td>1952</td>\n      <td>28.801</td>\n      <td>8425333</td>\n      <td>779.445314</td>\n    </tr>\n    <tr>\n      <th>1</th>\n      <td>Afghanistan</td>\n      <td>Asia</td>\n      <td>1957</td>\n      <td>30.332</td>\n      <td>9240934</td>\n      <td>820.853030</td>\n    </tr>\n    <tr>\n      <th>2</th>\n      <td>Afghanistan</td>\n      <td>Asia</td>\n      <td>1962</td>\n      <td>31.997</td>\n      <td>10267083</td>\n      <td>853.100710</td>\n    </tr>\n    <tr>\n      <th>3</th>\n      <td>Afghanistan</td>\n      <td>Asia</td>\n      <td>1967</td>\n      <td>34.020</td>\n      <td>11537966</td>\n      <td>836.197138</td>\n    </tr>\n    <tr>\n      <th>4</th>\n      <td>Afghanistan</td>\n      <td>Asia</td>\n      <td>1972</td>\n      <td>36.088</td>\n      <td>13079460</td>\n      <td>739.981106</td>\n    </tr>\n  </tbody>\n</table>\n</div>"
     },
     "metadata": {},
     "execution_count": 7
    }
   ],
   "source": [
    "df.head()"
   ]
  },
  {
   "cell_type": "code",
   "execution_count": 8,
   "metadata": {},
   "outputs": [
    {
     "output_type": "execute_result",
     "data": {
      "text/plain": [
       "       country continent  year  lifeExp       pop   gdpPercap\n",
       "0  Afghanistan      Asia  1952   28.801   8425333  779.445314\n",
       "1  Afghanistan      Asia  1957   30.332   9240934  820.853030\n",
       "2  Afghanistan      Asia  1962   31.997  10267083  853.100710\n",
       "3  Afghanistan      Asia  1967   34.020  11537966  836.197138\n",
       "4  Afghanistan      Asia  1972   36.088  13079460  739.981106\n",
       "5  Afghanistan      Asia  1977   38.438  14880372  786.113360\n",
       "6  Afghanistan      Asia  1982   39.854  12881816  978.011439\n",
       "7  Afghanistan      Asia  1987   40.822  13867957  852.395945\n",
       "8  Afghanistan      Asia  1992   41.674  16317921  649.341395\n",
       "9  Afghanistan      Asia  1997   41.763  22227415  635.341351"
      ],
      "text/html": "<div>\n<style scoped>\n    .dataframe tbody tr th:only-of-type {\n        vertical-align: middle;\n    }\n\n    .dataframe tbody tr th {\n        vertical-align: top;\n    }\n\n    .dataframe thead th {\n        text-align: right;\n    }\n</style>\n<table border=\"1\" class=\"dataframe\">\n  <thead>\n    <tr style=\"text-align: right;\">\n      <th></th>\n      <th>country</th>\n      <th>continent</th>\n      <th>year</th>\n      <th>lifeExp</th>\n      <th>pop</th>\n      <th>gdpPercap</th>\n    </tr>\n  </thead>\n  <tbody>\n    <tr>\n      <th>0</th>\n      <td>Afghanistan</td>\n      <td>Asia</td>\n      <td>1952</td>\n      <td>28.801</td>\n      <td>8425333</td>\n      <td>779.445314</td>\n    </tr>\n    <tr>\n      <th>1</th>\n      <td>Afghanistan</td>\n      <td>Asia</td>\n      <td>1957</td>\n      <td>30.332</td>\n      <td>9240934</td>\n      <td>820.853030</td>\n    </tr>\n    <tr>\n      <th>2</th>\n      <td>Afghanistan</td>\n      <td>Asia</td>\n      <td>1962</td>\n      <td>31.997</td>\n      <td>10267083</td>\n      <td>853.100710</td>\n    </tr>\n    <tr>\n      <th>3</th>\n      <td>Afghanistan</td>\n      <td>Asia</td>\n      <td>1967</td>\n      <td>34.020</td>\n      <td>11537966</td>\n      <td>836.197138</td>\n    </tr>\n    <tr>\n      <th>4</th>\n      <td>Afghanistan</td>\n      <td>Asia</td>\n      <td>1972</td>\n      <td>36.088</td>\n      <td>13079460</td>\n      <td>739.981106</td>\n    </tr>\n    <tr>\n      <th>5</th>\n      <td>Afghanistan</td>\n      <td>Asia</td>\n      <td>1977</td>\n      <td>38.438</td>\n      <td>14880372</td>\n      <td>786.113360</td>\n    </tr>\n    <tr>\n      <th>6</th>\n      <td>Afghanistan</td>\n      <td>Asia</td>\n      <td>1982</td>\n      <td>39.854</td>\n      <td>12881816</td>\n      <td>978.011439</td>\n    </tr>\n    <tr>\n      <th>7</th>\n      <td>Afghanistan</td>\n      <td>Asia</td>\n      <td>1987</td>\n      <td>40.822</td>\n      <td>13867957</td>\n      <td>852.395945</td>\n    </tr>\n    <tr>\n      <th>8</th>\n      <td>Afghanistan</td>\n      <td>Asia</td>\n      <td>1992</td>\n      <td>41.674</td>\n      <td>16317921</td>\n      <td>649.341395</td>\n    </tr>\n    <tr>\n      <th>9</th>\n      <td>Afghanistan</td>\n      <td>Asia</td>\n      <td>1997</td>\n      <td>41.763</td>\n      <td>22227415</td>\n      <td>635.341351</td>\n    </tr>\n  </tbody>\n</table>\n</div>"
     },
     "metadata": {},
     "execution_count": 8
    }
   ],
   "source": [
    "df.head(10)"
   ]
  },
  {
   "cell_type": "code",
   "execution_count": 9,
   "metadata": {},
   "outputs": [
    {
     "output_type": "execute_result",
     "data": {
      "text/plain": [
       "       country continent  year  lifeExp       pop   gdpPercap\n",
       "1699  Zimbabwe    Africa  1987   62.351   9216418  706.157306\n",
       "1700  Zimbabwe    Africa  1992   60.377  10704340  693.420786\n",
       "1701  Zimbabwe    Africa  1997   46.809  11404948  792.449960\n",
       "1702  Zimbabwe    Africa  2002   39.989  11926563  672.038623\n",
       "1703  Zimbabwe    Africa  2007   43.487  12311143  469.709298"
      ],
      "text/html": "<div>\n<style scoped>\n    .dataframe tbody tr th:only-of-type {\n        vertical-align: middle;\n    }\n\n    .dataframe tbody tr th {\n        vertical-align: top;\n    }\n\n    .dataframe thead th {\n        text-align: right;\n    }\n</style>\n<table border=\"1\" class=\"dataframe\">\n  <thead>\n    <tr style=\"text-align: right;\">\n      <th></th>\n      <th>country</th>\n      <th>continent</th>\n      <th>year</th>\n      <th>lifeExp</th>\n      <th>pop</th>\n      <th>gdpPercap</th>\n    </tr>\n  </thead>\n  <tbody>\n    <tr>\n      <th>1699</th>\n      <td>Zimbabwe</td>\n      <td>Africa</td>\n      <td>1987</td>\n      <td>62.351</td>\n      <td>9216418</td>\n      <td>706.157306</td>\n    </tr>\n    <tr>\n      <th>1700</th>\n      <td>Zimbabwe</td>\n      <td>Africa</td>\n      <td>1992</td>\n      <td>60.377</td>\n      <td>10704340</td>\n      <td>693.420786</td>\n    </tr>\n    <tr>\n      <th>1701</th>\n      <td>Zimbabwe</td>\n      <td>Africa</td>\n      <td>1997</td>\n      <td>46.809</td>\n      <td>11404948</td>\n      <td>792.449960</td>\n    </tr>\n    <tr>\n      <th>1702</th>\n      <td>Zimbabwe</td>\n      <td>Africa</td>\n      <td>2002</td>\n      <td>39.989</td>\n      <td>11926563</td>\n      <td>672.038623</td>\n    </tr>\n    <tr>\n      <th>1703</th>\n      <td>Zimbabwe</td>\n      <td>Africa</td>\n      <td>2007</td>\n      <td>43.487</td>\n      <td>12311143</td>\n      <td>469.709298</td>\n    </tr>\n  </tbody>\n</table>\n</div>"
     },
     "metadata": {},
     "execution_count": 9
    }
   ],
   "source": [
    "df.tail()"
   ]
  },
  {
   "cell_type": "code",
   "execution_count": 10,
   "metadata": {},
   "outputs": [
    {
     "output_type": "execute_result",
     "data": {
      "text/plain": [
       "Index(['country', 'continent', 'year', 'lifeExp', 'pop', 'gdpPercap'], dtype='object')"
      ]
     },
     "metadata": {},
     "execution_count": 10
    }
   ],
   "source": [
    "df.columns"
   ]
  },
  {
   "cell_type": "code",
   "execution_count": 11,
   "metadata": {},
   "outputs": [
    {
     "output_type": "execute_result",
     "data": {
      "text/plain": [
       "'country'"
      ]
     },
     "metadata": {},
     "execution_count": 11
    }
   ],
   "source": [
    "df.columns[0]"
   ]
  },
  {
   "cell_type": "code",
   "execution_count": 12,
   "metadata": {},
   "outputs": [
    {
     "output_type": "execute_result",
     "data": {
      "text/plain": [
       "RangeIndex(start=0, stop=1704, step=1)"
      ]
     },
     "metadata": {},
     "execution_count": 12
    }
   ],
   "source": [
    "df.index"
   ]
  },
  {
   "cell_type": "code",
   "execution_count": 13,
   "metadata": {},
   "outputs": [
    {
     "output_type": "execute_result",
     "data": {
      "text/plain": [
       "array([['Afghanistan', 'Asia', 1952, 28.801, 8425333, 779.4453145],\n",
       "       ['Afghanistan', 'Asia', 1957, 30.331999999999997, 9240934,\n",
       "        820.8530296],\n",
       "       ['Afghanistan', 'Asia', 1962, 31.997, 10267083, 853.1007099999999],\n",
       "       ...,\n",
       "       ['Zimbabwe', 'Africa', 1997, 46.809, 11404948, 792.4499602999999],\n",
       "       ['Zimbabwe', 'Africa', 2002, 39.989000000000004, 11926563,\n",
       "        672.0386227000001],\n",
       "       ['Zimbabwe', 'Africa', 2007, 43.486999999999995, 12311143,\n",
       "        469.70929810000007]], dtype=object)"
      ]
     },
     "metadata": {},
     "execution_count": 13
    }
   ],
   "source": [
    "df.values  #numpy array "
   ]
  },
  {
   "cell_type": "code",
   "execution_count": 14,
   "metadata": {},
   "outputs": [
    {
     "output_type": "execute_result",
     "data": {
      "text/plain": [
       "          country continent    year  lifeExp       pop    gdpPercap\n",
       "0     Afghanistan      Asia     NaN   28.801   8425333   779.445314\n",
       "1     Afghanistan      Asia  1957.0   30.332   9240934   820.853030\n",
       "2     Afghanistan      Asia  1962.0   31.997  10267083   853.100710\n",
       "3     Afghanistan      Asia  1967.0   34.020  11537966   836.197138\n",
       "4     Afghanistan      Asia  1972.0   36.088  13079460   739.981106\n",
       "5     Afghanistan      Asia  1977.0   38.438  14880372   786.113360\n",
       "6     Afghanistan      Asia  1982.0   39.854  12881816   978.011439\n",
       "7     Afghanistan      Asia  1987.0   40.822  13867957   852.395945\n",
       "8     Afghanistan      Asia  1992.0   41.674  16317921   649.341395\n",
       "9     Afghanistan      Asia  1997.0   41.763  22227415   635.341351\n",
       "10    Afghanistan      Asia  2002.0   42.129  25268405   726.734055\n",
       "11    Afghanistan      Asia  2007.0   43.828  31889923   974.580338\n",
       "12        Albania    Europe     NaN   55.230   1282697  1601.056136\n",
       "13        Albania    Europe  1957.0   59.280   1476505  1942.284244\n",
       "14        Albania    Europe  1962.0   64.820   1728137  2312.888958\n",
       "15        Albania    Europe  1967.0   66.220   1984060  2760.196931\n",
       "16        Albania    Europe  1972.0   67.690   2263554  3313.422188\n",
       "17        Albania    Europe  1977.0   68.930   2509048  3533.003910\n",
       "18        Albania    Europe  1982.0   70.420   2780097  3630.880722\n",
       "19        Albania    Europe  1987.0   72.000   3075321  3738.932735\n",
       "20        Albania    Europe  1992.0   71.581   3326498  2497.437901\n",
       "21        Albania    Europe  1997.0   72.950   3428038  3193.054604\n",
       "22        Albania    Europe  2002.0   75.651   3508512  4604.211737\n",
       "23        Albania    Europe  2007.0   76.423   3600523  5937.029526\n",
       "24        Algeria    Africa     NaN   43.077   9279525  2449.008185\n",
       "25        Algeria    Africa  1957.0   45.685  10270856  3013.976023\n",
       "26        Algeria    Africa  1962.0   48.303  11000948  2550.816880\n",
       "27        Algeria    Africa  1967.0   51.407  12760499  3246.991771\n",
       "28        Algeria    Africa  1972.0   54.518  14760787  4182.663766\n",
       "29        Algeria    Africa  1977.0   58.014  17152804  4910.416756\n",
       "...           ...       ...     ...      ...       ...          ...\n",
       "1674  Yemen, Rep.      Asia  1982.0   49.113   9657618  1977.557010\n",
       "1675  Yemen, Rep.      Asia  1987.0   52.922  11219340  1971.741538\n",
       "1676  Yemen, Rep.      Asia  1992.0   55.599  13367997  1879.496673\n",
       "1677  Yemen, Rep.      Asia  1997.0   58.020  15826497  2117.484526\n",
       "1678  Yemen, Rep.      Asia  2002.0   60.308  18701257  2234.820827\n",
       "1679  Yemen, Rep.      Asia  2007.0   62.698  22211743  2280.769906\n",
       "1680       Zambia    Africa     NaN   42.038   2672000  1147.388831\n",
       "1681       Zambia    Africa  1957.0   44.077   3016000  1311.956766\n",
       "1682       Zambia    Africa  1962.0   46.023   3421000  1452.725766\n",
       "1683       Zambia    Africa  1967.0   47.768   3900000  1777.077318\n",
       "1684       Zambia    Africa  1972.0   50.107   4506497  1773.498265\n",
       "1685       Zambia    Africa  1977.0   51.386   5216550  1588.688299\n",
       "1686       Zambia    Africa  1982.0   51.821   6100407  1408.678565\n",
       "1687       Zambia    Africa  1987.0   50.821   7272406  1213.315116\n",
       "1688       Zambia    Africa  1992.0   46.100   8381163  1210.884633\n",
       "1689       Zambia    Africa  1997.0   40.238   9417789  1071.353818\n",
       "1690       Zambia    Africa  2002.0   39.193  10595811  1071.613938\n",
       "1691       Zambia    Africa  2007.0   42.384  11746035  1271.211593\n",
       "1692     Zimbabwe    Africa     NaN   48.451   3080907   406.884115\n",
       "1693     Zimbabwe    Africa  1957.0   50.469   3646340   518.764268\n",
       "1694     Zimbabwe    Africa  1962.0   52.358   4277736   527.272182\n",
       "1695     Zimbabwe    Africa  1967.0   53.995   4995432   569.795071\n",
       "1696     Zimbabwe    Africa  1972.0   55.635   5861135   799.362176\n",
       "1697     Zimbabwe    Africa  1977.0   57.674   6642107   685.587682\n",
       "1698     Zimbabwe    Africa  1982.0   60.363   7636524   788.855041\n",
       "1699     Zimbabwe    Africa  1987.0   62.351   9216418   706.157306\n",
       "1700     Zimbabwe    Africa  1992.0   60.377  10704340   693.420786\n",
       "1701     Zimbabwe    Africa  1997.0   46.809  11404948   792.449960\n",
       "1702     Zimbabwe    Africa  2002.0   39.989  11926563   672.038623\n",
       "1703     Zimbabwe    Africa  2007.0   43.487  12311143   469.709298\n",
       "\n",
       "[1704 rows x 6 columns]"
      ],
      "text/html": "<div>\n<style scoped>\n    .dataframe tbody tr th:only-of-type {\n        vertical-align: middle;\n    }\n\n    .dataframe tbody tr th {\n        vertical-align: top;\n    }\n\n    .dataframe thead th {\n        text-align: right;\n    }\n</style>\n<table border=\"1\" class=\"dataframe\">\n  <thead>\n    <tr style=\"text-align: right;\">\n      <th></th>\n      <th>country</th>\n      <th>continent</th>\n      <th>year</th>\n      <th>lifeExp</th>\n      <th>pop</th>\n      <th>gdpPercap</th>\n    </tr>\n  </thead>\n  <tbody>\n    <tr>\n      <th>0</th>\n      <td>Afghanistan</td>\n      <td>Asia</td>\n      <td>NaN</td>\n      <td>28.801</td>\n      <td>8425333</td>\n      <td>779.445314</td>\n    </tr>\n    <tr>\n      <th>1</th>\n      <td>Afghanistan</td>\n      <td>Asia</td>\n      <td>1957.0</td>\n      <td>30.332</td>\n      <td>9240934</td>\n      <td>820.853030</td>\n    </tr>\n    <tr>\n      <th>2</th>\n      <td>Afghanistan</td>\n      <td>Asia</td>\n      <td>1962.0</td>\n      <td>31.997</td>\n      <td>10267083</td>\n      <td>853.100710</td>\n    </tr>\n    <tr>\n      <th>3</th>\n      <td>Afghanistan</td>\n      <td>Asia</td>\n      <td>1967.0</td>\n      <td>34.020</td>\n      <td>11537966</td>\n      <td>836.197138</td>\n    </tr>\n    <tr>\n      <th>4</th>\n      <td>Afghanistan</td>\n      <td>Asia</td>\n      <td>1972.0</td>\n      <td>36.088</td>\n      <td>13079460</td>\n      <td>739.981106</td>\n    </tr>\n    <tr>\n      <th>5</th>\n      <td>Afghanistan</td>\n      <td>Asia</td>\n      <td>1977.0</td>\n      <td>38.438</td>\n      <td>14880372</td>\n      <td>786.113360</td>\n    </tr>\n    <tr>\n      <th>6</th>\n      <td>Afghanistan</td>\n      <td>Asia</td>\n      <td>1982.0</td>\n      <td>39.854</td>\n      <td>12881816</td>\n      <td>978.011439</td>\n    </tr>\n    <tr>\n      <th>7</th>\n      <td>Afghanistan</td>\n      <td>Asia</td>\n      <td>1987.0</td>\n      <td>40.822</td>\n      <td>13867957</td>\n      <td>852.395945</td>\n    </tr>\n    <tr>\n      <th>8</th>\n      <td>Afghanistan</td>\n      <td>Asia</td>\n      <td>1992.0</td>\n      <td>41.674</td>\n      <td>16317921</td>\n      <td>649.341395</td>\n    </tr>\n    <tr>\n      <th>9</th>\n      <td>Afghanistan</td>\n      <td>Asia</td>\n      <td>1997.0</td>\n      <td>41.763</td>\n      <td>22227415</td>\n      <td>635.341351</td>\n    </tr>\n    <tr>\n      <th>10</th>\n      <td>Afghanistan</td>\n      <td>Asia</td>\n      <td>2002.0</td>\n      <td>42.129</td>\n      <td>25268405</td>\n      <td>726.734055</td>\n    </tr>\n    <tr>\n      <th>11</th>\n      <td>Afghanistan</td>\n      <td>Asia</td>\n      <td>2007.0</td>\n      <td>43.828</td>\n      <td>31889923</td>\n      <td>974.580338</td>\n    </tr>\n    <tr>\n      <th>12</th>\n      <td>Albania</td>\n      <td>Europe</td>\n      <td>NaN</td>\n      <td>55.230</td>\n      <td>1282697</td>\n      <td>1601.056136</td>\n    </tr>\n    <tr>\n      <th>13</th>\n      <td>Albania</td>\n      <td>Europe</td>\n      <td>1957.0</td>\n      <td>59.280</td>\n      <td>1476505</td>\n      <td>1942.284244</td>\n    </tr>\n    <tr>\n      <th>14</th>\n      <td>Albania</td>\n      <td>Europe</td>\n      <td>1962.0</td>\n      <td>64.820</td>\n      <td>1728137</td>\n      <td>2312.888958</td>\n    </tr>\n    <tr>\n      <th>15</th>\n      <td>Albania</td>\n      <td>Europe</td>\n      <td>1967.0</td>\n      <td>66.220</td>\n      <td>1984060</td>\n      <td>2760.196931</td>\n    </tr>\n    <tr>\n      <th>16</th>\n      <td>Albania</td>\n      <td>Europe</td>\n      <td>1972.0</td>\n      <td>67.690</td>\n      <td>2263554</td>\n      <td>3313.422188</td>\n    </tr>\n    <tr>\n      <th>17</th>\n      <td>Albania</td>\n      <td>Europe</td>\n      <td>1977.0</td>\n      <td>68.930</td>\n      <td>2509048</td>\n      <td>3533.003910</td>\n    </tr>\n    <tr>\n      <th>18</th>\n      <td>Albania</td>\n      <td>Europe</td>\n      <td>1982.0</td>\n      <td>70.420</td>\n      <td>2780097</td>\n      <td>3630.880722</td>\n    </tr>\n    <tr>\n      <th>19</th>\n      <td>Albania</td>\n      <td>Europe</td>\n      <td>1987.0</td>\n      <td>72.000</td>\n      <td>3075321</td>\n      <td>3738.932735</td>\n    </tr>\n    <tr>\n      <th>20</th>\n      <td>Albania</td>\n      <td>Europe</td>\n      <td>1992.0</td>\n      <td>71.581</td>\n      <td>3326498</td>\n      <td>2497.437901</td>\n    </tr>\n    <tr>\n      <th>21</th>\n      <td>Albania</td>\n      <td>Europe</td>\n      <td>1997.0</td>\n      <td>72.950</td>\n      <td>3428038</td>\n      <td>3193.054604</td>\n    </tr>\n    <tr>\n      <th>22</th>\n      <td>Albania</td>\n      <td>Europe</td>\n      <td>2002.0</td>\n      <td>75.651</td>\n      <td>3508512</td>\n      <td>4604.211737</td>\n    </tr>\n    <tr>\n      <th>23</th>\n      <td>Albania</td>\n      <td>Europe</td>\n      <td>2007.0</td>\n      <td>76.423</td>\n      <td>3600523</td>\n      <td>5937.029526</td>\n    </tr>\n    <tr>\n      <th>24</th>\n      <td>Algeria</td>\n      <td>Africa</td>\n      <td>NaN</td>\n      <td>43.077</td>\n      <td>9279525</td>\n      <td>2449.008185</td>\n    </tr>\n    <tr>\n      <th>25</th>\n      <td>Algeria</td>\n      <td>Africa</td>\n      <td>1957.0</td>\n      <td>45.685</td>\n      <td>10270856</td>\n      <td>3013.976023</td>\n    </tr>\n    <tr>\n      <th>26</th>\n      <td>Algeria</td>\n      <td>Africa</td>\n      <td>1962.0</td>\n      <td>48.303</td>\n      <td>11000948</td>\n      <td>2550.816880</td>\n    </tr>\n    <tr>\n      <th>27</th>\n      <td>Algeria</td>\n      <td>Africa</td>\n      <td>1967.0</td>\n      <td>51.407</td>\n      <td>12760499</td>\n      <td>3246.991771</td>\n    </tr>\n    <tr>\n      <th>28</th>\n      <td>Algeria</td>\n      <td>Africa</td>\n      <td>1972.0</td>\n      <td>54.518</td>\n      <td>14760787</td>\n      <td>4182.663766</td>\n    </tr>\n    <tr>\n      <th>29</th>\n      <td>Algeria</td>\n      <td>Africa</td>\n      <td>1977.0</td>\n      <td>58.014</td>\n      <td>17152804</td>\n      <td>4910.416756</td>\n    </tr>\n    <tr>\n      <th>...</th>\n      <td>...</td>\n      <td>...</td>\n      <td>...</td>\n      <td>...</td>\n      <td>...</td>\n      <td>...</td>\n    </tr>\n    <tr>\n      <th>1674</th>\n      <td>Yemen, Rep.</td>\n      <td>Asia</td>\n      <td>1982.0</td>\n      <td>49.113</td>\n      <td>9657618</td>\n      <td>1977.557010</td>\n    </tr>\n    <tr>\n      <th>1675</th>\n      <td>Yemen, Rep.</td>\n      <td>Asia</td>\n      <td>1987.0</td>\n      <td>52.922</td>\n      <td>11219340</td>\n      <td>1971.741538</td>\n    </tr>\n    <tr>\n      <th>1676</th>\n      <td>Yemen, Rep.</td>\n      <td>Asia</td>\n      <td>1992.0</td>\n      <td>55.599</td>\n      <td>13367997</td>\n      <td>1879.496673</td>\n    </tr>\n    <tr>\n      <th>1677</th>\n      <td>Yemen, Rep.</td>\n      <td>Asia</td>\n      <td>1997.0</td>\n      <td>58.020</td>\n      <td>15826497</td>\n      <td>2117.484526</td>\n    </tr>\n    <tr>\n      <th>1678</th>\n      <td>Yemen, Rep.</td>\n      <td>Asia</td>\n      <td>2002.0</td>\n      <td>60.308</td>\n      <td>18701257</td>\n      <td>2234.820827</td>\n    </tr>\n    <tr>\n      <th>1679</th>\n      <td>Yemen, Rep.</td>\n      <td>Asia</td>\n      <td>2007.0</td>\n      <td>62.698</td>\n      <td>22211743</td>\n      <td>2280.769906</td>\n    </tr>\n    <tr>\n      <th>1680</th>\n      <td>Zambia</td>\n      <td>Africa</td>\n      <td>NaN</td>\n      <td>42.038</td>\n      <td>2672000</td>\n      <td>1147.388831</td>\n    </tr>\n    <tr>\n      <th>1681</th>\n      <td>Zambia</td>\n      <td>Africa</td>\n      <td>1957.0</td>\n      <td>44.077</td>\n      <td>3016000</td>\n      <td>1311.956766</td>\n    </tr>\n    <tr>\n      <th>1682</th>\n      <td>Zambia</td>\n      <td>Africa</td>\n      <td>1962.0</td>\n      <td>46.023</td>\n      <td>3421000</td>\n      <td>1452.725766</td>\n    </tr>\n    <tr>\n      <th>1683</th>\n      <td>Zambia</td>\n      <td>Africa</td>\n      <td>1967.0</td>\n      <td>47.768</td>\n      <td>3900000</td>\n      <td>1777.077318</td>\n    </tr>\n    <tr>\n      <th>1684</th>\n      <td>Zambia</td>\n      <td>Africa</td>\n      <td>1972.0</td>\n      <td>50.107</td>\n      <td>4506497</td>\n      <td>1773.498265</td>\n    </tr>\n    <tr>\n      <th>1685</th>\n      <td>Zambia</td>\n      <td>Africa</td>\n      <td>1977.0</td>\n      <td>51.386</td>\n      <td>5216550</td>\n      <td>1588.688299</td>\n    </tr>\n    <tr>\n      <th>1686</th>\n      <td>Zambia</td>\n      <td>Africa</td>\n      <td>1982.0</td>\n      <td>51.821</td>\n      <td>6100407</td>\n      <td>1408.678565</td>\n    </tr>\n    <tr>\n      <th>1687</th>\n      <td>Zambia</td>\n      <td>Africa</td>\n      <td>1987.0</td>\n      <td>50.821</td>\n      <td>7272406</td>\n      <td>1213.315116</td>\n    </tr>\n    <tr>\n      <th>1688</th>\n      <td>Zambia</td>\n      <td>Africa</td>\n      <td>1992.0</td>\n      <td>46.100</td>\n      <td>8381163</td>\n      <td>1210.884633</td>\n    </tr>\n    <tr>\n      <th>1689</th>\n      <td>Zambia</td>\n      <td>Africa</td>\n      <td>1997.0</td>\n      <td>40.238</td>\n      <td>9417789</td>\n      <td>1071.353818</td>\n    </tr>\n    <tr>\n      <th>1690</th>\n      <td>Zambia</td>\n      <td>Africa</td>\n      <td>2002.0</td>\n      <td>39.193</td>\n      <td>10595811</td>\n      <td>1071.613938</td>\n    </tr>\n    <tr>\n      <th>1691</th>\n      <td>Zambia</td>\n      <td>Africa</td>\n      <td>2007.0</td>\n      <td>42.384</td>\n      <td>11746035</td>\n      <td>1271.211593</td>\n    </tr>\n    <tr>\n      <th>1692</th>\n      <td>Zimbabwe</td>\n      <td>Africa</td>\n      <td>NaN</td>\n      <td>48.451</td>\n      <td>3080907</td>\n      <td>406.884115</td>\n    </tr>\n    <tr>\n      <th>1693</th>\n      <td>Zimbabwe</td>\n      <td>Africa</td>\n      <td>1957.0</td>\n      <td>50.469</td>\n      <td>3646340</td>\n      <td>518.764268</td>\n    </tr>\n    <tr>\n      <th>1694</th>\n      <td>Zimbabwe</td>\n      <td>Africa</td>\n      <td>1962.0</td>\n      <td>52.358</td>\n      <td>4277736</td>\n      <td>527.272182</td>\n    </tr>\n    <tr>\n      <th>1695</th>\n      <td>Zimbabwe</td>\n      <td>Africa</td>\n      <td>1967.0</td>\n      <td>53.995</td>\n      <td>4995432</td>\n      <td>569.795071</td>\n    </tr>\n    <tr>\n      <th>1696</th>\n      <td>Zimbabwe</td>\n      <td>Africa</td>\n      <td>1972.0</td>\n      <td>55.635</td>\n      <td>5861135</td>\n      <td>799.362176</td>\n    </tr>\n    <tr>\n      <th>1697</th>\n      <td>Zimbabwe</td>\n      <td>Africa</td>\n      <td>1977.0</td>\n      <td>57.674</td>\n      <td>6642107</td>\n      <td>685.587682</td>\n    </tr>\n    <tr>\n      <th>1698</th>\n      <td>Zimbabwe</td>\n      <td>Africa</td>\n      <td>1982.0</td>\n      <td>60.363</td>\n      <td>7636524</td>\n      <td>788.855041</td>\n    </tr>\n    <tr>\n      <th>1699</th>\n      <td>Zimbabwe</td>\n      <td>Africa</td>\n      <td>1987.0</td>\n      <td>62.351</td>\n      <td>9216418</td>\n      <td>706.157306</td>\n    </tr>\n    <tr>\n      <th>1700</th>\n      <td>Zimbabwe</td>\n      <td>Africa</td>\n      <td>1992.0</td>\n      <td>60.377</td>\n      <td>10704340</td>\n      <td>693.420786</td>\n    </tr>\n    <tr>\n      <th>1701</th>\n      <td>Zimbabwe</td>\n      <td>Africa</td>\n      <td>1997.0</td>\n      <td>46.809</td>\n      <td>11404948</td>\n      <td>792.449960</td>\n    </tr>\n    <tr>\n      <th>1702</th>\n      <td>Zimbabwe</td>\n      <td>Africa</td>\n      <td>2002.0</td>\n      <td>39.989</td>\n      <td>11926563</td>\n      <td>672.038623</td>\n    </tr>\n    <tr>\n      <th>1703</th>\n      <td>Zimbabwe</td>\n      <td>Africa</td>\n      <td>2007.0</td>\n      <td>43.487</td>\n      <td>12311143</td>\n      <td>469.709298</td>\n    </tr>\n  </tbody>\n</table>\n<p>1704 rows × 6 columns</p>\n</div>"
     },
     "metadata": {},
     "execution_count": 14
    }
   ],
   "source": [
    "df1 = pd.read_csv(\"../data/gapminder.tsv\",sep = '\\t',na_values=[1952])  #here it will treat 1952 value as missing NaN value \n",
    "df1"
   ]
  },
  {
   "source": [
    "Looking at columns  in data"
   ],
   "cell_type": "markdown",
   "metadata": {}
  },
  {
   "cell_type": "code",
   "execution_count": 15,
   "metadata": {},
   "outputs": [
    {
     "output_type": "execute_result",
     "data": {
      "text/plain": [
       "Index(['country', 'continent', 'year', 'lifeExp', 'pop', 'gdpPercap'], dtype='object')"
      ]
     },
     "metadata": {},
     "execution_count": 15
    }
   ],
   "source": [
    "df.columns"
   ]
  },
  {
   "cell_type": "code",
   "execution_count": 16,
   "metadata": {},
   "outputs": [
    {
     "output_type": "execute_result",
     "data": {
      "text/plain": [
       "country       object\n",
       "continent     object\n",
       "year           int64\n",
       "lifeExp      float64\n",
       "pop            int64\n",
       "gdpPercap    float64\n",
       "dtype: object"
      ]
     },
     "metadata": {},
     "execution_count": 16
    }
   ],
   "source": [
    "df.dtypes"
   ]
  },
  {
   "cell_type": "code",
   "execution_count": 17,
   "metadata": {},
   "outputs": [
    {
     "output_type": "execute_result",
     "data": {
      "text/plain": [
       "0       Afghanistan\n",
       "1       Afghanistan\n",
       "2       Afghanistan\n",
       "3       Afghanistan\n",
       "4       Afghanistan\n",
       "5       Afghanistan\n",
       "6       Afghanistan\n",
       "7       Afghanistan\n",
       "8       Afghanistan\n",
       "9       Afghanistan\n",
       "10      Afghanistan\n",
       "11      Afghanistan\n",
       "12          Albania\n",
       "13          Albania\n",
       "14          Albania\n",
       "15          Albania\n",
       "16          Albania\n",
       "17          Albania\n",
       "18          Albania\n",
       "19          Albania\n",
       "20          Albania\n",
       "21          Albania\n",
       "22          Albania\n",
       "23          Albania\n",
       "24          Algeria\n",
       "25          Algeria\n",
       "26          Algeria\n",
       "27          Algeria\n",
       "28          Algeria\n",
       "29          Algeria\n",
       "           ...     \n",
       "1674    Yemen, Rep.\n",
       "1675    Yemen, Rep.\n",
       "1676    Yemen, Rep.\n",
       "1677    Yemen, Rep.\n",
       "1678    Yemen, Rep.\n",
       "1679    Yemen, Rep.\n",
       "1680         Zambia\n",
       "1681         Zambia\n",
       "1682         Zambia\n",
       "1683         Zambia\n",
       "1684         Zambia\n",
       "1685         Zambia\n",
       "1686         Zambia\n",
       "1687         Zambia\n",
       "1688         Zambia\n",
       "1689         Zambia\n",
       "1690         Zambia\n",
       "1691         Zambia\n",
       "1692       Zimbabwe\n",
       "1693       Zimbabwe\n",
       "1694       Zimbabwe\n",
       "1695       Zimbabwe\n",
       "1696       Zimbabwe\n",
       "1697       Zimbabwe\n",
       "1698       Zimbabwe\n",
       "1699       Zimbabwe\n",
       "1700       Zimbabwe\n",
       "1701       Zimbabwe\n",
       "1702       Zimbabwe\n",
       "1703       Zimbabwe\n",
       "Name: country, Length: 1704, dtype: object"
      ]
     },
     "metadata": {},
     "execution_count": 17
    }
   ],
   "source": [
    "country = df['country']\n",
    "country"
   ]
  },
  {
   "cell_type": "code",
   "execution_count": 18,
   "metadata": {},
   "outputs": [
    {
     "output_type": "execute_result",
     "data": {
      "text/plain": [
       "pandas.core.series.Series"
      ]
     },
     "metadata": {},
     "execution_count": 18
    }
   ],
   "source": [
    "type(country)  #this will give result in series format"
   ]
  },
  {
   "cell_type": "code",
   "execution_count": 19,
   "metadata": {},
   "outputs": [
    {
     "output_type": "execute_result",
     "data": {
      "text/plain": [
       "          country  year\n",
       "0     Afghanistan  1952\n",
       "1     Afghanistan  1957\n",
       "2     Afghanistan  1962\n",
       "3     Afghanistan  1967\n",
       "4     Afghanistan  1972\n",
       "5     Afghanistan  1977\n",
       "6     Afghanistan  1982\n",
       "7     Afghanistan  1987\n",
       "8     Afghanistan  1992\n",
       "9     Afghanistan  1997\n",
       "10    Afghanistan  2002\n",
       "11    Afghanistan  2007\n",
       "12        Albania  1952\n",
       "13        Albania  1957\n",
       "14        Albania  1962\n",
       "15        Albania  1967\n",
       "16        Albania  1972\n",
       "17        Albania  1977\n",
       "18        Albania  1982\n",
       "19        Albania  1987\n",
       "20        Albania  1992\n",
       "21        Albania  1997\n",
       "22        Albania  2002\n",
       "23        Albania  2007\n",
       "24        Algeria  1952\n",
       "25        Algeria  1957\n",
       "26        Algeria  1962\n",
       "27        Algeria  1967\n",
       "28        Algeria  1972\n",
       "29        Algeria  1977\n",
       "...           ...   ...\n",
       "1674  Yemen, Rep.  1982\n",
       "1675  Yemen, Rep.  1987\n",
       "1676  Yemen, Rep.  1992\n",
       "1677  Yemen, Rep.  1997\n",
       "1678  Yemen, Rep.  2002\n",
       "1679  Yemen, Rep.  2007\n",
       "1680       Zambia  1952\n",
       "1681       Zambia  1957\n",
       "1682       Zambia  1962\n",
       "1683       Zambia  1967\n",
       "1684       Zambia  1972\n",
       "1685       Zambia  1977\n",
       "1686       Zambia  1982\n",
       "1687       Zambia  1987\n",
       "1688       Zambia  1992\n",
       "1689       Zambia  1997\n",
       "1690       Zambia  2002\n",
       "1691       Zambia  2007\n",
       "1692     Zimbabwe  1952\n",
       "1693     Zimbabwe  1957\n",
       "1694     Zimbabwe  1962\n",
       "1695     Zimbabwe  1967\n",
       "1696     Zimbabwe  1972\n",
       "1697     Zimbabwe  1977\n",
       "1698     Zimbabwe  1982\n",
       "1699     Zimbabwe  1987\n",
       "1700     Zimbabwe  1992\n",
       "1701     Zimbabwe  1997\n",
       "1702     Zimbabwe  2002\n",
       "1703     Zimbabwe  2007\n",
       "\n",
       "[1704 rows x 2 columns]"
      ],
      "text/html": "<div>\n<style scoped>\n    .dataframe tbody tr th:only-of-type {\n        vertical-align: middle;\n    }\n\n    .dataframe tbody tr th {\n        vertical-align: top;\n    }\n\n    .dataframe thead th {\n        text-align: right;\n    }\n</style>\n<table border=\"1\" class=\"dataframe\">\n  <thead>\n    <tr style=\"text-align: right;\">\n      <th></th>\n      <th>country</th>\n      <th>year</th>\n    </tr>\n  </thead>\n  <tbody>\n    <tr>\n      <th>0</th>\n      <td>Afghanistan</td>\n      <td>1952</td>\n    </tr>\n    <tr>\n      <th>1</th>\n      <td>Afghanistan</td>\n      <td>1957</td>\n    </tr>\n    <tr>\n      <th>2</th>\n      <td>Afghanistan</td>\n      <td>1962</td>\n    </tr>\n    <tr>\n      <th>3</th>\n      <td>Afghanistan</td>\n      <td>1967</td>\n    </tr>\n    <tr>\n      <th>4</th>\n      <td>Afghanistan</td>\n      <td>1972</td>\n    </tr>\n    <tr>\n      <th>5</th>\n      <td>Afghanistan</td>\n      <td>1977</td>\n    </tr>\n    <tr>\n      <th>6</th>\n      <td>Afghanistan</td>\n      <td>1982</td>\n    </tr>\n    <tr>\n      <th>7</th>\n      <td>Afghanistan</td>\n      <td>1987</td>\n    </tr>\n    <tr>\n      <th>8</th>\n      <td>Afghanistan</td>\n      <td>1992</td>\n    </tr>\n    <tr>\n      <th>9</th>\n      <td>Afghanistan</td>\n      <td>1997</td>\n    </tr>\n    <tr>\n      <th>10</th>\n      <td>Afghanistan</td>\n      <td>2002</td>\n    </tr>\n    <tr>\n      <th>11</th>\n      <td>Afghanistan</td>\n      <td>2007</td>\n    </tr>\n    <tr>\n      <th>12</th>\n      <td>Albania</td>\n      <td>1952</td>\n    </tr>\n    <tr>\n      <th>13</th>\n      <td>Albania</td>\n      <td>1957</td>\n    </tr>\n    <tr>\n      <th>14</th>\n      <td>Albania</td>\n      <td>1962</td>\n    </tr>\n    <tr>\n      <th>15</th>\n      <td>Albania</td>\n      <td>1967</td>\n    </tr>\n    <tr>\n      <th>16</th>\n      <td>Albania</td>\n      <td>1972</td>\n    </tr>\n    <tr>\n      <th>17</th>\n      <td>Albania</td>\n      <td>1977</td>\n    </tr>\n    <tr>\n      <th>18</th>\n      <td>Albania</td>\n      <td>1982</td>\n    </tr>\n    <tr>\n      <th>19</th>\n      <td>Albania</td>\n      <td>1987</td>\n    </tr>\n    <tr>\n      <th>20</th>\n      <td>Albania</td>\n      <td>1992</td>\n    </tr>\n    <tr>\n      <th>21</th>\n      <td>Albania</td>\n      <td>1997</td>\n    </tr>\n    <tr>\n      <th>22</th>\n      <td>Albania</td>\n      <td>2002</td>\n    </tr>\n    <tr>\n      <th>23</th>\n      <td>Albania</td>\n      <td>2007</td>\n    </tr>\n    <tr>\n      <th>24</th>\n      <td>Algeria</td>\n      <td>1952</td>\n    </tr>\n    <tr>\n      <th>25</th>\n      <td>Algeria</td>\n      <td>1957</td>\n    </tr>\n    <tr>\n      <th>26</th>\n      <td>Algeria</td>\n      <td>1962</td>\n    </tr>\n    <tr>\n      <th>27</th>\n      <td>Algeria</td>\n      <td>1967</td>\n    </tr>\n    <tr>\n      <th>28</th>\n      <td>Algeria</td>\n      <td>1972</td>\n    </tr>\n    <tr>\n      <th>29</th>\n      <td>Algeria</td>\n      <td>1977</td>\n    </tr>\n    <tr>\n      <th>...</th>\n      <td>...</td>\n      <td>...</td>\n    </tr>\n    <tr>\n      <th>1674</th>\n      <td>Yemen, Rep.</td>\n      <td>1982</td>\n    </tr>\n    <tr>\n      <th>1675</th>\n      <td>Yemen, Rep.</td>\n      <td>1987</td>\n    </tr>\n    <tr>\n      <th>1676</th>\n      <td>Yemen, Rep.</td>\n      <td>1992</td>\n    </tr>\n    <tr>\n      <th>1677</th>\n      <td>Yemen, Rep.</td>\n      <td>1997</td>\n    </tr>\n    <tr>\n      <th>1678</th>\n      <td>Yemen, Rep.</td>\n      <td>2002</td>\n    </tr>\n    <tr>\n      <th>1679</th>\n      <td>Yemen, Rep.</td>\n      <td>2007</td>\n    </tr>\n    <tr>\n      <th>1680</th>\n      <td>Zambia</td>\n      <td>1952</td>\n    </tr>\n    <tr>\n      <th>1681</th>\n      <td>Zambia</td>\n      <td>1957</td>\n    </tr>\n    <tr>\n      <th>1682</th>\n      <td>Zambia</td>\n      <td>1962</td>\n    </tr>\n    <tr>\n      <th>1683</th>\n      <td>Zambia</td>\n      <td>1967</td>\n    </tr>\n    <tr>\n      <th>1684</th>\n      <td>Zambia</td>\n      <td>1972</td>\n    </tr>\n    <tr>\n      <th>1685</th>\n      <td>Zambia</td>\n      <td>1977</td>\n    </tr>\n    <tr>\n      <th>1686</th>\n      <td>Zambia</td>\n      <td>1982</td>\n    </tr>\n    <tr>\n      <th>1687</th>\n      <td>Zambia</td>\n      <td>1987</td>\n    </tr>\n    <tr>\n      <th>1688</th>\n      <td>Zambia</td>\n      <td>1992</td>\n    </tr>\n    <tr>\n      <th>1689</th>\n      <td>Zambia</td>\n      <td>1997</td>\n    </tr>\n    <tr>\n      <th>1690</th>\n      <td>Zambia</td>\n      <td>2002</td>\n    </tr>\n    <tr>\n      <th>1691</th>\n      <td>Zambia</td>\n      <td>2007</td>\n    </tr>\n    <tr>\n      <th>1692</th>\n      <td>Zimbabwe</td>\n      <td>1952</td>\n    </tr>\n    <tr>\n      <th>1693</th>\n      <td>Zimbabwe</td>\n      <td>1957</td>\n    </tr>\n    <tr>\n      <th>1694</th>\n      <td>Zimbabwe</td>\n      <td>1962</td>\n    </tr>\n    <tr>\n      <th>1695</th>\n      <td>Zimbabwe</td>\n      <td>1967</td>\n    </tr>\n    <tr>\n      <th>1696</th>\n      <td>Zimbabwe</td>\n      <td>1972</td>\n    </tr>\n    <tr>\n      <th>1697</th>\n      <td>Zimbabwe</td>\n      <td>1977</td>\n    </tr>\n    <tr>\n      <th>1698</th>\n      <td>Zimbabwe</td>\n      <td>1982</td>\n    </tr>\n    <tr>\n      <th>1699</th>\n      <td>Zimbabwe</td>\n      <td>1987</td>\n    </tr>\n    <tr>\n      <th>1700</th>\n      <td>Zimbabwe</td>\n      <td>1992</td>\n    </tr>\n    <tr>\n      <th>1701</th>\n      <td>Zimbabwe</td>\n      <td>1997</td>\n    </tr>\n    <tr>\n      <th>1702</th>\n      <td>Zimbabwe</td>\n      <td>2002</td>\n    </tr>\n    <tr>\n      <th>1703</th>\n      <td>Zimbabwe</td>\n      <td>2007</td>\n    </tr>\n  </tbody>\n</table>\n<p>1704 rows × 2 columns</p>\n</div>"
     },
     "metadata": {},
     "execution_count": 19
    }
   ],
   "source": [
    "#for mult selection of columm we can use df[[\"\",\"\",\"\"]] \n",
    "mul_col= df[['country','year']]\n",
    "mul_col"
   ]
  },
  {
   "cell_type": "code",
   "execution_count": 20,
   "metadata": {},
   "outputs": [
    {
     "output_type": "execute_result",
     "data": {
      "text/plain": [
       "pandas.core.frame.DataFrame"
      ]
     },
     "metadata": {},
     "execution_count": 20
    }
   ],
   "source": [
    "type(mul_col) #dataframes contains more than one series of object. and eacch series object is one column "
   ]
  },
  {
   "source": [
    "Looking at rows in our data"
   ],
   "cell_type": "markdown",
   "metadata": {}
  },
  {
   "cell_type": "code",
   "execution_count": 21,
   "metadata": {},
   "outputs": [
    {
     "output_type": "execute_result",
     "data": {
      "text/plain": [
       "       country continent  year  lifeExp       pop   gdpPercap\n",
       "0  Afghanistan      Asia  1952   28.801   8425333  779.445314\n",
       "1  Afghanistan      Asia  1957   30.332   9240934  820.853030\n",
       "2  Afghanistan      Asia  1962   31.997  10267083  853.100710\n",
       "3  Afghanistan      Asia  1967   34.020  11537966  836.197138\n",
       "4  Afghanistan      Asia  1972   36.088  13079460  739.981106"
      ],
      "text/html": "<div>\n<style scoped>\n    .dataframe tbody tr th:only-of-type {\n        vertical-align: middle;\n    }\n\n    .dataframe tbody tr th {\n        vertical-align: top;\n    }\n\n    .dataframe thead th {\n        text-align: right;\n    }\n</style>\n<table border=\"1\" class=\"dataframe\">\n  <thead>\n    <tr style=\"text-align: right;\">\n      <th></th>\n      <th>country</th>\n      <th>continent</th>\n      <th>year</th>\n      <th>lifeExp</th>\n      <th>pop</th>\n      <th>gdpPercap</th>\n    </tr>\n  </thead>\n  <tbody>\n    <tr>\n      <th>0</th>\n      <td>Afghanistan</td>\n      <td>Asia</td>\n      <td>1952</td>\n      <td>28.801</td>\n      <td>8425333</td>\n      <td>779.445314</td>\n    </tr>\n    <tr>\n      <th>1</th>\n      <td>Afghanistan</td>\n      <td>Asia</td>\n      <td>1957</td>\n      <td>30.332</td>\n      <td>9240934</td>\n      <td>820.853030</td>\n    </tr>\n    <tr>\n      <th>2</th>\n      <td>Afghanistan</td>\n      <td>Asia</td>\n      <td>1962</td>\n      <td>31.997</td>\n      <td>10267083</td>\n      <td>853.100710</td>\n    </tr>\n    <tr>\n      <th>3</th>\n      <td>Afghanistan</td>\n      <td>Asia</td>\n      <td>1967</td>\n      <td>34.020</td>\n      <td>11537966</td>\n      <td>836.197138</td>\n    </tr>\n    <tr>\n      <th>4</th>\n      <td>Afghanistan</td>\n      <td>Asia</td>\n      <td>1972</td>\n      <td>36.088</td>\n      <td>13079460</td>\n      <td>739.981106</td>\n    </tr>\n  </tbody>\n</table>\n</div>"
     },
     "metadata": {},
     "execution_count": 21
    }
   ],
   "source": [
    "df.head()"
   ]
  },
  {
   "cell_type": "code",
   "execution_count": 22,
   "metadata": {},
   "outputs": [
    {
     "output_type": "execute_result",
     "data": {
      "text/plain": [
       "country      Afghanistan\n",
       "continent           Asia\n",
       "year                1962\n",
       "lifeExp           31.997\n",
       "pop             10267083\n",
       "gdpPercap        853.101\n",
       "Name: 2, dtype: object"
      ]
     },
     "metadata": {},
     "execution_count": 22
    }
   ],
   "source": [
    "df.loc[2]"
   ]
  },
  {
   "cell_type": "code",
   "execution_count": 23,
   "metadata": {},
   "outputs": [
    {
     "output_type": "execute_result",
     "data": {
      "text/plain": [
       "pandas.core.series.Series"
      ]
     },
     "metadata": {},
     "execution_count": 23
    }
   ],
   "source": [
    "type(df.loc[2])"
   ]
  },
  {
   "cell_type": "code",
   "execution_count": 24,
   "metadata": {},
   "outputs": [
    {
     "output_type": "error",
     "ename": "KeyError",
     "evalue": "-1",
     "traceback": [
      "\u001b[1;31m---------------------------------------------------------------------------\u001b[0m",
      "\u001b[1;31mKeyError\u001b[0m                                  Traceback (most recent call last)",
      "\u001b[1;32m~\\Anaconda3\\lib\\site-packages\\pandas\\core\\indexes\\base.py\u001b[0m in \u001b[0;36mget_loc\u001b[1;34m(self, key, method, tolerance)\u001b[0m\n\u001b[0;32m   2656\u001b[0m             \u001b[1;32mtry\u001b[0m\u001b[1;33m:\u001b[0m\u001b[1;33m\u001b[0m\u001b[1;33m\u001b[0m\u001b[0m\n\u001b[1;32m-> 2657\u001b[1;33m                 \u001b[1;32mreturn\u001b[0m \u001b[0mself\u001b[0m\u001b[1;33m.\u001b[0m\u001b[0m_engine\u001b[0m\u001b[1;33m.\u001b[0m\u001b[0mget_loc\u001b[0m\u001b[1;33m(\u001b[0m\u001b[0mkey\u001b[0m\u001b[1;33m)\u001b[0m\u001b[1;33m\u001b[0m\u001b[1;33m\u001b[0m\u001b[0m\n\u001b[0m\u001b[0;32m   2658\u001b[0m             \u001b[1;32mexcept\u001b[0m \u001b[0mKeyError\u001b[0m\u001b[1;33m:\u001b[0m\u001b[1;33m\u001b[0m\u001b[1;33m\u001b[0m\u001b[0m\n",
      "\u001b[1;32mpandas/_libs/index.pyx\u001b[0m in \u001b[0;36mpandas._libs.index.IndexEngine.get_loc\u001b[1;34m()\u001b[0m\n",
      "\u001b[1;32mpandas/_libs/index.pyx\u001b[0m in \u001b[0;36mpandas._libs.index.IndexEngine.get_loc\u001b[1;34m()\u001b[0m\n",
      "\u001b[1;32mpandas/_libs/hashtable_class_helper.pxi\u001b[0m in \u001b[0;36mpandas._libs.hashtable.Int64HashTable.get_item\u001b[1;34m()\u001b[0m\n",
      "\u001b[1;32mpandas/_libs/hashtable_class_helper.pxi\u001b[0m in \u001b[0;36mpandas._libs.hashtable.Int64HashTable.get_item\u001b[1;34m()\u001b[0m\n",
      "\u001b[1;31mKeyError\u001b[0m: -1",
      "\nDuring handling of the above exception, another exception occurred:\n",
      "\u001b[1;31mKeyError\u001b[0m                                  Traceback (most recent call last)",
      "\u001b[1;32m<ipython-input-24-b577e475a8e5>\u001b[0m in \u001b[0;36m<module>\u001b[1;34m\u001b[0m\n\u001b[1;32m----> 1\u001b[1;33m \u001b[0mdf\u001b[0m\u001b[1;33m.\u001b[0m\u001b[0mloc\u001b[0m\u001b[1;33m[\u001b[0m\u001b[1;33m-\u001b[0m\u001b[1;36m1\u001b[0m\u001b[1;33m]\u001b[0m \u001b[1;31m#we cant use index other than it is defined from dataframes\u001b[0m\u001b[1;33m\u001b[0m\u001b[1;33m\u001b[0m\u001b[0m\n\u001b[0m",
      "\u001b[1;32m~\\Anaconda3\\lib\\site-packages\\pandas\\core\\indexing.py\u001b[0m in \u001b[0;36m__getitem__\u001b[1;34m(self, key)\u001b[0m\n\u001b[0;32m   1498\u001b[0m \u001b[1;33m\u001b[0m\u001b[0m\n\u001b[0;32m   1499\u001b[0m             \u001b[0mmaybe_callable\u001b[0m \u001b[1;33m=\u001b[0m \u001b[0mcom\u001b[0m\u001b[1;33m.\u001b[0m\u001b[0mapply_if_callable\u001b[0m\u001b[1;33m(\u001b[0m\u001b[0mkey\u001b[0m\u001b[1;33m,\u001b[0m \u001b[0mself\u001b[0m\u001b[1;33m.\u001b[0m\u001b[0mobj\u001b[0m\u001b[1;33m)\u001b[0m\u001b[1;33m\u001b[0m\u001b[1;33m\u001b[0m\u001b[0m\n\u001b[1;32m-> 1500\u001b[1;33m             \u001b[1;32mreturn\u001b[0m \u001b[0mself\u001b[0m\u001b[1;33m.\u001b[0m\u001b[0m_getitem_axis\u001b[0m\u001b[1;33m(\u001b[0m\u001b[0mmaybe_callable\u001b[0m\u001b[1;33m,\u001b[0m \u001b[0maxis\u001b[0m\u001b[1;33m=\u001b[0m\u001b[0maxis\u001b[0m\u001b[1;33m)\u001b[0m\u001b[1;33m\u001b[0m\u001b[1;33m\u001b[0m\u001b[0m\n\u001b[0m\u001b[0;32m   1501\u001b[0m \u001b[1;33m\u001b[0m\u001b[0m\n\u001b[0;32m   1502\u001b[0m     \u001b[1;32mdef\u001b[0m \u001b[0m_is_scalar_access\u001b[0m\u001b[1;33m(\u001b[0m\u001b[0mself\u001b[0m\u001b[1;33m,\u001b[0m \u001b[0mkey\u001b[0m\u001b[1;33m)\u001b[0m\u001b[1;33m:\u001b[0m\u001b[1;33m\u001b[0m\u001b[1;33m\u001b[0m\u001b[0m\n",
      "\u001b[1;32m~\\Anaconda3\\lib\\site-packages\\pandas\\core\\indexing.py\u001b[0m in \u001b[0;36m_getitem_axis\u001b[1;34m(self, key, axis)\u001b[0m\n\u001b[0;32m   1911\u001b[0m         \u001b[1;31m# fall thru to straight lookup\u001b[0m\u001b[1;33m\u001b[0m\u001b[1;33m\u001b[0m\u001b[1;33m\u001b[0m\u001b[0m\n\u001b[0;32m   1912\u001b[0m         \u001b[0mself\u001b[0m\u001b[1;33m.\u001b[0m\u001b[0m_validate_key\u001b[0m\u001b[1;33m(\u001b[0m\u001b[0mkey\u001b[0m\u001b[1;33m,\u001b[0m \u001b[0maxis\u001b[0m\u001b[1;33m)\u001b[0m\u001b[1;33m\u001b[0m\u001b[1;33m\u001b[0m\u001b[0m\n\u001b[1;32m-> 1913\u001b[1;33m         \u001b[1;32mreturn\u001b[0m \u001b[0mself\u001b[0m\u001b[1;33m.\u001b[0m\u001b[0m_get_label\u001b[0m\u001b[1;33m(\u001b[0m\u001b[0mkey\u001b[0m\u001b[1;33m,\u001b[0m \u001b[0maxis\u001b[0m\u001b[1;33m=\u001b[0m\u001b[0maxis\u001b[0m\u001b[1;33m)\u001b[0m\u001b[1;33m\u001b[0m\u001b[1;33m\u001b[0m\u001b[0m\n\u001b[0m\u001b[0;32m   1914\u001b[0m \u001b[1;33m\u001b[0m\u001b[0m\n\u001b[0;32m   1915\u001b[0m \u001b[1;33m\u001b[0m\u001b[0m\n",
      "\u001b[1;32m~\\Anaconda3\\lib\\site-packages\\pandas\\core\\indexing.py\u001b[0m in \u001b[0;36m_get_label\u001b[1;34m(self, label, axis)\u001b[0m\n\u001b[0;32m    139\u001b[0m             \u001b[1;32mraise\u001b[0m \u001b[0mIndexingError\u001b[0m\u001b[1;33m(\u001b[0m\u001b[1;34m'no slices here, handle elsewhere'\u001b[0m\u001b[1;33m)\u001b[0m\u001b[1;33m\u001b[0m\u001b[1;33m\u001b[0m\u001b[0m\n\u001b[0;32m    140\u001b[0m \u001b[1;33m\u001b[0m\u001b[0m\n\u001b[1;32m--> 141\u001b[1;33m         \u001b[1;32mreturn\u001b[0m \u001b[0mself\u001b[0m\u001b[1;33m.\u001b[0m\u001b[0mobj\u001b[0m\u001b[1;33m.\u001b[0m\u001b[0m_xs\u001b[0m\u001b[1;33m(\u001b[0m\u001b[0mlabel\u001b[0m\u001b[1;33m,\u001b[0m \u001b[0maxis\u001b[0m\u001b[1;33m=\u001b[0m\u001b[0maxis\u001b[0m\u001b[1;33m)\u001b[0m\u001b[1;33m\u001b[0m\u001b[1;33m\u001b[0m\u001b[0m\n\u001b[0m\u001b[0;32m    142\u001b[0m \u001b[1;33m\u001b[0m\u001b[0m\n\u001b[0;32m    143\u001b[0m     \u001b[1;32mdef\u001b[0m \u001b[0m_get_loc\u001b[0m\u001b[1;33m(\u001b[0m\u001b[0mself\u001b[0m\u001b[1;33m,\u001b[0m \u001b[0mkey\u001b[0m\u001b[1;33m,\u001b[0m \u001b[0maxis\u001b[0m\u001b[1;33m=\u001b[0m\u001b[1;32mNone\u001b[0m\u001b[1;33m)\u001b[0m\u001b[1;33m:\u001b[0m\u001b[1;33m\u001b[0m\u001b[1;33m\u001b[0m\u001b[0m\n",
      "\u001b[1;32m~\\Anaconda3\\lib\\site-packages\\pandas\\core\\generic.py\u001b[0m in \u001b[0;36mxs\u001b[1;34m(self, key, axis, level, drop_level)\u001b[0m\n\u001b[0;32m   3583\u001b[0m                                                       drop_level=drop_level)\n\u001b[0;32m   3584\u001b[0m         \u001b[1;32melse\u001b[0m\u001b[1;33m:\u001b[0m\u001b[1;33m\u001b[0m\u001b[1;33m\u001b[0m\u001b[0m\n\u001b[1;32m-> 3585\u001b[1;33m             \u001b[0mloc\u001b[0m \u001b[1;33m=\u001b[0m \u001b[0mself\u001b[0m\u001b[1;33m.\u001b[0m\u001b[0mindex\u001b[0m\u001b[1;33m.\u001b[0m\u001b[0mget_loc\u001b[0m\u001b[1;33m(\u001b[0m\u001b[0mkey\u001b[0m\u001b[1;33m)\u001b[0m\u001b[1;33m\u001b[0m\u001b[1;33m\u001b[0m\u001b[0m\n\u001b[0m\u001b[0;32m   3586\u001b[0m \u001b[1;33m\u001b[0m\u001b[0m\n\u001b[0;32m   3587\u001b[0m             \u001b[1;32mif\u001b[0m \u001b[0misinstance\u001b[0m\u001b[1;33m(\u001b[0m\u001b[0mloc\u001b[0m\u001b[1;33m,\u001b[0m \u001b[0mnp\u001b[0m\u001b[1;33m.\u001b[0m\u001b[0mndarray\u001b[0m\u001b[1;33m)\u001b[0m\u001b[1;33m:\u001b[0m\u001b[1;33m\u001b[0m\u001b[1;33m\u001b[0m\u001b[0m\n",
      "\u001b[1;32m~\\Anaconda3\\lib\\site-packages\\pandas\\core\\indexes\\base.py\u001b[0m in \u001b[0;36mget_loc\u001b[1;34m(self, key, method, tolerance)\u001b[0m\n\u001b[0;32m   2657\u001b[0m                 \u001b[1;32mreturn\u001b[0m \u001b[0mself\u001b[0m\u001b[1;33m.\u001b[0m\u001b[0m_engine\u001b[0m\u001b[1;33m.\u001b[0m\u001b[0mget_loc\u001b[0m\u001b[1;33m(\u001b[0m\u001b[0mkey\u001b[0m\u001b[1;33m)\u001b[0m\u001b[1;33m\u001b[0m\u001b[1;33m\u001b[0m\u001b[0m\n\u001b[0;32m   2658\u001b[0m             \u001b[1;32mexcept\u001b[0m \u001b[0mKeyError\u001b[0m\u001b[1;33m:\u001b[0m\u001b[1;33m\u001b[0m\u001b[1;33m\u001b[0m\u001b[0m\n\u001b[1;32m-> 2659\u001b[1;33m                 \u001b[1;32mreturn\u001b[0m \u001b[0mself\u001b[0m\u001b[1;33m.\u001b[0m\u001b[0m_engine\u001b[0m\u001b[1;33m.\u001b[0m\u001b[0mget_loc\u001b[0m\u001b[1;33m(\u001b[0m\u001b[0mself\u001b[0m\u001b[1;33m.\u001b[0m\u001b[0m_maybe_cast_indexer\u001b[0m\u001b[1;33m(\u001b[0m\u001b[0mkey\u001b[0m\u001b[1;33m)\u001b[0m\u001b[1;33m)\u001b[0m\u001b[1;33m\u001b[0m\u001b[1;33m\u001b[0m\u001b[0m\n\u001b[0m\u001b[0;32m   2660\u001b[0m         \u001b[0mindexer\u001b[0m \u001b[1;33m=\u001b[0m \u001b[0mself\u001b[0m\u001b[1;33m.\u001b[0m\u001b[0mget_indexer\u001b[0m\u001b[1;33m(\u001b[0m\u001b[1;33m[\u001b[0m\u001b[0mkey\u001b[0m\u001b[1;33m]\u001b[0m\u001b[1;33m,\u001b[0m \u001b[0mmethod\u001b[0m\u001b[1;33m=\u001b[0m\u001b[0mmethod\u001b[0m\u001b[1;33m,\u001b[0m \u001b[0mtolerance\u001b[0m\u001b[1;33m=\u001b[0m\u001b[0mtolerance\u001b[0m\u001b[1;33m)\u001b[0m\u001b[1;33m\u001b[0m\u001b[1;33m\u001b[0m\u001b[0m\n\u001b[0;32m   2661\u001b[0m         \u001b[1;32mif\u001b[0m \u001b[0mindexer\u001b[0m\u001b[1;33m.\u001b[0m\u001b[0mndim\u001b[0m \u001b[1;33m>\u001b[0m \u001b[1;36m1\u001b[0m \u001b[1;32mor\u001b[0m \u001b[0mindexer\u001b[0m\u001b[1;33m.\u001b[0m\u001b[0msize\u001b[0m \u001b[1;33m>\u001b[0m \u001b[1;36m1\u001b[0m\u001b[1;33m:\u001b[0m\u001b[1;33m\u001b[0m\u001b[1;33m\u001b[0m\u001b[0m\n",
      "\u001b[1;32mpandas/_libs/index.pyx\u001b[0m in \u001b[0;36mpandas._libs.index.IndexEngine.get_loc\u001b[1;34m()\u001b[0m\n",
      "\u001b[1;32mpandas/_libs/index.pyx\u001b[0m in \u001b[0;36mpandas._libs.index.IndexEngine.get_loc\u001b[1;34m()\u001b[0m\n",
      "\u001b[1;32mpandas/_libs/hashtable_class_helper.pxi\u001b[0m in \u001b[0;36mpandas._libs.hashtable.Int64HashTable.get_item\u001b[1;34m()\u001b[0m\n",
      "\u001b[1;32mpandas/_libs/hashtable_class_helper.pxi\u001b[0m in \u001b[0;36mpandas._libs.hashtable.Int64HashTable.get_item\u001b[1;34m()\u001b[0m\n",
      "\u001b[1;31mKeyError\u001b[0m: -1"
     ]
    }
   ],
   "source": [
    "df.loc[-1] #we cant use index other than it is defined from dataframes "
   ]
  },
  {
   "cell_type": "code",
   "execution_count": 25,
   "metadata": {},
   "outputs": [
    {
     "output_type": "execute_result",
     "data": {
      "text/plain": [
       "       country continent  year  lifeExp       pop   gdpPercap\n",
       "1699  Zimbabwe    Africa  1987   62.351   9216418  706.157306\n",
       "1700  Zimbabwe    Africa  1992   60.377  10704340  693.420786\n",
       "1701  Zimbabwe    Africa  1997   46.809  11404948  792.449960\n",
       "1702  Zimbabwe    Africa  2002   39.989  11926563  672.038623\n",
       "1703  Zimbabwe    Africa  2007   43.487  12311143  469.709298"
      ],
      "text/html": "<div>\n<style scoped>\n    .dataframe tbody tr th:only-of-type {\n        vertical-align: middle;\n    }\n\n    .dataframe tbody tr th {\n        vertical-align: top;\n    }\n\n    .dataframe thead th {\n        text-align: right;\n    }\n</style>\n<table border=\"1\" class=\"dataframe\">\n  <thead>\n    <tr style=\"text-align: right;\">\n      <th></th>\n      <th>country</th>\n      <th>continent</th>\n      <th>year</th>\n      <th>lifeExp</th>\n      <th>pop</th>\n      <th>gdpPercap</th>\n    </tr>\n  </thead>\n  <tbody>\n    <tr>\n      <th>1699</th>\n      <td>Zimbabwe</td>\n      <td>Africa</td>\n      <td>1987</td>\n      <td>62.351</td>\n      <td>9216418</td>\n      <td>706.157306</td>\n    </tr>\n    <tr>\n      <th>1700</th>\n      <td>Zimbabwe</td>\n      <td>Africa</td>\n      <td>1992</td>\n      <td>60.377</td>\n      <td>10704340</td>\n      <td>693.420786</td>\n    </tr>\n    <tr>\n      <th>1701</th>\n      <td>Zimbabwe</td>\n      <td>Africa</td>\n      <td>1997</td>\n      <td>46.809</td>\n      <td>11404948</td>\n      <td>792.449960</td>\n    </tr>\n    <tr>\n      <th>1702</th>\n      <td>Zimbabwe</td>\n      <td>Africa</td>\n      <td>2002</td>\n      <td>39.989</td>\n      <td>11926563</td>\n      <td>672.038623</td>\n    </tr>\n    <tr>\n      <th>1703</th>\n      <td>Zimbabwe</td>\n      <td>Africa</td>\n      <td>2007</td>\n      <td>43.487</td>\n      <td>12311143</td>\n      <td>469.709298</td>\n    </tr>\n  </tbody>\n</table>\n</div>"
     },
     "metadata": {},
     "execution_count": 25
    }
   ],
   "source": [
    "df.tail()"
   ]
  },
  {
   "cell_type": "code",
   "execution_count": 26,
   "metadata": {},
   "outputs": [
    {
     "output_type": "execute_result",
     "data": {
      "text/plain": [
       "country      Zimbabwe\n",
       "continent      Africa\n",
       "year             2007\n",
       "lifeExp        43.487\n",
       "pop          12311143\n",
       "gdpPercap     469.709\n",
       "Name: 1703, dtype: object"
      ]
     },
     "metadata": {},
     "execution_count": 26
    }
   ],
   "source": [
    "df.iloc[-1]  #we can do that using iloc method "
   ]
  },
  {
   "cell_type": "code",
   "execution_count": 27,
   "metadata": {},
   "outputs": [
    {
     "output_type": "execute_result",
     "data": {
      "text/plain": [
       "       country continent  year  lifeExp       pop   gdpPercap\n",
       "0  Afghanistan      Asia  1952   28.801   8425333  779.445314\n",
       "1  Afghanistan      Asia  1957   30.332   9240934  820.853030\n",
       "4  Afghanistan      Asia  1972   36.088  13079460  739.981106"
      ],
      "text/html": "<div>\n<style scoped>\n    .dataframe tbody tr th:only-of-type {\n        vertical-align: middle;\n    }\n\n    .dataframe tbody tr th {\n        vertical-align: top;\n    }\n\n    .dataframe thead th {\n        text-align: right;\n    }\n</style>\n<table border=\"1\" class=\"dataframe\">\n  <thead>\n    <tr style=\"text-align: right;\">\n      <th></th>\n      <th>country</th>\n      <th>continent</th>\n      <th>year</th>\n      <th>lifeExp</th>\n      <th>pop</th>\n      <th>gdpPercap</th>\n    </tr>\n  </thead>\n  <tbody>\n    <tr>\n      <th>0</th>\n      <td>Afghanistan</td>\n      <td>Asia</td>\n      <td>1952</td>\n      <td>28.801</td>\n      <td>8425333</td>\n      <td>779.445314</td>\n    </tr>\n    <tr>\n      <th>1</th>\n      <td>Afghanistan</td>\n      <td>Asia</td>\n      <td>1957</td>\n      <td>30.332</td>\n      <td>9240934</td>\n      <td>820.853030</td>\n    </tr>\n    <tr>\n      <th>4</th>\n      <td>Afghanistan</td>\n      <td>Asia</td>\n      <td>1972</td>\n      <td>36.088</td>\n      <td>13079460</td>\n      <td>739.981106</td>\n    </tr>\n  </tbody>\n</table>\n</div>"
     },
     "metadata": {},
     "execution_count": 27
    }
   ],
   "source": [
    "df.loc[[0,1,4]]"
   ]
  },
  {
   "cell_type": "code",
   "execution_count": 28,
   "metadata": {},
   "outputs": [
    {
     "output_type": "execute_result",
     "data": {
      "text/plain": [
       "       country continent  year  lifeExp       pop   gdpPercap\n",
       "1703  Zimbabwe    Africa  2007   43.487  12311143  469.709298\n",
       "1701  Zimbabwe    Africa  1997   46.809  11404948  792.449960\n",
       "1700  Zimbabwe    Africa  1992   60.377  10704340  693.420786"
      ],
      "text/html": "<div>\n<style scoped>\n    .dataframe tbody tr th:only-of-type {\n        vertical-align: middle;\n    }\n\n    .dataframe tbody tr th {\n        vertical-align: top;\n    }\n\n    .dataframe thead th {\n        text-align: right;\n    }\n</style>\n<table border=\"1\" class=\"dataframe\">\n  <thead>\n    <tr style=\"text-align: right;\">\n      <th></th>\n      <th>country</th>\n      <th>continent</th>\n      <th>year</th>\n      <th>lifeExp</th>\n      <th>pop</th>\n      <th>gdpPercap</th>\n    </tr>\n  </thead>\n  <tbody>\n    <tr>\n      <th>1703</th>\n      <td>Zimbabwe</td>\n      <td>Africa</td>\n      <td>2007</td>\n      <td>43.487</td>\n      <td>12311143</td>\n      <td>469.709298</td>\n    </tr>\n    <tr>\n      <th>1701</th>\n      <td>Zimbabwe</td>\n      <td>Africa</td>\n      <td>1997</td>\n      <td>46.809</td>\n      <td>11404948</td>\n      <td>792.449960</td>\n    </tr>\n    <tr>\n      <th>1700</th>\n      <td>Zimbabwe</td>\n      <td>Africa</td>\n      <td>1992</td>\n      <td>60.377</td>\n      <td>10704340</td>\n      <td>693.420786</td>\n    </tr>\n  </tbody>\n</table>\n</div>"
     },
     "metadata": {},
     "execution_count": 28
    }
   ],
   "source": [
    "df.iloc[[-1,-3,-4]]"
   ]
  },
  {
   "source": [
    "sunsetting rows and columns "
   ],
   "cell_type": "markdown",
   "metadata": {}
  },
  {
   "cell_type": "code",
   "execution_count": 29,
   "metadata": {},
   "outputs": [
    {
     "output_type": "execute_result",
     "data": {
      "text/plain": [
       "      year       pop\n",
       "0     1952   8425333\n",
       "1     1957   9240934\n",
       "2     1962  10267083\n",
       "3     1967  11537966\n",
       "4     1972  13079460\n",
       "5     1977  14880372\n",
       "6     1982  12881816\n",
       "7     1987  13867957\n",
       "8     1992  16317921\n",
       "9     1997  22227415\n",
       "10    2002  25268405\n",
       "11    2007  31889923\n",
       "12    1952   1282697\n",
       "13    1957   1476505\n",
       "14    1962   1728137\n",
       "15    1967   1984060\n",
       "16    1972   2263554\n",
       "17    1977   2509048\n",
       "18    1982   2780097\n",
       "19    1987   3075321\n",
       "20    1992   3326498\n",
       "21    1997   3428038\n",
       "22    2002   3508512\n",
       "23    2007   3600523\n",
       "24    1952   9279525\n",
       "25    1957  10270856\n",
       "26    1962  11000948\n",
       "27    1967  12760499\n",
       "28    1972  14760787\n",
       "29    1977  17152804\n",
       "...    ...       ...\n",
       "1674  1982   9657618\n",
       "1675  1987  11219340\n",
       "1676  1992  13367997\n",
       "1677  1997  15826497\n",
       "1678  2002  18701257\n",
       "1679  2007  22211743\n",
       "1680  1952   2672000\n",
       "1681  1957   3016000\n",
       "1682  1962   3421000\n",
       "1683  1967   3900000\n",
       "1684  1972   4506497\n",
       "1685  1977   5216550\n",
       "1686  1982   6100407\n",
       "1687  1987   7272406\n",
       "1688  1992   8381163\n",
       "1689  1997   9417789\n",
       "1690  2002  10595811\n",
       "1691  2007  11746035\n",
       "1692  1952   3080907\n",
       "1693  1957   3646340\n",
       "1694  1962   4277736\n",
       "1695  1967   4995432\n",
       "1696  1972   5861135\n",
       "1697  1977   6642107\n",
       "1698  1982   7636524\n",
       "1699  1987   9216418\n",
       "1700  1992  10704340\n",
       "1701  1997  11404948\n",
       "1702  2002  11926563\n",
       "1703  2007  12311143\n",
       "\n",
       "[1704 rows x 2 columns]"
      ],
      "text/html": "<div>\n<style scoped>\n    .dataframe tbody tr th:only-of-type {\n        vertical-align: middle;\n    }\n\n    .dataframe tbody tr th {\n        vertical-align: top;\n    }\n\n    .dataframe thead th {\n        text-align: right;\n    }\n</style>\n<table border=\"1\" class=\"dataframe\">\n  <thead>\n    <tr style=\"text-align: right;\">\n      <th></th>\n      <th>year</th>\n      <th>pop</th>\n    </tr>\n  </thead>\n  <tbody>\n    <tr>\n      <th>0</th>\n      <td>1952</td>\n      <td>8425333</td>\n    </tr>\n    <tr>\n      <th>1</th>\n      <td>1957</td>\n      <td>9240934</td>\n    </tr>\n    <tr>\n      <th>2</th>\n      <td>1962</td>\n      <td>10267083</td>\n    </tr>\n    <tr>\n      <th>3</th>\n      <td>1967</td>\n      <td>11537966</td>\n    </tr>\n    <tr>\n      <th>4</th>\n      <td>1972</td>\n      <td>13079460</td>\n    </tr>\n    <tr>\n      <th>5</th>\n      <td>1977</td>\n      <td>14880372</td>\n    </tr>\n    <tr>\n      <th>6</th>\n      <td>1982</td>\n      <td>12881816</td>\n    </tr>\n    <tr>\n      <th>7</th>\n      <td>1987</td>\n      <td>13867957</td>\n    </tr>\n    <tr>\n      <th>8</th>\n      <td>1992</td>\n      <td>16317921</td>\n    </tr>\n    <tr>\n      <th>9</th>\n      <td>1997</td>\n      <td>22227415</td>\n    </tr>\n    <tr>\n      <th>10</th>\n      <td>2002</td>\n      <td>25268405</td>\n    </tr>\n    <tr>\n      <th>11</th>\n      <td>2007</td>\n      <td>31889923</td>\n    </tr>\n    <tr>\n      <th>12</th>\n      <td>1952</td>\n      <td>1282697</td>\n    </tr>\n    <tr>\n      <th>13</th>\n      <td>1957</td>\n      <td>1476505</td>\n    </tr>\n    <tr>\n      <th>14</th>\n      <td>1962</td>\n      <td>1728137</td>\n    </tr>\n    <tr>\n      <th>15</th>\n      <td>1967</td>\n      <td>1984060</td>\n    </tr>\n    <tr>\n      <th>16</th>\n      <td>1972</td>\n      <td>2263554</td>\n    </tr>\n    <tr>\n      <th>17</th>\n      <td>1977</td>\n      <td>2509048</td>\n    </tr>\n    <tr>\n      <th>18</th>\n      <td>1982</td>\n      <td>2780097</td>\n    </tr>\n    <tr>\n      <th>19</th>\n      <td>1987</td>\n      <td>3075321</td>\n    </tr>\n    <tr>\n      <th>20</th>\n      <td>1992</td>\n      <td>3326498</td>\n    </tr>\n    <tr>\n      <th>21</th>\n      <td>1997</td>\n      <td>3428038</td>\n    </tr>\n    <tr>\n      <th>22</th>\n      <td>2002</td>\n      <td>3508512</td>\n    </tr>\n    <tr>\n      <th>23</th>\n      <td>2007</td>\n      <td>3600523</td>\n    </tr>\n    <tr>\n      <th>24</th>\n      <td>1952</td>\n      <td>9279525</td>\n    </tr>\n    <tr>\n      <th>25</th>\n      <td>1957</td>\n      <td>10270856</td>\n    </tr>\n    <tr>\n      <th>26</th>\n      <td>1962</td>\n      <td>11000948</td>\n    </tr>\n    <tr>\n      <th>27</th>\n      <td>1967</td>\n      <td>12760499</td>\n    </tr>\n    <tr>\n      <th>28</th>\n      <td>1972</td>\n      <td>14760787</td>\n    </tr>\n    <tr>\n      <th>29</th>\n      <td>1977</td>\n      <td>17152804</td>\n    </tr>\n    <tr>\n      <th>...</th>\n      <td>...</td>\n      <td>...</td>\n    </tr>\n    <tr>\n      <th>1674</th>\n      <td>1982</td>\n      <td>9657618</td>\n    </tr>\n    <tr>\n      <th>1675</th>\n      <td>1987</td>\n      <td>11219340</td>\n    </tr>\n    <tr>\n      <th>1676</th>\n      <td>1992</td>\n      <td>13367997</td>\n    </tr>\n    <tr>\n      <th>1677</th>\n      <td>1997</td>\n      <td>15826497</td>\n    </tr>\n    <tr>\n      <th>1678</th>\n      <td>2002</td>\n      <td>18701257</td>\n    </tr>\n    <tr>\n      <th>1679</th>\n      <td>2007</td>\n      <td>22211743</td>\n    </tr>\n    <tr>\n      <th>1680</th>\n      <td>1952</td>\n      <td>2672000</td>\n    </tr>\n    <tr>\n      <th>1681</th>\n      <td>1957</td>\n      <td>3016000</td>\n    </tr>\n    <tr>\n      <th>1682</th>\n      <td>1962</td>\n      <td>3421000</td>\n    </tr>\n    <tr>\n      <th>1683</th>\n      <td>1967</td>\n      <td>3900000</td>\n    </tr>\n    <tr>\n      <th>1684</th>\n      <td>1972</td>\n      <td>4506497</td>\n    </tr>\n    <tr>\n      <th>1685</th>\n      <td>1977</td>\n      <td>5216550</td>\n    </tr>\n    <tr>\n      <th>1686</th>\n      <td>1982</td>\n      <td>6100407</td>\n    </tr>\n    <tr>\n      <th>1687</th>\n      <td>1987</td>\n      <td>7272406</td>\n    </tr>\n    <tr>\n      <th>1688</th>\n      <td>1992</td>\n      <td>8381163</td>\n    </tr>\n    <tr>\n      <th>1689</th>\n      <td>1997</td>\n      <td>9417789</td>\n    </tr>\n    <tr>\n      <th>1690</th>\n      <td>2002</td>\n      <td>10595811</td>\n    </tr>\n    <tr>\n      <th>1691</th>\n      <td>2007</td>\n      <td>11746035</td>\n    </tr>\n    <tr>\n      <th>1692</th>\n      <td>1952</td>\n      <td>3080907</td>\n    </tr>\n    <tr>\n      <th>1693</th>\n      <td>1957</td>\n      <td>3646340</td>\n    </tr>\n    <tr>\n      <th>1694</th>\n      <td>1962</td>\n      <td>4277736</td>\n    </tr>\n    <tr>\n      <th>1695</th>\n      <td>1967</td>\n      <td>4995432</td>\n    </tr>\n    <tr>\n      <th>1696</th>\n      <td>1972</td>\n      <td>5861135</td>\n    </tr>\n    <tr>\n      <th>1697</th>\n      <td>1977</td>\n      <td>6642107</td>\n    </tr>\n    <tr>\n      <th>1698</th>\n      <td>1982</td>\n      <td>7636524</td>\n    </tr>\n    <tr>\n      <th>1699</th>\n      <td>1987</td>\n      <td>9216418</td>\n    </tr>\n    <tr>\n      <th>1700</th>\n      <td>1992</td>\n      <td>10704340</td>\n    </tr>\n    <tr>\n      <th>1701</th>\n      <td>1997</td>\n      <td>11404948</td>\n    </tr>\n    <tr>\n      <th>1702</th>\n      <td>2002</td>\n      <td>11926563</td>\n    </tr>\n    <tr>\n      <th>1703</th>\n      <td>2007</td>\n      <td>12311143</td>\n    </tr>\n  </tbody>\n</table>\n<p>1704 rows × 2 columns</p>\n</div>"
     },
     "metadata": {},
     "execution_count": 29
    }
   ],
   "source": [
    "df.loc[ : , ['year', 'pop']] "
   ]
  },
  {
   "cell_type": "code",
   "execution_count": 30,
   "metadata": {},
   "outputs": [
    {
     "output_type": "execute_result",
     "data": {
      "text/plain": [
       "     year       pop\n",
       "0    1952   8425333\n",
       "10   2002  25268405\n",
       "100  1972  70759295"
      ],
      "text/html": "<div>\n<style scoped>\n    .dataframe tbody tr th:only-of-type {\n        vertical-align: middle;\n    }\n\n    .dataframe tbody tr th {\n        vertical-align: top;\n    }\n\n    .dataframe thead th {\n        text-align: right;\n    }\n</style>\n<table border=\"1\" class=\"dataframe\">\n  <thead>\n    <tr style=\"text-align: right;\">\n      <th></th>\n      <th>year</th>\n      <th>pop</th>\n    </tr>\n  </thead>\n  <tbody>\n    <tr>\n      <th>0</th>\n      <td>1952</td>\n      <td>8425333</td>\n    </tr>\n    <tr>\n      <th>10</th>\n      <td>2002</td>\n      <td>25268405</td>\n    </tr>\n    <tr>\n      <th>100</th>\n      <td>1972</td>\n      <td>70759295</td>\n    </tr>\n  </tbody>\n</table>\n</div>"
     },
     "metadata": {},
     "execution_count": 30
    }
   ],
   "source": [
    "df.loc[[0,10,100],['year','pop']]"
   ]
  },
  {
   "cell_type": "code",
   "execution_count": 31,
   "metadata": {},
   "outputs": [
    {
     "output_type": "execute_result",
     "data": {
      "text/plain": [
       "0       False\n",
       "1       False\n",
       "2       False\n",
       "3       False\n",
       "4       False\n",
       "5       False\n",
       "6       False\n",
       "7       False\n",
       "8       False\n",
       "9       False\n",
       "10      False\n",
       "11      False\n",
       "12      False\n",
       "13      False\n",
       "14      False\n",
       "15      False\n",
       "16      False\n",
       "17      False\n",
       "18      False\n",
       "19      False\n",
       "20      False\n",
       "21      False\n",
       "22      False\n",
       "23      False\n",
       "24      False\n",
       "25      False\n",
       "26      False\n",
       "27      False\n",
       "28      False\n",
       "29      False\n",
       "        ...  \n",
       "1674    False\n",
       "1675    False\n",
       "1676    False\n",
       "1677    False\n",
       "1678    False\n",
       "1679    False\n",
       "1680    False\n",
       "1681    False\n",
       "1682    False\n",
       "1683    False\n",
       "1684    False\n",
       "1685    False\n",
       "1686    False\n",
       "1687    False\n",
       "1688    False\n",
       "1689    False\n",
       "1690    False\n",
       "1691    False\n",
       "1692     True\n",
       "1693     True\n",
       "1694     True\n",
       "1695     True\n",
       "1696     True\n",
       "1697     True\n",
       "1698     True\n",
       "1699     True\n",
       "1700     True\n",
       "1701     True\n",
       "1702     True\n",
       "1703     True\n",
       "Name: country, Length: 1704, dtype: bool"
      ]
     },
     "metadata": {},
     "execution_count": 31
    }
   ],
   "source": [
    "df['country'] == \"Zimbabwe\""
   ]
  },
  {
   "cell_type": "code",
   "execution_count": 32,
   "metadata": {},
   "outputs": [
    {
     "output_type": "execute_result",
     "data": {
      "text/plain": [
       "       country continent  year  lifeExp       pop   gdpPercap\n",
       "1692  Zimbabwe    Africa  1952   48.451   3080907  406.884115\n",
       "1693  Zimbabwe    Africa  1957   50.469   3646340  518.764268\n",
       "1694  Zimbabwe    Africa  1962   52.358   4277736  527.272182\n",
       "1695  Zimbabwe    Africa  1967   53.995   4995432  569.795071\n",
       "1696  Zimbabwe    Africa  1972   55.635   5861135  799.362176\n",
       "1697  Zimbabwe    Africa  1977   57.674   6642107  685.587682\n",
       "1698  Zimbabwe    Africa  1982   60.363   7636524  788.855041\n",
       "1699  Zimbabwe    Africa  1987   62.351   9216418  706.157306\n",
       "1700  Zimbabwe    Africa  1992   60.377  10704340  693.420786\n",
       "1701  Zimbabwe    Africa  1997   46.809  11404948  792.449960\n",
       "1702  Zimbabwe    Africa  2002   39.989  11926563  672.038623\n",
       "1703  Zimbabwe    Africa  2007   43.487  12311143  469.709298"
      ],
      "text/html": "<div>\n<style scoped>\n    .dataframe tbody tr th:only-of-type {\n        vertical-align: middle;\n    }\n\n    .dataframe tbody tr th {\n        vertical-align: top;\n    }\n\n    .dataframe thead th {\n        text-align: right;\n    }\n</style>\n<table border=\"1\" class=\"dataframe\">\n  <thead>\n    <tr style=\"text-align: right;\">\n      <th></th>\n      <th>country</th>\n      <th>continent</th>\n      <th>year</th>\n      <th>lifeExp</th>\n      <th>pop</th>\n      <th>gdpPercap</th>\n    </tr>\n  </thead>\n  <tbody>\n    <tr>\n      <th>1692</th>\n      <td>Zimbabwe</td>\n      <td>Africa</td>\n      <td>1952</td>\n      <td>48.451</td>\n      <td>3080907</td>\n      <td>406.884115</td>\n    </tr>\n    <tr>\n      <th>1693</th>\n      <td>Zimbabwe</td>\n      <td>Africa</td>\n      <td>1957</td>\n      <td>50.469</td>\n      <td>3646340</td>\n      <td>518.764268</td>\n    </tr>\n    <tr>\n      <th>1694</th>\n      <td>Zimbabwe</td>\n      <td>Africa</td>\n      <td>1962</td>\n      <td>52.358</td>\n      <td>4277736</td>\n      <td>527.272182</td>\n    </tr>\n    <tr>\n      <th>1695</th>\n      <td>Zimbabwe</td>\n      <td>Africa</td>\n      <td>1967</td>\n      <td>53.995</td>\n      <td>4995432</td>\n      <td>569.795071</td>\n    </tr>\n    <tr>\n      <th>1696</th>\n      <td>Zimbabwe</td>\n      <td>Africa</td>\n      <td>1972</td>\n      <td>55.635</td>\n      <td>5861135</td>\n      <td>799.362176</td>\n    </tr>\n    <tr>\n      <th>1697</th>\n      <td>Zimbabwe</td>\n      <td>Africa</td>\n      <td>1977</td>\n      <td>57.674</td>\n      <td>6642107</td>\n      <td>685.587682</td>\n    </tr>\n    <tr>\n      <th>1698</th>\n      <td>Zimbabwe</td>\n      <td>Africa</td>\n      <td>1982</td>\n      <td>60.363</td>\n      <td>7636524</td>\n      <td>788.855041</td>\n    </tr>\n    <tr>\n      <th>1699</th>\n      <td>Zimbabwe</td>\n      <td>Africa</td>\n      <td>1987</td>\n      <td>62.351</td>\n      <td>9216418</td>\n      <td>706.157306</td>\n    </tr>\n    <tr>\n      <th>1700</th>\n      <td>Zimbabwe</td>\n      <td>Africa</td>\n      <td>1992</td>\n      <td>60.377</td>\n      <td>10704340</td>\n      <td>693.420786</td>\n    </tr>\n    <tr>\n      <th>1701</th>\n      <td>Zimbabwe</td>\n      <td>Africa</td>\n      <td>1997</td>\n      <td>46.809</td>\n      <td>11404948</td>\n      <td>792.449960</td>\n    </tr>\n    <tr>\n      <th>1702</th>\n      <td>Zimbabwe</td>\n      <td>Africa</td>\n      <td>2002</td>\n      <td>39.989</td>\n      <td>11926563</td>\n      <td>672.038623</td>\n    </tr>\n    <tr>\n      <th>1703</th>\n      <td>Zimbabwe</td>\n      <td>Africa</td>\n      <td>2007</td>\n      <td>43.487</td>\n      <td>12311143</td>\n      <td>469.709298</td>\n    </tr>\n  </tbody>\n</table>\n</div>"
     },
     "metadata": {},
     "execution_count": 32
    }
   ],
   "source": [
    "df.loc[df['country'] == \"Zimbabwe\"]"
   ]
  },
  {
   "cell_type": "code",
   "execution_count": 33,
   "metadata": {},
   "outputs": [
    {
     "output_type": "execute_result",
     "data": {
      "text/plain": [
       "       country continent  year  lifeExp       pop   gdpPercap\n",
       "1700  Zimbabwe    Africa  1992   60.377  10704340  693.420786\n",
       "1701  Zimbabwe    Africa  1997   46.809  11404948  792.449960\n",
       "1702  Zimbabwe    Africa  2002   39.989  11926563  672.038623\n",
       "1703  Zimbabwe    Africa  2007   43.487  12311143  469.709298"
      ],
      "text/html": "<div>\n<style scoped>\n    .dataframe tbody tr th:only-of-type {\n        vertical-align: middle;\n    }\n\n    .dataframe tbody tr th {\n        vertical-align: top;\n    }\n\n    .dataframe thead th {\n        text-align: right;\n    }\n</style>\n<table border=\"1\" class=\"dataframe\">\n  <thead>\n    <tr style=\"text-align: right;\">\n      <th></th>\n      <th>country</th>\n      <th>continent</th>\n      <th>year</th>\n      <th>lifeExp</th>\n      <th>pop</th>\n      <th>gdpPercap</th>\n    </tr>\n  </thead>\n  <tbody>\n    <tr>\n      <th>1700</th>\n      <td>Zimbabwe</td>\n      <td>Africa</td>\n      <td>1992</td>\n      <td>60.377</td>\n      <td>10704340</td>\n      <td>693.420786</td>\n    </tr>\n    <tr>\n      <th>1701</th>\n      <td>Zimbabwe</td>\n      <td>Africa</td>\n      <td>1997</td>\n      <td>46.809</td>\n      <td>11404948</td>\n      <td>792.449960</td>\n    </tr>\n    <tr>\n      <th>1702</th>\n      <td>Zimbabwe</td>\n      <td>Africa</td>\n      <td>2002</td>\n      <td>39.989</td>\n      <td>11926563</td>\n      <td>672.038623</td>\n    </tr>\n    <tr>\n      <th>1703</th>\n      <td>Zimbabwe</td>\n      <td>Africa</td>\n      <td>2007</td>\n      <td>43.487</td>\n      <td>12311143</td>\n      <td>469.709298</td>\n    </tr>\n  </tbody>\n</table>\n</div>"
     },
     "metadata": {},
     "execution_count": 33
    }
   ],
   "source": [
    "df.loc[(df['country'] == \"Zimbabwe\") & (df['year']>1990)]"
   ]
  },
  {
   "cell_type": "code",
   "execution_count": 34,
   "metadata": {},
   "outputs": [
    {
     "output_type": "error",
     "ename": "TypeError",
     "evalue": "cannot compare a dtyped [int64] array with a scalar of type [bool]",
     "traceback": [
      "\u001b[1;31m---------------------------------------------------------------------------\u001b[0m",
      "\u001b[1;31mTypeError\u001b[0m                                 Traceback (most recent call last)",
      "\u001b[1;32m~\\Anaconda3\\lib\\site-packages\\pandas\\core\\ops.py\u001b[0m in \u001b[0;36mna_op\u001b[1;34m(x, y)\u001b[0m\n\u001b[0;32m   1788\u001b[0m         \u001b[1;32mtry\u001b[0m\u001b[1;33m:\u001b[0m\u001b[1;33m\u001b[0m\u001b[1;33m\u001b[0m\u001b[0m\n\u001b[1;32m-> 1789\u001b[1;33m             \u001b[0mresult\u001b[0m \u001b[1;33m=\u001b[0m \u001b[0mop\u001b[0m\u001b[1;33m(\u001b[0m\u001b[0mx\u001b[0m\u001b[1;33m,\u001b[0m \u001b[0my\u001b[0m\u001b[1;33m)\u001b[0m\u001b[1;33m\u001b[0m\u001b[1;33m\u001b[0m\u001b[0m\n\u001b[0m\u001b[0;32m   1790\u001b[0m         \u001b[1;32mexcept\u001b[0m \u001b[0mTypeError\u001b[0m\u001b[1;33m:\u001b[0m\u001b[1;33m\u001b[0m\u001b[1;33m\u001b[0m\u001b[0m\n",
      "\u001b[1;32m~\\Anaconda3\\lib\\site-packages\\pandas\\core\\ops.py\u001b[0m in \u001b[0;36mrand_\u001b[1;34m(left, right)\u001b[0m\n\u001b[0;32m    186\u001b[0m \u001b[1;32mdef\u001b[0m \u001b[0mrand_\u001b[0m\u001b[1;33m(\u001b[0m\u001b[0mleft\u001b[0m\u001b[1;33m,\u001b[0m \u001b[0mright\u001b[0m\u001b[1;33m)\u001b[0m\u001b[1;33m:\u001b[0m\u001b[1;33m\u001b[0m\u001b[1;33m\u001b[0m\u001b[0m\n\u001b[1;32m--> 187\u001b[1;33m     \u001b[1;32mreturn\u001b[0m \u001b[0moperator\u001b[0m\u001b[1;33m.\u001b[0m\u001b[0mand_\u001b[0m\u001b[1;33m(\u001b[0m\u001b[0mright\u001b[0m\u001b[1;33m,\u001b[0m \u001b[0mleft\u001b[0m\u001b[1;33m)\u001b[0m\u001b[1;33m\u001b[0m\u001b[1;33m\u001b[0m\u001b[0m\n\u001b[0m\u001b[0;32m    188\u001b[0m \u001b[1;33m\u001b[0m\u001b[0m\n",
      "\u001b[1;31mTypeError\u001b[0m: ufunc 'bitwise_and' not supported for the input types, and the inputs could not be safely coerced to any supported types according to the casting rule ''safe''",
      "\nDuring handling of the above exception, another exception occurred:\n",
      "\u001b[1;31mValueError\u001b[0m                                Traceback (most recent call last)",
      "\u001b[1;32m~\\Anaconda3\\lib\\site-packages\\pandas\\core\\ops.py\u001b[0m in \u001b[0;36mna_op\u001b[1;34m(x, y)\u001b[0m\n\u001b[0;32m   1803\u001b[0m                 \u001b[1;32mtry\u001b[0m\u001b[1;33m:\u001b[0m\u001b[1;33m\u001b[0m\u001b[1;33m\u001b[0m\u001b[0m\n\u001b[1;32m-> 1804\u001b[1;33m                     \u001b[0mresult\u001b[0m \u001b[1;33m=\u001b[0m \u001b[0mlibops\u001b[0m\u001b[1;33m.\u001b[0m\u001b[0mscalar_binop\u001b[0m\u001b[1;33m(\u001b[0m\u001b[0mx\u001b[0m\u001b[1;33m,\u001b[0m \u001b[0my\u001b[0m\u001b[1;33m,\u001b[0m \u001b[0mop\u001b[0m\u001b[1;33m)\u001b[0m\u001b[1;33m\u001b[0m\u001b[1;33m\u001b[0m\u001b[0m\n\u001b[0m\u001b[0;32m   1805\u001b[0m                 except (TypeError, ValueError, AttributeError,\n",
      "\u001b[1;32mpandas/_libs/ops.pyx\u001b[0m in \u001b[0;36mpandas._libs.ops.scalar_binop\u001b[1;34m()\u001b[0m\n",
      "\u001b[1;31mValueError\u001b[0m: Buffer dtype mismatch, expected 'Python object' but got 'long long'",
      "\nDuring handling of the above exception, another exception occurred:\n",
      "\u001b[1;31mTypeError\u001b[0m                                 Traceback (most recent call last)",
      "\u001b[1;32m<ipython-input-34-4b1582901be0>\u001b[0m in \u001b[0;36m<module>\u001b[1;34m\u001b[0m\n\u001b[1;32m----> 1\u001b[1;33m \u001b[0mdf\u001b[0m\u001b[1;33m.\u001b[0m\u001b[0mloc\u001b[0m\u001b[1;33m[\u001b[0m\u001b[0mdf\u001b[0m\u001b[1;33m[\u001b[0m\u001b[1;34m'country'\u001b[0m\u001b[1;33m]\u001b[0m \u001b[1;33m==\u001b[0m \u001b[1;34m\"Zimbabwe\"\u001b[0m \u001b[1;33m&\u001b[0m \u001b[0mdf\u001b[0m\u001b[1;33m[\u001b[0m\u001b[1;34m'year'\u001b[0m\u001b[1;33m]\u001b[0m\u001b[1;33m>\u001b[0m\u001b[1;36m1990\u001b[0m \u001b[1;33m]\u001b[0m \u001b[1;31m#for boolean operation we need ()\u001b[0m\u001b[1;33m\u001b[0m\u001b[1;33m\u001b[0m\u001b[0m\n\u001b[0m",
      "\u001b[1;32m~\\Anaconda3\\lib\\site-packages\\pandas\\core\\ops.py\u001b[0m in \u001b[0;36mwrapper\u001b[1;34m(self, other)\u001b[0m\n\u001b[0;32m   1848\u001b[0m         filler = (fill_int if is_self_int_dtype and is_other_int_dtype\n\u001b[0;32m   1849\u001b[0m                   else fill_bool)\n\u001b[1;32m-> 1850\u001b[1;33m         \u001b[0mres_values\u001b[0m \u001b[1;33m=\u001b[0m \u001b[0mna_op\u001b[0m\u001b[1;33m(\u001b[0m\u001b[0mself\u001b[0m\u001b[1;33m.\u001b[0m\u001b[0mvalues\u001b[0m\u001b[1;33m,\u001b[0m \u001b[0movalues\u001b[0m\u001b[1;33m)\u001b[0m\u001b[1;33m\u001b[0m\u001b[1;33m\u001b[0m\u001b[0m\n\u001b[0m\u001b[0;32m   1851\u001b[0m         unfilled = self._constructor(res_values,\n\u001b[0;32m   1852\u001b[0m                                      index=self.index, name=res_name)\n",
      "\u001b[1;32m~\\Anaconda3\\lib\\site-packages\\pandas\\core\\ops.py\u001b[0m in \u001b[0;36mna_op\u001b[1;34m(x, y)\u001b[0m\n\u001b[0;32m   1808\u001b[0m                                     \u001b[1;34m\"with a scalar of type [{typ}]\"\u001b[0m\u001b[1;33m\u001b[0m\u001b[1;33m\u001b[0m\u001b[0m\n\u001b[0;32m   1809\u001b[0m                                     .format(dtype=x.dtype,\n\u001b[1;32m-> 1810\u001b[1;33m                                             typ=type(y).__name__))\n\u001b[0m\u001b[0;32m   1811\u001b[0m \u001b[1;33m\u001b[0m\u001b[0m\n\u001b[0;32m   1812\u001b[0m         \u001b[1;32mreturn\u001b[0m \u001b[0mresult\u001b[0m\u001b[1;33m\u001b[0m\u001b[1;33m\u001b[0m\u001b[0m\n",
      "\u001b[1;31mTypeError\u001b[0m: cannot compare a dtyped [int64] array with a scalar of type [bool]"
     ]
    }
   ],
   "source": [
    "df.loc[df['country'] == \"Zimbabwe\" & df['year']>1990 ] #for boolean operation we need ()"
   ]
  },
  {
   "cell_type": "code",
   "execution_count": 35,
   "metadata": {},
   "outputs": [
    {
     "output_type": "execute_result",
     "data": {
      "text/plain": [
       "           pop continent\n",
       "1700  10704340    Africa\n",
       "1701  11404948    Africa\n",
       "1702  11926563    Africa\n",
       "1703  12311143    Africa"
      ],
      "text/html": "<div>\n<style scoped>\n    .dataframe tbody tr th:only-of-type {\n        vertical-align: middle;\n    }\n\n    .dataframe tbody tr th {\n        vertical-align: top;\n    }\n\n    .dataframe thead th {\n        text-align: right;\n    }\n</style>\n<table border=\"1\" class=\"dataframe\">\n  <thead>\n    <tr style=\"text-align: right;\">\n      <th></th>\n      <th>pop</th>\n      <th>continent</th>\n    </tr>\n  </thead>\n  <tbody>\n    <tr>\n      <th>1700</th>\n      <td>10704340</td>\n      <td>Africa</td>\n    </tr>\n    <tr>\n      <th>1701</th>\n      <td>11404948</td>\n      <td>Africa</td>\n    </tr>\n    <tr>\n      <th>1702</th>\n      <td>11926563</td>\n      <td>Africa</td>\n    </tr>\n    <tr>\n      <th>1703</th>\n      <td>12311143</td>\n      <td>Africa</td>\n    </tr>\n  </tbody>\n</table>\n</div>"
     },
     "metadata": {},
     "execution_count": 35
    }
   ],
   "source": [
    "df.loc[(df['country'] == \"Zimbabwe\") & (df['year']>1990),['pop','continent']] #for or we can use | "
   ]
  },
  {
   "cell_type": "code",
   "execution_count": 36,
   "metadata": {},
   "outputs": [
    {
     "output_type": "execute_result",
     "data": {
      "text/plain": [
       "           pop continent\n",
       "1700  10704340    Africa\n",
       "1701  11404948    Africa\n",
       "1702  11926563    Africa\n",
       "1703  12311143    Africa"
      ],
      "text/html": "<div>\n<style scoped>\n    .dataframe tbody tr th:only-of-type {\n        vertical-align: middle;\n    }\n\n    .dataframe tbody tr th {\n        vertical-align: top;\n    }\n\n    .dataframe thead th {\n        text-align: right;\n    }\n</style>\n<table border=\"1\" class=\"dataframe\">\n  <thead>\n    <tr style=\"text-align: right;\">\n      <th></th>\n      <th>pop</th>\n      <th>continent</th>\n    </tr>\n  </thead>\n  <tbody>\n    <tr>\n      <th>1700</th>\n      <td>10704340</td>\n      <td>Africa</td>\n    </tr>\n    <tr>\n      <th>1701</th>\n      <td>11404948</td>\n      <td>Africa</td>\n    </tr>\n    <tr>\n      <th>1702</th>\n      <td>11926563</td>\n      <td>Africa</td>\n    </tr>\n    <tr>\n      <th>1703</th>\n      <td>12311143</td>\n      <td>Africa</td>\n    </tr>\n  </tbody>\n</table>\n</div>"
     },
     "metadata": {},
     "execution_count": 36
    }
   ],
   "source": [
    "df.loc[(df.country == \"Zimbabwe\") & (df.year >1990),['pop','continent']] #never use this \n",
    "#as some time  column name can be also part of other part of dataframe"
   ]
  },
  {
   "cell_type": "code",
   "execution_count": 37,
   "metadata": {},
   "outputs": [
    {
     "output_type": "execute_result",
     "data": {
      "text/plain": [
       "       country continent  year  lifeExp       pop   gdpPercap\n",
       "0  Afghanistan      Asia  1952   28.801   8425333  779.445314\n",
       "1  Afghanistan      Asia  1957   30.332   9240934  820.853030\n",
       "2  Afghanistan      Asia  1962   31.997  10267083  853.100710\n",
       "3  Afghanistan      Asia  1967   34.020  11537966  836.197138\n",
       "4  Afghanistan      Asia  1972   36.088  13079460  739.981106"
      ],
      "text/html": "<div>\n<style scoped>\n    .dataframe tbody tr th:only-of-type {\n        vertical-align: middle;\n    }\n\n    .dataframe tbody tr th {\n        vertical-align: top;\n    }\n\n    .dataframe thead th {\n        text-align: right;\n    }\n</style>\n<table border=\"1\" class=\"dataframe\">\n  <thead>\n    <tr style=\"text-align: right;\">\n      <th></th>\n      <th>country</th>\n      <th>continent</th>\n      <th>year</th>\n      <th>lifeExp</th>\n      <th>pop</th>\n      <th>gdpPercap</th>\n    </tr>\n  </thead>\n  <tbody>\n    <tr>\n      <th>0</th>\n      <td>Afghanistan</td>\n      <td>Asia</td>\n      <td>1952</td>\n      <td>28.801</td>\n      <td>8425333</td>\n      <td>779.445314</td>\n    </tr>\n    <tr>\n      <th>1</th>\n      <td>Afghanistan</td>\n      <td>Asia</td>\n      <td>1957</td>\n      <td>30.332</td>\n      <td>9240934</td>\n      <td>820.853030</td>\n    </tr>\n    <tr>\n      <th>2</th>\n      <td>Afghanistan</td>\n      <td>Asia</td>\n      <td>1962</td>\n      <td>31.997</td>\n      <td>10267083</td>\n      <td>853.100710</td>\n    </tr>\n    <tr>\n      <th>3</th>\n      <td>Afghanistan</td>\n      <td>Asia</td>\n      <td>1967</td>\n      <td>34.020</td>\n      <td>11537966</td>\n      <td>836.197138</td>\n    </tr>\n    <tr>\n      <th>4</th>\n      <td>Afghanistan</td>\n      <td>Asia</td>\n      <td>1972</td>\n      <td>36.088</td>\n      <td>13079460</td>\n      <td>739.981106</td>\n    </tr>\n  </tbody>\n</table>\n</div>"
     },
     "metadata": {},
     "execution_count": 37
    }
   ],
   "source": [
    "df.head()"
   ]
  },
  {
   "cell_type": "code",
   "execution_count": 38,
   "metadata": {},
   "outputs": [
    {
     "output_type": "execute_result",
     "data": {
      "text/plain": [
       "<pandas.core.groupby.generic.DataFrameGroupBy object at 0x000001D80D3FF400>"
      ]
     },
     "metadata": {},
     "execution_count": 38
    }
   ],
   "source": [
    "df.groupby(['year'])"
   ]
  },
  {
   "cell_type": "code",
   "execution_count": 39,
   "metadata": {},
   "outputs": [
    {
     "output_type": "execute_result",
     "data": {
      "text/plain": [
       "year\n",
       "1952    49.057620\n",
       "1957    51.507401\n",
       "1962    53.609249\n",
       "1967    55.678290\n",
       "1972    57.647386\n",
       "1977    59.570157\n",
       "1982    61.533197\n",
       "1987    63.212613\n",
       "1992    64.160338\n",
       "1997    65.014676\n",
       "2002    65.694923\n",
       "2007    67.007423\n",
       "Name: lifeExp, dtype: float64"
      ]
     },
     "metadata": {},
     "execution_count": 39
    }
   ],
   "source": [
    "df.groupby(['year'])['lifeExp'].mean() #it is series type . same as numpy "
   ]
  },
  {
   "cell_type": "code",
   "execution_count": 40,
   "metadata": {},
   "outputs": [
    {
     "output_type": "execute_result",
     "data": {
      "text/plain": [
       "pandas.core.groupby.generic.SeriesGroupBy"
      ]
     },
     "metadata": {},
     "execution_count": 40
    }
   ],
   "source": [
    "type(df.groupby(['year'])['lifeExp'])"
   ]
  },
  {
   "cell_type": "code",
   "execution_count": 41,
   "metadata": {},
   "outputs": [],
   "source": [
    "import numpy as np \n"
   ]
  },
  {
   "cell_type": "code",
   "execution_count": 42,
   "metadata": {},
   "outputs": [
    {
     "output_type": "execute_result",
     "data": {
      "text/plain": [
       "year\n",
       "1952    49.057620\n",
       "1957    51.507401\n",
       "1962    53.609249\n",
       "1967    55.678290\n",
       "1972    57.647386\n",
       "1977    59.570157\n",
       "1982    61.533197\n",
       "1987    63.212613\n",
       "1992    64.160338\n",
       "1997    65.014676\n",
       "2002    65.694923\n",
       "2007    67.007423\n",
       "Name: lifeExp, dtype: float64"
      ]
     },
     "metadata": {},
     "execution_count": 42
    }
   ],
   "source": [
    "df.groupby(['year'])['lifeExp'].agg(np.mean) #agg is stands for aggregate()\n",
    "#note that we are using np.mean not np.mean(array)  as we want to run function"
   ]
  },
  {
   "cell_type": "code",
   "execution_count": 43,
   "metadata": {},
   "outputs": [
    {
     "output_type": "execute_result",
     "data": {
      "text/plain": [
       "year\n",
       "1952    12.225956\n",
       "1957    12.231286\n",
       "1962    12.097245\n",
       "1967    11.718858\n",
       "1972    11.381953\n",
       "1977    11.227229\n",
       "1982    10.770618\n",
       "1987    10.556285\n",
       "1992    11.227380\n",
       "1997    11.559439\n",
       "2002    12.279823\n",
       "2007    12.073021\n",
       "Name: lifeExp, dtype: float64"
      ]
     },
     "metadata": {},
     "execution_count": 43
    }
   ],
   "source": [
    "df.groupby(['year'])['lifeExp'].agg(np.std)"
   ]
  },
  {
   "cell_type": "code",
   "execution_count": 44,
   "metadata": {},
   "outputs": [
    {
     "output_type": "execute_result",
     "data": {
      "text/plain": [
       "year\n",
       "1952    1.695040e+07\n",
       "1957    1.876341e+07\n",
       "1962    2.042101e+07\n",
       "1967    2.265830e+07\n",
       "1972    2.518998e+07\n",
       "1977    2.767638e+07\n",
       "1982    3.020730e+07\n",
       "1987    3.303857e+07\n",
       "1992    3.599092e+07\n",
       "1997    3.883947e+07\n",
       "2002    4.145759e+07\n",
       "2007    4.402122e+07\n",
       "Name: pop, dtype: float64"
      ]
     },
     "metadata": {},
     "execution_count": 44
    }
   ],
   "source": [
    "df.groupby(['year'])['pop'].agg(np.mean) "
   ]
  },
  {
   "cell_type": "code",
   "execution_count": 45,
   "metadata": {},
   "outputs": [
    {
     "output_type": "execute_result",
     "data": {
      "text/plain": [
       "                  lifeExp                gdpPercap                \\\n",
       "                     mean        std          mean           std   \n",
       "year continent                                                     \n",
       "1952 Africa     39.135500   5.151581   1252.572466    982.952116   \n",
       "     Americas   53.279840   9.326082   4079.062552   3001.727522   \n",
       "     Asia       46.314394   9.291751   5195.484004  18634.890865   \n",
       "     Europe     64.408500   6.361088   5661.057435   3114.060493   \n",
       "     Oceania    69.255000   0.190919  10298.085650    365.560078   \n",
       "1957 Africa     41.266346   5.620123   1385.236062   1134.508918   \n",
       "     Americas   55.960280   9.033192   4616.043733   3312.381083   \n",
       "     Asia       49.318544   9.635429   5787.732940  19506.515959   \n",
       "     Europe     66.703067   5.295805   6963.012816   3677.950146   \n",
       "     Oceania    70.295000   0.049497  11598.522455    917.644806   \n",
       "1962 Africa     43.319442   5.875364   1598.078825   1461.839189   \n",
       "     Americas   58.398760   8.503544   4901.541870   3421.740569   \n",
       "     Asia       51.563223   9.820632   5729.369625  16415.857196   \n",
       "     Europe     68.539233   4.302500   8365.486814   4199.193906   \n",
       "     Oceania    71.085000   0.219203  12696.452430    677.727301   \n",
       "1967 Africa     45.334538   6.082673   2050.363801   2847.717603   \n",
       "     Americas   60.410920   7.909171   5668.253496   4160.885560   \n",
       "     Asia       54.663640   9.650965   5971.173374  14062.591362   \n",
       "     Europe     69.737600   3.799728  10143.823757   4724.983889   \n",
       "     Oceania    71.310000   0.296985  14495.021790     43.986086   \n",
       "1972 Africa     47.450942   6.416258   2339.615674   3286.853884   \n",
       "     Americas   62.394920   7.323017   6491.334139   4754.404329   \n",
       "     Asia       57.319269   9.722700   8187.468699  19087.502918   \n",
       "     Europe     70.775033   3.240576  12479.575246   5509.691411   \n",
       "     Oceania    71.910000   0.028284  16417.333380    525.091980   \n",
       "1977 Africa     49.580423   6.808197   2585.938508   4142.398707   \n",
       "     Americas   64.391560   7.069496   7352.007126   5355.602518   \n",
       "     Asia       59.610556  10.022197   7791.314020  11815.777923   \n",
       "     Europe     71.937767   3.121030  14283.979110   5874.464896   \n",
       "     Oceania    72.855000   0.898026  17283.957605   1485.263517   \n",
       "1982 Africa     51.592865   7.375940   2481.592960   3242.632753   \n",
       "     Americas   66.228840   6.720834   7506.737088   5530.490471   \n",
       "     Asia       62.617939   8.535221   7434.135157   8701.176499   \n",
       "     Europe     72.806400   3.218260  15617.896551   6453.234827   \n",
       "     Oceania    74.290000   0.636396  18554.709840   1304.328377   \n",
       "1987 Africa     53.344788   7.864089   2282.668991   2566.531947   \n",
       "     Americas   68.090720   5.801929   7793.400261   6665.039509   \n",
       "     Asia       64.851182   8.203792   7608.226508   8090.262765   \n",
       "     Europe     73.642167   3.169680  17214.310727   7482.957960   \n",
       "     Oceania    75.320000   1.414214  20448.040160   2037.668013   \n",
       "1992 Africa     53.629577   9.461071   2281.810333   2644.075602   \n",
       "     Americas   69.568360   5.167104   8044.934406   7047.089191   \n",
       "     Asia       66.537212   8.075549   8639.690248   9727.431088   \n",
       "     Europe     74.440100   3.209781  17061.568084   9109.804361   \n",
       "     Oceania    76.945000   0.869741  20894.045885   3578.979883   \n",
       "1997 Africa     53.598269   9.103387   2378.759555   2820.728117   \n",
       "     Americas   71.150480   4.887584   8889.300863   7874.225145   \n",
       "     Asia       68.020515   8.091171   9834.093295  11094.180481   \n",
       "     Europe     75.505167   3.104677  19076.781802  10065.457716   \n",
       "     Oceania    78.190000   0.905097  24024.175170   4205.533703   \n",
       "2002 Africa     53.325231   9.586496   2599.385159   2972.651308   \n",
       "     Americas   72.422040   4.799705   9287.677107   8895.817785   \n",
       "     Asia       69.233879   8.374595  10174.090397  11150.719203   \n",
       "     Europe     76.700600   2.922180  21711.732422  11197.355517   \n",
       "     Oceania    79.740000   0.890955  26938.778040   5301.853680   \n",
       "2007 Africa     54.806038   9.630781   3089.032605   3618.163491   \n",
       "     Americas   73.608120   4.440948  11003.031625   9713.209302   \n",
       "     Asia       70.728485   7.963724  12473.026870  14154.937343   \n",
       "     Europe     77.648600   2.979813  25054.481636  11800.339811   \n",
       "     Oceania    80.719500   0.729027  29810.188275   6540.991104   \n",
       "\n",
       "                         pop                \n",
       "                        mean           std  \n",
       "year continent                              \n",
       "1952 Africa     4.570010e+06  6.317450e+06  \n",
       "     Americas   1.380610e+07  3.234163e+07  \n",
       "     Asia       4.228356e+07  1.132267e+08  \n",
       "     Europe     1.393736e+07  1.724745e+07  \n",
       "     Oceania    5.343003e+06  4.735083e+06  \n",
       "1957 Africa     5.093033e+06  7.076042e+06  \n",
       "     Americas   1.547816e+07  3.553706e+07  \n",
       "     Asia       4.735699e+07  1.280961e+08  \n",
       "     Europe     1.459635e+07  1.783235e+07  \n",
       "     Oceania    5.970988e+06  5.291395e+06  \n",
       "1962 Africa     5.702247e+06  7.957545e+06  \n",
       "     Americas   1.733081e+07  3.887683e+07  \n",
       "     Asia       5.140476e+07  1.361027e+08  \n",
       "     Europe     1.534517e+07  1.865642e+07  \n",
       "     Oceania    6.641759e+06  5.873524e+06  \n",
       "1967 Africa     6.447875e+06  8.985505e+06  \n",
       "     Americas   1.922986e+07  4.192559e+07  \n",
       "     Asia       5.774736e+07  1.533418e+08  \n",
       "     Europe     1.603930e+07  1.944359e+07  \n",
       "     Oceania    7.300207e+06  6.465865e+06  \n",
       "1972 Africa     7.305376e+06  1.013083e+07  \n",
       "     Americas   2.117537e+07  4.493546e+07  \n",
       "     Asia       6.518098e+07  1.740949e+08  \n",
       "     Europe     1.668784e+07  2.018034e+07  \n",
       "     Oceania    8.053050e+06  7.246360e+06  \n",
       "1977 Africa     8.328097e+06  1.158518e+07  \n",
       "     Americas   2.312271e+07  4.790406e+07  \n",
       "     Asia       7.225799e+07  1.917074e+08  \n",
       "     Europe     1.723882e+07  2.056054e+07  \n",
       "     Oceania    8.619500e+06  7.713969e+06  \n",
       "1982 Africa     9.602857e+06  1.345624e+07  \n",
       "     Americas   2.521164e+07  5.129438e+07  \n",
       "     Asia       7.909502e+07  2.065415e+08  \n",
       "     Europe     1.770890e+07  2.097129e+07  \n",
       "     Oceania    9.197425e+06  8.466578e+06  \n",
       "1987 Africa     1.105450e+07  1.527748e+07  \n",
       "     Americas   2.731016e+07  5.445969e+07  \n",
       "     Asia       8.700669e+07  2.257332e+08  \n",
       "     Europe     1.810314e+07  2.136971e+07  \n",
       "     Oceania    9.787208e+06  9.150020e+06  \n",
       "1992 Africa     1.267464e+07  1.756272e+07  \n",
       "     Americas   2.957096e+07  5.810922e+07  \n",
       "     Asia       9.494825e+07  2.449604e+08  \n",
       "     Europe     1.860476e+07  2.212674e+07  \n",
       "     Oceania    1.045983e+07  9.930822e+06  \n",
       "1997 Africa     1.430448e+07  1.987301e+07  \n",
       "     Americas   3.187602e+07  6.203282e+07  \n",
       "     Asia       1.025238e+08  2.623497e+08  \n",
       "     Europe     1.896480e+07  2.274815e+07  \n",
       "     Oceania    1.112072e+07  1.052815e+07  \n",
       "2002 Africa     1.603315e+07  2.230300e+07  \n",
       "     Americas   3.399091e+07  6.560155e+07  \n",
       "     Asia       1.091455e+08  2.767017e+08  \n",
       "     Europe     1.927413e+07  2.322369e+07  \n",
       "     Oceania    1.172741e+07  1.105827e+07  \n",
       "2007 Africa     1.787576e+07  2.491773e+07  \n",
       "     Americas   3.595485e+07  6.883378e+07  \n",
       "     Asia       1.155138e+08  2.896734e+08  \n",
       "     Europe     1.953662e+07  2.362474e+07  \n",
       "     Oceania    1.227497e+07  1.153885e+07  "
      ],
      "text/html": "<div>\n<style scoped>\n    .dataframe tbody tr th:only-of-type {\n        vertical-align: middle;\n    }\n\n    .dataframe tbody tr th {\n        vertical-align: top;\n    }\n\n    .dataframe thead tr th {\n        text-align: left;\n    }\n\n    .dataframe thead tr:last-of-type th {\n        text-align: right;\n    }\n</style>\n<table border=\"1\" class=\"dataframe\">\n  <thead>\n    <tr>\n      <th></th>\n      <th></th>\n      <th colspan=\"2\" halign=\"left\">lifeExp</th>\n      <th colspan=\"2\" halign=\"left\">gdpPercap</th>\n      <th colspan=\"2\" halign=\"left\">pop</th>\n    </tr>\n    <tr>\n      <th></th>\n      <th></th>\n      <th>mean</th>\n      <th>std</th>\n      <th>mean</th>\n      <th>std</th>\n      <th>mean</th>\n      <th>std</th>\n    </tr>\n    <tr>\n      <th>year</th>\n      <th>continent</th>\n      <th></th>\n      <th></th>\n      <th></th>\n      <th></th>\n      <th></th>\n      <th></th>\n    </tr>\n  </thead>\n  <tbody>\n    <tr>\n      <th rowspan=\"5\" valign=\"top\">1952</th>\n      <th>Africa</th>\n      <td>39.135500</td>\n      <td>5.151581</td>\n      <td>1252.572466</td>\n      <td>982.952116</td>\n      <td>4.570010e+06</td>\n      <td>6.317450e+06</td>\n    </tr>\n    <tr>\n      <th>Americas</th>\n      <td>53.279840</td>\n      <td>9.326082</td>\n      <td>4079.062552</td>\n      <td>3001.727522</td>\n      <td>1.380610e+07</td>\n      <td>3.234163e+07</td>\n    </tr>\n    <tr>\n      <th>Asia</th>\n      <td>46.314394</td>\n      <td>9.291751</td>\n      <td>5195.484004</td>\n      <td>18634.890865</td>\n      <td>4.228356e+07</td>\n      <td>1.132267e+08</td>\n    </tr>\n    <tr>\n      <th>Europe</th>\n      <td>64.408500</td>\n      <td>6.361088</td>\n      <td>5661.057435</td>\n      <td>3114.060493</td>\n      <td>1.393736e+07</td>\n      <td>1.724745e+07</td>\n    </tr>\n    <tr>\n      <th>Oceania</th>\n      <td>69.255000</td>\n      <td>0.190919</td>\n      <td>10298.085650</td>\n      <td>365.560078</td>\n      <td>5.343003e+06</td>\n      <td>4.735083e+06</td>\n    </tr>\n    <tr>\n      <th rowspan=\"5\" valign=\"top\">1957</th>\n      <th>Africa</th>\n      <td>41.266346</td>\n      <td>5.620123</td>\n      <td>1385.236062</td>\n      <td>1134.508918</td>\n      <td>5.093033e+06</td>\n      <td>7.076042e+06</td>\n    </tr>\n    <tr>\n      <th>Americas</th>\n      <td>55.960280</td>\n      <td>9.033192</td>\n      <td>4616.043733</td>\n      <td>3312.381083</td>\n      <td>1.547816e+07</td>\n      <td>3.553706e+07</td>\n    </tr>\n    <tr>\n      <th>Asia</th>\n      <td>49.318544</td>\n      <td>9.635429</td>\n      <td>5787.732940</td>\n      <td>19506.515959</td>\n      <td>4.735699e+07</td>\n      <td>1.280961e+08</td>\n    </tr>\n    <tr>\n      <th>Europe</th>\n      <td>66.703067</td>\n      <td>5.295805</td>\n      <td>6963.012816</td>\n      <td>3677.950146</td>\n      <td>1.459635e+07</td>\n      <td>1.783235e+07</td>\n    </tr>\n    <tr>\n      <th>Oceania</th>\n      <td>70.295000</td>\n      <td>0.049497</td>\n      <td>11598.522455</td>\n      <td>917.644806</td>\n      <td>5.970988e+06</td>\n      <td>5.291395e+06</td>\n    </tr>\n    <tr>\n      <th rowspan=\"5\" valign=\"top\">1962</th>\n      <th>Africa</th>\n      <td>43.319442</td>\n      <td>5.875364</td>\n      <td>1598.078825</td>\n      <td>1461.839189</td>\n      <td>5.702247e+06</td>\n      <td>7.957545e+06</td>\n    </tr>\n    <tr>\n      <th>Americas</th>\n      <td>58.398760</td>\n      <td>8.503544</td>\n      <td>4901.541870</td>\n      <td>3421.740569</td>\n      <td>1.733081e+07</td>\n      <td>3.887683e+07</td>\n    </tr>\n    <tr>\n      <th>Asia</th>\n      <td>51.563223</td>\n      <td>9.820632</td>\n      <td>5729.369625</td>\n      <td>16415.857196</td>\n      <td>5.140476e+07</td>\n      <td>1.361027e+08</td>\n    </tr>\n    <tr>\n      <th>Europe</th>\n      <td>68.539233</td>\n      <td>4.302500</td>\n      <td>8365.486814</td>\n      <td>4199.193906</td>\n      <td>1.534517e+07</td>\n      <td>1.865642e+07</td>\n    </tr>\n    <tr>\n      <th>Oceania</th>\n      <td>71.085000</td>\n      <td>0.219203</td>\n      <td>12696.452430</td>\n      <td>677.727301</td>\n      <td>6.641759e+06</td>\n      <td>5.873524e+06</td>\n    </tr>\n    <tr>\n      <th rowspan=\"5\" valign=\"top\">1967</th>\n      <th>Africa</th>\n      <td>45.334538</td>\n      <td>6.082673</td>\n      <td>2050.363801</td>\n      <td>2847.717603</td>\n      <td>6.447875e+06</td>\n      <td>8.985505e+06</td>\n    </tr>\n    <tr>\n      <th>Americas</th>\n      <td>60.410920</td>\n      <td>7.909171</td>\n      <td>5668.253496</td>\n      <td>4160.885560</td>\n      <td>1.922986e+07</td>\n      <td>4.192559e+07</td>\n    </tr>\n    <tr>\n      <th>Asia</th>\n      <td>54.663640</td>\n      <td>9.650965</td>\n      <td>5971.173374</td>\n      <td>14062.591362</td>\n      <td>5.774736e+07</td>\n      <td>1.533418e+08</td>\n    </tr>\n    <tr>\n      <th>Europe</th>\n      <td>69.737600</td>\n      <td>3.799728</td>\n      <td>10143.823757</td>\n      <td>4724.983889</td>\n      <td>1.603930e+07</td>\n      <td>1.944359e+07</td>\n    </tr>\n    <tr>\n      <th>Oceania</th>\n      <td>71.310000</td>\n      <td>0.296985</td>\n      <td>14495.021790</td>\n      <td>43.986086</td>\n      <td>7.300207e+06</td>\n      <td>6.465865e+06</td>\n    </tr>\n    <tr>\n      <th rowspan=\"5\" valign=\"top\">1972</th>\n      <th>Africa</th>\n      <td>47.450942</td>\n      <td>6.416258</td>\n      <td>2339.615674</td>\n      <td>3286.853884</td>\n      <td>7.305376e+06</td>\n      <td>1.013083e+07</td>\n    </tr>\n    <tr>\n      <th>Americas</th>\n      <td>62.394920</td>\n      <td>7.323017</td>\n      <td>6491.334139</td>\n      <td>4754.404329</td>\n      <td>2.117537e+07</td>\n      <td>4.493546e+07</td>\n    </tr>\n    <tr>\n      <th>Asia</th>\n      <td>57.319269</td>\n      <td>9.722700</td>\n      <td>8187.468699</td>\n      <td>19087.502918</td>\n      <td>6.518098e+07</td>\n      <td>1.740949e+08</td>\n    </tr>\n    <tr>\n      <th>Europe</th>\n      <td>70.775033</td>\n      <td>3.240576</td>\n      <td>12479.575246</td>\n      <td>5509.691411</td>\n      <td>1.668784e+07</td>\n      <td>2.018034e+07</td>\n    </tr>\n    <tr>\n      <th>Oceania</th>\n      <td>71.910000</td>\n      <td>0.028284</td>\n      <td>16417.333380</td>\n      <td>525.091980</td>\n      <td>8.053050e+06</td>\n      <td>7.246360e+06</td>\n    </tr>\n    <tr>\n      <th rowspan=\"5\" valign=\"top\">1977</th>\n      <th>Africa</th>\n      <td>49.580423</td>\n      <td>6.808197</td>\n      <td>2585.938508</td>\n      <td>4142.398707</td>\n      <td>8.328097e+06</td>\n      <td>1.158518e+07</td>\n    </tr>\n    <tr>\n      <th>Americas</th>\n      <td>64.391560</td>\n      <td>7.069496</td>\n      <td>7352.007126</td>\n      <td>5355.602518</td>\n      <td>2.312271e+07</td>\n      <td>4.790406e+07</td>\n    </tr>\n    <tr>\n      <th>Asia</th>\n      <td>59.610556</td>\n      <td>10.022197</td>\n      <td>7791.314020</td>\n      <td>11815.777923</td>\n      <td>7.225799e+07</td>\n      <td>1.917074e+08</td>\n    </tr>\n    <tr>\n      <th>Europe</th>\n      <td>71.937767</td>\n      <td>3.121030</td>\n      <td>14283.979110</td>\n      <td>5874.464896</td>\n      <td>1.723882e+07</td>\n      <td>2.056054e+07</td>\n    </tr>\n    <tr>\n      <th>Oceania</th>\n      <td>72.855000</td>\n      <td>0.898026</td>\n      <td>17283.957605</td>\n      <td>1485.263517</td>\n      <td>8.619500e+06</td>\n      <td>7.713969e+06</td>\n    </tr>\n    <tr>\n      <th rowspan=\"5\" valign=\"top\">1982</th>\n      <th>Africa</th>\n      <td>51.592865</td>\n      <td>7.375940</td>\n      <td>2481.592960</td>\n      <td>3242.632753</td>\n      <td>9.602857e+06</td>\n      <td>1.345624e+07</td>\n    </tr>\n    <tr>\n      <th>Americas</th>\n      <td>66.228840</td>\n      <td>6.720834</td>\n      <td>7506.737088</td>\n      <td>5530.490471</td>\n      <td>2.521164e+07</td>\n      <td>5.129438e+07</td>\n    </tr>\n    <tr>\n      <th>Asia</th>\n      <td>62.617939</td>\n      <td>8.535221</td>\n      <td>7434.135157</td>\n      <td>8701.176499</td>\n      <td>7.909502e+07</td>\n      <td>2.065415e+08</td>\n    </tr>\n    <tr>\n      <th>Europe</th>\n      <td>72.806400</td>\n      <td>3.218260</td>\n      <td>15617.896551</td>\n      <td>6453.234827</td>\n      <td>1.770890e+07</td>\n      <td>2.097129e+07</td>\n    </tr>\n    <tr>\n      <th>Oceania</th>\n      <td>74.290000</td>\n      <td>0.636396</td>\n      <td>18554.709840</td>\n      <td>1304.328377</td>\n      <td>9.197425e+06</td>\n      <td>8.466578e+06</td>\n    </tr>\n    <tr>\n      <th rowspan=\"5\" valign=\"top\">1987</th>\n      <th>Africa</th>\n      <td>53.344788</td>\n      <td>7.864089</td>\n      <td>2282.668991</td>\n      <td>2566.531947</td>\n      <td>1.105450e+07</td>\n      <td>1.527748e+07</td>\n    </tr>\n    <tr>\n      <th>Americas</th>\n      <td>68.090720</td>\n      <td>5.801929</td>\n      <td>7793.400261</td>\n      <td>6665.039509</td>\n      <td>2.731016e+07</td>\n      <td>5.445969e+07</td>\n    </tr>\n    <tr>\n      <th>Asia</th>\n      <td>64.851182</td>\n      <td>8.203792</td>\n      <td>7608.226508</td>\n      <td>8090.262765</td>\n      <td>8.700669e+07</td>\n      <td>2.257332e+08</td>\n    </tr>\n    <tr>\n      <th>Europe</th>\n      <td>73.642167</td>\n      <td>3.169680</td>\n      <td>17214.310727</td>\n      <td>7482.957960</td>\n      <td>1.810314e+07</td>\n      <td>2.136971e+07</td>\n    </tr>\n    <tr>\n      <th>Oceania</th>\n      <td>75.320000</td>\n      <td>1.414214</td>\n      <td>20448.040160</td>\n      <td>2037.668013</td>\n      <td>9.787208e+06</td>\n      <td>9.150020e+06</td>\n    </tr>\n    <tr>\n      <th rowspan=\"5\" valign=\"top\">1992</th>\n      <th>Africa</th>\n      <td>53.629577</td>\n      <td>9.461071</td>\n      <td>2281.810333</td>\n      <td>2644.075602</td>\n      <td>1.267464e+07</td>\n      <td>1.756272e+07</td>\n    </tr>\n    <tr>\n      <th>Americas</th>\n      <td>69.568360</td>\n      <td>5.167104</td>\n      <td>8044.934406</td>\n      <td>7047.089191</td>\n      <td>2.957096e+07</td>\n      <td>5.810922e+07</td>\n    </tr>\n    <tr>\n      <th>Asia</th>\n      <td>66.537212</td>\n      <td>8.075549</td>\n      <td>8639.690248</td>\n      <td>9727.431088</td>\n      <td>9.494825e+07</td>\n      <td>2.449604e+08</td>\n    </tr>\n    <tr>\n      <th>Europe</th>\n      <td>74.440100</td>\n      <td>3.209781</td>\n      <td>17061.568084</td>\n      <td>9109.804361</td>\n      <td>1.860476e+07</td>\n      <td>2.212674e+07</td>\n    </tr>\n    <tr>\n      <th>Oceania</th>\n      <td>76.945000</td>\n      <td>0.869741</td>\n      <td>20894.045885</td>\n      <td>3578.979883</td>\n      <td>1.045983e+07</td>\n      <td>9.930822e+06</td>\n    </tr>\n    <tr>\n      <th rowspan=\"5\" valign=\"top\">1997</th>\n      <th>Africa</th>\n      <td>53.598269</td>\n      <td>9.103387</td>\n      <td>2378.759555</td>\n      <td>2820.728117</td>\n      <td>1.430448e+07</td>\n      <td>1.987301e+07</td>\n    </tr>\n    <tr>\n      <th>Americas</th>\n      <td>71.150480</td>\n      <td>4.887584</td>\n      <td>8889.300863</td>\n      <td>7874.225145</td>\n      <td>3.187602e+07</td>\n      <td>6.203282e+07</td>\n    </tr>\n    <tr>\n      <th>Asia</th>\n      <td>68.020515</td>\n      <td>8.091171</td>\n      <td>9834.093295</td>\n      <td>11094.180481</td>\n      <td>1.025238e+08</td>\n      <td>2.623497e+08</td>\n    </tr>\n    <tr>\n      <th>Europe</th>\n      <td>75.505167</td>\n      <td>3.104677</td>\n      <td>19076.781802</td>\n      <td>10065.457716</td>\n      <td>1.896480e+07</td>\n      <td>2.274815e+07</td>\n    </tr>\n    <tr>\n      <th>Oceania</th>\n      <td>78.190000</td>\n      <td>0.905097</td>\n      <td>24024.175170</td>\n      <td>4205.533703</td>\n      <td>1.112072e+07</td>\n      <td>1.052815e+07</td>\n    </tr>\n    <tr>\n      <th rowspan=\"5\" valign=\"top\">2002</th>\n      <th>Africa</th>\n      <td>53.325231</td>\n      <td>9.586496</td>\n      <td>2599.385159</td>\n      <td>2972.651308</td>\n      <td>1.603315e+07</td>\n      <td>2.230300e+07</td>\n    </tr>\n    <tr>\n      <th>Americas</th>\n      <td>72.422040</td>\n      <td>4.799705</td>\n      <td>9287.677107</td>\n      <td>8895.817785</td>\n      <td>3.399091e+07</td>\n      <td>6.560155e+07</td>\n    </tr>\n    <tr>\n      <th>Asia</th>\n      <td>69.233879</td>\n      <td>8.374595</td>\n      <td>10174.090397</td>\n      <td>11150.719203</td>\n      <td>1.091455e+08</td>\n      <td>2.767017e+08</td>\n    </tr>\n    <tr>\n      <th>Europe</th>\n      <td>76.700600</td>\n      <td>2.922180</td>\n      <td>21711.732422</td>\n      <td>11197.355517</td>\n      <td>1.927413e+07</td>\n      <td>2.322369e+07</td>\n    </tr>\n    <tr>\n      <th>Oceania</th>\n      <td>79.740000</td>\n      <td>0.890955</td>\n      <td>26938.778040</td>\n      <td>5301.853680</td>\n      <td>1.172741e+07</td>\n      <td>1.105827e+07</td>\n    </tr>\n    <tr>\n      <th rowspan=\"5\" valign=\"top\">2007</th>\n      <th>Africa</th>\n      <td>54.806038</td>\n      <td>9.630781</td>\n      <td>3089.032605</td>\n      <td>3618.163491</td>\n      <td>1.787576e+07</td>\n      <td>2.491773e+07</td>\n    </tr>\n    <tr>\n      <th>Americas</th>\n      <td>73.608120</td>\n      <td>4.440948</td>\n      <td>11003.031625</td>\n      <td>9713.209302</td>\n      <td>3.595485e+07</td>\n      <td>6.883378e+07</td>\n    </tr>\n    <tr>\n      <th>Asia</th>\n      <td>70.728485</td>\n      <td>7.963724</td>\n      <td>12473.026870</td>\n      <td>14154.937343</td>\n      <td>1.155138e+08</td>\n      <td>2.896734e+08</td>\n    </tr>\n    <tr>\n      <th>Europe</th>\n      <td>77.648600</td>\n      <td>2.979813</td>\n      <td>25054.481636</td>\n      <td>11800.339811</td>\n      <td>1.953662e+07</td>\n      <td>2.362474e+07</td>\n    </tr>\n    <tr>\n      <th>Oceania</th>\n      <td>80.719500</td>\n      <td>0.729027</td>\n      <td>29810.188275</td>\n      <td>6540.991104</td>\n      <td>1.227497e+07</td>\n      <td>1.153885e+07</td>\n    </tr>\n  </tbody>\n</table>\n</div>"
     },
     "metadata": {},
     "execution_count": 45
    }
   ],
   "source": [
    "df.groupby(['year','continent'])[['lifeExp','gdpPercap','pop']].agg([np.mean,np.std])"
   ]
  },
  {
   "cell_type": "code",
   "execution_count": 46,
   "metadata": {},
   "outputs": [
    {
     "output_type": "execute_result",
     "data": {
      "text/plain": [
       "MultiIndex(levels=[[1952, 1957, 1962, 1967, 1972, 1977, 1982, 1987, 1992, 1997, 2002, 2007], ['Africa', 'Americas', 'Asia', 'Europe', 'Oceania']],\n",
       "           codes=[[0, 0, 0, 0, 0, 1, 1, 1, 1, 1, 2, 2, 2, 2, 2, 3, 3, 3, 3, 3, 4, 4, 4, 4, 4, 5, 5, 5, 5, 5, 6, 6, 6, 6, 6, 7, 7, 7, 7, 7, 8, 8, 8, 8, 8, 9, 9, 9, 9, 9, 10, 10, 10, 10, 10, 11, 11, 11, 11, 11], [0, 1, 2, 3, 4, 0, 1, 2, 3, 4, 0, 1, 2, 3, 4, 0, 1, 2, 3, 4, 0, 1, 2, 3, 4, 0, 1, 2, 3, 4, 0, 1, 2, 3, 4, 0, 1, 2, 3, 4, 0, 1, 2, 3, 4, 0, 1, 2, 3, 4, 0, 1, 2, 3, 4, 0, 1, 2, 3, 4]],\n",
       "           names=['year', 'continent'])"
      ]
     },
     "metadata": {},
     "execution_count": 46
    }
   ],
   "source": [
    "grouped =df.groupby(['year','continent'])[['lifeExp','gdpPercap','pop']].agg(np.mean)\n",
    "grouped.index"
   ]
  },
  {
   "cell_type": "code",
   "execution_count": 49,
   "metadata": {},
   "outputs": [
    {
     "output_type": "execute_result",
     "data": {
      "text/plain": [
       "    year continent    lifeExp     gdpPercap           pop\n",
       "0   1952    Africa  39.135500   1252.572466  4.570010e+06\n",
       "1   1952  Americas  53.279840   4079.062552  1.380610e+07\n",
       "2   1952      Asia  46.314394   5195.484004  4.228356e+07\n",
       "3   1952    Europe  64.408500   5661.057435  1.393736e+07\n",
       "4   1952   Oceania  69.255000  10298.085650  5.343003e+06\n",
       "5   1957    Africa  41.266346   1385.236062  5.093033e+06\n",
       "6   1957  Americas  55.960280   4616.043733  1.547816e+07\n",
       "7   1957      Asia  49.318544   5787.732940  4.735699e+07\n",
       "8   1957    Europe  66.703067   6963.012816  1.459635e+07\n",
       "9   1957   Oceania  70.295000  11598.522455  5.970988e+06\n",
       "10  1962    Africa  43.319442   1598.078825  5.702247e+06\n",
       "11  1962  Americas  58.398760   4901.541870  1.733081e+07\n",
       "12  1962      Asia  51.563223   5729.369625  5.140476e+07\n",
       "13  1962    Europe  68.539233   8365.486814  1.534517e+07\n",
       "14  1962   Oceania  71.085000  12696.452430  6.641759e+06\n",
       "15  1967    Africa  45.334538   2050.363801  6.447875e+06\n",
       "16  1967  Americas  60.410920   5668.253496  1.922986e+07\n",
       "17  1967      Asia  54.663640   5971.173374  5.774736e+07\n",
       "18  1967    Europe  69.737600  10143.823757  1.603930e+07\n",
       "19  1967   Oceania  71.310000  14495.021790  7.300207e+06\n",
       "20  1972    Africa  47.450942   2339.615674  7.305376e+06\n",
       "21  1972  Americas  62.394920   6491.334139  2.117537e+07\n",
       "22  1972      Asia  57.319269   8187.468699  6.518098e+07\n",
       "23  1972    Europe  70.775033  12479.575246  1.668784e+07\n",
       "24  1972   Oceania  71.910000  16417.333380  8.053050e+06\n",
       "25  1977    Africa  49.580423   2585.938508  8.328097e+06\n",
       "26  1977  Americas  64.391560   7352.007126  2.312271e+07\n",
       "27  1977      Asia  59.610556   7791.314020  7.225799e+07\n",
       "28  1977    Europe  71.937767  14283.979110  1.723882e+07\n",
       "29  1977   Oceania  72.855000  17283.957605  8.619500e+06\n",
       "30  1982    Africa  51.592865   2481.592960  9.602857e+06\n",
       "31  1982  Americas  66.228840   7506.737088  2.521164e+07\n",
       "32  1982      Asia  62.617939   7434.135157  7.909502e+07\n",
       "33  1982    Europe  72.806400  15617.896551  1.770890e+07\n",
       "34  1982   Oceania  74.290000  18554.709840  9.197425e+06\n",
       "35  1987    Africa  53.344788   2282.668991  1.105450e+07\n",
       "36  1987  Americas  68.090720   7793.400261  2.731016e+07\n",
       "37  1987      Asia  64.851182   7608.226508  8.700669e+07\n",
       "38  1987    Europe  73.642167  17214.310727  1.810314e+07\n",
       "39  1987   Oceania  75.320000  20448.040160  9.787208e+06\n",
       "40  1992    Africa  53.629577   2281.810333  1.267464e+07\n",
       "41  1992  Americas  69.568360   8044.934406  2.957096e+07\n",
       "42  1992      Asia  66.537212   8639.690248  9.494825e+07\n",
       "43  1992    Europe  74.440100  17061.568084  1.860476e+07\n",
       "44  1992   Oceania  76.945000  20894.045885  1.045983e+07\n",
       "45  1997    Africa  53.598269   2378.759555  1.430448e+07\n",
       "46  1997  Americas  71.150480   8889.300863  3.187602e+07\n",
       "47  1997      Asia  68.020515   9834.093295  1.025238e+08\n",
       "48  1997    Europe  75.505167  19076.781802  1.896480e+07\n",
       "49  1997   Oceania  78.190000  24024.175170  1.112072e+07\n",
       "50  2002    Africa  53.325231   2599.385159  1.603315e+07\n",
       "51  2002  Americas  72.422040   9287.677107  3.399091e+07\n",
       "52  2002      Asia  69.233879  10174.090397  1.091455e+08\n",
       "53  2002    Europe  76.700600  21711.732422  1.927413e+07\n",
       "54  2002   Oceania  79.740000  26938.778040  1.172741e+07\n",
       "55  2007    Africa  54.806038   3089.032605  1.787576e+07\n",
       "56  2007  Americas  73.608120  11003.031625  3.595485e+07\n",
       "57  2007      Asia  70.728485  12473.026870  1.155138e+08\n",
       "58  2007    Europe  77.648600  25054.481636  1.953662e+07\n",
       "59  2007   Oceania  80.719500  29810.188275  1.227497e+07"
      ],
      "text/html": "<div>\n<style scoped>\n    .dataframe tbody tr th:only-of-type {\n        vertical-align: middle;\n    }\n\n    .dataframe tbody tr th {\n        vertical-align: top;\n    }\n\n    .dataframe thead th {\n        text-align: right;\n    }\n</style>\n<table border=\"1\" class=\"dataframe\">\n  <thead>\n    <tr style=\"text-align: right;\">\n      <th></th>\n      <th>year</th>\n      <th>continent</th>\n      <th>lifeExp</th>\n      <th>gdpPercap</th>\n      <th>pop</th>\n    </tr>\n  </thead>\n  <tbody>\n    <tr>\n      <th>0</th>\n      <td>1952</td>\n      <td>Africa</td>\n      <td>39.135500</td>\n      <td>1252.572466</td>\n      <td>4.570010e+06</td>\n    </tr>\n    <tr>\n      <th>1</th>\n      <td>1952</td>\n      <td>Americas</td>\n      <td>53.279840</td>\n      <td>4079.062552</td>\n      <td>1.380610e+07</td>\n    </tr>\n    <tr>\n      <th>2</th>\n      <td>1952</td>\n      <td>Asia</td>\n      <td>46.314394</td>\n      <td>5195.484004</td>\n      <td>4.228356e+07</td>\n    </tr>\n    <tr>\n      <th>3</th>\n      <td>1952</td>\n      <td>Europe</td>\n      <td>64.408500</td>\n      <td>5661.057435</td>\n      <td>1.393736e+07</td>\n    </tr>\n    <tr>\n      <th>4</th>\n      <td>1952</td>\n      <td>Oceania</td>\n      <td>69.255000</td>\n      <td>10298.085650</td>\n      <td>5.343003e+06</td>\n    </tr>\n    <tr>\n      <th>5</th>\n      <td>1957</td>\n      <td>Africa</td>\n      <td>41.266346</td>\n      <td>1385.236062</td>\n      <td>5.093033e+06</td>\n    </tr>\n    <tr>\n      <th>6</th>\n      <td>1957</td>\n      <td>Americas</td>\n      <td>55.960280</td>\n      <td>4616.043733</td>\n      <td>1.547816e+07</td>\n    </tr>\n    <tr>\n      <th>7</th>\n      <td>1957</td>\n      <td>Asia</td>\n      <td>49.318544</td>\n      <td>5787.732940</td>\n      <td>4.735699e+07</td>\n    </tr>\n    <tr>\n      <th>8</th>\n      <td>1957</td>\n      <td>Europe</td>\n      <td>66.703067</td>\n      <td>6963.012816</td>\n      <td>1.459635e+07</td>\n    </tr>\n    <tr>\n      <th>9</th>\n      <td>1957</td>\n      <td>Oceania</td>\n      <td>70.295000</td>\n      <td>11598.522455</td>\n      <td>5.970988e+06</td>\n    </tr>\n    <tr>\n      <th>10</th>\n      <td>1962</td>\n      <td>Africa</td>\n      <td>43.319442</td>\n      <td>1598.078825</td>\n      <td>5.702247e+06</td>\n    </tr>\n    <tr>\n      <th>11</th>\n      <td>1962</td>\n      <td>Americas</td>\n      <td>58.398760</td>\n      <td>4901.541870</td>\n      <td>1.733081e+07</td>\n    </tr>\n    <tr>\n      <th>12</th>\n      <td>1962</td>\n      <td>Asia</td>\n      <td>51.563223</td>\n      <td>5729.369625</td>\n      <td>5.140476e+07</td>\n    </tr>\n    <tr>\n      <th>13</th>\n      <td>1962</td>\n      <td>Europe</td>\n      <td>68.539233</td>\n      <td>8365.486814</td>\n      <td>1.534517e+07</td>\n    </tr>\n    <tr>\n      <th>14</th>\n      <td>1962</td>\n      <td>Oceania</td>\n      <td>71.085000</td>\n      <td>12696.452430</td>\n      <td>6.641759e+06</td>\n    </tr>\n    <tr>\n      <th>15</th>\n      <td>1967</td>\n      <td>Africa</td>\n      <td>45.334538</td>\n      <td>2050.363801</td>\n      <td>6.447875e+06</td>\n    </tr>\n    <tr>\n      <th>16</th>\n      <td>1967</td>\n      <td>Americas</td>\n      <td>60.410920</td>\n      <td>5668.253496</td>\n      <td>1.922986e+07</td>\n    </tr>\n    <tr>\n      <th>17</th>\n      <td>1967</td>\n      <td>Asia</td>\n      <td>54.663640</td>\n      <td>5971.173374</td>\n      <td>5.774736e+07</td>\n    </tr>\n    <tr>\n      <th>18</th>\n      <td>1967</td>\n      <td>Europe</td>\n      <td>69.737600</td>\n      <td>10143.823757</td>\n      <td>1.603930e+07</td>\n    </tr>\n    <tr>\n      <th>19</th>\n      <td>1967</td>\n      <td>Oceania</td>\n      <td>71.310000</td>\n      <td>14495.021790</td>\n      <td>7.300207e+06</td>\n    </tr>\n    <tr>\n      <th>20</th>\n      <td>1972</td>\n      <td>Africa</td>\n      <td>47.450942</td>\n      <td>2339.615674</td>\n      <td>7.305376e+06</td>\n    </tr>\n    <tr>\n      <th>21</th>\n      <td>1972</td>\n      <td>Americas</td>\n      <td>62.394920</td>\n      <td>6491.334139</td>\n      <td>2.117537e+07</td>\n    </tr>\n    <tr>\n      <th>22</th>\n      <td>1972</td>\n      <td>Asia</td>\n      <td>57.319269</td>\n      <td>8187.468699</td>\n      <td>6.518098e+07</td>\n    </tr>\n    <tr>\n      <th>23</th>\n      <td>1972</td>\n      <td>Europe</td>\n      <td>70.775033</td>\n      <td>12479.575246</td>\n      <td>1.668784e+07</td>\n    </tr>\n    <tr>\n      <th>24</th>\n      <td>1972</td>\n      <td>Oceania</td>\n      <td>71.910000</td>\n      <td>16417.333380</td>\n      <td>8.053050e+06</td>\n    </tr>\n    <tr>\n      <th>25</th>\n      <td>1977</td>\n      <td>Africa</td>\n      <td>49.580423</td>\n      <td>2585.938508</td>\n      <td>8.328097e+06</td>\n    </tr>\n    <tr>\n      <th>26</th>\n      <td>1977</td>\n      <td>Americas</td>\n      <td>64.391560</td>\n      <td>7352.007126</td>\n      <td>2.312271e+07</td>\n    </tr>\n    <tr>\n      <th>27</th>\n      <td>1977</td>\n      <td>Asia</td>\n      <td>59.610556</td>\n      <td>7791.314020</td>\n      <td>7.225799e+07</td>\n    </tr>\n    <tr>\n      <th>28</th>\n      <td>1977</td>\n      <td>Europe</td>\n      <td>71.937767</td>\n      <td>14283.979110</td>\n      <td>1.723882e+07</td>\n    </tr>\n    <tr>\n      <th>29</th>\n      <td>1977</td>\n      <td>Oceania</td>\n      <td>72.855000</td>\n      <td>17283.957605</td>\n      <td>8.619500e+06</td>\n    </tr>\n    <tr>\n      <th>30</th>\n      <td>1982</td>\n      <td>Africa</td>\n      <td>51.592865</td>\n      <td>2481.592960</td>\n      <td>9.602857e+06</td>\n    </tr>\n    <tr>\n      <th>31</th>\n      <td>1982</td>\n      <td>Americas</td>\n      <td>66.228840</td>\n      <td>7506.737088</td>\n      <td>2.521164e+07</td>\n    </tr>\n    <tr>\n      <th>32</th>\n      <td>1982</td>\n      <td>Asia</td>\n      <td>62.617939</td>\n      <td>7434.135157</td>\n      <td>7.909502e+07</td>\n    </tr>\n    <tr>\n      <th>33</th>\n      <td>1982</td>\n      <td>Europe</td>\n      <td>72.806400</td>\n      <td>15617.896551</td>\n      <td>1.770890e+07</td>\n    </tr>\n    <tr>\n      <th>34</th>\n      <td>1982</td>\n      <td>Oceania</td>\n      <td>74.290000</td>\n      <td>18554.709840</td>\n      <td>9.197425e+06</td>\n    </tr>\n    <tr>\n      <th>35</th>\n      <td>1987</td>\n      <td>Africa</td>\n      <td>53.344788</td>\n      <td>2282.668991</td>\n      <td>1.105450e+07</td>\n    </tr>\n    <tr>\n      <th>36</th>\n      <td>1987</td>\n      <td>Americas</td>\n      <td>68.090720</td>\n      <td>7793.400261</td>\n      <td>2.731016e+07</td>\n    </tr>\n    <tr>\n      <th>37</th>\n      <td>1987</td>\n      <td>Asia</td>\n      <td>64.851182</td>\n      <td>7608.226508</td>\n      <td>8.700669e+07</td>\n    </tr>\n    <tr>\n      <th>38</th>\n      <td>1987</td>\n      <td>Europe</td>\n      <td>73.642167</td>\n      <td>17214.310727</td>\n      <td>1.810314e+07</td>\n    </tr>\n    <tr>\n      <th>39</th>\n      <td>1987</td>\n      <td>Oceania</td>\n      <td>75.320000</td>\n      <td>20448.040160</td>\n      <td>9.787208e+06</td>\n    </tr>\n    <tr>\n      <th>40</th>\n      <td>1992</td>\n      <td>Africa</td>\n      <td>53.629577</td>\n      <td>2281.810333</td>\n      <td>1.267464e+07</td>\n    </tr>\n    <tr>\n      <th>41</th>\n      <td>1992</td>\n      <td>Americas</td>\n      <td>69.568360</td>\n      <td>8044.934406</td>\n      <td>2.957096e+07</td>\n    </tr>\n    <tr>\n      <th>42</th>\n      <td>1992</td>\n      <td>Asia</td>\n      <td>66.537212</td>\n      <td>8639.690248</td>\n      <td>9.494825e+07</td>\n    </tr>\n    <tr>\n      <th>43</th>\n      <td>1992</td>\n      <td>Europe</td>\n      <td>74.440100</td>\n      <td>17061.568084</td>\n      <td>1.860476e+07</td>\n    </tr>\n    <tr>\n      <th>44</th>\n      <td>1992</td>\n      <td>Oceania</td>\n      <td>76.945000</td>\n      <td>20894.045885</td>\n      <td>1.045983e+07</td>\n    </tr>\n    <tr>\n      <th>45</th>\n      <td>1997</td>\n      <td>Africa</td>\n      <td>53.598269</td>\n      <td>2378.759555</td>\n      <td>1.430448e+07</td>\n    </tr>\n    <tr>\n      <th>46</th>\n      <td>1997</td>\n      <td>Americas</td>\n      <td>71.150480</td>\n      <td>8889.300863</td>\n      <td>3.187602e+07</td>\n    </tr>\n    <tr>\n      <th>47</th>\n      <td>1997</td>\n      <td>Asia</td>\n      <td>68.020515</td>\n      <td>9834.093295</td>\n      <td>1.025238e+08</td>\n    </tr>\n    <tr>\n      <th>48</th>\n      <td>1997</td>\n      <td>Europe</td>\n      <td>75.505167</td>\n      <td>19076.781802</td>\n      <td>1.896480e+07</td>\n    </tr>\n    <tr>\n      <th>49</th>\n      <td>1997</td>\n      <td>Oceania</td>\n      <td>78.190000</td>\n      <td>24024.175170</td>\n      <td>1.112072e+07</td>\n    </tr>\n    <tr>\n      <th>50</th>\n      <td>2002</td>\n      <td>Africa</td>\n      <td>53.325231</td>\n      <td>2599.385159</td>\n      <td>1.603315e+07</td>\n    </tr>\n    <tr>\n      <th>51</th>\n      <td>2002</td>\n      <td>Americas</td>\n      <td>72.422040</td>\n      <td>9287.677107</td>\n      <td>3.399091e+07</td>\n    </tr>\n    <tr>\n      <th>52</th>\n      <td>2002</td>\n      <td>Asia</td>\n      <td>69.233879</td>\n      <td>10174.090397</td>\n      <td>1.091455e+08</td>\n    </tr>\n    <tr>\n      <th>53</th>\n      <td>2002</td>\n      <td>Europe</td>\n      <td>76.700600</td>\n      <td>21711.732422</td>\n      <td>1.927413e+07</td>\n    </tr>\n    <tr>\n      <th>54</th>\n      <td>2002</td>\n      <td>Oceania</td>\n      <td>79.740000</td>\n      <td>26938.778040</td>\n      <td>1.172741e+07</td>\n    </tr>\n    <tr>\n      <th>55</th>\n      <td>2007</td>\n      <td>Africa</td>\n      <td>54.806038</td>\n      <td>3089.032605</td>\n      <td>1.787576e+07</td>\n    </tr>\n    <tr>\n      <th>56</th>\n      <td>2007</td>\n      <td>Americas</td>\n      <td>73.608120</td>\n      <td>11003.031625</td>\n      <td>3.595485e+07</td>\n    </tr>\n    <tr>\n      <th>57</th>\n      <td>2007</td>\n      <td>Asia</td>\n      <td>70.728485</td>\n      <td>12473.026870</td>\n      <td>1.155138e+08</td>\n    </tr>\n    <tr>\n      <th>58</th>\n      <td>2007</td>\n      <td>Europe</td>\n      <td>77.648600</td>\n      <td>25054.481636</td>\n      <td>1.953662e+07</td>\n    </tr>\n    <tr>\n      <th>59</th>\n      <td>2007</td>\n      <td>Oceania</td>\n      <td>80.719500</td>\n      <td>29810.188275</td>\n      <td>1.227497e+07</td>\n    </tr>\n  </tbody>\n</table>\n</div>"
     },
     "metadata": {},
     "execution_count": 49
    }
   ],
   "source": [
    "grp_rst =grouped.reset_index()\n",
    "grp_rst"
   ]
  },
  {
   "cell_type": "code",
   "execution_count": 50,
   "metadata": {},
   "outputs": [
    {
     "output_type": "execute_result",
     "data": {
      "text/plain": [
       "0     4.570010e+06\n",
       "1     1.380610e+07\n",
       "2     4.228356e+07\n",
       "3     1.393736e+07\n",
       "4     5.343003e+06\n",
       "5     5.093033e+06\n",
       "6     1.547816e+07\n",
       "7     4.735699e+07\n",
       "8     1.459635e+07\n",
       "9     5.970988e+06\n",
       "10    5.702247e+06\n",
       "11    1.733081e+07\n",
       "12    5.140476e+07\n",
       "13    1.534517e+07\n",
       "14    6.641759e+06\n",
       "15    6.447875e+06\n",
       "16    1.922986e+07\n",
       "17    5.774736e+07\n",
       "18    1.603930e+07\n",
       "19    7.300207e+06\n",
       "20    7.305376e+06\n",
       "21    2.117537e+07\n",
       "22    6.518098e+07\n",
       "23    1.668784e+07\n",
       "24    8.053050e+06\n",
       "25    8.328097e+06\n",
       "26    2.312271e+07\n",
       "27    7.225799e+07\n",
       "28    1.723882e+07\n",
       "29    8.619500e+06\n",
       "30    9.602857e+06\n",
       "31    2.521164e+07\n",
       "32    7.909502e+07\n",
       "33    1.770890e+07\n",
       "34    9.197425e+06\n",
       "35    1.105450e+07\n",
       "36    2.731016e+07\n",
       "37    8.700669e+07\n",
       "38    1.810314e+07\n",
       "39    9.787208e+06\n",
       "40    1.267464e+07\n",
       "41    2.957096e+07\n",
       "42    9.494825e+07\n",
       "43    1.860476e+07\n",
       "44    1.045983e+07\n",
       "45    1.430448e+07\n",
       "46    3.187602e+07\n",
       "47    1.025238e+08\n",
       "48    1.896480e+07\n",
       "49    1.112072e+07\n",
       "50    1.603315e+07\n",
       "51    3.399091e+07\n",
       "52    1.091455e+08\n",
       "53    1.927413e+07\n",
       "54    1.172741e+07\n",
       "55    1.787576e+07\n",
       "56    3.595485e+07\n",
       "57    1.155138e+08\n",
       "58    1.953662e+07\n",
       "59    1.227497e+07\n",
       "Name: pop, dtype: float64"
      ]
     },
     "metadata": {},
     "execution_count": 50
    }
   ],
   "source": [
    "grp_rst['pop']"
   ]
  },
  {
   "cell_type": "code",
   "execution_count": 51,
   "metadata": {},
   "outputs": [
    {
     "output_type": "execute_result",
     "data": {
      "text/plain": [
       "0     False\n",
       "1     False\n",
       "2     False\n",
       "3     False\n",
       "4     False\n",
       "5     False\n",
       "6     False\n",
       "7     False\n",
       "8     False\n",
       "9     False\n",
       "10    False\n",
       "11    False\n",
       "12    False\n",
       "13    False\n",
       "14    False\n",
       "15    False\n",
       "16    False\n",
       "17    False\n",
       "18    False\n",
       "19    False\n",
       "20    False\n",
       "21    False\n",
       "22    False\n",
       "23    False\n",
       "24    False\n",
       "25    False\n",
       "26    False\n",
       "27    False\n",
       "28    False\n",
       "29    False\n",
       "30    False\n",
       "31    False\n",
       "32    False\n",
       "33    False\n",
       "34    False\n",
       "35    False\n",
       "36    False\n",
       "37    False\n",
       "38    False\n",
       "39    False\n",
       "40    False\n",
       "41    False\n",
       "42    False\n",
       "43    False\n",
       "44    False\n",
       "45    False\n",
       "46    False\n",
       "47    False\n",
       "48    False\n",
       "49    False\n",
       "50    False\n",
       "51    False\n",
       "52    False\n",
       "53    False\n",
       "54    False\n",
       "55    False\n",
       "56    False\n",
       "57    False\n",
       "58    False\n",
       "59    False\n",
       "Name: lifeExp, dtype: bool"
      ]
     },
     "metadata": {},
     "execution_count": 51
    }
   ],
   "source": [
    "pd.isna(grp_rst.lifeExp)  #isna to check if NaN value is present somewhere "
   ]
  },
  {
   "source": [
    "Another dataframe"
   ],
   "cell_type": "markdown",
   "metadata": {}
  },
  {
   "cell_type": "code",
   "execution_count": 52,
   "metadata": {},
   "outputs": [
    {
     "output_type": "execute_result",
     "data": {
      "text/plain": [
       "             religion  <$10k  $10-20k  $20-30k  $30-40k  $40-50k  $50-75k  \\\n",
       "0            Agnostic     27       34       60       81       76      137   \n",
       "1             Atheist     12       27       37       52       35       70   \n",
       "2            Buddhist     27       21       30       34       33       58   \n",
       "3            Catholic    418      617      732      670      638     1116   \n",
       "4  Don’t know/refused     15       14       15       11       10       35   \n",
       "\n",
       "   $75-100k  $100-150k  >150k  Don't know/refused  \n",
       "0       122        109     84                  96  \n",
       "1        73         59     74                  76  \n",
       "2        62         39     53                  54  \n",
       "3       949        792    633                1489  \n",
       "4        21         17     18                 116  "
      ],
      "text/html": "<div>\n<style scoped>\n    .dataframe tbody tr th:only-of-type {\n        vertical-align: middle;\n    }\n\n    .dataframe tbody tr th {\n        vertical-align: top;\n    }\n\n    .dataframe thead th {\n        text-align: right;\n    }\n</style>\n<table border=\"1\" class=\"dataframe\">\n  <thead>\n    <tr style=\"text-align: right;\">\n      <th></th>\n      <th>religion</th>\n      <th>&lt;$10k</th>\n      <th>$10-20k</th>\n      <th>$20-30k</th>\n      <th>$30-40k</th>\n      <th>$40-50k</th>\n      <th>$50-75k</th>\n      <th>$75-100k</th>\n      <th>$100-150k</th>\n      <th>&gt;150k</th>\n      <th>Don't know/refused</th>\n    </tr>\n  </thead>\n  <tbody>\n    <tr>\n      <th>0</th>\n      <td>Agnostic</td>\n      <td>27</td>\n      <td>34</td>\n      <td>60</td>\n      <td>81</td>\n      <td>76</td>\n      <td>137</td>\n      <td>122</td>\n      <td>109</td>\n      <td>84</td>\n      <td>96</td>\n    </tr>\n    <tr>\n      <th>1</th>\n      <td>Atheist</td>\n      <td>12</td>\n      <td>27</td>\n      <td>37</td>\n      <td>52</td>\n      <td>35</td>\n      <td>70</td>\n      <td>73</td>\n      <td>59</td>\n      <td>74</td>\n      <td>76</td>\n    </tr>\n    <tr>\n      <th>2</th>\n      <td>Buddhist</td>\n      <td>27</td>\n      <td>21</td>\n      <td>30</td>\n      <td>34</td>\n      <td>33</td>\n      <td>58</td>\n      <td>62</td>\n      <td>39</td>\n      <td>53</td>\n      <td>54</td>\n    </tr>\n    <tr>\n      <th>3</th>\n      <td>Catholic</td>\n      <td>418</td>\n      <td>617</td>\n      <td>732</td>\n      <td>670</td>\n      <td>638</td>\n      <td>1116</td>\n      <td>949</td>\n      <td>792</td>\n      <td>633</td>\n      <td>1489</td>\n    </tr>\n    <tr>\n      <th>4</th>\n      <td>Don’t know/refused</td>\n      <td>15</td>\n      <td>14</td>\n      <td>15</td>\n      <td>11</td>\n      <td>10</td>\n      <td>35</td>\n      <td>21</td>\n      <td>17</td>\n      <td>18</td>\n      <td>116</td>\n    </tr>\n  </tbody>\n</table>\n</div>"
     },
     "metadata": {},
     "execution_count": 52
    }
   ],
   "source": [
    "pew = pd.read_csv(\"../data/pew.csv\")\n",
    "pew.head()"
   ]
  },
  {
   "cell_type": "code",
   "execution_count": 53,
   "metadata": {},
   "outputs": [
    {
     "output_type": "execute_result",
     "data": {
      "text/plain": [
       "                    religion            variable  value\n",
       "0                   Agnostic               <$10k     27\n",
       "1                    Atheist               <$10k     12\n",
       "2                   Buddhist               <$10k     27\n",
       "3                   Catholic               <$10k    418\n",
       "4         Don’t know/refused               <$10k     15\n",
       "5           Evangelical Prot               <$10k    575\n",
       "6                      Hindu               <$10k      1\n",
       "7    Historically Black Prot               <$10k    228\n",
       "8          Jehovah's Witness               <$10k     20\n",
       "9                     Jewish               <$10k     19\n",
       "10             Mainline Prot               <$10k    289\n",
       "11                    Mormon               <$10k     29\n",
       "12                    Muslim               <$10k      6\n",
       "13                  Orthodox               <$10k     13\n",
       "14           Other Christian               <$10k      9\n",
       "15              Other Faiths               <$10k     20\n",
       "16     Other World Religions               <$10k      5\n",
       "17              Unaffiliated               <$10k    217\n",
       "18                  Agnostic             $10-20k     34\n",
       "19                   Atheist             $10-20k     27\n",
       "20                  Buddhist             $10-20k     21\n",
       "21                  Catholic             $10-20k    617\n",
       "22        Don’t know/refused             $10-20k     14\n",
       "23          Evangelical Prot             $10-20k    869\n",
       "24                     Hindu             $10-20k      9\n",
       "25   Historically Black Prot             $10-20k    244\n",
       "26         Jehovah's Witness             $10-20k     27\n",
       "27                    Jewish             $10-20k     19\n",
       "28             Mainline Prot             $10-20k    495\n",
       "29                    Mormon             $10-20k     40\n",
       "..                       ...                 ...    ...\n",
       "150                    Hindu               >150k     54\n",
       "151  Historically Black Prot               >150k     78\n",
       "152        Jehovah's Witness               >150k      6\n",
       "153                   Jewish               >150k    151\n",
       "154            Mainline Prot               >150k    634\n",
       "155                   Mormon               >150k     42\n",
       "156                   Muslim               >150k      6\n",
       "157                 Orthodox               >150k     46\n",
       "158          Other Christian               >150k     12\n",
       "159             Other Faiths               >150k     41\n",
       "160    Other World Religions               >150k      4\n",
       "161             Unaffiliated               >150k    258\n",
       "162                 Agnostic  Don't know/refused     96\n",
       "163                  Atheist  Don't know/refused     76\n",
       "164                 Buddhist  Don't know/refused     54\n",
       "165                 Catholic  Don't know/refused   1489\n",
       "166       Don’t know/refused  Don't know/refused    116\n",
       "167         Evangelical Prot  Don't know/refused   1529\n",
       "168                    Hindu  Don't know/refused     37\n",
       "169  Historically Black Prot  Don't know/refused    339\n",
       "170        Jehovah's Witness  Don't know/refused     37\n",
       "171                   Jewish  Don't know/refused    162\n",
       "172            Mainline Prot  Don't know/refused   1328\n",
       "173                   Mormon  Don't know/refused     69\n",
       "174                   Muslim  Don't know/refused     22\n",
       "175                 Orthodox  Don't know/refused     73\n",
       "176          Other Christian  Don't know/refused     18\n",
       "177             Other Faiths  Don't know/refused     71\n",
       "178    Other World Religions  Don't know/refused      8\n",
       "179             Unaffiliated  Don't know/refused    597\n",
       "\n",
       "[180 rows x 3 columns]"
      ],
      "text/html": "<div>\n<style scoped>\n    .dataframe tbody tr th:only-of-type {\n        vertical-align: middle;\n    }\n\n    .dataframe tbody tr th {\n        vertical-align: top;\n    }\n\n    .dataframe thead th {\n        text-align: right;\n    }\n</style>\n<table border=\"1\" class=\"dataframe\">\n  <thead>\n    <tr style=\"text-align: right;\">\n      <th></th>\n      <th>religion</th>\n      <th>variable</th>\n      <th>value</th>\n    </tr>\n  </thead>\n  <tbody>\n    <tr>\n      <th>0</th>\n      <td>Agnostic</td>\n      <td>&lt;$10k</td>\n      <td>27</td>\n    </tr>\n    <tr>\n      <th>1</th>\n      <td>Atheist</td>\n      <td>&lt;$10k</td>\n      <td>12</td>\n    </tr>\n    <tr>\n      <th>2</th>\n      <td>Buddhist</td>\n      <td>&lt;$10k</td>\n      <td>27</td>\n    </tr>\n    <tr>\n      <th>3</th>\n      <td>Catholic</td>\n      <td>&lt;$10k</td>\n      <td>418</td>\n    </tr>\n    <tr>\n      <th>4</th>\n      <td>Don’t know/refused</td>\n      <td>&lt;$10k</td>\n      <td>15</td>\n    </tr>\n    <tr>\n      <th>5</th>\n      <td>Evangelical Prot</td>\n      <td>&lt;$10k</td>\n      <td>575</td>\n    </tr>\n    <tr>\n      <th>6</th>\n      <td>Hindu</td>\n      <td>&lt;$10k</td>\n      <td>1</td>\n    </tr>\n    <tr>\n      <th>7</th>\n      <td>Historically Black Prot</td>\n      <td>&lt;$10k</td>\n      <td>228</td>\n    </tr>\n    <tr>\n      <th>8</th>\n      <td>Jehovah's Witness</td>\n      <td>&lt;$10k</td>\n      <td>20</td>\n    </tr>\n    <tr>\n      <th>9</th>\n      <td>Jewish</td>\n      <td>&lt;$10k</td>\n      <td>19</td>\n    </tr>\n    <tr>\n      <th>10</th>\n      <td>Mainline Prot</td>\n      <td>&lt;$10k</td>\n      <td>289</td>\n    </tr>\n    <tr>\n      <th>11</th>\n      <td>Mormon</td>\n      <td>&lt;$10k</td>\n      <td>29</td>\n    </tr>\n    <tr>\n      <th>12</th>\n      <td>Muslim</td>\n      <td>&lt;$10k</td>\n      <td>6</td>\n    </tr>\n    <tr>\n      <th>13</th>\n      <td>Orthodox</td>\n      <td>&lt;$10k</td>\n      <td>13</td>\n    </tr>\n    <tr>\n      <th>14</th>\n      <td>Other Christian</td>\n      <td>&lt;$10k</td>\n      <td>9</td>\n    </tr>\n    <tr>\n      <th>15</th>\n      <td>Other Faiths</td>\n      <td>&lt;$10k</td>\n      <td>20</td>\n    </tr>\n    <tr>\n      <th>16</th>\n      <td>Other World Religions</td>\n      <td>&lt;$10k</td>\n      <td>5</td>\n    </tr>\n    <tr>\n      <th>17</th>\n      <td>Unaffiliated</td>\n      <td>&lt;$10k</td>\n      <td>217</td>\n    </tr>\n    <tr>\n      <th>18</th>\n      <td>Agnostic</td>\n      <td>$10-20k</td>\n      <td>34</td>\n    </tr>\n    <tr>\n      <th>19</th>\n      <td>Atheist</td>\n      <td>$10-20k</td>\n      <td>27</td>\n    </tr>\n    <tr>\n      <th>20</th>\n      <td>Buddhist</td>\n      <td>$10-20k</td>\n      <td>21</td>\n    </tr>\n    <tr>\n      <th>21</th>\n      <td>Catholic</td>\n      <td>$10-20k</td>\n      <td>617</td>\n    </tr>\n    <tr>\n      <th>22</th>\n      <td>Don’t know/refused</td>\n      <td>$10-20k</td>\n      <td>14</td>\n    </tr>\n    <tr>\n      <th>23</th>\n      <td>Evangelical Prot</td>\n      <td>$10-20k</td>\n      <td>869</td>\n    </tr>\n    <tr>\n      <th>24</th>\n      <td>Hindu</td>\n      <td>$10-20k</td>\n      <td>9</td>\n    </tr>\n    <tr>\n      <th>25</th>\n      <td>Historically Black Prot</td>\n      <td>$10-20k</td>\n      <td>244</td>\n    </tr>\n    <tr>\n      <th>26</th>\n      <td>Jehovah's Witness</td>\n      <td>$10-20k</td>\n      <td>27</td>\n    </tr>\n    <tr>\n      <th>27</th>\n      <td>Jewish</td>\n      <td>$10-20k</td>\n      <td>19</td>\n    </tr>\n    <tr>\n      <th>28</th>\n      <td>Mainline Prot</td>\n      <td>$10-20k</td>\n      <td>495</td>\n    </tr>\n    <tr>\n      <th>29</th>\n      <td>Mormon</td>\n      <td>$10-20k</td>\n      <td>40</td>\n    </tr>\n    <tr>\n      <th>...</th>\n      <td>...</td>\n      <td>...</td>\n      <td>...</td>\n    </tr>\n    <tr>\n      <th>150</th>\n      <td>Hindu</td>\n      <td>&gt;150k</td>\n      <td>54</td>\n    </tr>\n    <tr>\n      <th>151</th>\n      <td>Historically Black Prot</td>\n      <td>&gt;150k</td>\n      <td>78</td>\n    </tr>\n    <tr>\n      <th>152</th>\n      <td>Jehovah's Witness</td>\n      <td>&gt;150k</td>\n      <td>6</td>\n    </tr>\n    <tr>\n      <th>153</th>\n      <td>Jewish</td>\n      <td>&gt;150k</td>\n      <td>151</td>\n    </tr>\n    <tr>\n      <th>154</th>\n      <td>Mainline Prot</td>\n      <td>&gt;150k</td>\n      <td>634</td>\n    </tr>\n    <tr>\n      <th>155</th>\n      <td>Mormon</td>\n      <td>&gt;150k</td>\n      <td>42</td>\n    </tr>\n    <tr>\n      <th>156</th>\n      <td>Muslim</td>\n      <td>&gt;150k</td>\n      <td>6</td>\n    </tr>\n    <tr>\n      <th>157</th>\n      <td>Orthodox</td>\n      <td>&gt;150k</td>\n      <td>46</td>\n    </tr>\n    <tr>\n      <th>158</th>\n      <td>Other Christian</td>\n      <td>&gt;150k</td>\n      <td>12</td>\n    </tr>\n    <tr>\n      <th>159</th>\n      <td>Other Faiths</td>\n      <td>&gt;150k</td>\n      <td>41</td>\n    </tr>\n    <tr>\n      <th>160</th>\n      <td>Other World Religions</td>\n      <td>&gt;150k</td>\n      <td>4</td>\n    </tr>\n    <tr>\n      <th>161</th>\n      <td>Unaffiliated</td>\n      <td>&gt;150k</td>\n      <td>258</td>\n    </tr>\n    <tr>\n      <th>162</th>\n      <td>Agnostic</td>\n      <td>Don't know/refused</td>\n      <td>96</td>\n    </tr>\n    <tr>\n      <th>163</th>\n      <td>Atheist</td>\n      <td>Don't know/refused</td>\n      <td>76</td>\n    </tr>\n    <tr>\n      <th>164</th>\n      <td>Buddhist</td>\n      <td>Don't know/refused</td>\n      <td>54</td>\n    </tr>\n    <tr>\n      <th>165</th>\n      <td>Catholic</td>\n      <td>Don't know/refused</td>\n      <td>1489</td>\n    </tr>\n    <tr>\n      <th>166</th>\n      <td>Don’t know/refused</td>\n      <td>Don't know/refused</td>\n      <td>116</td>\n    </tr>\n    <tr>\n      <th>167</th>\n      <td>Evangelical Prot</td>\n      <td>Don't know/refused</td>\n      <td>1529</td>\n    </tr>\n    <tr>\n      <th>168</th>\n      <td>Hindu</td>\n      <td>Don't know/refused</td>\n      <td>37</td>\n    </tr>\n    <tr>\n      <th>169</th>\n      <td>Historically Black Prot</td>\n      <td>Don't know/refused</td>\n      <td>339</td>\n    </tr>\n    <tr>\n      <th>170</th>\n      <td>Jehovah's Witness</td>\n      <td>Don't know/refused</td>\n      <td>37</td>\n    </tr>\n    <tr>\n      <th>171</th>\n      <td>Jewish</td>\n      <td>Don't know/refused</td>\n      <td>162</td>\n    </tr>\n    <tr>\n      <th>172</th>\n      <td>Mainline Prot</td>\n      <td>Don't know/refused</td>\n      <td>1328</td>\n    </tr>\n    <tr>\n      <th>173</th>\n      <td>Mormon</td>\n      <td>Don't know/refused</td>\n      <td>69</td>\n    </tr>\n    <tr>\n      <th>174</th>\n      <td>Muslim</td>\n      <td>Don't know/refused</td>\n      <td>22</td>\n    </tr>\n    <tr>\n      <th>175</th>\n      <td>Orthodox</td>\n      <td>Don't know/refused</td>\n      <td>73</td>\n    </tr>\n    <tr>\n      <th>176</th>\n      <td>Other Christian</td>\n      <td>Don't know/refused</td>\n      <td>18</td>\n    </tr>\n    <tr>\n      <th>177</th>\n      <td>Other Faiths</td>\n      <td>Don't know/refused</td>\n      <td>71</td>\n    </tr>\n    <tr>\n      <th>178</th>\n      <td>Other World Religions</td>\n      <td>Don't know/refused</td>\n      <td>8</td>\n    </tr>\n    <tr>\n      <th>179</th>\n      <td>Unaffiliated</td>\n      <td>Don't know/refused</td>\n      <td>597</td>\n    </tr>\n  </tbody>\n</table>\n<p>180 rows × 3 columns</p>\n</div>"
     },
     "metadata": {},
     "execution_count": 53
    }
   ],
   "source": [
    "pew.melt(id_vars=['religion'])"
   ]
  },
  {
   "cell_type": "code",
   "execution_count": 56,
   "metadata": {},
   "outputs": [
    {
     "output_type": "execute_result",
     "data": {
      "text/plain": [
       "                    religion              income  count\n",
       "0                   Agnostic               <$10k     27\n",
       "1                    Atheist               <$10k     12\n",
       "2                   Buddhist               <$10k     27\n",
       "3                   Catholic               <$10k    418\n",
       "4         Don’t know/refused               <$10k     15\n",
       "5           Evangelical Prot               <$10k    575\n",
       "6                      Hindu               <$10k      1\n",
       "7    Historically Black Prot               <$10k    228\n",
       "8          Jehovah's Witness               <$10k     20\n",
       "9                     Jewish               <$10k     19\n",
       "10             Mainline Prot               <$10k    289\n",
       "11                    Mormon               <$10k     29\n",
       "12                    Muslim               <$10k      6\n",
       "13                  Orthodox               <$10k     13\n",
       "14           Other Christian               <$10k      9\n",
       "15              Other Faiths               <$10k     20\n",
       "16     Other World Religions               <$10k      5\n",
       "17              Unaffiliated               <$10k    217\n",
       "18                  Agnostic             $10-20k     34\n",
       "19                   Atheist             $10-20k     27\n",
       "20                  Buddhist             $10-20k     21\n",
       "21                  Catholic             $10-20k    617\n",
       "22        Don’t know/refused             $10-20k     14\n",
       "23          Evangelical Prot             $10-20k    869\n",
       "24                     Hindu             $10-20k      9\n",
       "25   Historically Black Prot             $10-20k    244\n",
       "26         Jehovah's Witness             $10-20k     27\n",
       "27                    Jewish             $10-20k     19\n",
       "28             Mainline Prot             $10-20k    495\n",
       "29                    Mormon             $10-20k     40\n",
       "..                       ...                 ...    ...\n",
       "150                    Hindu               >150k     54\n",
       "151  Historically Black Prot               >150k     78\n",
       "152        Jehovah's Witness               >150k      6\n",
       "153                   Jewish               >150k    151\n",
       "154            Mainline Prot               >150k    634\n",
       "155                   Mormon               >150k     42\n",
       "156                   Muslim               >150k      6\n",
       "157                 Orthodox               >150k     46\n",
       "158          Other Christian               >150k     12\n",
       "159             Other Faiths               >150k     41\n",
       "160    Other World Religions               >150k      4\n",
       "161             Unaffiliated               >150k    258\n",
       "162                 Agnostic  Don't know/refused     96\n",
       "163                  Atheist  Don't know/refused     76\n",
       "164                 Buddhist  Don't know/refused     54\n",
       "165                 Catholic  Don't know/refused   1489\n",
       "166       Don’t know/refused  Don't know/refused    116\n",
       "167         Evangelical Prot  Don't know/refused   1529\n",
       "168                    Hindu  Don't know/refused     37\n",
       "169  Historically Black Prot  Don't know/refused    339\n",
       "170        Jehovah's Witness  Don't know/refused     37\n",
       "171                   Jewish  Don't know/refused    162\n",
       "172            Mainline Prot  Don't know/refused   1328\n",
       "173                   Mormon  Don't know/refused     69\n",
       "174                   Muslim  Don't know/refused     22\n",
       "175                 Orthodox  Don't know/refused     73\n",
       "176          Other Christian  Don't know/refused     18\n",
       "177             Other Faiths  Don't know/refused     71\n",
       "178    Other World Religions  Don't know/refused      8\n",
       "179             Unaffiliated  Don't know/refused    597\n",
       "\n",
       "[180 rows x 3 columns]"
      ],
      "text/html": "<div>\n<style scoped>\n    .dataframe tbody tr th:only-of-type {\n        vertical-align: middle;\n    }\n\n    .dataframe tbody tr th {\n        vertical-align: top;\n    }\n\n    .dataframe thead th {\n        text-align: right;\n    }\n</style>\n<table border=\"1\" class=\"dataframe\">\n  <thead>\n    <tr style=\"text-align: right;\">\n      <th></th>\n      <th>religion</th>\n      <th>income</th>\n      <th>count</th>\n    </tr>\n  </thead>\n  <tbody>\n    <tr>\n      <th>0</th>\n      <td>Agnostic</td>\n      <td>&lt;$10k</td>\n      <td>27</td>\n    </tr>\n    <tr>\n      <th>1</th>\n      <td>Atheist</td>\n      <td>&lt;$10k</td>\n      <td>12</td>\n    </tr>\n    <tr>\n      <th>2</th>\n      <td>Buddhist</td>\n      <td>&lt;$10k</td>\n      <td>27</td>\n    </tr>\n    <tr>\n      <th>3</th>\n      <td>Catholic</td>\n      <td>&lt;$10k</td>\n      <td>418</td>\n    </tr>\n    <tr>\n      <th>4</th>\n      <td>Don’t know/refused</td>\n      <td>&lt;$10k</td>\n      <td>15</td>\n    </tr>\n    <tr>\n      <th>5</th>\n      <td>Evangelical Prot</td>\n      <td>&lt;$10k</td>\n      <td>575</td>\n    </tr>\n    <tr>\n      <th>6</th>\n      <td>Hindu</td>\n      <td>&lt;$10k</td>\n      <td>1</td>\n    </tr>\n    <tr>\n      <th>7</th>\n      <td>Historically Black Prot</td>\n      <td>&lt;$10k</td>\n      <td>228</td>\n    </tr>\n    <tr>\n      <th>8</th>\n      <td>Jehovah's Witness</td>\n      <td>&lt;$10k</td>\n      <td>20</td>\n    </tr>\n    <tr>\n      <th>9</th>\n      <td>Jewish</td>\n      <td>&lt;$10k</td>\n      <td>19</td>\n    </tr>\n    <tr>\n      <th>10</th>\n      <td>Mainline Prot</td>\n      <td>&lt;$10k</td>\n      <td>289</td>\n    </tr>\n    <tr>\n      <th>11</th>\n      <td>Mormon</td>\n      <td>&lt;$10k</td>\n      <td>29</td>\n    </tr>\n    <tr>\n      <th>12</th>\n      <td>Muslim</td>\n      <td>&lt;$10k</td>\n      <td>6</td>\n    </tr>\n    <tr>\n      <th>13</th>\n      <td>Orthodox</td>\n      <td>&lt;$10k</td>\n      <td>13</td>\n    </tr>\n    <tr>\n      <th>14</th>\n      <td>Other Christian</td>\n      <td>&lt;$10k</td>\n      <td>9</td>\n    </tr>\n    <tr>\n      <th>15</th>\n      <td>Other Faiths</td>\n      <td>&lt;$10k</td>\n      <td>20</td>\n    </tr>\n    <tr>\n      <th>16</th>\n      <td>Other World Religions</td>\n      <td>&lt;$10k</td>\n      <td>5</td>\n    </tr>\n    <tr>\n      <th>17</th>\n      <td>Unaffiliated</td>\n      <td>&lt;$10k</td>\n      <td>217</td>\n    </tr>\n    <tr>\n      <th>18</th>\n      <td>Agnostic</td>\n      <td>$10-20k</td>\n      <td>34</td>\n    </tr>\n    <tr>\n      <th>19</th>\n      <td>Atheist</td>\n      <td>$10-20k</td>\n      <td>27</td>\n    </tr>\n    <tr>\n      <th>20</th>\n      <td>Buddhist</td>\n      <td>$10-20k</td>\n      <td>21</td>\n    </tr>\n    <tr>\n      <th>21</th>\n      <td>Catholic</td>\n      <td>$10-20k</td>\n      <td>617</td>\n    </tr>\n    <tr>\n      <th>22</th>\n      <td>Don’t know/refused</td>\n      <td>$10-20k</td>\n      <td>14</td>\n    </tr>\n    <tr>\n      <th>23</th>\n      <td>Evangelical Prot</td>\n      <td>$10-20k</td>\n      <td>869</td>\n    </tr>\n    <tr>\n      <th>24</th>\n      <td>Hindu</td>\n      <td>$10-20k</td>\n      <td>9</td>\n    </tr>\n    <tr>\n      <th>25</th>\n      <td>Historically Black Prot</td>\n      <td>$10-20k</td>\n      <td>244</td>\n    </tr>\n    <tr>\n      <th>26</th>\n      <td>Jehovah's Witness</td>\n      <td>$10-20k</td>\n      <td>27</td>\n    </tr>\n    <tr>\n      <th>27</th>\n      <td>Jewish</td>\n      <td>$10-20k</td>\n      <td>19</td>\n    </tr>\n    <tr>\n      <th>28</th>\n      <td>Mainline Prot</td>\n      <td>$10-20k</td>\n      <td>495</td>\n    </tr>\n    <tr>\n      <th>29</th>\n      <td>Mormon</td>\n      <td>$10-20k</td>\n      <td>40</td>\n    </tr>\n    <tr>\n      <th>...</th>\n      <td>...</td>\n      <td>...</td>\n      <td>...</td>\n    </tr>\n    <tr>\n      <th>150</th>\n      <td>Hindu</td>\n      <td>&gt;150k</td>\n      <td>54</td>\n    </tr>\n    <tr>\n      <th>151</th>\n      <td>Historically Black Prot</td>\n      <td>&gt;150k</td>\n      <td>78</td>\n    </tr>\n    <tr>\n      <th>152</th>\n      <td>Jehovah's Witness</td>\n      <td>&gt;150k</td>\n      <td>6</td>\n    </tr>\n    <tr>\n      <th>153</th>\n      <td>Jewish</td>\n      <td>&gt;150k</td>\n      <td>151</td>\n    </tr>\n    <tr>\n      <th>154</th>\n      <td>Mainline Prot</td>\n      <td>&gt;150k</td>\n      <td>634</td>\n    </tr>\n    <tr>\n      <th>155</th>\n      <td>Mormon</td>\n      <td>&gt;150k</td>\n      <td>42</td>\n    </tr>\n    <tr>\n      <th>156</th>\n      <td>Muslim</td>\n      <td>&gt;150k</td>\n      <td>6</td>\n    </tr>\n    <tr>\n      <th>157</th>\n      <td>Orthodox</td>\n      <td>&gt;150k</td>\n      <td>46</td>\n    </tr>\n    <tr>\n      <th>158</th>\n      <td>Other Christian</td>\n      <td>&gt;150k</td>\n      <td>12</td>\n    </tr>\n    <tr>\n      <th>159</th>\n      <td>Other Faiths</td>\n      <td>&gt;150k</td>\n      <td>41</td>\n    </tr>\n    <tr>\n      <th>160</th>\n      <td>Other World Religions</td>\n      <td>&gt;150k</td>\n      <td>4</td>\n    </tr>\n    <tr>\n      <th>161</th>\n      <td>Unaffiliated</td>\n      <td>&gt;150k</td>\n      <td>258</td>\n    </tr>\n    <tr>\n      <th>162</th>\n      <td>Agnostic</td>\n      <td>Don't know/refused</td>\n      <td>96</td>\n    </tr>\n    <tr>\n      <th>163</th>\n      <td>Atheist</td>\n      <td>Don't know/refused</td>\n      <td>76</td>\n    </tr>\n    <tr>\n      <th>164</th>\n      <td>Buddhist</td>\n      <td>Don't know/refused</td>\n      <td>54</td>\n    </tr>\n    <tr>\n      <th>165</th>\n      <td>Catholic</td>\n      <td>Don't know/refused</td>\n      <td>1489</td>\n    </tr>\n    <tr>\n      <th>166</th>\n      <td>Don’t know/refused</td>\n      <td>Don't know/refused</td>\n      <td>116</td>\n    </tr>\n    <tr>\n      <th>167</th>\n      <td>Evangelical Prot</td>\n      <td>Don't know/refused</td>\n      <td>1529</td>\n    </tr>\n    <tr>\n      <th>168</th>\n      <td>Hindu</td>\n      <td>Don't know/refused</td>\n      <td>37</td>\n    </tr>\n    <tr>\n      <th>169</th>\n      <td>Historically Black Prot</td>\n      <td>Don't know/refused</td>\n      <td>339</td>\n    </tr>\n    <tr>\n      <th>170</th>\n      <td>Jehovah's Witness</td>\n      <td>Don't know/refused</td>\n      <td>37</td>\n    </tr>\n    <tr>\n      <th>171</th>\n      <td>Jewish</td>\n      <td>Don't know/refused</td>\n      <td>162</td>\n    </tr>\n    <tr>\n      <th>172</th>\n      <td>Mainline Prot</td>\n      <td>Don't know/refused</td>\n      <td>1328</td>\n    </tr>\n    <tr>\n      <th>173</th>\n      <td>Mormon</td>\n      <td>Don't know/refused</td>\n      <td>69</td>\n    </tr>\n    <tr>\n      <th>174</th>\n      <td>Muslim</td>\n      <td>Don't know/refused</td>\n      <td>22</td>\n    </tr>\n    <tr>\n      <th>175</th>\n      <td>Orthodox</td>\n      <td>Don't know/refused</td>\n      <td>73</td>\n    </tr>\n    <tr>\n      <th>176</th>\n      <td>Other Christian</td>\n      <td>Don't know/refused</td>\n      <td>18</td>\n    </tr>\n    <tr>\n      <th>177</th>\n      <td>Other Faiths</td>\n      <td>Don't know/refused</td>\n      <td>71</td>\n    </tr>\n    <tr>\n      <th>178</th>\n      <td>Other World Religions</td>\n      <td>Don't know/refused</td>\n      <td>8</td>\n    </tr>\n    <tr>\n      <th>179</th>\n      <td>Unaffiliated</td>\n      <td>Don't know/refused</td>\n      <td>597</td>\n    </tr>\n  </tbody>\n</table>\n<p>180 rows × 3 columns</p>\n</div>"
     },
     "metadata": {},
     "execution_count": 56
    }
   ],
   "source": [
    "pew_tidy= pew.melt(id_vars=['religion'],var_name='income',value_name='count')\n",
    "pew_tidy"
   ]
  },
  {
   "cell_type": "code",
   "execution_count": 58,
   "metadata": {},
   "outputs": [
    {
     "output_type": "execute_result",
     "data": {
      "text/plain": [
       "income\n",
       "$10-20k               2781\n",
       "$100-150k             3197\n",
       "$20-30k               3357\n",
       "$30-40k               3302\n",
       "$40-50k               3085\n",
       "$50-75k               5185\n",
       "$75-100k              3990\n",
       "<$10k                 1930\n",
       ">150k                 2608\n",
       "Don't know/refused    6121\n",
       "Name: count, dtype: int64"
      ]
     },
     "metadata": {},
     "execution_count": 58
    }
   ],
   "source": [
    "pew_tidy.groupby(['income'])['count'].sum()"
   ]
  },
  {
   "cell_type": "code",
   "execution_count": 60,
   "metadata": {},
   "outputs": [
    {
     "output_type": "execute_result",
     "data": {
      "text/plain": [
       "               income  count\n",
       "0             $10-20k   2781\n",
       "1           $100-150k   3197\n",
       "2             $20-30k   3357\n",
       "3             $30-40k   3302\n",
       "4             $40-50k   3085\n",
       "5             $50-75k   5185\n",
       "6            $75-100k   3990\n",
       "7               <$10k   1930\n",
       "8               >150k   2608\n",
       "9  Don't know/refused   6121"
      ],
      "text/html": "<div>\n<style scoped>\n    .dataframe tbody tr th:only-of-type {\n        vertical-align: middle;\n    }\n\n    .dataframe tbody tr th {\n        vertical-align: top;\n    }\n\n    .dataframe thead th {\n        text-align: right;\n    }\n</style>\n<table border=\"1\" class=\"dataframe\">\n  <thead>\n    <tr style=\"text-align: right;\">\n      <th></th>\n      <th>income</th>\n      <th>count</th>\n    </tr>\n  </thead>\n  <tbody>\n    <tr>\n      <th>0</th>\n      <td>$10-20k</td>\n      <td>2781</td>\n    </tr>\n    <tr>\n      <th>1</th>\n      <td>$100-150k</td>\n      <td>3197</td>\n    </tr>\n    <tr>\n      <th>2</th>\n      <td>$20-30k</td>\n      <td>3357</td>\n    </tr>\n    <tr>\n      <th>3</th>\n      <td>$30-40k</td>\n      <td>3302</td>\n    </tr>\n    <tr>\n      <th>4</th>\n      <td>$40-50k</td>\n      <td>3085</td>\n    </tr>\n    <tr>\n      <th>5</th>\n      <td>$50-75k</td>\n      <td>5185</td>\n    </tr>\n    <tr>\n      <th>6</th>\n      <td>$75-100k</td>\n      <td>3990</td>\n    </tr>\n    <tr>\n      <th>7</th>\n      <td>&lt;$10k</td>\n      <td>1930</td>\n    </tr>\n    <tr>\n      <th>8</th>\n      <td>&gt;150k</td>\n      <td>2608</td>\n    </tr>\n    <tr>\n      <th>9</th>\n      <td>Don't know/refused</td>\n      <td>6121</td>\n    </tr>\n  </tbody>\n</table>\n</div>"
     },
     "metadata": {},
     "execution_count": 60
    }
   ],
   "source": [
    "pew_tidy.groupby(['income'])['count'].agg(np.sum).reset_index()"
   ]
  },
  {
   "source": [
    "Another dataframe"
   ],
   "cell_type": "markdown",
   "metadata": {}
  },
  {
   "cell_type": "code",
   "execution_count": 64,
   "metadata": {},
   "outputs": [
    {
     "output_type": "execute_result",
     "data": {
      "text/plain": [
       "     year                artist                    track  time date.entered  \\\n",
       "0    2000                 2 Pac  Baby Don't Cry (Keep...  4:22   2000-02-26   \n",
       "1    2000               2Ge+her  The Hardest Part Of ...  3:15   2000-09-02   \n",
       "2    2000          3 Doors Down               Kryptonite  3:53   2000-04-08   \n",
       "3    2000          3 Doors Down                    Loser  4:24   2000-10-21   \n",
       "4    2000              504 Boyz            Wobble Wobble  3:35   2000-04-15   \n",
       "5    2000                  98^0  Give Me Just One Nig...  3:24   2000-08-19   \n",
       "6    2000               A*Teens            Dancing Queen  3:44   2000-07-08   \n",
       "7    2000               Aaliyah            I Don't Wanna  4:15   2000-01-29   \n",
       "8    2000               Aaliyah                Try Again  4:03   2000-03-18   \n",
       "9    2000        Adams, Yolanda            Open My Heart  5:30   2000-08-26   \n",
       "10   2000         Adkins, Trace                     More  3:05   2000-04-29   \n",
       "11   2000   Aguilera, Christina  Come On Over Baby (A...  3:38   2000-08-05   \n",
       "12   2000   Aguilera, Christina            I Turn To You  4:00   2000-04-15   \n",
       "13   2000   Aguilera, Christina        What A Girl Wants  3:18   1999-11-27   \n",
       "14   2000          Alice Deejay         Better Off Alone  6:50   2000-04-08   \n",
       "15   2000           Allan, Gary  Smoke Rings In The D...  4:18   2000-01-22   \n",
       "16   2000                 Amber                   Sexual  4:38   1999-07-17   \n",
       "17   2000             Anastacia           I'm Outta Love  4:01   2000-04-01   \n",
       "18   2000         Anthony, Marc              My Baby You  3:59   2000-09-16   \n",
       "19   2000         Anthony, Marc           You Sang To Me  3:50   2000-02-26   \n",
       "20   2000                 Avant            My First Love  4:28   2000-11-04   \n",
       "21   2000                 Avant                Separated  4:13   2000-04-29   \n",
       "22   2000                 BBMak                Back Here  3:35   2000-04-29   \n",
       "23   2000  Backstreet Boys, The        Shape Of My Heart  3:49   2000-10-14   \n",
       "24   2000  Backstreet Boys, The  Show Me The Meaning ...  3:54   2000-01-01   \n",
       "25   2000  Backstreet Boys, The                  The One  3:46   2000-05-27   \n",
       "26   2000          Badu, Erkyah                 Bag Lady  5:03   2000-08-19   \n",
       "27   2000              Baha Men     Who Let The Dogs Out  3:17   2000-07-22   \n",
       "28   2000      Barenaked Ladies                 Pinch Me  3:46   2000-09-09   \n",
       "29   2000            Beenie Man          Girls Dem Sugar  4:17   2000-10-21   \n",
       "..    ...                   ...                      ...   ...          ...   \n",
       "287  2000          Thomas, Carl                Emotional  4:31   2000-11-25   \n",
       "288  2000          Thomas, Carl                   I Wish  3:50   2000-03-25   \n",
       "289  2000          Thomas, Carl              Summer Rain  4:57   2000-09-23   \n",
       "290  2000         Tippin, Aaron                Kiss This  2:53   2000-08-26   \n",
       "291  2000                 Train            Meet Virginia  3:55   1999-10-09   \n",
       "292  2000           Trick Daddy                  Shut Up  4:17   2000-05-20   \n",
       "293  2000                 Trina                Pull Over  2:58   2000-09-09   \n",
       "294  2000         Tritt, Travis       Best Of Intentions  4:15   2000-08-19   \n",
       "295  2000               Tuesday                   I Know  4:06   2000-12-30   \n",
       "296  2000          Urban, Keith          Your Everything  4:10   2000-07-15   \n",
       "297  2000                 Usher            Pop Ya Collar  3:36   2000-11-04   \n",
       "298  2000          Vassar, Phil                  Carlene  4:07   2000-03-04   \n",
       "299  2000          Vassar, Phil  Just Another Day In ...  3:54   2000-09-30   \n",
       "300  2000      Vertical Horizon      Everything You Want  4:01   2000-01-22   \n",
       "301  2000      Vertical Horizon             You're A God  3:45   2000-08-26   \n",
       "302  2000             Vitamin C  Graduation (Friends ...  4:23   2000-04-15   \n",
       "303  2000             Vitamin C                 The Itch  3:30   2000-12-02   \n",
       "304  2000          Walker, Clay        Live, Laugh, Love  4:06   1999-12-04   \n",
       "305  2000          Walker, Clay        The Chain Of Love  5:03   2000-04-15   \n",
       "306  2000      Wallflowers, The              Sleepwalker  3:29   2000-10-28   \n",
       "307  2000              Westlife           Swear It Again  4:07   2000-04-01   \n",
       "308  2000      Williams, Robbie                   Angels  3:56   1999-11-20   \n",
       "309  2000           Wills, Mark              Back At One  4:00   2000-01-15   \n",
       "310  2000        Worley, Darryl  When You Need My Lov...  3:35   2000-06-17   \n",
       "311  2000         Wright, Chely                   It Was  3:51   2000-03-04   \n",
       "312  2000           Yankee Grey     Another Nine Minutes  3:10   2000-04-29   \n",
       "313  2000      Yearwood, Trisha          Real Live Woman  3:55   2000-04-01   \n",
       "314  2000       Ying Yang Twins  Whistle While You Tw...  4:19   2000-03-18   \n",
       "315  2000         Zombie Nation            Kernkraft 400  3:30   2000-09-02   \n",
       "316  2000       matchbox twenty                     Bent  4:12   2000-04-29   \n",
       "\n",
       "     wk1   wk2   wk3    wk4    wk5  ...  wk67  wk68  wk69  wk70  wk71  wk72  \\\n",
       "0     87  82.0  72.0   77.0   87.0  ...   NaN   NaN   NaN   NaN   NaN   NaN   \n",
       "1     91  87.0  92.0    NaN    NaN  ...   NaN   NaN   NaN   NaN   NaN   NaN   \n",
       "2     81  70.0  68.0   67.0   66.0  ...   NaN   NaN   NaN   NaN   NaN   NaN   \n",
       "3     76  76.0  72.0   69.0   67.0  ...   NaN   NaN   NaN   NaN   NaN   NaN   \n",
       "4     57  34.0  25.0   17.0   17.0  ...   NaN   NaN   NaN   NaN   NaN   NaN   \n",
       "5     51  39.0  34.0   26.0   26.0  ...   NaN   NaN   NaN   NaN   NaN   NaN   \n",
       "6     97  97.0  96.0   95.0  100.0  ...   NaN   NaN   NaN   NaN   NaN   NaN   \n",
       "7     84  62.0  51.0   41.0   38.0  ...   NaN   NaN   NaN   NaN   NaN   NaN   \n",
       "8     59  53.0  38.0   28.0   21.0  ...   NaN   NaN   NaN   NaN   NaN   NaN   \n",
       "9     76  76.0  74.0   69.0   68.0  ...   NaN   NaN   NaN   NaN   NaN   NaN   \n",
       "10    84  84.0  75.0   73.0   73.0  ...   NaN   NaN   NaN   NaN   NaN   NaN   \n",
       "11    57  47.0  45.0   29.0   23.0  ...   NaN   NaN   NaN   NaN   NaN   NaN   \n",
       "12    50  39.0  30.0   28.0   21.0  ...   NaN   NaN   NaN   NaN   NaN   NaN   \n",
       "13    71  51.0  28.0   18.0   13.0  ...   NaN   NaN   NaN   NaN   NaN   NaN   \n",
       "14    79  65.0  53.0   48.0   45.0  ...   NaN   NaN   NaN   NaN   NaN   NaN   \n",
       "15    80  78.0  76.0   77.0   92.0  ...   NaN   NaN   NaN   NaN   NaN   NaN   \n",
       "16    99  99.0  96.0   96.0  100.0  ...   NaN   NaN   NaN   NaN   NaN   NaN   \n",
       "17    92   NaN   NaN   95.0    NaN  ...   NaN   NaN   NaN   NaN   NaN   NaN   \n",
       "18    82  76.0  76.0   70.0   82.0  ...   NaN   NaN   NaN   NaN   NaN   NaN   \n",
       "19    77  54.0  50.0   43.0   30.0  ...   NaN   NaN   NaN   NaN   NaN   NaN   \n",
       "20    70  62.0  56.0   43.0   39.0  ...   NaN   NaN   NaN   NaN   NaN   NaN   \n",
       "21    62  32.0  30.0   23.0   26.0  ...   NaN   NaN   NaN   NaN   NaN   NaN   \n",
       "22    99  86.0  60.0   52.0   38.0  ...   NaN   NaN   NaN   NaN   NaN   NaN   \n",
       "23    39  25.0  24.0   15.0   12.0  ...   NaN   NaN   NaN   NaN   NaN   NaN   \n",
       "24    74  62.0  55.0   25.0   16.0  ...   NaN   NaN   NaN   NaN   NaN   NaN   \n",
       "25    58  50.0  43.0   37.0   31.0  ...   NaN   NaN   NaN   NaN   NaN   NaN   \n",
       "26    67  53.0  42.0   41.0   48.0  ...   NaN   NaN   NaN   NaN   NaN   NaN   \n",
       "27    99  92.0  85.0   76.0   65.0  ...   NaN   NaN   NaN   NaN   NaN   NaN   \n",
       "28    77  76.0  69.0   45.0   51.0  ...   NaN   NaN   NaN   NaN   NaN   NaN   \n",
       "29    72  72.0  63.0   56.0   62.0  ...   NaN   NaN   NaN   NaN   NaN   NaN   \n",
       "..   ...   ...   ...    ...    ...  ...   ...   ...   ...   ...   ...   ...   \n",
       "287   77  63.0  61.0   58.0   54.0  ...   NaN   NaN   NaN   NaN   NaN   NaN   \n",
       "288   75  64.0  48.0   39.0   32.0  ...   NaN   NaN   NaN   NaN   NaN   NaN   \n",
       "289   82  82.0  86.0   80.0   82.0  ...   NaN   NaN   NaN   NaN   NaN   NaN   \n",
       "290   74  72.0  66.0   53.0   52.0  ...   NaN   NaN   NaN   NaN   NaN   NaN   \n",
       "291   76  67.0  59.0   54.0   48.0  ...   NaN   NaN   NaN   NaN   NaN   NaN   \n",
       "292   99  95.0  87.0   87.0   83.0  ...   NaN   NaN   NaN   NaN   NaN   NaN   \n",
       "293   97  93.0  96.0  100.0    NaN  ...   NaN   NaN   NaN   NaN   NaN   NaN   \n",
       "294   97  86.0  79.0   70.0   63.0  ...   NaN   NaN   NaN   NaN   NaN   NaN   \n",
       "295   98  98.0   NaN    NaN    NaN  ...   NaN   NaN   NaN   NaN   NaN   NaN   \n",
       "296   81  80.0  73.0   73.0   67.0  ...   NaN   NaN   NaN   NaN   NaN   NaN   \n",
       "297   68  64.0  60.0   60.0   62.0  ...   NaN   NaN   NaN   NaN   NaN   NaN   \n",
       "298   75  67.0  64.0   64.0   57.0  ...   NaN   NaN   NaN   NaN   NaN   NaN   \n",
       "299   81  81.0  76.0   67.0   53.0  ...   NaN   NaN   NaN   NaN   NaN   NaN   \n",
       "300   70  61.0  53.0   46.0   40.0  ...   NaN   NaN   NaN   NaN   NaN   NaN   \n",
       "301   64  55.0  43.0   41.0   37.0  ...   NaN   NaN   NaN   NaN   NaN   NaN   \n",
       "302   81  64.0  54.0   54.0   46.0  ...   NaN   NaN   NaN   NaN   NaN   NaN   \n",
       "303   86  48.0  45.0   52.0   57.0  ...   NaN   NaN   NaN   NaN   NaN   NaN   \n",
       "304   95  95.0  94.0   94.0   94.0  ...   NaN   NaN   NaN   NaN   NaN   NaN   \n",
       "305   73  65.0  57.0   57.0   51.0  ...   NaN   NaN   NaN   NaN   NaN   NaN   \n",
       "306   73  73.0  74.0   80.0   90.0  ...   NaN   NaN   NaN   NaN   NaN   NaN   \n",
       "307   96  82.0  66.0   55.0   55.0  ...   NaN   NaN   NaN   NaN   NaN   NaN   \n",
       "308   85  77.0  69.0   69.0   62.0  ...   NaN   NaN   NaN   NaN   NaN   NaN   \n",
       "309   89  55.0  51.0   43.0   37.0  ...   NaN   NaN   NaN   NaN   NaN   NaN   \n",
       "310   98  88.0  93.0   92.0   85.0  ...   NaN   NaN   NaN   NaN   NaN   NaN   \n",
       "311   86  78.0  75.0   72.0   71.0  ...   NaN   NaN   NaN   NaN   NaN   NaN   \n",
       "312   86  83.0  77.0   74.0   83.0  ...   NaN   NaN   NaN   NaN   NaN   NaN   \n",
       "313   85  83.0  83.0   82.0   81.0  ...   NaN   NaN   NaN   NaN   NaN   NaN   \n",
       "314   95  94.0  91.0   85.0   84.0  ...   NaN   NaN   NaN   NaN   NaN   NaN   \n",
       "315   99  99.0   NaN    NaN    NaN  ...   NaN   NaN   NaN   NaN   NaN   NaN   \n",
       "316   60  37.0  29.0   24.0   22.0  ...   NaN   NaN   NaN   NaN   NaN   NaN   \n",
       "\n",
       "     wk73  wk74  wk75  wk76  \n",
       "0     NaN   NaN   NaN   NaN  \n",
       "1     NaN   NaN   NaN   NaN  \n",
       "2     NaN   NaN   NaN   NaN  \n",
       "3     NaN   NaN   NaN   NaN  \n",
       "4     NaN   NaN   NaN   NaN  \n",
       "5     NaN   NaN   NaN   NaN  \n",
       "6     NaN   NaN   NaN   NaN  \n",
       "7     NaN   NaN   NaN   NaN  \n",
       "8     NaN   NaN   NaN   NaN  \n",
       "9     NaN   NaN   NaN   NaN  \n",
       "10    NaN   NaN   NaN   NaN  \n",
       "11    NaN   NaN   NaN   NaN  \n",
       "12    NaN   NaN   NaN   NaN  \n",
       "13    NaN   NaN   NaN   NaN  \n",
       "14    NaN   NaN   NaN   NaN  \n",
       "15    NaN   NaN   NaN   NaN  \n",
       "16    NaN   NaN   NaN   NaN  \n",
       "17    NaN   NaN   NaN   NaN  \n",
       "18    NaN   NaN   NaN   NaN  \n",
       "19    NaN   NaN   NaN   NaN  \n",
       "20    NaN   NaN   NaN   NaN  \n",
       "21    NaN   NaN   NaN   NaN  \n",
       "22    NaN   NaN   NaN   NaN  \n",
       "23    NaN   NaN   NaN   NaN  \n",
       "24    NaN   NaN   NaN   NaN  \n",
       "25    NaN   NaN   NaN   NaN  \n",
       "26    NaN   NaN   NaN   NaN  \n",
       "27    NaN   NaN   NaN   NaN  \n",
       "28    NaN   NaN   NaN   NaN  \n",
       "29    NaN   NaN   NaN   NaN  \n",
       "..    ...   ...   ...   ...  \n",
       "287   NaN   NaN   NaN   NaN  \n",
       "288   NaN   NaN   NaN   NaN  \n",
       "289   NaN   NaN   NaN   NaN  \n",
       "290   NaN   NaN   NaN   NaN  \n",
       "291   NaN   NaN   NaN   NaN  \n",
       "292   NaN   NaN   NaN   NaN  \n",
       "293   NaN   NaN   NaN   NaN  \n",
       "294   NaN   NaN   NaN   NaN  \n",
       "295   NaN   NaN   NaN   NaN  \n",
       "296   NaN   NaN   NaN   NaN  \n",
       "297   NaN   NaN   NaN   NaN  \n",
       "298   NaN   NaN   NaN   NaN  \n",
       "299   NaN   NaN   NaN   NaN  \n",
       "300   NaN   NaN   NaN   NaN  \n",
       "301   NaN   NaN   NaN   NaN  \n",
       "302   NaN   NaN   NaN   NaN  \n",
       "303   NaN   NaN   NaN   NaN  \n",
       "304   NaN   NaN   NaN   NaN  \n",
       "305   NaN   NaN   NaN   NaN  \n",
       "306   NaN   NaN   NaN   NaN  \n",
       "307   NaN   NaN   NaN   NaN  \n",
       "308   NaN   NaN   NaN   NaN  \n",
       "309   NaN   NaN   NaN   NaN  \n",
       "310   NaN   NaN   NaN   NaN  \n",
       "311   NaN   NaN   NaN   NaN  \n",
       "312   NaN   NaN   NaN   NaN  \n",
       "313   NaN   NaN   NaN   NaN  \n",
       "314   NaN   NaN   NaN   NaN  \n",
       "315   NaN   NaN   NaN   NaN  \n",
       "316   NaN   NaN   NaN   NaN  \n",
       "\n",
       "[317 rows x 81 columns]"
      ],
      "text/html": "<div>\n<style scoped>\n    .dataframe tbody tr th:only-of-type {\n        vertical-align: middle;\n    }\n\n    .dataframe tbody tr th {\n        vertical-align: top;\n    }\n\n    .dataframe thead th {\n        text-align: right;\n    }\n</style>\n<table border=\"1\" class=\"dataframe\">\n  <thead>\n    <tr style=\"text-align: right;\">\n      <th></th>\n      <th>year</th>\n      <th>artist</th>\n      <th>track</th>\n      <th>time</th>\n      <th>date.entered</th>\n      <th>wk1</th>\n      <th>wk2</th>\n      <th>wk3</th>\n      <th>wk4</th>\n      <th>wk5</th>\n      <th>...</th>\n      <th>wk67</th>\n      <th>wk68</th>\n      <th>wk69</th>\n      <th>wk70</th>\n      <th>wk71</th>\n      <th>wk72</th>\n      <th>wk73</th>\n      <th>wk74</th>\n      <th>wk75</th>\n      <th>wk76</th>\n    </tr>\n  </thead>\n  <tbody>\n    <tr>\n      <th>0</th>\n      <td>2000</td>\n      <td>2 Pac</td>\n      <td>Baby Don't Cry (Keep...</td>\n      <td>4:22</td>\n      <td>2000-02-26</td>\n      <td>87</td>\n      <td>82.0</td>\n      <td>72.0</td>\n      <td>77.0</td>\n      <td>87.0</td>\n      <td>...</td>\n      <td>NaN</td>\n      <td>NaN</td>\n      <td>NaN</td>\n      <td>NaN</td>\n      <td>NaN</td>\n      <td>NaN</td>\n      <td>NaN</td>\n      <td>NaN</td>\n      <td>NaN</td>\n      <td>NaN</td>\n    </tr>\n    <tr>\n      <th>1</th>\n      <td>2000</td>\n      <td>2Ge+her</td>\n      <td>The Hardest Part Of ...</td>\n      <td>3:15</td>\n      <td>2000-09-02</td>\n      <td>91</td>\n      <td>87.0</td>\n      <td>92.0</td>\n      <td>NaN</td>\n      <td>NaN</td>\n      <td>...</td>\n      <td>NaN</td>\n      <td>NaN</td>\n      <td>NaN</td>\n      <td>NaN</td>\n      <td>NaN</td>\n      <td>NaN</td>\n      <td>NaN</td>\n      <td>NaN</td>\n      <td>NaN</td>\n      <td>NaN</td>\n    </tr>\n    <tr>\n      <th>2</th>\n      <td>2000</td>\n      <td>3 Doors Down</td>\n      <td>Kryptonite</td>\n      <td>3:53</td>\n      <td>2000-04-08</td>\n      <td>81</td>\n      <td>70.0</td>\n      <td>68.0</td>\n      <td>67.0</td>\n      <td>66.0</td>\n      <td>...</td>\n      <td>NaN</td>\n      <td>NaN</td>\n      <td>NaN</td>\n      <td>NaN</td>\n      <td>NaN</td>\n      <td>NaN</td>\n      <td>NaN</td>\n      <td>NaN</td>\n      <td>NaN</td>\n      <td>NaN</td>\n    </tr>\n    <tr>\n      <th>3</th>\n      <td>2000</td>\n      <td>3 Doors Down</td>\n      <td>Loser</td>\n      <td>4:24</td>\n      <td>2000-10-21</td>\n      <td>76</td>\n      <td>76.0</td>\n      <td>72.0</td>\n      <td>69.0</td>\n      <td>67.0</td>\n      <td>...</td>\n      <td>NaN</td>\n      <td>NaN</td>\n      <td>NaN</td>\n      <td>NaN</td>\n      <td>NaN</td>\n      <td>NaN</td>\n      <td>NaN</td>\n      <td>NaN</td>\n      <td>NaN</td>\n      <td>NaN</td>\n    </tr>\n    <tr>\n      <th>4</th>\n      <td>2000</td>\n      <td>504 Boyz</td>\n      <td>Wobble Wobble</td>\n      <td>3:35</td>\n      <td>2000-04-15</td>\n      <td>57</td>\n      <td>34.0</td>\n      <td>25.0</td>\n      <td>17.0</td>\n      <td>17.0</td>\n      <td>...</td>\n      <td>NaN</td>\n      <td>NaN</td>\n      <td>NaN</td>\n      <td>NaN</td>\n      <td>NaN</td>\n      <td>NaN</td>\n      <td>NaN</td>\n      <td>NaN</td>\n      <td>NaN</td>\n      <td>NaN</td>\n    </tr>\n    <tr>\n      <th>5</th>\n      <td>2000</td>\n      <td>98^0</td>\n      <td>Give Me Just One Nig...</td>\n      <td>3:24</td>\n      <td>2000-08-19</td>\n      <td>51</td>\n      <td>39.0</td>\n      <td>34.0</td>\n      <td>26.0</td>\n      <td>26.0</td>\n      <td>...</td>\n      <td>NaN</td>\n      <td>NaN</td>\n      <td>NaN</td>\n      <td>NaN</td>\n      <td>NaN</td>\n      <td>NaN</td>\n      <td>NaN</td>\n      <td>NaN</td>\n      <td>NaN</td>\n      <td>NaN</td>\n    </tr>\n    <tr>\n      <th>6</th>\n      <td>2000</td>\n      <td>A*Teens</td>\n      <td>Dancing Queen</td>\n      <td>3:44</td>\n      <td>2000-07-08</td>\n      <td>97</td>\n      <td>97.0</td>\n      <td>96.0</td>\n      <td>95.0</td>\n      <td>100.0</td>\n      <td>...</td>\n      <td>NaN</td>\n      <td>NaN</td>\n      <td>NaN</td>\n      <td>NaN</td>\n      <td>NaN</td>\n      <td>NaN</td>\n      <td>NaN</td>\n      <td>NaN</td>\n      <td>NaN</td>\n      <td>NaN</td>\n    </tr>\n    <tr>\n      <th>7</th>\n      <td>2000</td>\n      <td>Aaliyah</td>\n      <td>I Don't Wanna</td>\n      <td>4:15</td>\n      <td>2000-01-29</td>\n      <td>84</td>\n      <td>62.0</td>\n      <td>51.0</td>\n      <td>41.0</td>\n      <td>38.0</td>\n      <td>...</td>\n      <td>NaN</td>\n      <td>NaN</td>\n      <td>NaN</td>\n      <td>NaN</td>\n      <td>NaN</td>\n      <td>NaN</td>\n      <td>NaN</td>\n      <td>NaN</td>\n      <td>NaN</td>\n      <td>NaN</td>\n    </tr>\n    <tr>\n      <th>8</th>\n      <td>2000</td>\n      <td>Aaliyah</td>\n      <td>Try Again</td>\n      <td>4:03</td>\n      <td>2000-03-18</td>\n      <td>59</td>\n      <td>53.0</td>\n      <td>38.0</td>\n      <td>28.0</td>\n      <td>21.0</td>\n      <td>...</td>\n      <td>NaN</td>\n      <td>NaN</td>\n      <td>NaN</td>\n      <td>NaN</td>\n      <td>NaN</td>\n      <td>NaN</td>\n      <td>NaN</td>\n      <td>NaN</td>\n      <td>NaN</td>\n      <td>NaN</td>\n    </tr>\n    <tr>\n      <th>9</th>\n      <td>2000</td>\n      <td>Adams, Yolanda</td>\n      <td>Open My Heart</td>\n      <td>5:30</td>\n      <td>2000-08-26</td>\n      <td>76</td>\n      <td>76.0</td>\n      <td>74.0</td>\n      <td>69.0</td>\n      <td>68.0</td>\n      <td>...</td>\n      <td>NaN</td>\n      <td>NaN</td>\n      <td>NaN</td>\n      <td>NaN</td>\n      <td>NaN</td>\n      <td>NaN</td>\n      <td>NaN</td>\n      <td>NaN</td>\n      <td>NaN</td>\n      <td>NaN</td>\n    </tr>\n    <tr>\n      <th>10</th>\n      <td>2000</td>\n      <td>Adkins, Trace</td>\n      <td>More</td>\n      <td>3:05</td>\n      <td>2000-04-29</td>\n      <td>84</td>\n      <td>84.0</td>\n      <td>75.0</td>\n      <td>73.0</td>\n      <td>73.0</td>\n      <td>...</td>\n      <td>NaN</td>\n      <td>NaN</td>\n      <td>NaN</td>\n      <td>NaN</td>\n      <td>NaN</td>\n      <td>NaN</td>\n      <td>NaN</td>\n      <td>NaN</td>\n      <td>NaN</td>\n      <td>NaN</td>\n    </tr>\n    <tr>\n      <th>11</th>\n      <td>2000</td>\n      <td>Aguilera, Christina</td>\n      <td>Come On Over Baby (A...</td>\n      <td>3:38</td>\n      <td>2000-08-05</td>\n      <td>57</td>\n      <td>47.0</td>\n      <td>45.0</td>\n      <td>29.0</td>\n      <td>23.0</td>\n      <td>...</td>\n      <td>NaN</td>\n      <td>NaN</td>\n      <td>NaN</td>\n      <td>NaN</td>\n      <td>NaN</td>\n      <td>NaN</td>\n      <td>NaN</td>\n      <td>NaN</td>\n      <td>NaN</td>\n      <td>NaN</td>\n    </tr>\n    <tr>\n      <th>12</th>\n      <td>2000</td>\n      <td>Aguilera, Christina</td>\n      <td>I Turn To You</td>\n      <td>4:00</td>\n      <td>2000-04-15</td>\n      <td>50</td>\n      <td>39.0</td>\n      <td>30.0</td>\n      <td>28.0</td>\n      <td>21.0</td>\n      <td>...</td>\n      <td>NaN</td>\n      <td>NaN</td>\n      <td>NaN</td>\n      <td>NaN</td>\n      <td>NaN</td>\n      <td>NaN</td>\n      <td>NaN</td>\n      <td>NaN</td>\n      <td>NaN</td>\n      <td>NaN</td>\n    </tr>\n    <tr>\n      <th>13</th>\n      <td>2000</td>\n      <td>Aguilera, Christina</td>\n      <td>What A Girl Wants</td>\n      <td>3:18</td>\n      <td>1999-11-27</td>\n      <td>71</td>\n      <td>51.0</td>\n      <td>28.0</td>\n      <td>18.0</td>\n      <td>13.0</td>\n      <td>...</td>\n      <td>NaN</td>\n      <td>NaN</td>\n      <td>NaN</td>\n      <td>NaN</td>\n      <td>NaN</td>\n      <td>NaN</td>\n      <td>NaN</td>\n      <td>NaN</td>\n      <td>NaN</td>\n      <td>NaN</td>\n    </tr>\n    <tr>\n      <th>14</th>\n      <td>2000</td>\n      <td>Alice Deejay</td>\n      <td>Better Off Alone</td>\n      <td>6:50</td>\n      <td>2000-04-08</td>\n      <td>79</td>\n      <td>65.0</td>\n      <td>53.0</td>\n      <td>48.0</td>\n      <td>45.0</td>\n      <td>...</td>\n      <td>NaN</td>\n      <td>NaN</td>\n      <td>NaN</td>\n      <td>NaN</td>\n      <td>NaN</td>\n      <td>NaN</td>\n      <td>NaN</td>\n      <td>NaN</td>\n      <td>NaN</td>\n      <td>NaN</td>\n    </tr>\n    <tr>\n      <th>15</th>\n      <td>2000</td>\n      <td>Allan, Gary</td>\n      <td>Smoke Rings In The D...</td>\n      <td>4:18</td>\n      <td>2000-01-22</td>\n      <td>80</td>\n      <td>78.0</td>\n      <td>76.0</td>\n      <td>77.0</td>\n      <td>92.0</td>\n      <td>...</td>\n      <td>NaN</td>\n      <td>NaN</td>\n      <td>NaN</td>\n      <td>NaN</td>\n      <td>NaN</td>\n      <td>NaN</td>\n      <td>NaN</td>\n      <td>NaN</td>\n      <td>NaN</td>\n      <td>NaN</td>\n    </tr>\n    <tr>\n      <th>16</th>\n      <td>2000</td>\n      <td>Amber</td>\n      <td>Sexual</td>\n      <td>4:38</td>\n      <td>1999-07-17</td>\n      <td>99</td>\n      <td>99.0</td>\n      <td>96.0</td>\n      <td>96.0</td>\n      <td>100.0</td>\n      <td>...</td>\n      <td>NaN</td>\n      <td>NaN</td>\n      <td>NaN</td>\n      <td>NaN</td>\n      <td>NaN</td>\n      <td>NaN</td>\n      <td>NaN</td>\n      <td>NaN</td>\n      <td>NaN</td>\n      <td>NaN</td>\n    </tr>\n    <tr>\n      <th>17</th>\n      <td>2000</td>\n      <td>Anastacia</td>\n      <td>I'm Outta Love</td>\n      <td>4:01</td>\n      <td>2000-04-01</td>\n      <td>92</td>\n      <td>NaN</td>\n      <td>NaN</td>\n      <td>95.0</td>\n      <td>NaN</td>\n      <td>...</td>\n      <td>NaN</td>\n      <td>NaN</td>\n      <td>NaN</td>\n      <td>NaN</td>\n      <td>NaN</td>\n      <td>NaN</td>\n      <td>NaN</td>\n      <td>NaN</td>\n      <td>NaN</td>\n      <td>NaN</td>\n    </tr>\n    <tr>\n      <th>18</th>\n      <td>2000</td>\n      <td>Anthony, Marc</td>\n      <td>My Baby You</td>\n      <td>3:59</td>\n      <td>2000-09-16</td>\n      <td>82</td>\n      <td>76.0</td>\n      <td>76.0</td>\n      <td>70.0</td>\n      <td>82.0</td>\n      <td>...</td>\n      <td>NaN</td>\n      <td>NaN</td>\n      <td>NaN</td>\n      <td>NaN</td>\n      <td>NaN</td>\n      <td>NaN</td>\n      <td>NaN</td>\n      <td>NaN</td>\n      <td>NaN</td>\n      <td>NaN</td>\n    </tr>\n    <tr>\n      <th>19</th>\n      <td>2000</td>\n      <td>Anthony, Marc</td>\n      <td>You Sang To Me</td>\n      <td>3:50</td>\n      <td>2000-02-26</td>\n      <td>77</td>\n      <td>54.0</td>\n      <td>50.0</td>\n      <td>43.0</td>\n      <td>30.0</td>\n      <td>...</td>\n      <td>NaN</td>\n      <td>NaN</td>\n      <td>NaN</td>\n      <td>NaN</td>\n      <td>NaN</td>\n      <td>NaN</td>\n      <td>NaN</td>\n      <td>NaN</td>\n      <td>NaN</td>\n      <td>NaN</td>\n    </tr>\n    <tr>\n      <th>20</th>\n      <td>2000</td>\n      <td>Avant</td>\n      <td>My First Love</td>\n      <td>4:28</td>\n      <td>2000-11-04</td>\n      <td>70</td>\n      <td>62.0</td>\n      <td>56.0</td>\n      <td>43.0</td>\n      <td>39.0</td>\n      <td>...</td>\n      <td>NaN</td>\n      <td>NaN</td>\n      <td>NaN</td>\n      <td>NaN</td>\n      <td>NaN</td>\n      <td>NaN</td>\n      <td>NaN</td>\n      <td>NaN</td>\n      <td>NaN</td>\n      <td>NaN</td>\n    </tr>\n    <tr>\n      <th>21</th>\n      <td>2000</td>\n      <td>Avant</td>\n      <td>Separated</td>\n      <td>4:13</td>\n      <td>2000-04-29</td>\n      <td>62</td>\n      <td>32.0</td>\n      <td>30.0</td>\n      <td>23.0</td>\n      <td>26.0</td>\n      <td>...</td>\n      <td>NaN</td>\n      <td>NaN</td>\n      <td>NaN</td>\n      <td>NaN</td>\n      <td>NaN</td>\n      <td>NaN</td>\n      <td>NaN</td>\n      <td>NaN</td>\n      <td>NaN</td>\n      <td>NaN</td>\n    </tr>\n    <tr>\n      <th>22</th>\n      <td>2000</td>\n      <td>BBMak</td>\n      <td>Back Here</td>\n      <td>3:35</td>\n      <td>2000-04-29</td>\n      <td>99</td>\n      <td>86.0</td>\n      <td>60.0</td>\n      <td>52.0</td>\n      <td>38.0</td>\n      <td>...</td>\n      <td>NaN</td>\n      <td>NaN</td>\n      <td>NaN</td>\n      <td>NaN</td>\n      <td>NaN</td>\n      <td>NaN</td>\n      <td>NaN</td>\n      <td>NaN</td>\n      <td>NaN</td>\n      <td>NaN</td>\n    </tr>\n    <tr>\n      <th>23</th>\n      <td>2000</td>\n      <td>Backstreet Boys, The</td>\n      <td>Shape Of My Heart</td>\n      <td>3:49</td>\n      <td>2000-10-14</td>\n      <td>39</td>\n      <td>25.0</td>\n      <td>24.0</td>\n      <td>15.0</td>\n      <td>12.0</td>\n      <td>...</td>\n      <td>NaN</td>\n      <td>NaN</td>\n      <td>NaN</td>\n      <td>NaN</td>\n      <td>NaN</td>\n      <td>NaN</td>\n      <td>NaN</td>\n      <td>NaN</td>\n      <td>NaN</td>\n      <td>NaN</td>\n    </tr>\n    <tr>\n      <th>24</th>\n      <td>2000</td>\n      <td>Backstreet Boys, The</td>\n      <td>Show Me The Meaning ...</td>\n      <td>3:54</td>\n      <td>2000-01-01</td>\n      <td>74</td>\n      <td>62.0</td>\n      <td>55.0</td>\n      <td>25.0</td>\n      <td>16.0</td>\n      <td>...</td>\n      <td>NaN</td>\n      <td>NaN</td>\n      <td>NaN</td>\n      <td>NaN</td>\n      <td>NaN</td>\n      <td>NaN</td>\n      <td>NaN</td>\n      <td>NaN</td>\n      <td>NaN</td>\n      <td>NaN</td>\n    </tr>\n    <tr>\n      <th>25</th>\n      <td>2000</td>\n      <td>Backstreet Boys, The</td>\n      <td>The One</td>\n      <td>3:46</td>\n      <td>2000-05-27</td>\n      <td>58</td>\n      <td>50.0</td>\n      <td>43.0</td>\n      <td>37.0</td>\n      <td>31.0</td>\n      <td>...</td>\n      <td>NaN</td>\n      <td>NaN</td>\n      <td>NaN</td>\n      <td>NaN</td>\n      <td>NaN</td>\n      <td>NaN</td>\n      <td>NaN</td>\n      <td>NaN</td>\n      <td>NaN</td>\n      <td>NaN</td>\n    </tr>\n    <tr>\n      <th>26</th>\n      <td>2000</td>\n      <td>Badu, Erkyah</td>\n      <td>Bag Lady</td>\n      <td>5:03</td>\n      <td>2000-08-19</td>\n      <td>67</td>\n      <td>53.0</td>\n      <td>42.0</td>\n      <td>41.0</td>\n      <td>48.0</td>\n      <td>...</td>\n      <td>NaN</td>\n      <td>NaN</td>\n      <td>NaN</td>\n      <td>NaN</td>\n      <td>NaN</td>\n      <td>NaN</td>\n      <td>NaN</td>\n      <td>NaN</td>\n      <td>NaN</td>\n      <td>NaN</td>\n    </tr>\n    <tr>\n      <th>27</th>\n      <td>2000</td>\n      <td>Baha Men</td>\n      <td>Who Let The Dogs Out</td>\n      <td>3:17</td>\n      <td>2000-07-22</td>\n      <td>99</td>\n      <td>92.0</td>\n      <td>85.0</td>\n      <td>76.0</td>\n      <td>65.0</td>\n      <td>...</td>\n      <td>NaN</td>\n      <td>NaN</td>\n      <td>NaN</td>\n      <td>NaN</td>\n      <td>NaN</td>\n      <td>NaN</td>\n      <td>NaN</td>\n      <td>NaN</td>\n      <td>NaN</td>\n      <td>NaN</td>\n    </tr>\n    <tr>\n      <th>28</th>\n      <td>2000</td>\n      <td>Barenaked Ladies</td>\n      <td>Pinch Me</td>\n      <td>3:46</td>\n      <td>2000-09-09</td>\n      <td>77</td>\n      <td>76.0</td>\n      <td>69.0</td>\n      <td>45.0</td>\n      <td>51.0</td>\n      <td>...</td>\n      <td>NaN</td>\n      <td>NaN</td>\n      <td>NaN</td>\n      <td>NaN</td>\n      <td>NaN</td>\n      <td>NaN</td>\n      <td>NaN</td>\n      <td>NaN</td>\n      <td>NaN</td>\n      <td>NaN</td>\n    </tr>\n    <tr>\n      <th>29</th>\n      <td>2000</td>\n      <td>Beenie Man</td>\n      <td>Girls Dem Sugar</td>\n      <td>4:17</td>\n      <td>2000-10-21</td>\n      <td>72</td>\n      <td>72.0</td>\n      <td>63.0</td>\n      <td>56.0</td>\n      <td>62.0</td>\n      <td>...</td>\n      <td>NaN</td>\n      <td>NaN</td>\n      <td>NaN</td>\n      <td>NaN</td>\n      <td>NaN</td>\n      <td>NaN</td>\n      <td>NaN</td>\n      <td>NaN</td>\n      <td>NaN</td>\n      <td>NaN</td>\n    </tr>\n    <tr>\n      <th>...</th>\n      <td>...</td>\n      <td>...</td>\n      <td>...</td>\n      <td>...</td>\n      <td>...</td>\n      <td>...</td>\n      <td>...</td>\n      <td>...</td>\n      <td>...</td>\n      <td>...</td>\n      <td>...</td>\n      <td>...</td>\n      <td>...</td>\n      <td>...</td>\n      <td>...</td>\n      <td>...</td>\n      <td>...</td>\n      <td>...</td>\n      <td>...</td>\n      <td>...</td>\n      <td>...</td>\n    </tr>\n    <tr>\n      <th>287</th>\n      <td>2000</td>\n      <td>Thomas, Carl</td>\n      <td>Emotional</td>\n      <td>4:31</td>\n      <td>2000-11-25</td>\n      <td>77</td>\n      <td>63.0</td>\n      <td>61.0</td>\n      <td>58.0</td>\n      <td>54.0</td>\n      <td>...</td>\n      <td>NaN</td>\n      <td>NaN</td>\n      <td>NaN</td>\n      <td>NaN</td>\n      <td>NaN</td>\n      <td>NaN</td>\n      <td>NaN</td>\n      <td>NaN</td>\n      <td>NaN</td>\n      <td>NaN</td>\n    </tr>\n    <tr>\n      <th>288</th>\n      <td>2000</td>\n      <td>Thomas, Carl</td>\n      <td>I Wish</td>\n      <td>3:50</td>\n      <td>2000-03-25</td>\n      <td>75</td>\n      <td>64.0</td>\n      <td>48.0</td>\n      <td>39.0</td>\n      <td>32.0</td>\n      <td>...</td>\n      <td>NaN</td>\n      <td>NaN</td>\n      <td>NaN</td>\n      <td>NaN</td>\n      <td>NaN</td>\n      <td>NaN</td>\n      <td>NaN</td>\n      <td>NaN</td>\n      <td>NaN</td>\n      <td>NaN</td>\n    </tr>\n    <tr>\n      <th>289</th>\n      <td>2000</td>\n      <td>Thomas, Carl</td>\n      <td>Summer Rain</td>\n      <td>4:57</td>\n      <td>2000-09-23</td>\n      <td>82</td>\n      <td>82.0</td>\n      <td>86.0</td>\n      <td>80.0</td>\n      <td>82.0</td>\n      <td>...</td>\n      <td>NaN</td>\n      <td>NaN</td>\n      <td>NaN</td>\n      <td>NaN</td>\n      <td>NaN</td>\n      <td>NaN</td>\n      <td>NaN</td>\n      <td>NaN</td>\n      <td>NaN</td>\n      <td>NaN</td>\n    </tr>\n    <tr>\n      <th>290</th>\n      <td>2000</td>\n      <td>Tippin, Aaron</td>\n      <td>Kiss This</td>\n      <td>2:53</td>\n      <td>2000-08-26</td>\n      <td>74</td>\n      <td>72.0</td>\n      <td>66.0</td>\n      <td>53.0</td>\n      <td>52.0</td>\n      <td>...</td>\n      <td>NaN</td>\n      <td>NaN</td>\n      <td>NaN</td>\n      <td>NaN</td>\n      <td>NaN</td>\n      <td>NaN</td>\n      <td>NaN</td>\n      <td>NaN</td>\n      <td>NaN</td>\n      <td>NaN</td>\n    </tr>\n    <tr>\n      <th>291</th>\n      <td>2000</td>\n      <td>Train</td>\n      <td>Meet Virginia</td>\n      <td>3:55</td>\n      <td>1999-10-09</td>\n      <td>76</td>\n      <td>67.0</td>\n      <td>59.0</td>\n      <td>54.0</td>\n      <td>48.0</td>\n      <td>...</td>\n      <td>NaN</td>\n      <td>NaN</td>\n      <td>NaN</td>\n      <td>NaN</td>\n      <td>NaN</td>\n      <td>NaN</td>\n      <td>NaN</td>\n      <td>NaN</td>\n      <td>NaN</td>\n      <td>NaN</td>\n    </tr>\n    <tr>\n      <th>292</th>\n      <td>2000</td>\n      <td>Trick Daddy</td>\n      <td>Shut Up</td>\n      <td>4:17</td>\n      <td>2000-05-20</td>\n      <td>99</td>\n      <td>95.0</td>\n      <td>87.0</td>\n      <td>87.0</td>\n      <td>83.0</td>\n      <td>...</td>\n      <td>NaN</td>\n      <td>NaN</td>\n      <td>NaN</td>\n      <td>NaN</td>\n      <td>NaN</td>\n      <td>NaN</td>\n      <td>NaN</td>\n      <td>NaN</td>\n      <td>NaN</td>\n      <td>NaN</td>\n    </tr>\n    <tr>\n      <th>293</th>\n      <td>2000</td>\n      <td>Trina</td>\n      <td>Pull Over</td>\n      <td>2:58</td>\n      <td>2000-09-09</td>\n      <td>97</td>\n      <td>93.0</td>\n      <td>96.0</td>\n      <td>100.0</td>\n      <td>NaN</td>\n      <td>...</td>\n      <td>NaN</td>\n      <td>NaN</td>\n      <td>NaN</td>\n      <td>NaN</td>\n      <td>NaN</td>\n      <td>NaN</td>\n      <td>NaN</td>\n      <td>NaN</td>\n      <td>NaN</td>\n      <td>NaN</td>\n    </tr>\n    <tr>\n      <th>294</th>\n      <td>2000</td>\n      <td>Tritt, Travis</td>\n      <td>Best Of Intentions</td>\n      <td>4:15</td>\n      <td>2000-08-19</td>\n      <td>97</td>\n      <td>86.0</td>\n      <td>79.0</td>\n      <td>70.0</td>\n      <td>63.0</td>\n      <td>...</td>\n      <td>NaN</td>\n      <td>NaN</td>\n      <td>NaN</td>\n      <td>NaN</td>\n      <td>NaN</td>\n      <td>NaN</td>\n      <td>NaN</td>\n      <td>NaN</td>\n      <td>NaN</td>\n      <td>NaN</td>\n    </tr>\n    <tr>\n      <th>295</th>\n      <td>2000</td>\n      <td>Tuesday</td>\n      <td>I Know</td>\n      <td>4:06</td>\n      <td>2000-12-30</td>\n      <td>98</td>\n      <td>98.0</td>\n      <td>NaN</td>\n      <td>NaN</td>\n      <td>NaN</td>\n      <td>...</td>\n      <td>NaN</td>\n      <td>NaN</td>\n      <td>NaN</td>\n      <td>NaN</td>\n      <td>NaN</td>\n      <td>NaN</td>\n      <td>NaN</td>\n      <td>NaN</td>\n      <td>NaN</td>\n      <td>NaN</td>\n    </tr>\n    <tr>\n      <th>296</th>\n      <td>2000</td>\n      <td>Urban, Keith</td>\n      <td>Your Everything</td>\n      <td>4:10</td>\n      <td>2000-07-15</td>\n      <td>81</td>\n      <td>80.0</td>\n      <td>73.0</td>\n      <td>73.0</td>\n      <td>67.0</td>\n      <td>...</td>\n      <td>NaN</td>\n      <td>NaN</td>\n      <td>NaN</td>\n      <td>NaN</td>\n      <td>NaN</td>\n      <td>NaN</td>\n      <td>NaN</td>\n      <td>NaN</td>\n      <td>NaN</td>\n      <td>NaN</td>\n    </tr>\n    <tr>\n      <th>297</th>\n      <td>2000</td>\n      <td>Usher</td>\n      <td>Pop Ya Collar</td>\n      <td>3:36</td>\n      <td>2000-11-04</td>\n      <td>68</td>\n      <td>64.0</td>\n      <td>60.0</td>\n      <td>60.0</td>\n      <td>62.0</td>\n      <td>...</td>\n      <td>NaN</td>\n      <td>NaN</td>\n      <td>NaN</td>\n      <td>NaN</td>\n      <td>NaN</td>\n      <td>NaN</td>\n      <td>NaN</td>\n      <td>NaN</td>\n      <td>NaN</td>\n      <td>NaN</td>\n    </tr>\n    <tr>\n      <th>298</th>\n      <td>2000</td>\n      <td>Vassar, Phil</td>\n      <td>Carlene</td>\n      <td>4:07</td>\n      <td>2000-03-04</td>\n      <td>75</td>\n      <td>67.0</td>\n      <td>64.0</td>\n      <td>64.0</td>\n      <td>57.0</td>\n      <td>...</td>\n      <td>NaN</td>\n      <td>NaN</td>\n      <td>NaN</td>\n      <td>NaN</td>\n      <td>NaN</td>\n      <td>NaN</td>\n      <td>NaN</td>\n      <td>NaN</td>\n      <td>NaN</td>\n      <td>NaN</td>\n    </tr>\n    <tr>\n      <th>299</th>\n      <td>2000</td>\n      <td>Vassar, Phil</td>\n      <td>Just Another Day In ...</td>\n      <td>3:54</td>\n      <td>2000-09-30</td>\n      <td>81</td>\n      <td>81.0</td>\n      <td>76.0</td>\n      <td>67.0</td>\n      <td>53.0</td>\n      <td>...</td>\n      <td>NaN</td>\n      <td>NaN</td>\n      <td>NaN</td>\n      <td>NaN</td>\n      <td>NaN</td>\n      <td>NaN</td>\n      <td>NaN</td>\n      <td>NaN</td>\n      <td>NaN</td>\n      <td>NaN</td>\n    </tr>\n    <tr>\n      <th>300</th>\n      <td>2000</td>\n      <td>Vertical Horizon</td>\n      <td>Everything You Want</td>\n      <td>4:01</td>\n      <td>2000-01-22</td>\n      <td>70</td>\n      <td>61.0</td>\n      <td>53.0</td>\n      <td>46.0</td>\n      <td>40.0</td>\n      <td>...</td>\n      <td>NaN</td>\n      <td>NaN</td>\n      <td>NaN</td>\n      <td>NaN</td>\n      <td>NaN</td>\n      <td>NaN</td>\n      <td>NaN</td>\n      <td>NaN</td>\n      <td>NaN</td>\n      <td>NaN</td>\n    </tr>\n    <tr>\n      <th>301</th>\n      <td>2000</td>\n      <td>Vertical Horizon</td>\n      <td>You're A God</td>\n      <td>3:45</td>\n      <td>2000-08-26</td>\n      <td>64</td>\n      <td>55.0</td>\n      <td>43.0</td>\n      <td>41.0</td>\n      <td>37.0</td>\n      <td>...</td>\n      <td>NaN</td>\n      <td>NaN</td>\n      <td>NaN</td>\n      <td>NaN</td>\n      <td>NaN</td>\n      <td>NaN</td>\n      <td>NaN</td>\n      <td>NaN</td>\n      <td>NaN</td>\n      <td>NaN</td>\n    </tr>\n    <tr>\n      <th>302</th>\n      <td>2000</td>\n      <td>Vitamin C</td>\n      <td>Graduation (Friends ...</td>\n      <td>4:23</td>\n      <td>2000-04-15</td>\n      <td>81</td>\n      <td>64.0</td>\n      <td>54.0</td>\n      <td>54.0</td>\n      <td>46.0</td>\n      <td>...</td>\n      <td>NaN</td>\n      <td>NaN</td>\n      <td>NaN</td>\n      <td>NaN</td>\n      <td>NaN</td>\n      <td>NaN</td>\n      <td>NaN</td>\n      <td>NaN</td>\n      <td>NaN</td>\n      <td>NaN</td>\n    </tr>\n    <tr>\n      <th>303</th>\n      <td>2000</td>\n      <td>Vitamin C</td>\n      <td>The Itch</td>\n      <td>3:30</td>\n      <td>2000-12-02</td>\n      <td>86</td>\n      <td>48.0</td>\n      <td>45.0</td>\n      <td>52.0</td>\n      <td>57.0</td>\n      <td>...</td>\n      <td>NaN</td>\n      <td>NaN</td>\n      <td>NaN</td>\n      <td>NaN</td>\n      <td>NaN</td>\n      <td>NaN</td>\n      <td>NaN</td>\n      <td>NaN</td>\n      <td>NaN</td>\n      <td>NaN</td>\n    </tr>\n    <tr>\n      <th>304</th>\n      <td>2000</td>\n      <td>Walker, Clay</td>\n      <td>Live, Laugh, Love</td>\n      <td>4:06</td>\n      <td>1999-12-04</td>\n      <td>95</td>\n      <td>95.0</td>\n      <td>94.0</td>\n      <td>94.0</td>\n      <td>94.0</td>\n      <td>...</td>\n      <td>NaN</td>\n      <td>NaN</td>\n      <td>NaN</td>\n      <td>NaN</td>\n      <td>NaN</td>\n      <td>NaN</td>\n      <td>NaN</td>\n      <td>NaN</td>\n      <td>NaN</td>\n      <td>NaN</td>\n    </tr>\n    <tr>\n      <th>305</th>\n      <td>2000</td>\n      <td>Walker, Clay</td>\n      <td>The Chain Of Love</td>\n      <td>5:03</td>\n      <td>2000-04-15</td>\n      <td>73</td>\n      <td>65.0</td>\n      <td>57.0</td>\n      <td>57.0</td>\n      <td>51.0</td>\n      <td>...</td>\n      <td>NaN</td>\n      <td>NaN</td>\n      <td>NaN</td>\n      <td>NaN</td>\n      <td>NaN</td>\n      <td>NaN</td>\n      <td>NaN</td>\n      <td>NaN</td>\n      <td>NaN</td>\n      <td>NaN</td>\n    </tr>\n    <tr>\n      <th>306</th>\n      <td>2000</td>\n      <td>Wallflowers, The</td>\n      <td>Sleepwalker</td>\n      <td>3:29</td>\n      <td>2000-10-28</td>\n      <td>73</td>\n      <td>73.0</td>\n      <td>74.0</td>\n      <td>80.0</td>\n      <td>90.0</td>\n      <td>...</td>\n      <td>NaN</td>\n      <td>NaN</td>\n      <td>NaN</td>\n      <td>NaN</td>\n      <td>NaN</td>\n      <td>NaN</td>\n      <td>NaN</td>\n      <td>NaN</td>\n      <td>NaN</td>\n      <td>NaN</td>\n    </tr>\n    <tr>\n      <th>307</th>\n      <td>2000</td>\n      <td>Westlife</td>\n      <td>Swear It Again</td>\n      <td>4:07</td>\n      <td>2000-04-01</td>\n      <td>96</td>\n      <td>82.0</td>\n      <td>66.0</td>\n      <td>55.0</td>\n      <td>55.0</td>\n      <td>...</td>\n      <td>NaN</td>\n      <td>NaN</td>\n      <td>NaN</td>\n      <td>NaN</td>\n      <td>NaN</td>\n      <td>NaN</td>\n      <td>NaN</td>\n      <td>NaN</td>\n      <td>NaN</td>\n      <td>NaN</td>\n    </tr>\n    <tr>\n      <th>308</th>\n      <td>2000</td>\n      <td>Williams, Robbie</td>\n      <td>Angels</td>\n      <td>3:56</td>\n      <td>1999-11-20</td>\n      <td>85</td>\n      <td>77.0</td>\n      <td>69.0</td>\n      <td>69.0</td>\n      <td>62.0</td>\n      <td>...</td>\n      <td>NaN</td>\n      <td>NaN</td>\n      <td>NaN</td>\n      <td>NaN</td>\n      <td>NaN</td>\n      <td>NaN</td>\n      <td>NaN</td>\n      <td>NaN</td>\n      <td>NaN</td>\n      <td>NaN</td>\n    </tr>\n    <tr>\n      <th>309</th>\n      <td>2000</td>\n      <td>Wills, Mark</td>\n      <td>Back At One</td>\n      <td>4:00</td>\n      <td>2000-01-15</td>\n      <td>89</td>\n      <td>55.0</td>\n      <td>51.0</td>\n      <td>43.0</td>\n      <td>37.0</td>\n      <td>...</td>\n      <td>NaN</td>\n      <td>NaN</td>\n      <td>NaN</td>\n      <td>NaN</td>\n      <td>NaN</td>\n      <td>NaN</td>\n      <td>NaN</td>\n      <td>NaN</td>\n      <td>NaN</td>\n      <td>NaN</td>\n    </tr>\n    <tr>\n      <th>310</th>\n      <td>2000</td>\n      <td>Worley, Darryl</td>\n      <td>When You Need My Lov...</td>\n      <td>3:35</td>\n      <td>2000-06-17</td>\n      <td>98</td>\n      <td>88.0</td>\n      <td>93.0</td>\n      <td>92.0</td>\n      <td>85.0</td>\n      <td>...</td>\n      <td>NaN</td>\n      <td>NaN</td>\n      <td>NaN</td>\n      <td>NaN</td>\n      <td>NaN</td>\n      <td>NaN</td>\n      <td>NaN</td>\n      <td>NaN</td>\n      <td>NaN</td>\n      <td>NaN</td>\n    </tr>\n    <tr>\n      <th>311</th>\n      <td>2000</td>\n      <td>Wright, Chely</td>\n      <td>It Was</td>\n      <td>3:51</td>\n      <td>2000-03-04</td>\n      <td>86</td>\n      <td>78.0</td>\n      <td>75.0</td>\n      <td>72.0</td>\n      <td>71.0</td>\n      <td>...</td>\n      <td>NaN</td>\n      <td>NaN</td>\n      <td>NaN</td>\n      <td>NaN</td>\n      <td>NaN</td>\n      <td>NaN</td>\n      <td>NaN</td>\n      <td>NaN</td>\n      <td>NaN</td>\n      <td>NaN</td>\n    </tr>\n    <tr>\n      <th>312</th>\n      <td>2000</td>\n      <td>Yankee Grey</td>\n      <td>Another Nine Minutes</td>\n      <td>3:10</td>\n      <td>2000-04-29</td>\n      <td>86</td>\n      <td>83.0</td>\n      <td>77.0</td>\n      <td>74.0</td>\n      <td>83.0</td>\n      <td>...</td>\n      <td>NaN</td>\n      <td>NaN</td>\n      <td>NaN</td>\n      <td>NaN</td>\n      <td>NaN</td>\n      <td>NaN</td>\n      <td>NaN</td>\n      <td>NaN</td>\n      <td>NaN</td>\n      <td>NaN</td>\n    </tr>\n    <tr>\n      <th>313</th>\n      <td>2000</td>\n      <td>Yearwood, Trisha</td>\n      <td>Real Live Woman</td>\n      <td>3:55</td>\n      <td>2000-04-01</td>\n      <td>85</td>\n      <td>83.0</td>\n      <td>83.0</td>\n      <td>82.0</td>\n      <td>81.0</td>\n      <td>...</td>\n      <td>NaN</td>\n      <td>NaN</td>\n      <td>NaN</td>\n      <td>NaN</td>\n      <td>NaN</td>\n      <td>NaN</td>\n      <td>NaN</td>\n      <td>NaN</td>\n      <td>NaN</td>\n      <td>NaN</td>\n    </tr>\n    <tr>\n      <th>314</th>\n      <td>2000</td>\n      <td>Ying Yang Twins</td>\n      <td>Whistle While You Tw...</td>\n      <td>4:19</td>\n      <td>2000-03-18</td>\n      <td>95</td>\n      <td>94.0</td>\n      <td>91.0</td>\n      <td>85.0</td>\n      <td>84.0</td>\n      <td>...</td>\n      <td>NaN</td>\n      <td>NaN</td>\n      <td>NaN</td>\n      <td>NaN</td>\n      <td>NaN</td>\n      <td>NaN</td>\n      <td>NaN</td>\n      <td>NaN</td>\n      <td>NaN</td>\n      <td>NaN</td>\n    </tr>\n    <tr>\n      <th>315</th>\n      <td>2000</td>\n      <td>Zombie Nation</td>\n      <td>Kernkraft 400</td>\n      <td>3:30</td>\n      <td>2000-09-02</td>\n      <td>99</td>\n      <td>99.0</td>\n      <td>NaN</td>\n      <td>NaN</td>\n      <td>NaN</td>\n      <td>...</td>\n      <td>NaN</td>\n      <td>NaN</td>\n      <td>NaN</td>\n      <td>NaN</td>\n      <td>NaN</td>\n      <td>NaN</td>\n      <td>NaN</td>\n      <td>NaN</td>\n      <td>NaN</td>\n      <td>NaN</td>\n    </tr>\n    <tr>\n      <th>316</th>\n      <td>2000</td>\n      <td>matchbox twenty</td>\n      <td>Bent</td>\n      <td>4:12</td>\n      <td>2000-04-29</td>\n      <td>60</td>\n      <td>37.0</td>\n      <td>29.0</td>\n      <td>24.0</td>\n      <td>22.0</td>\n      <td>...</td>\n      <td>NaN</td>\n      <td>NaN</td>\n      <td>NaN</td>\n      <td>NaN</td>\n      <td>NaN</td>\n      <td>NaN</td>\n      <td>NaN</td>\n      <td>NaN</td>\n      <td>NaN</td>\n      <td>NaN</td>\n    </tr>\n  </tbody>\n</table>\n<p>317 rows × 81 columns</p>\n</div>"
     },
     "metadata": {},
     "execution_count": 64
    }
   ],
   "source": [
    "billboard = pd.read_csv(\"../data/billboard.csv\")\n",
    "billboard"
   ]
  },
  {
   "cell_type": "code",
   "execution_count": 66,
   "metadata": {},
   "outputs": [
    {
     "output_type": "execute_result",
     "data": {
      "text/plain": [
       "       year                artist                    track  time date.entered  \\\n",
       "0      2000                 2 Pac  Baby Don't Cry (Keep...  4:22   2000-02-26   \n",
       "1      2000               2Ge+her  The Hardest Part Of ...  3:15   2000-09-02   \n",
       "2      2000          3 Doors Down               Kryptonite  3:53   2000-04-08   \n",
       "3      2000          3 Doors Down                    Loser  4:24   2000-10-21   \n",
       "4      2000              504 Boyz            Wobble Wobble  3:35   2000-04-15   \n",
       "5      2000                  98^0  Give Me Just One Nig...  3:24   2000-08-19   \n",
       "6      2000               A*Teens            Dancing Queen  3:44   2000-07-08   \n",
       "7      2000               Aaliyah            I Don't Wanna  4:15   2000-01-29   \n",
       "8      2000               Aaliyah                Try Again  4:03   2000-03-18   \n",
       "9      2000        Adams, Yolanda            Open My Heart  5:30   2000-08-26   \n",
       "10     2000         Adkins, Trace                     More  3:05   2000-04-29   \n",
       "11     2000   Aguilera, Christina  Come On Over Baby (A...  3:38   2000-08-05   \n",
       "12     2000   Aguilera, Christina            I Turn To You  4:00   2000-04-15   \n",
       "13     2000   Aguilera, Christina        What A Girl Wants  3:18   1999-11-27   \n",
       "14     2000          Alice Deejay         Better Off Alone  6:50   2000-04-08   \n",
       "15     2000           Allan, Gary  Smoke Rings In The D...  4:18   2000-01-22   \n",
       "16     2000                 Amber                   Sexual  4:38   1999-07-17   \n",
       "17     2000             Anastacia           I'm Outta Love  4:01   2000-04-01   \n",
       "18     2000         Anthony, Marc              My Baby You  3:59   2000-09-16   \n",
       "19     2000         Anthony, Marc           You Sang To Me  3:50   2000-02-26   \n",
       "20     2000                 Avant            My First Love  4:28   2000-11-04   \n",
       "21     2000                 Avant                Separated  4:13   2000-04-29   \n",
       "22     2000                 BBMak                Back Here  3:35   2000-04-29   \n",
       "23     2000  Backstreet Boys, The        Shape Of My Heart  3:49   2000-10-14   \n",
       "24     2000  Backstreet Boys, The  Show Me The Meaning ...  3:54   2000-01-01   \n",
       "25     2000  Backstreet Boys, The                  The One  3:46   2000-05-27   \n",
       "26     2000          Badu, Erkyah                 Bag Lady  5:03   2000-08-19   \n",
       "27     2000              Baha Men     Who Let The Dogs Out  3:17   2000-07-22   \n",
       "28     2000      Barenaked Ladies                 Pinch Me  3:46   2000-09-09   \n",
       "29     2000            Beenie Man          Girls Dem Sugar  4:17   2000-10-21   \n",
       "...     ...                   ...                      ...   ...          ...   \n",
       "24062  2000          Thomas, Carl                Emotional  4:31   2000-11-25   \n",
       "24063  2000          Thomas, Carl                   I Wish  3:50   2000-03-25   \n",
       "24064  2000          Thomas, Carl              Summer Rain  4:57   2000-09-23   \n",
       "24065  2000         Tippin, Aaron                Kiss This  2:53   2000-08-26   \n",
       "24066  2000                 Train            Meet Virginia  3:55   1999-10-09   \n",
       "24067  2000           Trick Daddy                  Shut Up  4:17   2000-05-20   \n",
       "24068  2000                 Trina                Pull Over  2:58   2000-09-09   \n",
       "24069  2000         Tritt, Travis       Best Of Intentions  4:15   2000-08-19   \n",
       "24070  2000               Tuesday                   I Know  4:06   2000-12-30   \n",
       "24071  2000          Urban, Keith          Your Everything  4:10   2000-07-15   \n",
       "24072  2000                 Usher            Pop Ya Collar  3:36   2000-11-04   \n",
       "24073  2000          Vassar, Phil                  Carlene  4:07   2000-03-04   \n",
       "24074  2000          Vassar, Phil  Just Another Day In ...  3:54   2000-09-30   \n",
       "24075  2000      Vertical Horizon      Everything You Want  4:01   2000-01-22   \n",
       "24076  2000      Vertical Horizon             You're A God  3:45   2000-08-26   \n",
       "24077  2000             Vitamin C  Graduation (Friends ...  4:23   2000-04-15   \n",
       "24078  2000             Vitamin C                 The Itch  3:30   2000-12-02   \n",
       "24079  2000          Walker, Clay        Live, Laugh, Love  4:06   1999-12-04   \n",
       "24080  2000          Walker, Clay        The Chain Of Love  5:03   2000-04-15   \n",
       "24081  2000      Wallflowers, The              Sleepwalker  3:29   2000-10-28   \n",
       "24082  2000              Westlife           Swear It Again  4:07   2000-04-01   \n",
       "24083  2000      Williams, Robbie                   Angels  3:56   1999-11-20   \n",
       "24084  2000           Wills, Mark              Back At One  4:00   2000-01-15   \n",
       "24085  2000        Worley, Darryl  When You Need My Lov...  3:35   2000-06-17   \n",
       "24086  2000         Wright, Chely                   It Was  3:51   2000-03-04   \n",
       "24087  2000           Yankee Grey     Another Nine Minutes  3:10   2000-04-29   \n",
       "24088  2000      Yearwood, Trisha          Real Live Woman  3:55   2000-04-01   \n",
       "24089  2000       Ying Yang Twins  Whistle While You Tw...  4:19   2000-03-18   \n",
       "24090  2000         Zombie Nation            Kernkraft 400  3:30   2000-09-02   \n",
       "24091  2000       matchbox twenty                     Bent  4:12   2000-04-29   \n",
       "\n",
       "       week  rank  \n",
       "0       wk1  87.0  \n",
       "1       wk1  91.0  \n",
       "2       wk1  81.0  \n",
       "3       wk1  76.0  \n",
       "4       wk1  57.0  \n",
       "5       wk1  51.0  \n",
       "6       wk1  97.0  \n",
       "7       wk1  84.0  \n",
       "8       wk1  59.0  \n",
       "9       wk1  76.0  \n",
       "10      wk1  84.0  \n",
       "11      wk1  57.0  \n",
       "12      wk1  50.0  \n",
       "13      wk1  71.0  \n",
       "14      wk1  79.0  \n",
       "15      wk1  80.0  \n",
       "16      wk1  99.0  \n",
       "17      wk1  92.0  \n",
       "18      wk1  82.0  \n",
       "19      wk1  77.0  \n",
       "20      wk1  70.0  \n",
       "21      wk1  62.0  \n",
       "22      wk1  99.0  \n",
       "23      wk1  39.0  \n",
       "24      wk1  74.0  \n",
       "25      wk1  58.0  \n",
       "26      wk1  67.0  \n",
       "27      wk1  99.0  \n",
       "28      wk1  77.0  \n",
       "29      wk1  72.0  \n",
       "...     ...   ...  \n",
       "24062  wk76   NaN  \n",
       "24063  wk76   NaN  \n",
       "24064  wk76   NaN  \n",
       "24065  wk76   NaN  \n",
       "24066  wk76   NaN  \n",
       "24067  wk76   NaN  \n",
       "24068  wk76   NaN  \n",
       "24069  wk76   NaN  \n",
       "24070  wk76   NaN  \n",
       "24071  wk76   NaN  \n",
       "24072  wk76   NaN  \n",
       "24073  wk76   NaN  \n",
       "24074  wk76   NaN  \n",
       "24075  wk76   NaN  \n",
       "24076  wk76   NaN  \n",
       "24077  wk76   NaN  \n",
       "24078  wk76   NaN  \n",
       "24079  wk76   NaN  \n",
       "24080  wk76   NaN  \n",
       "24081  wk76   NaN  \n",
       "24082  wk76   NaN  \n",
       "24083  wk76   NaN  \n",
       "24084  wk76   NaN  \n",
       "24085  wk76   NaN  \n",
       "24086  wk76   NaN  \n",
       "24087  wk76   NaN  \n",
       "24088  wk76   NaN  \n",
       "24089  wk76   NaN  \n",
       "24090  wk76   NaN  \n",
       "24091  wk76   NaN  \n",
       "\n",
       "[24092 rows x 7 columns]"
      ],
      "text/html": "<div>\n<style scoped>\n    .dataframe tbody tr th:only-of-type {\n        vertical-align: middle;\n    }\n\n    .dataframe tbody tr th {\n        vertical-align: top;\n    }\n\n    .dataframe thead th {\n        text-align: right;\n    }\n</style>\n<table border=\"1\" class=\"dataframe\">\n  <thead>\n    <tr style=\"text-align: right;\">\n      <th></th>\n      <th>year</th>\n      <th>artist</th>\n      <th>track</th>\n      <th>time</th>\n      <th>date.entered</th>\n      <th>week</th>\n      <th>rank</th>\n    </tr>\n  </thead>\n  <tbody>\n    <tr>\n      <th>0</th>\n      <td>2000</td>\n      <td>2 Pac</td>\n      <td>Baby Don't Cry (Keep...</td>\n      <td>4:22</td>\n      <td>2000-02-26</td>\n      <td>wk1</td>\n      <td>87.0</td>\n    </tr>\n    <tr>\n      <th>1</th>\n      <td>2000</td>\n      <td>2Ge+her</td>\n      <td>The Hardest Part Of ...</td>\n      <td>3:15</td>\n      <td>2000-09-02</td>\n      <td>wk1</td>\n      <td>91.0</td>\n    </tr>\n    <tr>\n      <th>2</th>\n      <td>2000</td>\n      <td>3 Doors Down</td>\n      <td>Kryptonite</td>\n      <td>3:53</td>\n      <td>2000-04-08</td>\n      <td>wk1</td>\n      <td>81.0</td>\n    </tr>\n    <tr>\n      <th>3</th>\n      <td>2000</td>\n      <td>3 Doors Down</td>\n      <td>Loser</td>\n      <td>4:24</td>\n      <td>2000-10-21</td>\n      <td>wk1</td>\n      <td>76.0</td>\n    </tr>\n    <tr>\n      <th>4</th>\n      <td>2000</td>\n      <td>504 Boyz</td>\n      <td>Wobble Wobble</td>\n      <td>3:35</td>\n      <td>2000-04-15</td>\n      <td>wk1</td>\n      <td>57.0</td>\n    </tr>\n    <tr>\n      <th>5</th>\n      <td>2000</td>\n      <td>98^0</td>\n      <td>Give Me Just One Nig...</td>\n      <td>3:24</td>\n      <td>2000-08-19</td>\n      <td>wk1</td>\n      <td>51.0</td>\n    </tr>\n    <tr>\n      <th>6</th>\n      <td>2000</td>\n      <td>A*Teens</td>\n      <td>Dancing Queen</td>\n      <td>3:44</td>\n      <td>2000-07-08</td>\n      <td>wk1</td>\n      <td>97.0</td>\n    </tr>\n    <tr>\n      <th>7</th>\n      <td>2000</td>\n      <td>Aaliyah</td>\n      <td>I Don't Wanna</td>\n      <td>4:15</td>\n      <td>2000-01-29</td>\n      <td>wk1</td>\n      <td>84.0</td>\n    </tr>\n    <tr>\n      <th>8</th>\n      <td>2000</td>\n      <td>Aaliyah</td>\n      <td>Try Again</td>\n      <td>4:03</td>\n      <td>2000-03-18</td>\n      <td>wk1</td>\n      <td>59.0</td>\n    </tr>\n    <tr>\n      <th>9</th>\n      <td>2000</td>\n      <td>Adams, Yolanda</td>\n      <td>Open My Heart</td>\n      <td>5:30</td>\n      <td>2000-08-26</td>\n      <td>wk1</td>\n      <td>76.0</td>\n    </tr>\n    <tr>\n      <th>10</th>\n      <td>2000</td>\n      <td>Adkins, Trace</td>\n      <td>More</td>\n      <td>3:05</td>\n      <td>2000-04-29</td>\n      <td>wk1</td>\n      <td>84.0</td>\n    </tr>\n    <tr>\n      <th>11</th>\n      <td>2000</td>\n      <td>Aguilera, Christina</td>\n      <td>Come On Over Baby (A...</td>\n      <td>3:38</td>\n      <td>2000-08-05</td>\n      <td>wk1</td>\n      <td>57.0</td>\n    </tr>\n    <tr>\n      <th>12</th>\n      <td>2000</td>\n      <td>Aguilera, Christina</td>\n      <td>I Turn To You</td>\n      <td>4:00</td>\n      <td>2000-04-15</td>\n      <td>wk1</td>\n      <td>50.0</td>\n    </tr>\n    <tr>\n      <th>13</th>\n      <td>2000</td>\n      <td>Aguilera, Christina</td>\n      <td>What A Girl Wants</td>\n      <td>3:18</td>\n      <td>1999-11-27</td>\n      <td>wk1</td>\n      <td>71.0</td>\n    </tr>\n    <tr>\n      <th>14</th>\n      <td>2000</td>\n      <td>Alice Deejay</td>\n      <td>Better Off Alone</td>\n      <td>6:50</td>\n      <td>2000-04-08</td>\n      <td>wk1</td>\n      <td>79.0</td>\n    </tr>\n    <tr>\n      <th>15</th>\n      <td>2000</td>\n      <td>Allan, Gary</td>\n      <td>Smoke Rings In The D...</td>\n      <td>4:18</td>\n      <td>2000-01-22</td>\n      <td>wk1</td>\n      <td>80.0</td>\n    </tr>\n    <tr>\n      <th>16</th>\n      <td>2000</td>\n      <td>Amber</td>\n      <td>Sexual</td>\n      <td>4:38</td>\n      <td>1999-07-17</td>\n      <td>wk1</td>\n      <td>99.0</td>\n    </tr>\n    <tr>\n      <th>17</th>\n      <td>2000</td>\n      <td>Anastacia</td>\n      <td>I'm Outta Love</td>\n      <td>4:01</td>\n      <td>2000-04-01</td>\n      <td>wk1</td>\n      <td>92.0</td>\n    </tr>\n    <tr>\n      <th>18</th>\n      <td>2000</td>\n      <td>Anthony, Marc</td>\n      <td>My Baby You</td>\n      <td>3:59</td>\n      <td>2000-09-16</td>\n      <td>wk1</td>\n      <td>82.0</td>\n    </tr>\n    <tr>\n      <th>19</th>\n      <td>2000</td>\n      <td>Anthony, Marc</td>\n      <td>You Sang To Me</td>\n      <td>3:50</td>\n      <td>2000-02-26</td>\n      <td>wk1</td>\n      <td>77.0</td>\n    </tr>\n    <tr>\n      <th>20</th>\n      <td>2000</td>\n      <td>Avant</td>\n      <td>My First Love</td>\n      <td>4:28</td>\n      <td>2000-11-04</td>\n      <td>wk1</td>\n      <td>70.0</td>\n    </tr>\n    <tr>\n      <th>21</th>\n      <td>2000</td>\n      <td>Avant</td>\n      <td>Separated</td>\n      <td>4:13</td>\n      <td>2000-04-29</td>\n      <td>wk1</td>\n      <td>62.0</td>\n    </tr>\n    <tr>\n      <th>22</th>\n      <td>2000</td>\n      <td>BBMak</td>\n      <td>Back Here</td>\n      <td>3:35</td>\n      <td>2000-04-29</td>\n      <td>wk1</td>\n      <td>99.0</td>\n    </tr>\n    <tr>\n      <th>23</th>\n      <td>2000</td>\n      <td>Backstreet Boys, The</td>\n      <td>Shape Of My Heart</td>\n      <td>3:49</td>\n      <td>2000-10-14</td>\n      <td>wk1</td>\n      <td>39.0</td>\n    </tr>\n    <tr>\n      <th>24</th>\n      <td>2000</td>\n      <td>Backstreet Boys, The</td>\n      <td>Show Me The Meaning ...</td>\n      <td>3:54</td>\n      <td>2000-01-01</td>\n      <td>wk1</td>\n      <td>74.0</td>\n    </tr>\n    <tr>\n      <th>25</th>\n      <td>2000</td>\n      <td>Backstreet Boys, The</td>\n      <td>The One</td>\n      <td>3:46</td>\n      <td>2000-05-27</td>\n      <td>wk1</td>\n      <td>58.0</td>\n    </tr>\n    <tr>\n      <th>26</th>\n      <td>2000</td>\n      <td>Badu, Erkyah</td>\n      <td>Bag Lady</td>\n      <td>5:03</td>\n      <td>2000-08-19</td>\n      <td>wk1</td>\n      <td>67.0</td>\n    </tr>\n    <tr>\n      <th>27</th>\n      <td>2000</td>\n      <td>Baha Men</td>\n      <td>Who Let The Dogs Out</td>\n      <td>3:17</td>\n      <td>2000-07-22</td>\n      <td>wk1</td>\n      <td>99.0</td>\n    </tr>\n    <tr>\n      <th>28</th>\n      <td>2000</td>\n      <td>Barenaked Ladies</td>\n      <td>Pinch Me</td>\n      <td>3:46</td>\n      <td>2000-09-09</td>\n      <td>wk1</td>\n      <td>77.0</td>\n    </tr>\n    <tr>\n      <th>29</th>\n      <td>2000</td>\n      <td>Beenie Man</td>\n      <td>Girls Dem Sugar</td>\n      <td>4:17</td>\n      <td>2000-10-21</td>\n      <td>wk1</td>\n      <td>72.0</td>\n    </tr>\n    <tr>\n      <th>...</th>\n      <td>...</td>\n      <td>...</td>\n      <td>...</td>\n      <td>...</td>\n      <td>...</td>\n      <td>...</td>\n      <td>...</td>\n    </tr>\n    <tr>\n      <th>24062</th>\n      <td>2000</td>\n      <td>Thomas, Carl</td>\n      <td>Emotional</td>\n      <td>4:31</td>\n      <td>2000-11-25</td>\n      <td>wk76</td>\n      <td>NaN</td>\n    </tr>\n    <tr>\n      <th>24063</th>\n      <td>2000</td>\n      <td>Thomas, Carl</td>\n      <td>I Wish</td>\n      <td>3:50</td>\n      <td>2000-03-25</td>\n      <td>wk76</td>\n      <td>NaN</td>\n    </tr>\n    <tr>\n      <th>24064</th>\n      <td>2000</td>\n      <td>Thomas, Carl</td>\n      <td>Summer Rain</td>\n      <td>4:57</td>\n      <td>2000-09-23</td>\n      <td>wk76</td>\n      <td>NaN</td>\n    </tr>\n    <tr>\n      <th>24065</th>\n      <td>2000</td>\n      <td>Tippin, Aaron</td>\n      <td>Kiss This</td>\n      <td>2:53</td>\n      <td>2000-08-26</td>\n      <td>wk76</td>\n      <td>NaN</td>\n    </tr>\n    <tr>\n      <th>24066</th>\n      <td>2000</td>\n      <td>Train</td>\n      <td>Meet Virginia</td>\n      <td>3:55</td>\n      <td>1999-10-09</td>\n      <td>wk76</td>\n      <td>NaN</td>\n    </tr>\n    <tr>\n      <th>24067</th>\n      <td>2000</td>\n      <td>Trick Daddy</td>\n      <td>Shut Up</td>\n      <td>4:17</td>\n      <td>2000-05-20</td>\n      <td>wk76</td>\n      <td>NaN</td>\n    </tr>\n    <tr>\n      <th>24068</th>\n      <td>2000</td>\n      <td>Trina</td>\n      <td>Pull Over</td>\n      <td>2:58</td>\n      <td>2000-09-09</td>\n      <td>wk76</td>\n      <td>NaN</td>\n    </tr>\n    <tr>\n      <th>24069</th>\n      <td>2000</td>\n      <td>Tritt, Travis</td>\n      <td>Best Of Intentions</td>\n      <td>4:15</td>\n      <td>2000-08-19</td>\n      <td>wk76</td>\n      <td>NaN</td>\n    </tr>\n    <tr>\n      <th>24070</th>\n      <td>2000</td>\n      <td>Tuesday</td>\n      <td>I Know</td>\n      <td>4:06</td>\n      <td>2000-12-30</td>\n      <td>wk76</td>\n      <td>NaN</td>\n    </tr>\n    <tr>\n      <th>24071</th>\n      <td>2000</td>\n      <td>Urban, Keith</td>\n      <td>Your Everything</td>\n      <td>4:10</td>\n      <td>2000-07-15</td>\n      <td>wk76</td>\n      <td>NaN</td>\n    </tr>\n    <tr>\n      <th>24072</th>\n      <td>2000</td>\n      <td>Usher</td>\n      <td>Pop Ya Collar</td>\n      <td>3:36</td>\n      <td>2000-11-04</td>\n      <td>wk76</td>\n      <td>NaN</td>\n    </tr>\n    <tr>\n      <th>24073</th>\n      <td>2000</td>\n      <td>Vassar, Phil</td>\n      <td>Carlene</td>\n      <td>4:07</td>\n      <td>2000-03-04</td>\n      <td>wk76</td>\n      <td>NaN</td>\n    </tr>\n    <tr>\n      <th>24074</th>\n      <td>2000</td>\n      <td>Vassar, Phil</td>\n      <td>Just Another Day In ...</td>\n      <td>3:54</td>\n      <td>2000-09-30</td>\n      <td>wk76</td>\n      <td>NaN</td>\n    </tr>\n    <tr>\n      <th>24075</th>\n      <td>2000</td>\n      <td>Vertical Horizon</td>\n      <td>Everything You Want</td>\n      <td>4:01</td>\n      <td>2000-01-22</td>\n      <td>wk76</td>\n      <td>NaN</td>\n    </tr>\n    <tr>\n      <th>24076</th>\n      <td>2000</td>\n      <td>Vertical Horizon</td>\n      <td>You're A God</td>\n      <td>3:45</td>\n      <td>2000-08-26</td>\n      <td>wk76</td>\n      <td>NaN</td>\n    </tr>\n    <tr>\n      <th>24077</th>\n      <td>2000</td>\n      <td>Vitamin C</td>\n      <td>Graduation (Friends ...</td>\n      <td>4:23</td>\n      <td>2000-04-15</td>\n      <td>wk76</td>\n      <td>NaN</td>\n    </tr>\n    <tr>\n      <th>24078</th>\n      <td>2000</td>\n      <td>Vitamin C</td>\n      <td>The Itch</td>\n      <td>3:30</td>\n      <td>2000-12-02</td>\n      <td>wk76</td>\n      <td>NaN</td>\n    </tr>\n    <tr>\n      <th>24079</th>\n      <td>2000</td>\n      <td>Walker, Clay</td>\n      <td>Live, Laugh, Love</td>\n      <td>4:06</td>\n      <td>1999-12-04</td>\n      <td>wk76</td>\n      <td>NaN</td>\n    </tr>\n    <tr>\n      <th>24080</th>\n      <td>2000</td>\n      <td>Walker, Clay</td>\n      <td>The Chain Of Love</td>\n      <td>5:03</td>\n      <td>2000-04-15</td>\n      <td>wk76</td>\n      <td>NaN</td>\n    </tr>\n    <tr>\n      <th>24081</th>\n      <td>2000</td>\n      <td>Wallflowers, The</td>\n      <td>Sleepwalker</td>\n      <td>3:29</td>\n      <td>2000-10-28</td>\n      <td>wk76</td>\n      <td>NaN</td>\n    </tr>\n    <tr>\n      <th>24082</th>\n      <td>2000</td>\n      <td>Westlife</td>\n      <td>Swear It Again</td>\n      <td>4:07</td>\n      <td>2000-04-01</td>\n      <td>wk76</td>\n      <td>NaN</td>\n    </tr>\n    <tr>\n      <th>24083</th>\n      <td>2000</td>\n      <td>Williams, Robbie</td>\n      <td>Angels</td>\n      <td>3:56</td>\n      <td>1999-11-20</td>\n      <td>wk76</td>\n      <td>NaN</td>\n    </tr>\n    <tr>\n      <th>24084</th>\n      <td>2000</td>\n      <td>Wills, Mark</td>\n      <td>Back At One</td>\n      <td>4:00</td>\n      <td>2000-01-15</td>\n      <td>wk76</td>\n      <td>NaN</td>\n    </tr>\n    <tr>\n      <th>24085</th>\n      <td>2000</td>\n      <td>Worley, Darryl</td>\n      <td>When You Need My Lov...</td>\n      <td>3:35</td>\n      <td>2000-06-17</td>\n      <td>wk76</td>\n      <td>NaN</td>\n    </tr>\n    <tr>\n      <th>24086</th>\n      <td>2000</td>\n      <td>Wright, Chely</td>\n      <td>It Was</td>\n      <td>3:51</td>\n      <td>2000-03-04</td>\n      <td>wk76</td>\n      <td>NaN</td>\n    </tr>\n    <tr>\n      <th>24087</th>\n      <td>2000</td>\n      <td>Yankee Grey</td>\n      <td>Another Nine Minutes</td>\n      <td>3:10</td>\n      <td>2000-04-29</td>\n      <td>wk76</td>\n      <td>NaN</td>\n    </tr>\n    <tr>\n      <th>24088</th>\n      <td>2000</td>\n      <td>Yearwood, Trisha</td>\n      <td>Real Live Woman</td>\n      <td>3:55</td>\n      <td>2000-04-01</td>\n      <td>wk76</td>\n      <td>NaN</td>\n    </tr>\n    <tr>\n      <th>24089</th>\n      <td>2000</td>\n      <td>Ying Yang Twins</td>\n      <td>Whistle While You Tw...</td>\n      <td>4:19</td>\n      <td>2000-03-18</td>\n      <td>wk76</td>\n      <td>NaN</td>\n    </tr>\n    <tr>\n      <th>24090</th>\n      <td>2000</td>\n      <td>Zombie Nation</td>\n      <td>Kernkraft 400</td>\n      <td>3:30</td>\n      <td>2000-09-02</td>\n      <td>wk76</td>\n      <td>NaN</td>\n    </tr>\n    <tr>\n      <th>24091</th>\n      <td>2000</td>\n      <td>matchbox twenty</td>\n      <td>Bent</td>\n      <td>4:12</td>\n      <td>2000-04-29</td>\n      <td>wk76</td>\n      <td>NaN</td>\n    </tr>\n  </tbody>\n</table>\n<p>24092 rows × 7 columns</p>\n</div>"
     },
     "metadata": {},
     "execution_count": 66
    }
   ],
   "source": [
    "bill_tiny = billboard.melt(id_vars=['year','artist','track','time','date.entered'],value_name='rank',var_name='week')\n",
    "bill_tiny"
   ]
  },
  {
   "cell_type": "code",
   "execution_count": 68,
   "metadata": {},
   "outputs": [
    {
     "output_type": "execute_result",
     "data": {
      "text/plain": [
       "                   artist       rank\n",
       "0                   2 Pac  85.428571\n",
       "1                 2Ge+her  90.000000\n",
       "2            3 Doors Down  37.602740\n",
       "3                504 Boyz  56.222222\n",
       "4                    98^0  37.650000\n",
       "5                 A*Teens  97.000000\n",
       "6                 Aaliyah  30.269231\n",
       "7          Adams, Yolanda  67.750000\n",
       "8           Adkins, Trace  76.272727\n",
       "9     Aguilera, Christina  21.089552\n",
       "10           Alice Deejay  51.250000\n",
       "11            Allan, Gary  80.600000\n",
       "12                  Amber  80.275862\n",
       "13              Anastacia  94.666667\n",
       "14          Anthony, Marc  46.000000\n",
       "15                  Avant  40.100000\n",
       "16                  BBMak  30.645161\n",
       "17   Backstreet Boys, The  34.474576\n",
       "18           Badu, Erkyah  32.350000\n",
       "19               Baha Men  62.500000\n",
       "20       Barenaked Ladies  33.952381\n",
       "21             Beenie Man  72.400000\n",
       "22            Before Dark  87.555556\n",
       "23              Bega, Lou  78.666667\n",
       "24           Big Punisher  85.533333\n",
       "25              Black Rob  62.941176\n",
       "26           Black, Clint  65.000000\n",
       "27                 Blaque  21.586207\n",
       "28         Blige, Mary J.  78.250000\n",
       "29              Blink-182  33.304348\n",
       "..                    ...        ...\n",
       "198        Strait, George  52.700000\n",
       "199             Sugar Ray  58.450000\n",
       "200                   TLC  63.285714\n",
       "201                 Tamar  93.666667\n",
       "202                 Tamia  89.000000\n",
       "203       Third Eye Blind  44.911765\n",
       "204          Thomas, Carl  58.627451\n",
       "205         Tippin, Aaron  66.950000\n",
       "206                 Train  36.925926\n",
       "207           Trick Daddy  90.090909\n",
       "208                 Trina  96.500000\n",
       "209         Tritt, Travis  47.818182\n",
       "210               Tuesday  98.000000\n",
       "211          Urban, Keith  72.000000\n",
       "212                 Usher  69.428571\n",
       "213          Vassar, Phil  61.589744\n",
       "214      Vertical Horizon  26.709677\n",
       "215             Vitamin C  60.000000\n",
       "216          Walker, Clay  72.967742\n",
       "217      Wallflowers, The  81.000000\n",
       "218              Westlife  43.350000\n",
       "219      Williams, Robbie  75.421053\n",
       "220           Wills, Mark  59.833333\n",
       "221        Worley, Darryl  85.533333\n",
       "222         Wright, Chely  77.300000\n",
       "223           Yankee Grey  83.125000\n",
       "224      Yearwood, Trisha  84.166667\n",
       "225       Ying Yang Twins  88.857143\n",
       "226         Zombie Nation  99.000000\n",
       "227       matchbox twenty  18.641026\n",
       "\n",
       "[228 rows x 2 columns]"
      ],
      "text/html": "<div>\n<style scoped>\n    .dataframe tbody tr th:only-of-type {\n        vertical-align: middle;\n    }\n\n    .dataframe tbody tr th {\n        vertical-align: top;\n    }\n\n    .dataframe thead th {\n        text-align: right;\n    }\n</style>\n<table border=\"1\" class=\"dataframe\">\n  <thead>\n    <tr style=\"text-align: right;\">\n      <th></th>\n      <th>artist</th>\n      <th>rank</th>\n    </tr>\n  </thead>\n  <tbody>\n    <tr>\n      <th>0</th>\n      <td>2 Pac</td>\n      <td>85.428571</td>\n    </tr>\n    <tr>\n      <th>1</th>\n      <td>2Ge+her</td>\n      <td>90.000000</td>\n    </tr>\n    <tr>\n      <th>2</th>\n      <td>3 Doors Down</td>\n      <td>37.602740</td>\n    </tr>\n    <tr>\n      <th>3</th>\n      <td>504 Boyz</td>\n      <td>56.222222</td>\n    </tr>\n    <tr>\n      <th>4</th>\n      <td>98^0</td>\n      <td>37.650000</td>\n    </tr>\n    <tr>\n      <th>5</th>\n      <td>A*Teens</td>\n      <td>97.000000</td>\n    </tr>\n    <tr>\n      <th>6</th>\n      <td>Aaliyah</td>\n      <td>30.269231</td>\n    </tr>\n    <tr>\n      <th>7</th>\n      <td>Adams, Yolanda</td>\n      <td>67.750000</td>\n    </tr>\n    <tr>\n      <th>8</th>\n      <td>Adkins, Trace</td>\n      <td>76.272727</td>\n    </tr>\n    <tr>\n      <th>9</th>\n      <td>Aguilera, Christina</td>\n      <td>21.089552</td>\n    </tr>\n    <tr>\n      <th>10</th>\n      <td>Alice Deejay</td>\n      <td>51.250000</td>\n    </tr>\n    <tr>\n      <th>11</th>\n      <td>Allan, Gary</td>\n      <td>80.600000</td>\n    </tr>\n    <tr>\n      <th>12</th>\n      <td>Amber</td>\n      <td>80.275862</td>\n    </tr>\n    <tr>\n      <th>13</th>\n      <td>Anastacia</td>\n      <td>94.666667</td>\n    </tr>\n    <tr>\n      <th>14</th>\n      <td>Anthony, Marc</td>\n      <td>46.000000</td>\n    </tr>\n    <tr>\n      <th>15</th>\n      <td>Avant</td>\n      <td>40.100000</td>\n    </tr>\n    <tr>\n      <th>16</th>\n      <td>BBMak</td>\n      <td>30.645161</td>\n    </tr>\n    <tr>\n      <th>17</th>\n      <td>Backstreet Boys, The</td>\n      <td>34.474576</td>\n    </tr>\n    <tr>\n      <th>18</th>\n      <td>Badu, Erkyah</td>\n      <td>32.350000</td>\n    </tr>\n    <tr>\n      <th>19</th>\n      <td>Baha Men</td>\n      <td>62.500000</td>\n    </tr>\n    <tr>\n      <th>20</th>\n      <td>Barenaked Ladies</td>\n      <td>33.952381</td>\n    </tr>\n    <tr>\n      <th>21</th>\n      <td>Beenie Man</td>\n      <td>72.400000</td>\n    </tr>\n    <tr>\n      <th>22</th>\n      <td>Before Dark</td>\n      <td>87.555556</td>\n    </tr>\n    <tr>\n      <th>23</th>\n      <td>Bega, Lou</td>\n      <td>78.666667</td>\n    </tr>\n    <tr>\n      <th>24</th>\n      <td>Big Punisher</td>\n      <td>85.533333</td>\n    </tr>\n    <tr>\n      <th>25</th>\n      <td>Black Rob</td>\n      <td>62.941176</td>\n    </tr>\n    <tr>\n      <th>26</th>\n      <td>Black, Clint</td>\n      <td>65.000000</td>\n    </tr>\n    <tr>\n      <th>27</th>\n      <td>Blaque</td>\n      <td>21.586207</td>\n    </tr>\n    <tr>\n      <th>28</th>\n      <td>Blige, Mary J.</td>\n      <td>78.250000</td>\n    </tr>\n    <tr>\n      <th>29</th>\n      <td>Blink-182</td>\n      <td>33.304348</td>\n    </tr>\n    <tr>\n      <th>...</th>\n      <td>...</td>\n      <td>...</td>\n    </tr>\n    <tr>\n      <th>198</th>\n      <td>Strait, George</td>\n      <td>52.700000</td>\n    </tr>\n    <tr>\n      <th>199</th>\n      <td>Sugar Ray</td>\n      <td>58.450000</td>\n    </tr>\n    <tr>\n      <th>200</th>\n      <td>TLC</td>\n      <td>63.285714</td>\n    </tr>\n    <tr>\n      <th>201</th>\n      <td>Tamar</td>\n      <td>93.666667</td>\n    </tr>\n    <tr>\n      <th>202</th>\n      <td>Tamia</td>\n      <td>89.000000</td>\n    </tr>\n    <tr>\n      <th>203</th>\n      <td>Third Eye Blind</td>\n      <td>44.911765</td>\n    </tr>\n    <tr>\n      <th>204</th>\n      <td>Thomas, Carl</td>\n      <td>58.627451</td>\n    </tr>\n    <tr>\n      <th>205</th>\n      <td>Tippin, Aaron</td>\n      <td>66.950000</td>\n    </tr>\n    <tr>\n      <th>206</th>\n      <td>Train</td>\n      <td>36.925926</td>\n    </tr>\n    <tr>\n      <th>207</th>\n      <td>Trick Daddy</td>\n      <td>90.090909</td>\n    </tr>\n    <tr>\n      <th>208</th>\n      <td>Trina</td>\n      <td>96.500000</td>\n    </tr>\n    <tr>\n      <th>209</th>\n      <td>Tritt, Travis</td>\n      <td>47.818182</td>\n    </tr>\n    <tr>\n      <th>210</th>\n      <td>Tuesday</td>\n      <td>98.000000</td>\n    </tr>\n    <tr>\n      <th>211</th>\n      <td>Urban, Keith</td>\n      <td>72.000000</td>\n    </tr>\n    <tr>\n      <th>212</th>\n      <td>Usher</td>\n      <td>69.428571</td>\n    </tr>\n    <tr>\n      <th>213</th>\n      <td>Vassar, Phil</td>\n      <td>61.589744</td>\n    </tr>\n    <tr>\n      <th>214</th>\n      <td>Vertical Horizon</td>\n      <td>26.709677</td>\n    </tr>\n    <tr>\n      <th>215</th>\n      <td>Vitamin C</td>\n      <td>60.000000</td>\n    </tr>\n    <tr>\n      <th>216</th>\n      <td>Walker, Clay</td>\n      <td>72.967742</td>\n    </tr>\n    <tr>\n      <th>217</th>\n      <td>Wallflowers, The</td>\n      <td>81.000000</td>\n    </tr>\n    <tr>\n      <th>218</th>\n      <td>Westlife</td>\n      <td>43.350000</td>\n    </tr>\n    <tr>\n      <th>219</th>\n      <td>Williams, Robbie</td>\n      <td>75.421053</td>\n    </tr>\n    <tr>\n      <th>220</th>\n      <td>Wills, Mark</td>\n      <td>59.833333</td>\n    </tr>\n    <tr>\n      <th>221</th>\n      <td>Worley, Darryl</td>\n      <td>85.533333</td>\n    </tr>\n    <tr>\n      <th>222</th>\n      <td>Wright, Chely</td>\n      <td>77.300000</td>\n    </tr>\n    <tr>\n      <th>223</th>\n      <td>Yankee Grey</td>\n      <td>83.125000</td>\n    </tr>\n    <tr>\n      <th>224</th>\n      <td>Yearwood, Trisha</td>\n      <td>84.166667</td>\n    </tr>\n    <tr>\n      <th>225</th>\n      <td>Ying Yang Twins</td>\n      <td>88.857143</td>\n    </tr>\n    <tr>\n      <th>226</th>\n      <td>Zombie Nation</td>\n      <td>99.000000</td>\n    </tr>\n    <tr>\n      <th>227</th>\n      <td>matchbox twenty</td>\n      <td>18.641026</td>\n    </tr>\n  </tbody>\n</table>\n<p>228 rows × 2 columns</p>\n</div>"
     },
     "metadata": {},
     "execution_count": 68
    }
   ],
   "source": [
    "bill_tiny.groupby(['artist'])['rank'].mean().reset_index()"
   ]
  },
  {
   "source": [
    "Another dataframe"
   ],
   "cell_type": "markdown",
   "metadata": {}
  },
  {
   "cell_type": "code",
   "execution_count": 71,
   "metadata": {},
   "outputs": [
    {
     "output_type": "execute_result",
     "data": {
      "text/plain": [
       "         Date  Day  Cases_Guinea  Cases_Liberia  Cases_SierraLeone  \\\n",
       "0    1/5/2015  289        2776.0            NaN            10030.0   \n",
       "1    1/4/2015  288        2775.0            NaN             9780.0   \n",
       "2    1/3/2015  287        2769.0         8166.0             9722.0   \n",
       "3    1/2/2015  286           NaN         8157.0                NaN   \n",
       "4  12/31/2014  284        2730.0         8115.0             9633.0   \n",
       "\n",
       "   Cases_Nigeria  Cases_Senegal  Cases_UnitedStates  Cases_Spain  Cases_Mali  \\\n",
       "0            NaN            NaN                 NaN          NaN         NaN   \n",
       "1            NaN            NaN                 NaN          NaN         NaN   \n",
       "2            NaN            NaN                 NaN          NaN         NaN   \n",
       "3            NaN            NaN                 NaN          NaN         NaN   \n",
       "4            NaN            NaN                 NaN          NaN         NaN   \n",
       "\n",
       "   Deaths_Guinea  Deaths_Liberia  Deaths_SierraLeone  Deaths_Nigeria  \\\n",
       "0         1786.0             NaN              2977.0             NaN   \n",
       "1         1781.0             NaN              2943.0             NaN   \n",
       "2         1767.0          3496.0              2915.0             NaN   \n",
       "3            NaN          3496.0                 NaN             NaN   \n",
       "4         1739.0          3471.0              2827.0             NaN   \n",
       "\n",
       "   Deaths_Senegal  Deaths_UnitedStates  Deaths_Spain  Deaths_Mali  \n",
       "0             NaN                  NaN           NaN          NaN  \n",
       "1             NaN                  NaN           NaN          NaN  \n",
       "2             NaN                  NaN           NaN          NaN  \n",
       "3             NaN                  NaN           NaN          NaN  \n",
       "4             NaN                  NaN           NaN          NaN  "
      ],
      "text/html": "<div>\n<style scoped>\n    .dataframe tbody tr th:only-of-type {\n        vertical-align: middle;\n    }\n\n    .dataframe tbody tr th {\n        vertical-align: top;\n    }\n\n    .dataframe thead th {\n        text-align: right;\n    }\n</style>\n<table border=\"1\" class=\"dataframe\">\n  <thead>\n    <tr style=\"text-align: right;\">\n      <th></th>\n      <th>Date</th>\n      <th>Day</th>\n      <th>Cases_Guinea</th>\n      <th>Cases_Liberia</th>\n      <th>Cases_SierraLeone</th>\n      <th>Cases_Nigeria</th>\n      <th>Cases_Senegal</th>\n      <th>Cases_UnitedStates</th>\n      <th>Cases_Spain</th>\n      <th>Cases_Mali</th>\n      <th>Deaths_Guinea</th>\n      <th>Deaths_Liberia</th>\n      <th>Deaths_SierraLeone</th>\n      <th>Deaths_Nigeria</th>\n      <th>Deaths_Senegal</th>\n      <th>Deaths_UnitedStates</th>\n      <th>Deaths_Spain</th>\n      <th>Deaths_Mali</th>\n    </tr>\n  </thead>\n  <tbody>\n    <tr>\n      <th>0</th>\n      <td>1/5/2015</td>\n      <td>289</td>\n      <td>2776.0</td>\n      <td>NaN</td>\n      <td>10030.0</td>\n      <td>NaN</td>\n      <td>NaN</td>\n      <td>NaN</td>\n      <td>NaN</td>\n      <td>NaN</td>\n      <td>1786.0</td>\n      <td>NaN</td>\n      <td>2977.0</td>\n      <td>NaN</td>\n      <td>NaN</td>\n      <td>NaN</td>\n      <td>NaN</td>\n      <td>NaN</td>\n    </tr>\n    <tr>\n      <th>1</th>\n      <td>1/4/2015</td>\n      <td>288</td>\n      <td>2775.0</td>\n      <td>NaN</td>\n      <td>9780.0</td>\n      <td>NaN</td>\n      <td>NaN</td>\n      <td>NaN</td>\n      <td>NaN</td>\n      <td>NaN</td>\n      <td>1781.0</td>\n      <td>NaN</td>\n      <td>2943.0</td>\n      <td>NaN</td>\n      <td>NaN</td>\n      <td>NaN</td>\n      <td>NaN</td>\n      <td>NaN</td>\n    </tr>\n    <tr>\n      <th>2</th>\n      <td>1/3/2015</td>\n      <td>287</td>\n      <td>2769.0</td>\n      <td>8166.0</td>\n      <td>9722.0</td>\n      <td>NaN</td>\n      <td>NaN</td>\n      <td>NaN</td>\n      <td>NaN</td>\n      <td>NaN</td>\n      <td>1767.0</td>\n      <td>3496.0</td>\n      <td>2915.0</td>\n      <td>NaN</td>\n      <td>NaN</td>\n      <td>NaN</td>\n      <td>NaN</td>\n      <td>NaN</td>\n    </tr>\n    <tr>\n      <th>3</th>\n      <td>1/2/2015</td>\n      <td>286</td>\n      <td>NaN</td>\n      <td>8157.0</td>\n      <td>NaN</td>\n      <td>NaN</td>\n      <td>NaN</td>\n      <td>NaN</td>\n      <td>NaN</td>\n      <td>NaN</td>\n      <td>NaN</td>\n      <td>3496.0</td>\n      <td>NaN</td>\n      <td>NaN</td>\n      <td>NaN</td>\n      <td>NaN</td>\n      <td>NaN</td>\n      <td>NaN</td>\n    </tr>\n    <tr>\n      <th>4</th>\n      <td>12/31/2014</td>\n      <td>284</td>\n      <td>2730.0</td>\n      <td>8115.0</td>\n      <td>9633.0</td>\n      <td>NaN</td>\n      <td>NaN</td>\n      <td>NaN</td>\n      <td>NaN</td>\n      <td>NaN</td>\n      <td>1739.0</td>\n      <td>3471.0</td>\n      <td>2827.0</td>\n      <td>NaN</td>\n      <td>NaN</td>\n      <td>NaN</td>\n      <td>NaN</td>\n      <td>NaN</td>\n    </tr>\n  </tbody>\n</table>\n</div>"
     },
     "metadata": {},
     "execution_count": 71
    }
   ],
   "source": [
    "ebola = pd.read_csv(\"../data/country_timeseries.csv\")\n",
    "ebola.head()"
   ]
  },
  {
   "cell_type": "code",
   "execution_count": 74,
   "metadata": {},
   "outputs": [
    {
     "output_type": "execute_result",
     "data": {
      "text/plain": [
       "            Date  Day    cd_country   count\n",
       "0       1/5/2015  289  Cases_Guinea  2776.0\n",
       "1       1/4/2015  288  Cases_Guinea  2775.0\n",
       "2       1/3/2015  287  Cases_Guinea  2769.0\n",
       "3       1/2/2015  286  Cases_Guinea     NaN\n",
       "4     12/31/2014  284  Cases_Guinea  2730.0\n",
       "5     12/28/2014  281  Cases_Guinea  2706.0\n",
       "6     12/27/2014  280  Cases_Guinea  2695.0\n",
       "7     12/24/2014  277  Cases_Guinea  2630.0\n",
       "8     12/21/2014  273  Cases_Guinea  2597.0\n",
       "9     12/20/2014  272  Cases_Guinea  2571.0\n",
       "10    12/18/2014  271  Cases_Guinea     NaN\n",
       "11    12/14/2014  267  Cases_Guinea  2416.0\n",
       "12     12/9/2014  262  Cases_Guinea     NaN\n",
       "13     12/7/2014  260  Cases_Guinea  2292.0\n",
       "14     12/3/2014  256  Cases_Guinea     NaN\n",
       "15    11/30/2014  253  Cases_Guinea  2164.0\n",
       "16    11/28/2014  251  Cases_Guinea     NaN\n",
       "17    11/23/2014  246  Cases_Guinea  2134.0\n",
       "18    11/22/2014  245  Cases_Guinea     NaN\n",
       "19    11/18/2014  241  Cases_Guinea  2047.0\n",
       "20    11/16/2014  239  Cases_Guinea  1971.0\n",
       "21    11/15/2014  238  Cases_Guinea     NaN\n",
       "22    11/11/2014  234  Cases_Guinea  1919.0\n",
       "23    11/10/2014  233  Cases_Guinea     NaN\n",
       "24     11/9/2014  232  Cases_Guinea  1878.0\n",
       "25     11/8/2014  231  Cases_Guinea     NaN\n",
       "26     11/4/2014  227  Cases_Guinea     NaN\n",
       "27     11/3/2014  226  Cases_Guinea  1760.0\n",
       "28     11/2/2014  225  Cases_Guinea  1731.0\n",
       "29    10/31/2014  222  Cases_Guinea     NaN\n",
       "...          ...  ...           ...     ...\n",
       "1922   5/23/2014   62   Deaths_Mali     NaN\n",
       "1923   5/12/2014   51   Deaths_Mali     NaN\n",
       "1924   5/10/2014   49   Deaths_Mali     NaN\n",
       "1925    5/7/2014   46   Deaths_Mali     NaN\n",
       "1926    5/5/2014   44   Deaths_Mali     NaN\n",
       "1927    5/3/2014   42   Deaths_Mali     NaN\n",
       "1928    5/1/2014   40   Deaths_Mali     NaN\n",
       "1929   4/26/2014   35   Deaths_Mali     NaN\n",
       "1930   4/24/2014   33   Deaths_Mali     NaN\n",
       "1931   4/23/2014   32   Deaths_Mali     NaN\n",
       "1932   4/22/2014   31   Deaths_Mali     NaN\n",
       "1933   4/21/2014   30   Deaths_Mali     NaN\n",
       "1934   4/20/2014   29   Deaths_Mali     NaN\n",
       "1935   4/17/2014   26   Deaths_Mali     NaN\n",
       "1936   4/16/2014   25   Deaths_Mali     NaN\n",
       "1937   4/15/2014   24   Deaths_Mali     NaN\n",
       "1938   4/14/2014   23   Deaths_Mali     NaN\n",
       "1939   4/11/2014   20   Deaths_Mali     NaN\n",
       "1940    4/9/2014   18   Deaths_Mali     NaN\n",
       "1941    4/7/2014   16   Deaths_Mali     NaN\n",
       "1942    4/4/2014   13   Deaths_Mali     NaN\n",
       "1943    4/1/2014   10   Deaths_Mali     NaN\n",
       "1944   3/31/2014    9   Deaths_Mali     NaN\n",
       "1945   3/29/2014    7   Deaths_Mali     NaN\n",
       "1946   3/28/2014    6   Deaths_Mali     NaN\n",
       "1947   3/27/2014    5   Deaths_Mali     NaN\n",
       "1948   3/26/2014    4   Deaths_Mali     NaN\n",
       "1949   3/25/2014    3   Deaths_Mali     NaN\n",
       "1950   3/24/2014    2   Deaths_Mali     NaN\n",
       "1951   3/22/2014    0   Deaths_Mali     NaN\n",
       "\n",
       "[1952 rows x 4 columns]"
      ],
      "text/html": "<div>\n<style scoped>\n    .dataframe tbody tr th:only-of-type {\n        vertical-align: middle;\n    }\n\n    .dataframe tbody tr th {\n        vertical-align: top;\n    }\n\n    .dataframe thead th {\n        text-align: right;\n    }\n</style>\n<table border=\"1\" class=\"dataframe\">\n  <thead>\n    <tr style=\"text-align: right;\">\n      <th></th>\n      <th>Date</th>\n      <th>Day</th>\n      <th>cd_country</th>\n      <th>count</th>\n    </tr>\n  </thead>\n  <tbody>\n    <tr>\n      <th>0</th>\n      <td>1/5/2015</td>\n      <td>289</td>\n      <td>Cases_Guinea</td>\n      <td>2776.0</td>\n    </tr>\n    <tr>\n      <th>1</th>\n      <td>1/4/2015</td>\n      <td>288</td>\n      <td>Cases_Guinea</td>\n      <td>2775.0</td>\n    </tr>\n    <tr>\n      <th>2</th>\n      <td>1/3/2015</td>\n      <td>287</td>\n      <td>Cases_Guinea</td>\n      <td>2769.0</td>\n    </tr>\n    <tr>\n      <th>3</th>\n      <td>1/2/2015</td>\n      <td>286</td>\n      <td>Cases_Guinea</td>\n      <td>NaN</td>\n    </tr>\n    <tr>\n      <th>4</th>\n      <td>12/31/2014</td>\n      <td>284</td>\n      <td>Cases_Guinea</td>\n      <td>2730.0</td>\n    </tr>\n    <tr>\n      <th>5</th>\n      <td>12/28/2014</td>\n      <td>281</td>\n      <td>Cases_Guinea</td>\n      <td>2706.0</td>\n    </tr>\n    <tr>\n      <th>6</th>\n      <td>12/27/2014</td>\n      <td>280</td>\n      <td>Cases_Guinea</td>\n      <td>2695.0</td>\n    </tr>\n    <tr>\n      <th>7</th>\n      <td>12/24/2014</td>\n      <td>277</td>\n      <td>Cases_Guinea</td>\n      <td>2630.0</td>\n    </tr>\n    <tr>\n      <th>8</th>\n      <td>12/21/2014</td>\n      <td>273</td>\n      <td>Cases_Guinea</td>\n      <td>2597.0</td>\n    </tr>\n    <tr>\n      <th>9</th>\n      <td>12/20/2014</td>\n      <td>272</td>\n      <td>Cases_Guinea</td>\n      <td>2571.0</td>\n    </tr>\n    <tr>\n      <th>10</th>\n      <td>12/18/2014</td>\n      <td>271</td>\n      <td>Cases_Guinea</td>\n      <td>NaN</td>\n    </tr>\n    <tr>\n      <th>11</th>\n      <td>12/14/2014</td>\n      <td>267</td>\n      <td>Cases_Guinea</td>\n      <td>2416.0</td>\n    </tr>\n    <tr>\n      <th>12</th>\n      <td>12/9/2014</td>\n      <td>262</td>\n      <td>Cases_Guinea</td>\n      <td>NaN</td>\n    </tr>\n    <tr>\n      <th>13</th>\n      <td>12/7/2014</td>\n      <td>260</td>\n      <td>Cases_Guinea</td>\n      <td>2292.0</td>\n    </tr>\n    <tr>\n      <th>14</th>\n      <td>12/3/2014</td>\n      <td>256</td>\n      <td>Cases_Guinea</td>\n      <td>NaN</td>\n    </tr>\n    <tr>\n      <th>15</th>\n      <td>11/30/2014</td>\n      <td>253</td>\n      <td>Cases_Guinea</td>\n      <td>2164.0</td>\n    </tr>\n    <tr>\n      <th>16</th>\n      <td>11/28/2014</td>\n      <td>251</td>\n      <td>Cases_Guinea</td>\n      <td>NaN</td>\n    </tr>\n    <tr>\n      <th>17</th>\n      <td>11/23/2014</td>\n      <td>246</td>\n      <td>Cases_Guinea</td>\n      <td>2134.0</td>\n    </tr>\n    <tr>\n      <th>18</th>\n      <td>11/22/2014</td>\n      <td>245</td>\n      <td>Cases_Guinea</td>\n      <td>NaN</td>\n    </tr>\n    <tr>\n      <th>19</th>\n      <td>11/18/2014</td>\n      <td>241</td>\n      <td>Cases_Guinea</td>\n      <td>2047.0</td>\n    </tr>\n    <tr>\n      <th>20</th>\n      <td>11/16/2014</td>\n      <td>239</td>\n      <td>Cases_Guinea</td>\n      <td>1971.0</td>\n    </tr>\n    <tr>\n      <th>21</th>\n      <td>11/15/2014</td>\n      <td>238</td>\n      <td>Cases_Guinea</td>\n      <td>NaN</td>\n    </tr>\n    <tr>\n      <th>22</th>\n      <td>11/11/2014</td>\n      <td>234</td>\n      <td>Cases_Guinea</td>\n      <td>1919.0</td>\n    </tr>\n    <tr>\n      <th>23</th>\n      <td>11/10/2014</td>\n      <td>233</td>\n      <td>Cases_Guinea</td>\n      <td>NaN</td>\n    </tr>\n    <tr>\n      <th>24</th>\n      <td>11/9/2014</td>\n      <td>232</td>\n      <td>Cases_Guinea</td>\n      <td>1878.0</td>\n    </tr>\n    <tr>\n      <th>25</th>\n      <td>11/8/2014</td>\n      <td>231</td>\n      <td>Cases_Guinea</td>\n      <td>NaN</td>\n    </tr>\n    <tr>\n      <th>26</th>\n      <td>11/4/2014</td>\n      <td>227</td>\n      <td>Cases_Guinea</td>\n      <td>NaN</td>\n    </tr>\n    <tr>\n      <th>27</th>\n      <td>11/3/2014</td>\n      <td>226</td>\n      <td>Cases_Guinea</td>\n      <td>1760.0</td>\n    </tr>\n    <tr>\n      <th>28</th>\n      <td>11/2/2014</td>\n      <td>225</td>\n      <td>Cases_Guinea</td>\n      <td>1731.0</td>\n    </tr>\n    <tr>\n      <th>29</th>\n      <td>10/31/2014</td>\n      <td>222</td>\n      <td>Cases_Guinea</td>\n      <td>NaN</td>\n    </tr>\n    <tr>\n      <th>...</th>\n      <td>...</td>\n      <td>...</td>\n      <td>...</td>\n      <td>...</td>\n    </tr>\n    <tr>\n      <th>1922</th>\n      <td>5/23/2014</td>\n      <td>62</td>\n      <td>Deaths_Mali</td>\n      <td>NaN</td>\n    </tr>\n    <tr>\n      <th>1923</th>\n      <td>5/12/2014</td>\n      <td>51</td>\n      <td>Deaths_Mali</td>\n      <td>NaN</td>\n    </tr>\n    <tr>\n      <th>1924</th>\n      <td>5/10/2014</td>\n      <td>49</td>\n      <td>Deaths_Mali</td>\n      <td>NaN</td>\n    </tr>\n    <tr>\n      <th>1925</th>\n      <td>5/7/2014</td>\n      <td>46</td>\n      <td>Deaths_Mali</td>\n      <td>NaN</td>\n    </tr>\n    <tr>\n      <th>1926</th>\n      <td>5/5/2014</td>\n      <td>44</td>\n      <td>Deaths_Mali</td>\n      <td>NaN</td>\n    </tr>\n    <tr>\n      <th>1927</th>\n      <td>5/3/2014</td>\n      <td>42</td>\n      <td>Deaths_Mali</td>\n      <td>NaN</td>\n    </tr>\n    <tr>\n      <th>1928</th>\n      <td>5/1/2014</td>\n      <td>40</td>\n      <td>Deaths_Mali</td>\n      <td>NaN</td>\n    </tr>\n    <tr>\n      <th>1929</th>\n      <td>4/26/2014</td>\n      <td>35</td>\n      <td>Deaths_Mali</td>\n      <td>NaN</td>\n    </tr>\n    <tr>\n      <th>1930</th>\n      <td>4/24/2014</td>\n      <td>33</td>\n      <td>Deaths_Mali</td>\n      <td>NaN</td>\n    </tr>\n    <tr>\n      <th>1931</th>\n      <td>4/23/2014</td>\n      <td>32</td>\n      <td>Deaths_Mali</td>\n      <td>NaN</td>\n    </tr>\n    <tr>\n      <th>1932</th>\n      <td>4/22/2014</td>\n      <td>31</td>\n      <td>Deaths_Mali</td>\n      <td>NaN</td>\n    </tr>\n    <tr>\n      <th>1933</th>\n      <td>4/21/2014</td>\n      <td>30</td>\n      <td>Deaths_Mali</td>\n      <td>NaN</td>\n    </tr>\n    <tr>\n      <th>1934</th>\n      <td>4/20/2014</td>\n      <td>29</td>\n      <td>Deaths_Mali</td>\n      <td>NaN</td>\n    </tr>\n    <tr>\n      <th>1935</th>\n      <td>4/17/2014</td>\n      <td>26</td>\n      <td>Deaths_Mali</td>\n      <td>NaN</td>\n    </tr>\n    <tr>\n      <th>1936</th>\n      <td>4/16/2014</td>\n      <td>25</td>\n      <td>Deaths_Mali</td>\n      <td>NaN</td>\n    </tr>\n    <tr>\n      <th>1937</th>\n      <td>4/15/2014</td>\n      <td>24</td>\n      <td>Deaths_Mali</td>\n      <td>NaN</td>\n    </tr>\n    <tr>\n      <th>1938</th>\n      <td>4/14/2014</td>\n      <td>23</td>\n      <td>Deaths_Mali</td>\n      <td>NaN</td>\n    </tr>\n    <tr>\n      <th>1939</th>\n      <td>4/11/2014</td>\n      <td>20</td>\n      <td>Deaths_Mali</td>\n      <td>NaN</td>\n    </tr>\n    <tr>\n      <th>1940</th>\n      <td>4/9/2014</td>\n      <td>18</td>\n      <td>Deaths_Mali</td>\n      <td>NaN</td>\n    </tr>\n    <tr>\n      <th>1941</th>\n      <td>4/7/2014</td>\n      <td>16</td>\n      <td>Deaths_Mali</td>\n      <td>NaN</td>\n    </tr>\n    <tr>\n      <th>1942</th>\n      <td>4/4/2014</td>\n      <td>13</td>\n      <td>Deaths_Mali</td>\n      <td>NaN</td>\n    </tr>\n    <tr>\n      <th>1943</th>\n      <td>4/1/2014</td>\n      <td>10</td>\n      <td>Deaths_Mali</td>\n      <td>NaN</td>\n    </tr>\n    <tr>\n      <th>1944</th>\n      <td>3/31/2014</td>\n      <td>9</td>\n      <td>Deaths_Mali</td>\n      <td>NaN</td>\n    </tr>\n    <tr>\n      <th>1945</th>\n      <td>3/29/2014</td>\n      <td>7</td>\n      <td>Deaths_Mali</td>\n      <td>NaN</td>\n    </tr>\n    <tr>\n      <th>1946</th>\n      <td>3/28/2014</td>\n      <td>6</td>\n      <td>Deaths_Mali</td>\n      <td>NaN</td>\n    </tr>\n    <tr>\n      <th>1947</th>\n      <td>3/27/2014</td>\n      <td>5</td>\n      <td>Deaths_Mali</td>\n      <td>NaN</td>\n    </tr>\n    <tr>\n      <th>1948</th>\n      <td>3/26/2014</td>\n      <td>4</td>\n      <td>Deaths_Mali</td>\n      <td>NaN</td>\n    </tr>\n    <tr>\n      <th>1949</th>\n      <td>3/25/2014</td>\n      <td>3</td>\n      <td>Deaths_Mali</td>\n      <td>NaN</td>\n    </tr>\n    <tr>\n      <th>1950</th>\n      <td>3/24/2014</td>\n      <td>2</td>\n      <td>Deaths_Mali</td>\n      <td>NaN</td>\n    </tr>\n    <tr>\n      <th>1951</th>\n      <td>3/22/2014</td>\n      <td>0</td>\n      <td>Deaths_Mali</td>\n      <td>NaN</td>\n    </tr>\n  </tbody>\n</table>\n<p>1952 rows × 4 columns</p>\n</div>"
     },
     "metadata": {},
     "execution_count": 74
    }
   ],
   "source": [
    "#here we can see there is two var_name = case and death\n",
    "elb_tiny =ebola.melt(id_vars=['Date','Day'],var_name = 'cd_country',value_name='count')\n",
    "elb_tiny"
   ]
  },
  {
   "cell_type": "code",
   "execution_count": 76,
   "metadata": {},
   "outputs": [
    {
     "output_type": "execute_result",
     "data": {
      "text/plain": [
       "0       [Cases, Guinea]\n",
       "1       [Cases, Guinea]\n",
       "2       [Cases, Guinea]\n",
       "3       [Cases, Guinea]\n",
       "4       [Cases, Guinea]\n",
       "5       [Cases, Guinea]\n",
       "6       [Cases, Guinea]\n",
       "7       [Cases, Guinea]\n",
       "8       [Cases, Guinea]\n",
       "9       [Cases, Guinea]\n",
       "10      [Cases, Guinea]\n",
       "11      [Cases, Guinea]\n",
       "12      [Cases, Guinea]\n",
       "13      [Cases, Guinea]\n",
       "14      [Cases, Guinea]\n",
       "15      [Cases, Guinea]\n",
       "16      [Cases, Guinea]\n",
       "17      [Cases, Guinea]\n",
       "18      [Cases, Guinea]\n",
       "19      [Cases, Guinea]\n",
       "20      [Cases, Guinea]\n",
       "21      [Cases, Guinea]\n",
       "22      [Cases, Guinea]\n",
       "23      [Cases, Guinea]\n",
       "24      [Cases, Guinea]\n",
       "25      [Cases, Guinea]\n",
       "26      [Cases, Guinea]\n",
       "27      [Cases, Guinea]\n",
       "28      [Cases, Guinea]\n",
       "29      [Cases, Guinea]\n",
       "             ...       \n",
       "1922     [Deaths, Mali]\n",
       "1923     [Deaths, Mali]\n",
       "1924     [Deaths, Mali]\n",
       "1925     [Deaths, Mali]\n",
       "1926     [Deaths, Mali]\n",
       "1927     [Deaths, Mali]\n",
       "1928     [Deaths, Mali]\n",
       "1929     [Deaths, Mali]\n",
       "1930     [Deaths, Mali]\n",
       "1931     [Deaths, Mali]\n",
       "1932     [Deaths, Mali]\n",
       "1933     [Deaths, Mali]\n",
       "1934     [Deaths, Mali]\n",
       "1935     [Deaths, Mali]\n",
       "1936     [Deaths, Mali]\n",
       "1937     [Deaths, Mali]\n",
       "1938     [Deaths, Mali]\n",
       "1939     [Deaths, Mali]\n",
       "1940     [Deaths, Mali]\n",
       "1941     [Deaths, Mali]\n",
       "1942     [Deaths, Mali]\n",
       "1943     [Deaths, Mali]\n",
       "1944     [Deaths, Mali]\n",
       "1945     [Deaths, Mali]\n",
       "1946     [Deaths, Mali]\n",
       "1947     [Deaths, Mali]\n",
       "1948     [Deaths, Mali]\n",
       "1949     [Deaths, Mali]\n",
       "1950     [Deaths, Mali]\n",
       "1951     [Deaths, Mali]\n",
       "Name: cd_country, Length: 1952, dtype: object"
      ]
     },
     "metadata": {},
     "execution_count": 76
    }
   ],
   "source": [
    "var_split = elb_tiny['cd_country'].str.split('_')\n",
    "var_split"
   ]
  },
  {
   "cell_type": "code",
   "execution_count": 77,
   "metadata": {},
   "outputs": [
    {
     "output_type": "execute_result",
     "data": {
      "text/plain": [
       "list"
      ]
     },
     "metadata": {},
     "execution_count": 77
    }
   ],
   "source": [
    "type(var_split.iloc[0])"
   ]
  },
  {
   "cell_type": "code",
   "execution_count": 79,
   "metadata": {},
   "outputs": [
    {
     "output_type": "execute_result",
     "data": {
      "text/plain": [
       "0        Cases\n",
       "1        Cases\n",
       "2        Cases\n",
       "3        Cases\n",
       "4        Cases\n",
       "5        Cases\n",
       "6        Cases\n",
       "7        Cases\n",
       "8        Cases\n",
       "9        Cases\n",
       "10       Cases\n",
       "11       Cases\n",
       "12       Cases\n",
       "13       Cases\n",
       "14       Cases\n",
       "15       Cases\n",
       "16       Cases\n",
       "17       Cases\n",
       "18       Cases\n",
       "19       Cases\n",
       "20       Cases\n",
       "21       Cases\n",
       "22       Cases\n",
       "23       Cases\n",
       "24       Cases\n",
       "25       Cases\n",
       "26       Cases\n",
       "27       Cases\n",
       "28       Cases\n",
       "29       Cases\n",
       "         ...  \n",
       "1922    Deaths\n",
       "1923    Deaths\n",
       "1924    Deaths\n",
       "1925    Deaths\n",
       "1926    Deaths\n",
       "1927    Deaths\n",
       "1928    Deaths\n",
       "1929    Deaths\n",
       "1930    Deaths\n",
       "1931    Deaths\n",
       "1932    Deaths\n",
       "1933    Deaths\n",
       "1934    Deaths\n",
       "1935    Deaths\n",
       "1936    Deaths\n",
       "1937    Deaths\n",
       "1938    Deaths\n",
       "1939    Deaths\n",
       "1940    Deaths\n",
       "1941    Deaths\n",
       "1942    Deaths\n",
       "1943    Deaths\n",
       "1944    Deaths\n",
       "1945    Deaths\n",
       "1946    Deaths\n",
       "1947    Deaths\n",
       "1948    Deaths\n",
       "1949    Deaths\n",
       "1950    Deaths\n",
       "1951    Deaths\n",
       "Name: cd_country, Length: 1952, dtype: object"
      ]
     },
     "metadata": {},
     "execution_count": 79
    }
   ],
   "source": [
    "case_death = var_split.str.get(0)\n",
    "case_death"
   ]
  },
  {
   "cell_type": "code",
   "execution_count": 82,
   "metadata": {},
   "outputs": [
    {
     "output_type": "execute_result",
     "data": {
      "text/plain": [
       "0       Guinea\n",
       "1       Guinea\n",
       "2       Guinea\n",
       "3       Guinea\n",
       "4       Guinea\n",
       "5       Guinea\n",
       "6       Guinea\n",
       "7       Guinea\n",
       "8       Guinea\n",
       "9       Guinea\n",
       "10      Guinea\n",
       "11      Guinea\n",
       "12      Guinea\n",
       "13      Guinea\n",
       "14      Guinea\n",
       "15      Guinea\n",
       "16      Guinea\n",
       "17      Guinea\n",
       "18      Guinea\n",
       "19      Guinea\n",
       "20      Guinea\n",
       "21      Guinea\n",
       "22      Guinea\n",
       "23      Guinea\n",
       "24      Guinea\n",
       "25      Guinea\n",
       "26      Guinea\n",
       "27      Guinea\n",
       "28      Guinea\n",
       "29      Guinea\n",
       "         ...  \n",
       "1922      Mali\n",
       "1923      Mali\n",
       "1924      Mali\n",
       "1925      Mali\n",
       "1926      Mali\n",
       "1927      Mali\n",
       "1928      Mali\n",
       "1929      Mali\n",
       "1930      Mali\n",
       "1931      Mali\n",
       "1932      Mali\n",
       "1933      Mali\n",
       "1934      Mali\n",
       "1935      Mali\n",
       "1936      Mali\n",
       "1937      Mali\n",
       "1938      Mali\n",
       "1939      Mali\n",
       "1940      Mali\n",
       "1941      Mali\n",
       "1942      Mali\n",
       "1943      Mali\n",
       "1944      Mali\n",
       "1945      Mali\n",
       "1946      Mali\n",
       "1947      Mali\n",
       "1948      Mali\n",
       "1949      Mali\n",
       "1950      Mali\n",
       "1951      Mali\n",
       "Name: cd_country, Length: 1952, dtype: object"
      ]
     },
     "metadata": {},
     "execution_count": 82
    }
   ],
   "source": [
    "country = var_split.str[1]\n",
    "country"
   ]
  },
  {
   "cell_type": "code",
   "execution_count": 83,
   "metadata": {},
   "outputs": [
    {
     "output_type": "execute_result",
     "data": {
      "text/plain": [
       "            Date  Day    cd_country   count  status country\n",
       "0       1/5/2015  289  Cases_Guinea  2776.0   Cases  Guinea\n",
       "1       1/4/2015  288  Cases_Guinea  2775.0   Cases  Guinea\n",
       "2       1/3/2015  287  Cases_Guinea  2769.0   Cases  Guinea\n",
       "3       1/2/2015  286  Cases_Guinea     NaN   Cases  Guinea\n",
       "4     12/31/2014  284  Cases_Guinea  2730.0   Cases  Guinea\n",
       "5     12/28/2014  281  Cases_Guinea  2706.0   Cases  Guinea\n",
       "6     12/27/2014  280  Cases_Guinea  2695.0   Cases  Guinea\n",
       "7     12/24/2014  277  Cases_Guinea  2630.0   Cases  Guinea\n",
       "8     12/21/2014  273  Cases_Guinea  2597.0   Cases  Guinea\n",
       "9     12/20/2014  272  Cases_Guinea  2571.0   Cases  Guinea\n",
       "10    12/18/2014  271  Cases_Guinea     NaN   Cases  Guinea\n",
       "11    12/14/2014  267  Cases_Guinea  2416.0   Cases  Guinea\n",
       "12     12/9/2014  262  Cases_Guinea     NaN   Cases  Guinea\n",
       "13     12/7/2014  260  Cases_Guinea  2292.0   Cases  Guinea\n",
       "14     12/3/2014  256  Cases_Guinea     NaN   Cases  Guinea\n",
       "15    11/30/2014  253  Cases_Guinea  2164.0   Cases  Guinea\n",
       "16    11/28/2014  251  Cases_Guinea     NaN   Cases  Guinea\n",
       "17    11/23/2014  246  Cases_Guinea  2134.0   Cases  Guinea\n",
       "18    11/22/2014  245  Cases_Guinea     NaN   Cases  Guinea\n",
       "19    11/18/2014  241  Cases_Guinea  2047.0   Cases  Guinea\n",
       "20    11/16/2014  239  Cases_Guinea  1971.0   Cases  Guinea\n",
       "21    11/15/2014  238  Cases_Guinea     NaN   Cases  Guinea\n",
       "22    11/11/2014  234  Cases_Guinea  1919.0   Cases  Guinea\n",
       "23    11/10/2014  233  Cases_Guinea     NaN   Cases  Guinea\n",
       "24     11/9/2014  232  Cases_Guinea  1878.0   Cases  Guinea\n",
       "25     11/8/2014  231  Cases_Guinea     NaN   Cases  Guinea\n",
       "26     11/4/2014  227  Cases_Guinea     NaN   Cases  Guinea\n",
       "27     11/3/2014  226  Cases_Guinea  1760.0   Cases  Guinea\n",
       "28     11/2/2014  225  Cases_Guinea  1731.0   Cases  Guinea\n",
       "29    10/31/2014  222  Cases_Guinea     NaN   Cases  Guinea\n",
       "...          ...  ...           ...     ...     ...     ...\n",
       "1922   5/23/2014   62   Deaths_Mali     NaN  Deaths    Mali\n",
       "1923   5/12/2014   51   Deaths_Mali     NaN  Deaths    Mali\n",
       "1924   5/10/2014   49   Deaths_Mali     NaN  Deaths    Mali\n",
       "1925    5/7/2014   46   Deaths_Mali     NaN  Deaths    Mali\n",
       "1926    5/5/2014   44   Deaths_Mali     NaN  Deaths    Mali\n",
       "1927    5/3/2014   42   Deaths_Mali     NaN  Deaths    Mali\n",
       "1928    5/1/2014   40   Deaths_Mali     NaN  Deaths    Mali\n",
       "1929   4/26/2014   35   Deaths_Mali     NaN  Deaths    Mali\n",
       "1930   4/24/2014   33   Deaths_Mali     NaN  Deaths    Mali\n",
       "1931   4/23/2014   32   Deaths_Mali     NaN  Deaths    Mali\n",
       "1932   4/22/2014   31   Deaths_Mali     NaN  Deaths    Mali\n",
       "1933   4/21/2014   30   Deaths_Mali     NaN  Deaths    Mali\n",
       "1934   4/20/2014   29   Deaths_Mali     NaN  Deaths    Mali\n",
       "1935   4/17/2014   26   Deaths_Mali     NaN  Deaths    Mali\n",
       "1936   4/16/2014   25   Deaths_Mali     NaN  Deaths    Mali\n",
       "1937   4/15/2014   24   Deaths_Mali     NaN  Deaths    Mali\n",
       "1938   4/14/2014   23   Deaths_Mali     NaN  Deaths    Mali\n",
       "1939   4/11/2014   20   Deaths_Mali     NaN  Deaths    Mali\n",
       "1940    4/9/2014   18   Deaths_Mali     NaN  Deaths    Mali\n",
       "1941    4/7/2014   16   Deaths_Mali     NaN  Deaths    Mali\n",
       "1942    4/4/2014   13   Deaths_Mali     NaN  Deaths    Mali\n",
       "1943    4/1/2014   10   Deaths_Mali     NaN  Deaths    Mali\n",
       "1944   3/31/2014    9   Deaths_Mali     NaN  Deaths    Mali\n",
       "1945   3/29/2014    7   Deaths_Mali     NaN  Deaths    Mali\n",
       "1946   3/28/2014    6   Deaths_Mali     NaN  Deaths    Mali\n",
       "1947   3/27/2014    5   Deaths_Mali     NaN  Deaths    Mali\n",
       "1948   3/26/2014    4   Deaths_Mali     NaN  Deaths    Mali\n",
       "1949   3/25/2014    3   Deaths_Mali     NaN  Deaths    Mali\n",
       "1950   3/24/2014    2   Deaths_Mali     NaN  Deaths    Mali\n",
       "1951   3/22/2014    0   Deaths_Mali     NaN  Deaths    Mali\n",
       "\n",
       "[1952 rows x 6 columns]"
      ],
      "text/html": "<div>\n<style scoped>\n    .dataframe tbody tr th:only-of-type {\n        vertical-align: middle;\n    }\n\n    .dataframe tbody tr th {\n        vertical-align: top;\n    }\n\n    .dataframe thead th {\n        text-align: right;\n    }\n</style>\n<table border=\"1\" class=\"dataframe\">\n  <thead>\n    <tr style=\"text-align: right;\">\n      <th></th>\n      <th>Date</th>\n      <th>Day</th>\n      <th>cd_country</th>\n      <th>count</th>\n      <th>status</th>\n      <th>country</th>\n    </tr>\n  </thead>\n  <tbody>\n    <tr>\n      <th>0</th>\n      <td>1/5/2015</td>\n      <td>289</td>\n      <td>Cases_Guinea</td>\n      <td>2776.0</td>\n      <td>Cases</td>\n      <td>Guinea</td>\n    </tr>\n    <tr>\n      <th>1</th>\n      <td>1/4/2015</td>\n      <td>288</td>\n      <td>Cases_Guinea</td>\n      <td>2775.0</td>\n      <td>Cases</td>\n      <td>Guinea</td>\n    </tr>\n    <tr>\n      <th>2</th>\n      <td>1/3/2015</td>\n      <td>287</td>\n      <td>Cases_Guinea</td>\n      <td>2769.0</td>\n      <td>Cases</td>\n      <td>Guinea</td>\n    </tr>\n    <tr>\n      <th>3</th>\n      <td>1/2/2015</td>\n      <td>286</td>\n      <td>Cases_Guinea</td>\n      <td>NaN</td>\n      <td>Cases</td>\n      <td>Guinea</td>\n    </tr>\n    <tr>\n      <th>4</th>\n      <td>12/31/2014</td>\n      <td>284</td>\n      <td>Cases_Guinea</td>\n      <td>2730.0</td>\n      <td>Cases</td>\n      <td>Guinea</td>\n    </tr>\n    <tr>\n      <th>5</th>\n      <td>12/28/2014</td>\n      <td>281</td>\n      <td>Cases_Guinea</td>\n      <td>2706.0</td>\n      <td>Cases</td>\n      <td>Guinea</td>\n    </tr>\n    <tr>\n      <th>6</th>\n      <td>12/27/2014</td>\n      <td>280</td>\n      <td>Cases_Guinea</td>\n      <td>2695.0</td>\n      <td>Cases</td>\n      <td>Guinea</td>\n    </tr>\n    <tr>\n      <th>7</th>\n      <td>12/24/2014</td>\n      <td>277</td>\n      <td>Cases_Guinea</td>\n      <td>2630.0</td>\n      <td>Cases</td>\n      <td>Guinea</td>\n    </tr>\n    <tr>\n      <th>8</th>\n      <td>12/21/2014</td>\n      <td>273</td>\n      <td>Cases_Guinea</td>\n      <td>2597.0</td>\n      <td>Cases</td>\n      <td>Guinea</td>\n    </tr>\n    <tr>\n      <th>9</th>\n      <td>12/20/2014</td>\n      <td>272</td>\n      <td>Cases_Guinea</td>\n      <td>2571.0</td>\n      <td>Cases</td>\n      <td>Guinea</td>\n    </tr>\n    <tr>\n      <th>10</th>\n      <td>12/18/2014</td>\n      <td>271</td>\n      <td>Cases_Guinea</td>\n      <td>NaN</td>\n      <td>Cases</td>\n      <td>Guinea</td>\n    </tr>\n    <tr>\n      <th>11</th>\n      <td>12/14/2014</td>\n      <td>267</td>\n      <td>Cases_Guinea</td>\n      <td>2416.0</td>\n      <td>Cases</td>\n      <td>Guinea</td>\n    </tr>\n    <tr>\n      <th>12</th>\n      <td>12/9/2014</td>\n      <td>262</td>\n      <td>Cases_Guinea</td>\n      <td>NaN</td>\n      <td>Cases</td>\n      <td>Guinea</td>\n    </tr>\n    <tr>\n      <th>13</th>\n      <td>12/7/2014</td>\n      <td>260</td>\n      <td>Cases_Guinea</td>\n      <td>2292.0</td>\n      <td>Cases</td>\n      <td>Guinea</td>\n    </tr>\n    <tr>\n      <th>14</th>\n      <td>12/3/2014</td>\n      <td>256</td>\n      <td>Cases_Guinea</td>\n      <td>NaN</td>\n      <td>Cases</td>\n      <td>Guinea</td>\n    </tr>\n    <tr>\n      <th>15</th>\n      <td>11/30/2014</td>\n      <td>253</td>\n      <td>Cases_Guinea</td>\n      <td>2164.0</td>\n      <td>Cases</td>\n      <td>Guinea</td>\n    </tr>\n    <tr>\n      <th>16</th>\n      <td>11/28/2014</td>\n      <td>251</td>\n      <td>Cases_Guinea</td>\n      <td>NaN</td>\n      <td>Cases</td>\n      <td>Guinea</td>\n    </tr>\n    <tr>\n      <th>17</th>\n      <td>11/23/2014</td>\n      <td>246</td>\n      <td>Cases_Guinea</td>\n      <td>2134.0</td>\n      <td>Cases</td>\n      <td>Guinea</td>\n    </tr>\n    <tr>\n      <th>18</th>\n      <td>11/22/2014</td>\n      <td>245</td>\n      <td>Cases_Guinea</td>\n      <td>NaN</td>\n      <td>Cases</td>\n      <td>Guinea</td>\n    </tr>\n    <tr>\n      <th>19</th>\n      <td>11/18/2014</td>\n      <td>241</td>\n      <td>Cases_Guinea</td>\n      <td>2047.0</td>\n      <td>Cases</td>\n      <td>Guinea</td>\n    </tr>\n    <tr>\n      <th>20</th>\n      <td>11/16/2014</td>\n      <td>239</td>\n      <td>Cases_Guinea</td>\n      <td>1971.0</td>\n      <td>Cases</td>\n      <td>Guinea</td>\n    </tr>\n    <tr>\n      <th>21</th>\n      <td>11/15/2014</td>\n      <td>238</td>\n      <td>Cases_Guinea</td>\n      <td>NaN</td>\n      <td>Cases</td>\n      <td>Guinea</td>\n    </tr>\n    <tr>\n      <th>22</th>\n      <td>11/11/2014</td>\n      <td>234</td>\n      <td>Cases_Guinea</td>\n      <td>1919.0</td>\n      <td>Cases</td>\n      <td>Guinea</td>\n    </tr>\n    <tr>\n      <th>23</th>\n      <td>11/10/2014</td>\n      <td>233</td>\n      <td>Cases_Guinea</td>\n      <td>NaN</td>\n      <td>Cases</td>\n      <td>Guinea</td>\n    </tr>\n    <tr>\n      <th>24</th>\n      <td>11/9/2014</td>\n      <td>232</td>\n      <td>Cases_Guinea</td>\n      <td>1878.0</td>\n      <td>Cases</td>\n      <td>Guinea</td>\n    </tr>\n    <tr>\n      <th>25</th>\n      <td>11/8/2014</td>\n      <td>231</td>\n      <td>Cases_Guinea</td>\n      <td>NaN</td>\n      <td>Cases</td>\n      <td>Guinea</td>\n    </tr>\n    <tr>\n      <th>26</th>\n      <td>11/4/2014</td>\n      <td>227</td>\n      <td>Cases_Guinea</td>\n      <td>NaN</td>\n      <td>Cases</td>\n      <td>Guinea</td>\n    </tr>\n    <tr>\n      <th>27</th>\n      <td>11/3/2014</td>\n      <td>226</td>\n      <td>Cases_Guinea</td>\n      <td>1760.0</td>\n      <td>Cases</td>\n      <td>Guinea</td>\n    </tr>\n    <tr>\n      <th>28</th>\n      <td>11/2/2014</td>\n      <td>225</td>\n      <td>Cases_Guinea</td>\n      <td>1731.0</td>\n      <td>Cases</td>\n      <td>Guinea</td>\n    </tr>\n    <tr>\n      <th>29</th>\n      <td>10/31/2014</td>\n      <td>222</td>\n      <td>Cases_Guinea</td>\n      <td>NaN</td>\n      <td>Cases</td>\n      <td>Guinea</td>\n    </tr>\n    <tr>\n      <th>...</th>\n      <td>...</td>\n      <td>...</td>\n      <td>...</td>\n      <td>...</td>\n      <td>...</td>\n      <td>...</td>\n    </tr>\n    <tr>\n      <th>1922</th>\n      <td>5/23/2014</td>\n      <td>62</td>\n      <td>Deaths_Mali</td>\n      <td>NaN</td>\n      <td>Deaths</td>\n      <td>Mali</td>\n    </tr>\n    <tr>\n      <th>1923</th>\n      <td>5/12/2014</td>\n      <td>51</td>\n      <td>Deaths_Mali</td>\n      <td>NaN</td>\n      <td>Deaths</td>\n      <td>Mali</td>\n    </tr>\n    <tr>\n      <th>1924</th>\n      <td>5/10/2014</td>\n      <td>49</td>\n      <td>Deaths_Mali</td>\n      <td>NaN</td>\n      <td>Deaths</td>\n      <td>Mali</td>\n    </tr>\n    <tr>\n      <th>1925</th>\n      <td>5/7/2014</td>\n      <td>46</td>\n      <td>Deaths_Mali</td>\n      <td>NaN</td>\n      <td>Deaths</td>\n      <td>Mali</td>\n    </tr>\n    <tr>\n      <th>1926</th>\n      <td>5/5/2014</td>\n      <td>44</td>\n      <td>Deaths_Mali</td>\n      <td>NaN</td>\n      <td>Deaths</td>\n      <td>Mali</td>\n    </tr>\n    <tr>\n      <th>1927</th>\n      <td>5/3/2014</td>\n      <td>42</td>\n      <td>Deaths_Mali</td>\n      <td>NaN</td>\n      <td>Deaths</td>\n      <td>Mali</td>\n    </tr>\n    <tr>\n      <th>1928</th>\n      <td>5/1/2014</td>\n      <td>40</td>\n      <td>Deaths_Mali</td>\n      <td>NaN</td>\n      <td>Deaths</td>\n      <td>Mali</td>\n    </tr>\n    <tr>\n      <th>1929</th>\n      <td>4/26/2014</td>\n      <td>35</td>\n      <td>Deaths_Mali</td>\n      <td>NaN</td>\n      <td>Deaths</td>\n      <td>Mali</td>\n    </tr>\n    <tr>\n      <th>1930</th>\n      <td>4/24/2014</td>\n      <td>33</td>\n      <td>Deaths_Mali</td>\n      <td>NaN</td>\n      <td>Deaths</td>\n      <td>Mali</td>\n    </tr>\n    <tr>\n      <th>1931</th>\n      <td>4/23/2014</td>\n      <td>32</td>\n      <td>Deaths_Mali</td>\n      <td>NaN</td>\n      <td>Deaths</td>\n      <td>Mali</td>\n    </tr>\n    <tr>\n      <th>1932</th>\n      <td>4/22/2014</td>\n      <td>31</td>\n      <td>Deaths_Mali</td>\n      <td>NaN</td>\n      <td>Deaths</td>\n      <td>Mali</td>\n    </tr>\n    <tr>\n      <th>1933</th>\n      <td>4/21/2014</td>\n      <td>30</td>\n      <td>Deaths_Mali</td>\n      <td>NaN</td>\n      <td>Deaths</td>\n      <td>Mali</td>\n    </tr>\n    <tr>\n      <th>1934</th>\n      <td>4/20/2014</td>\n      <td>29</td>\n      <td>Deaths_Mali</td>\n      <td>NaN</td>\n      <td>Deaths</td>\n      <td>Mali</td>\n    </tr>\n    <tr>\n      <th>1935</th>\n      <td>4/17/2014</td>\n      <td>26</td>\n      <td>Deaths_Mali</td>\n      <td>NaN</td>\n      <td>Deaths</td>\n      <td>Mali</td>\n    </tr>\n    <tr>\n      <th>1936</th>\n      <td>4/16/2014</td>\n      <td>25</td>\n      <td>Deaths_Mali</td>\n      <td>NaN</td>\n      <td>Deaths</td>\n      <td>Mali</td>\n    </tr>\n    <tr>\n      <th>1937</th>\n      <td>4/15/2014</td>\n      <td>24</td>\n      <td>Deaths_Mali</td>\n      <td>NaN</td>\n      <td>Deaths</td>\n      <td>Mali</td>\n    </tr>\n    <tr>\n      <th>1938</th>\n      <td>4/14/2014</td>\n      <td>23</td>\n      <td>Deaths_Mali</td>\n      <td>NaN</td>\n      <td>Deaths</td>\n      <td>Mali</td>\n    </tr>\n    <tr>\n      <th>1939</th>\n      <td>4/11/2014</td>\n      <td>20</td>\n      <td>Deaths_Mali</td>\n      <td>NaN</td>\n      <td>Deaths</td>\n      <td>Mali</td>\n    </tr>\n    <tr>\n      <th>1940</th>\n      <td>4/9/2014</td>\n      <td>18</td>\n      <td>Deaths_Mali</td>\n      <td>NaN</td>\n      <td>Deaths</td>\n      <td>Mali</td>\n    </tr>\n    <tr>\n      <th>1941</th>\n      <td>4/7/2014</td>\n      <td>16</td>\n      <td>Deaths_Mali</td>\n      <td>NaN</td>\n      <td>Deaths</td>\n      <td>Mali</td>\n    </tr>\n    <tr>\n      <th>1942</th>\n      <td>4/4/2014</td>\n      <td>13</td>\n      <td>Deaths_Mali</td>\n      <td>NaN</td>\n      <td>Deaths</td>\n      <td>Mali</td>\n    </tr>\n    <tr>\n      <th>1943</th>\n      <td>4/1/2014</td>\n      <td>10</td>\n      <td>Deaths_Mali</td>\n      <td>NaN</td>\n      <td>Deaths</td>\n      <td>Mali</td>\n    </tr>\n    <tr>\n      <th>1944</th>\n      <td>3/31/2014</td>\n      <td>9</td>\n      <td>Deaths_Mali</td>\n      <td>NaN</td>\n      <td>Deaths</td>\n      <td>Mali</td>\n    </tr>\n    <tr>\n      <th>1945</th>\n      <td>3/29/2014</td>\n      <td>7</td>\n      <td>Deaths_Mali</td>\n      <td>NaN</td>\n      <td>Deaths</td>\n      <td>Mali</td>\n    </tr>\n    <tr>\n      <th>1946</th>\n      <td>3/28/2014</td>\n      <td>6</td>\n      <td>Deaths_Mali</td>\n      <td>NaN</td>\n      <td>Deaths</td>\n      <td>Mali</td>\n    </tr>\n    <tr>\n      <th>1947</th>\n      <td>3/27/2014</td>\n      <td>5</td>\n      <td>Deaths_Mali</td>\n      <td>NaN</td>\n      <td>Deaths</td>\n      <td>Mali</td>\n    </tr>\n    <tr>\n      <th>1948</th>\n      <td>3/26/2014</td>\n      <td>4</td>\n      <td>Deaths_Mali</td>\n      <td>NaN</td>\n      <td>Deaths</td>\n      <td>Mali</td>\n    </tr>\n    <tr>\n      <th>1949</th>\n      <td>3/25/2014</td>\n      <td>3</td>\n      <td>Deaths_Mali</td>\n      <td>NaN</td>\n      <td>Deaths</td>\n      <td>Mali</td>\n    </tr>\n    <tr>\n      <th>1950</th>\n      <td>3/24/2014</td>\n      <td>2</td>\n      <td>Deaths_Mali</td>\n      <td>NaN</td>\n      <td>Deaths</td>\n      <td>Mali</td>\n    </tr>\n    <tr>\n      <th>1951</th>\n      <td>3/22/2014</td>\n      <td>0</td>\n      <td>Deaths_Mali</td>\n      <td>NaN</td>\n      <td>Deaths</td>\n      <td>Mali</td>\n    </tr>\n  </tbody>\n</table>\n<p>1952 rows × 6 columns</p>\n</div>"
     },
     "metadata": {},
     "execution_count": 83
    }
   ],
   "source": [
    "elb_tiny['status'] = case_death\n",
    "elb_tiny['country'] = country\n",
    "elb_tiny"
   ]
  },
  {
   "cell_type": "code",
   "execution_count": 85,
   "metadata": {},
   "outputs": [],
   "source": [
    "x =elb_tiny.drop('cd_country',axis='columns')"
   ]
  },
  {
   "cell_type": "code",
   "execution_count": 86,
   "metadata": {},
   "outputs": [
    {
     "output_type": "execute_result",
     "data": {
      "text/plain": [
       "            Date  Day   count  status       country\n",
       "0       1/5/2015  289  2776.0   Cases        Guinea\n",
       "1       1/4/2015  288  2775.0   Cases        Guinea\n",
       "2       1/3/2015  287  2769.0   Cases        Guinea\n",
       "4     12/31/2014  284  2730.0   Cases        Guinea\n",
       "5     12/28/2014  281  2706.0   Cases        Guinea\n",
       "6     12/27/2014  280  2695.0   Cases        Guinea\n",
       "7     12/24/2014  277  2630.0   Cases        Guinea\n",
       "8     12/21/2014  273  2597.0   Cases        Guinea\n",
       "9     12/20/2014  272  2571.0   Cases        Guinea\n",
       "11    12/14/2014  267  2416.0   Cases        Guinea\n",
       "13     12/7/2014  260  2292.0   Cases        Guinea\n",
       "15    11/30/2014  253  2164.0   Cases        Guinea\n",
       "17    11/23/2014  246  2134.0   Cases        Guinea\n",
       "19    11/18/2014  241  2047.0   Cases        Guinea\n",
       "20    11/16/2014  239  1971.0   Cases        Guinea\n",
       "22    11/11/2014  234  1919.0   Cases        Guinea\n",
       "24     11/9/2014  232  1878.0   Cases        Guinea\n",
       "27     11/3/2014  226  1760.0   Cases        Guinea\n",
       "28     11/2/2014  225  1731.0   Cases        Guinea\n",
       "30    10/29/2014  220  1667.0   Cases        Guinea\n",
       "31    10/27/2014  218  1906.0   Cases        Guinea\n",
       "34    10/21/2014  213  1553.0   Cases        Guinea\n",
       "35    10/19/2014  211  1540.0   Cases        Guinea\n",
       "37    10/14/2014  206  1519.0   Cases        Guinea\n",
       "39    10/12/2014  204  1472.0   Cases        Guinea\n",
       "42     10/7/2014  199  1350.0   Cases        Guinea\n",
       "43     10/5/2014  197  1298.0   Cases        Guinea\n",
       "45     10/1/2014  193  1199.0   Cases        Guinea\n",
       "46     9/28/2014  190  1157.0   Cases        Guinea\n",
       "47     9/23/2014  185  1074.0   Cases        Guinea\n",
       "...          ...  ...     ...     ...           ...\n",
       "1629   10/5/2014  197     0.0  Deaths  UnitedStates\n",
       "1631   10/1/2014  193     0.0  Deaths  UnitedStates\n",
       "1721   12/7/2014  260     0.0  Deaths         Spain\n",
       "1723  11/30/2014  253     0.0  Deaths         Spain\n",
       "1725  11/23/2014  246     0.0  Deaths         Spain\n",
       "1727  11/18/2014  241     0.0  Deaths         Spain\n",
       "1728  11/16/2014  239     0.0  Deaths         Spain\n",
       "1730  11/11/2014  234     0.0  Deaths         Spain\n",
       "1732   11/9/2014  232     0.0  Deaths         Spain\n",
       "1734   11/4/2014  227     0.0  Deaths         Spain\n",
       "1736   11/2/2014  225     0.0  Deaths         Spain\n",
       "1738  10/29/2014  220     0.0  Deaths         Spain\n",
       "1739  10/27/2014  218     0.0  Deaths         Spain\n",
       "1741  10/22/2014  214     0.0  Deaths         Spain\n",
       "1743  10/19/2014  211     0.0  Deaths         Spain\n",
       "1745  10/14/2014  206     1.0  Deaths         Spain\n",
       "1747  10/12/2014  204     1.0  Deaths         Spain\n",
       "1749   10/8/2014  200     1.0  Deaths         Spain\n",
       "1843   12/7/2014  260     6.0  Deaths          Mali\n",
       "1845  11/30/2014  253     6.0  Deaths          Mali\n",
       "1847  11/23/2014  246     6.0  Deaths          Mali\n",
       "1849  11/18/2014  241     6.0  Deaths          Mali\n",
       "1850  11/16/2014  239     5.0  Deaths          Mali\n",
       "1852  11/11/2014  234     3.0  Deaths          Mali\n",
       "1854   11/9/2014  232     1.0  Deaths          Mali\n",
       "1856   11/4/2014  227     1.0  Deaths          Mali\n",
       "1858   11/2/2014  225     1.0  Deaths          Mali\n",
       "1860  10/29/2014  220     1.0  Deaths          Mali\n",
       "1861  10/27/2014  218     1.0  Deaths          Mali\n",
       "1863  10/22/2014  214     1.0  Deaths          Mali\n",
       "\n",
       "[738 rows x 5 columns]"
      ],
      "text/html": "<div>\n<style scoped>\n    .dataframe tbody tr th:only-of-type {\n        vertical-align: middle;\n    }\n\n    .dataframe tbody tr th {\n        vertical-align: top;\n    }\n\n    .dataframe thead th {\n        text-align: right;\n    }\n</style>\n<table border=\"1\" class=\"dataframe\">\n  <thead>\n    <tr style=\"text-align: right;\">\n      <th></th>\n      <th>Date</th>\n      <th>Day</th>\n      <th>count</th>\n      <th>status</th>\n      <th>country</th>\n    </tr>\n  </thead>\n  <tbody>\n    <tr>\n      <th>0</th>\n      <td>1/5/2015</td>\n      <td>289</td>\n      <td>2776.0</td>\n      <td>Cases</td>\n      <td>Guinea</td>\n    </tr>\n    <tr>\n      <th>1</th>\n      <td>1/4/2015</td>\n      <td>288</td>\n      <td>2775.0</td>\n      <td>Cases</td>\n      <td>Guinea</td>\n    </tr>\n    <tr>\n      <th>2</th>\n      <td>1/3/2015</td>\n      <td>287</td>\n      <td>2769.0</td>\n      <td>Cases</td>\n      <td>Guinea</td>\n    </tr>\n    <tr>\n      <th>4</th>\n      <td>12/31/2014</td>\n      <td>284</td>\n      <td>2730.0</td>\n      <td>Cases</td>\n      <td>Guinea</td>\n    </tr>\n    <tr>\n      <th>5</th>\n      <td>12/28/2014</td>\n      <td>281</td>\n      <td>2706.0</td>\n      <td>Cases</td>\n      <td>Guinea</td>\n    </tr>\n    <tr>\n      <th>6</th>\n      <td>12/27/2014</td>\n      <td>280</td>\n      <td>2695.0</td>\n      <td>Cases</td>\n      <td>Guinea</td>\n    </tr>\n    <tr>\n      <th>7</th>\n      <td>12/24/2014</td>\n      <td>277</td>\n      <td>2630.0</td>\n      <td>Cases</td>\n      <td>Guinea</td>\n    </tr>\n    <tr>\n      <th>8</th>\n      <td>12/21/2014</td>\n      <td>273</td>\n      <td>2597.0</td>\n      <td>Cases</td>\n      <td>Guinea</td>\n    </tr>\n    <tr>\n      <th>9</th>\n      <td>12/20/2014</td>\n      <td>272</td>\n      <td>2571.0</td>\n      <td>Cases</td>\n      <td>Guinea</td>\n    </tr>\n    <tr>\n      <th>11</th>\n      <td>12/14/2014</td>\n      <td>267</td>\n      <td>2416.0</td>\n      <td>Cases</td>\n      <td>Guinea</td>\n    </tr>\n    <tr>\n      <th>13</th>\n      <td>12/7/2014</td>\n      <td>260</td>\n      <td>2292.0</td>\n      <td>Cases</td>\n      <td>Guinea</td>\n    </tr>\n    <tr>\n      <th>15</th>\n      <td>11/30/2014</td>\n      <td>253</td>\n      <td>2164.0</td>\n      <td>Cases</td>\n      <td>Guinea</td>\n    </tr>\n    <tr>\n      <th>17</th>\n      <td>11/23/2014</td>\n      <td>246</td>\n      <td>2134.0</td>\n      <td>Cases</td>\n      <td>Guinea</td>\n    </tr>\n    <tr>\n      <th>19</th>\n      <td>11/18/2014</td>\n      <td>241</td>\n      <td>2047.0</td>\n      <td>Cases</td>\n      <td>Guinea</td>\n    </tr>\n    <tr>\n      <th>20</th>\n      <td>11/16/2014</td>\n      <td>239</td>\n      <td>1971.0</td>\n      <td>Cases</td>\n      <td>Guinea</td>\n    </tr>\n    <tr>\n      <th>22</th>\n      <td>11/11/2014</td>\n      <td>234</td>\n      <td>1919.0</td>\n      <td>Cases</td>\n      <td>Guinea</td>\n    </tr>\n    <tr>\n      <th>24</th>\n      <td>11/9/2014</td>\n      <td>232</td>\n      <td>1878.0</td>\n      <td>Cases</td>\n      <td>Guinea</td>\n    </tr>\n    <tr>\n      <th>27</th>\n      <td>11/3/2014</td>\n      <td>226</td>\n      <td>1760.0</td>\n      <td>Cases</td>\n      <td>Guinea</td>\n    </tr>\n    <tr>\n      <th>28</th>\n      <td>11/2/2014</td>\n      <td>225</td>\n      <td>1731.0</td>\n      <td>Cases</td>\n      <td>Guinea</td>\n    </tr>\n    <tr>\n      <th>30</th>\n      <td>10/29/2014</td>\n      <td>220</td>\n      <td>1667.0</td>\n      <td>Cases</td>\n      <td>Guinea</td>\n    </tr>\n    <tr>\n      <th>31</th>\n      <td>10/27/2014</td>\n      <td>218</td>\n      <td>1906.0</td>\n      <td>Cases</td>\n      <td>Guinea</td>\n    </tr>\n    <tr>\n      <th>34</th>\n      <td>10/21/2014</td>\n      <td>213</td>\n      <td>1553.0</td>\n      <td>Cases</td>\n      <td>Guinea</td>\n    </tr>\n    <tr>\n      <th>35</th>\n      <td>10/19/2014</td>\n      <td>211</td>\n      <td>1540.0</td>\n      <td>Cases</td>\n      <td>Guinea</td>\n    </tr>\n    <tr>\n      <th>37</th>\n      <td>10/14/2014</td>\n      <td>206</td>\n      <td>1519.0</td>\n      <td>Cases</td>\n      <td>Guinea</td>\n    </tr>\n    <tr>\n      <th>39</th>\n      <td>10/12/2014</td>\n      <td>204</td>\n      <td>1472.0</td>\n      <td>Cases</td>\n      <td>Guinea</td>\n    </tr>\n    <tr>\n      <th>42</th>\n      <td>10/7/2014</td>\n      <td>199</td>\n      <td>1350.0</td>\n      <td>Cases</td>\n      <td>Guinea</td>\n    </tr>\n    <tr>\n      <th>43</th>\n      <td>10/5/2014</td>\n      <td>197</td>\n      <td>1298.0</td>\n      <td>Cases</td>\n      <td>Guinea</td>\n    </tr>\n    <tr>\n      <th>45</th>\n      <td>10/1/2014</td>\n      <td>193</td>\n      <td>1199.0</td>\n      <td>Cases</td>\n      <td>Guinea</td>\n    </tr>\n    <tr>\n      <th>46</th>\n      <td>9/28/2014</td>\n      <td>190</td>\n      <td>1157.0</td>\n      <td>Cases</td>\n      <td>Guinea</td>\n    </tr>\n    <tr>\n      <th>47</th>\n      <td>9/23/2014</td>\n      <td>185</td>\n      <td>1074.0</td>\n      <td>Cases</td>\n      <td>Guinea</td>\n    </tr>\n    <tr>\n      <th>...</th>\n      <td>...</td>\n      <td>...</td>\n      <td>...</td>\n      <td>...</td>\n      <td>...</td>\n    </tr>\n    <tr>\n      <th>1629</th>\n      <td>10/5/2014</td>\n      <td>197</td>\n      <td>0.0</td>\n      <td>Deaths</td>\n      <td>UnitedStates</td>\n    </tr>\n    <tr>\n      <th>1631</th>\n      <td>10/1/2014</td>\n      <td>193</td>\n      <td>0.0</td>\n      <td>Deaths</td>\n      <td>UnitedStates</td>\n    </tr>\n    <tr>\n      <th>1721</th>\n      <td>12/7/2014</td>\n      <td>260</td>\n      <td>0.0</td>\n      <td>Deaths</td>\n      <td>Spain</td>\n    </tr>\n    <tr>\n      <th>1723</th>\n      <td>11/30/2014</td>\n      <td>253</td>\n      <td>0.0</td>\n      <td>Deaths</td>\n      <td>Spain</td>\n    </tr>\n    <tr>\n      <th>1725</th>\n      <td>11/23/2014</td>\n      <td>246</td>\n      <td>0.0</td>\n      <td>Deaths</td>\n      <td>Spain</td>\n    </tr>\n    <tr>\n      <th>1727</th>\n      <td>11/18/2014</td>\n      <td>241</td>\n      <td>0.0</td>\n      <td>Deaths</td>\n      <td>Spain</td>\n    </tr>\n    <tr>\n      <th>1728</th>\n      <td>11/16/2014</td>\n      <td>239</td>\n      <td>0.0</td>\n      <td>Deaths</td>\n      <td>Spain</td>\n    </tr>\n    <tr>\n      <th>1730</th>\n      <td>11/11/2014</td>\n      <td>234</td>\n      <td>0.0</td>\n      <td>Deaths</td>\n      <td>Spain</td>\n    </tr>\n    <tr>\n      <th>1732</th>\n      <td>11/9/2014</td>\n      <td>232</td>\n      <td>0.0</td>\n      <td>Deaths</td>\n      <td>Spain</td>\n    </tr>\n    <tr>\n      <th>1734</th>\n      <td>11/4/2014</td>\n      <td>227</td>\n      <td>0.0</td>\n      <td>Deaths</td>\n      <td>Spain</td>\n    </tr>\n    <tr>\n      <th>1736</th>\n      <td>11/2/2014</td>\n      <td>225</td>\n      <td>0.0</td>\n      <td>Deaths</td>\n      <td>Spain</td>\n    </tr>\n    <tr>\n      <th>1738</th>\n      <td>10/29/2014</td>\n      <td>220</td>\n      <td>0.0</td>\n      <td>Deaths</td>\n      <td>Spain</td>\n    </tr>\n    <tr>\n      <th>1739</th>\n      <td>10/27/2014</td>\n      <td>218</td>\n      <td>0.0</td>\n      <td>Deaths</td>\n      <td>Spain</td>\n    </tr>\n    <tr>\n      <th>1741</th>\n      <td>10/22/2014</td>\n      <td>214</td>\n      <td>0.0</td>\n      <td>Deaths</td>\n      <td>Spain</td>\n    </tr>\n    <tr>\n      <th>1743</th>\n      <td>10/19/2014</td>\n      <td>211</td>\n      <td>0.0</td>\n      <td>Deaths</td>\n      <td>Spain</td>\n    </tr>\n    <tr>\n      <th>1745</th>\n      <td>10/14/2014</td>\n      <td>206</td>\n      <td>1.0</td>\n      <td>Deaths</td>\n      <td>Spain</td>\n    </tr>\n    <tr>\n      <th>1747</th>\n      <td>10/12/2014</td>\n      <td>204</td>\n      <td>1.0</td>\n      <td>Deaths</td>\n      <td>Spain</td>\n    </tr>\n    <tr>\n      <th>1749</th>\n      <td>10/8/2014</td>\n      <td>200</td>\n      <td>1.0</td>\n      <td>Deaths</td>\n      <td>Spain</td>\n    </tr>\n    <tr>\n      <th>1843</th>\n      <td>12/7/2014</td>\n      <td>260</td>\n      <td>6.0</td>\n      <td>Deaths</td>\n      <td>Mali</td>\n    </tr>\n    <tr>\n      <th>1845</th>\n      <td>11/30/2014</td>\n      <td>253</td>\n      <td>6.0</td>\n      <td>Deaths</td>\n      <td>Mali</td>\n    </tr>\n    <tr>\n      <th>1847</th>\n      <td>11/23/2014</td>\n      <td>246</td>\n      <td>6.0</td>\n      <td>Deaths</td>\n      <td>Mali</td>\n    </tr>\n    <tr>\n      <th>1849</th>\n      <td>11/18/2014</td>\n      <td>241</td>\n      <td>6.0</td>\n      <td>Deaths</td>\n      <td>Mali</td>\n    </tr>\n    <tr>\n      <th>1850</th>\n      <td>11/16/2014</td>\n      <td>239</td>\n      <td>5.0</td>\n      <td>Deaths</td>\n      <td>Mali</td>\n    </tr>\n    <tr>\n      <th>1852</th>\n      <td>11/11/2014</td>\n      <td>234</td>\n      <td>3.0</td>\n      <td>Deaths</td>\n      <td>Mali</td>\n    </tr>\n    <tr>\n      <th>1854</th>\n      <td>11/9/2014</td>\n      <td>232</td>\n      <td>1.0</td>\n      <td>Deaths</td>\n      <td>Mali</td>\n    </tr>\n    <tr>\n      <th>1856</th>\n      <td>11/4/2014</td>\n      <td>227</td>\n      <td>1.0</td>\n      <td>Deaths</td>\n      <td>Mali</td>\n    </tr>\n    <tr>\n      <th>1858</th>\n      <td>11/2/2014</td>\n      <td>225</td>\n      <td>1.0</td>\n      <td>Deaths</td>\n      <td>Mali</td>\n    </tr>\n    <tr>\n      <th>1860</th>\n      <td>10/29/2014</td>\n      <td>220</td>\n      <td>1.0</td>\n      <td>Deaths</td>\n      <td>Mali</td>\n    </tr>\n    <tr>\n      <th>1861</th>\n      <td>10/27/2014</td>\n      <td>218</td>\n      <td>1.0</td>\n      <td>Deaths</td>\n      <td>Mali</td>\n    </tr>\n    <tr>\n      <th>1863</th>\n      <td>10/22/2014</td>\n      <td>214</td>\n      <td>1.0</td>\n      <td>Deaths</td>\n      <td>Mali</td>\n    </tr>\n  </tbody>\n</table>\n<p>738 rows × 5 columns</p>\n</div>"
     },
     "metadata": {},
     "execution_count": 86
    }
   ],
   "source": [
    "x.dropna()"
   ]
  },
  {
   "cell_type": "code",
   "execution_count": 87,
   "metadata": {},
   "outputs": [
    {
     "output_type": "execute_result",
     "data": {
      "text/plain": [
       "           Date  Day   count status country\n",
       "0      1/5/2015  289  2776.0  Cases  Guinea\n",
       "1      1/4/2015  288  2775.0  Cases  Guinea\n",
       "2      1/3/2015  287  2769.0  Cases  Guinea\n",
       "3      1/2/2015  286     NaN  Cases  Guinea\n",
       "4    12/31/2014  284  2730.0  Cases  Guinea\n",
       "5    12/28/2014  281  2706.0  Cases  Guinea\n",
       "6    12/27/2014  280  2695.0  Cases  Guinea\n",
       "7    12/24/2014  277  2630.0  Cases  Guinea\n",
       "8    12/21/2014  273  2597.0  Cases  Guinea\n",
       "9    12/20/2014  272  2571.0  Cases  Guinea\n",
       "10   12/18/2014  271     NaN  Cases  Guinea\n",
       "11   12/14/2014  267  2416.0  Cases  Guinea\n",
       "12    12/9/2014  262     NaN  Cases  Guinea\n",
       "13    12/7/2014  260  2292.0  Cases  Guinea\n",
       "14    12/3/2014  256     NaN  Cases  Guinea\n",
       "15   11/30/2014  253  2164.0  Cases  Guinea\n",
       "16   11/28/2014  251     NaN  Cases  Guinea\n",
       "17   11/23/2014  246  2134.0  Cases  Guinea\n",
       "18   11/22/2014  245     NaN  Cases  Guinea\n",
       "19   11/18/2014  241  2047.0  Cases  Guinea\n",
       "20   11/16/2014  239  1971.0  Cases  Guinea\n",
       "21   11/15/2014  238     NaN  Cases  Guinea\n",
       "22   11/11/2014  234  1919.0  Cases  Guinea\n",
       "23   11/10/2014  233     NaN  Cases  Guinea\n",
       "24    11/9/2014  232  1878.0  Cases  Guinea\n",
       "25    11/8/2014  231     NaN  Cases  Guinea\n",
       "26    11/4/2014  227     NaN  Cases  Guinea\n",
       "27    11/3/2014  226  1760.0  Cases  Guinea\n",
       "28    11/2/2014  225  1731.0  Cases  Guinea\n",
       "29   10/31/2014  222     NaN  Cases  Guinea\n",
       "..          ...  ...     ...    ...     ...\n",
       "946   5/23/2014   62     NaN  Cases    Mali\n",
       "947   5/12/2014   51     NaN  Cases    Mali\n",
       "948   5/10/2014   49     NaN  Cases    Mali\n",
       "949    5/7/2014   46     NaN  Cases    Mali\n",
       "950    5/5/2014   44     NaN  Cases    Mali\n",
       "951    5/3/2014   42     NaN  Cases    Mali\n",
       "952    5/1/2014   40     NaN  Cases    Mali\n",
       "953   4/26/2014   35     NaN  Cases    Mali\n",
       "954   4/24/2014   33     NaN  Cases    Mali\n",
       "955   4/23/2014   32     NaN  Cases    Mali\n",
       "956   4/22/2014   31     NaN  Cases    Mali\n",
       "957   4/21/2014   30     NaN  Cases    Mali\n",
       "958   4/20/2014   29     NaN  Cases    Mali\n",
       "959   4/17/2014   26     NaN  Cases    Mali\n",
       "960   4/16/2014   25     NaN  Cases    Mali\n",
       "961   4/15/2014   24     NaN  Cases    Mali\n",
       "962   4/14/2014   23     NaN  Cases    Mali\n",
       "963   4/11/2014   20     NaN  Cases    Mali\n",
       "964    4/9/2014   18     NaN  Cases    Mali\n",
       "965    4/7/2014   16     NaN  Cases    Mali\n",
       "966    4/4/2014   13     NaN  Cases    Mali\n",
       "967    4/1/2014   10     NaN  Cases    Mali\n",
       "968   3/31/2014    9     NaN  Cases    Mali\n",
       "969   3/29/2014    7     NaN  Cases    Mali\n",
       "970   3/28/2014    6     NaN  Cases    Mali\n",
       "971   3/27/2014    5     NaN  Cases    Mali\n",
       "972   3/26/2014    4     NaN  Cases    Mali\n",
       "973   3/25/2014    3     NaN  Cases    Mali\n",
       "974   3/24/2014    2     NaN  Cases    Mali\n",
       "975   3/22/2014    0     NaN  Cases    Mali\n",
       "\n",
       "[976 rows x 5 columns]"
      ],
      "text/html": "<div>\n<style scoped>\n    .dataframe tbody tr th:only-of-type {\n        vertical-align: middle;\n    }\n\n    .dataframe tbody tr th {\n        vertical-align: top;\n    }\n\n    .dataframe thead th {\n        text-align: right;\n    }\n</style>\n<table border=\"1\" class=\"dataframe\">\n  <thead>\n    <tr style=\"text-align: right;\">\n      <th></th>\n      <th>Date</th>\n      <th>Day</th>\n      <th>count</th>\n      <th>status</th>\n      <th>country</th>\n    </tr>\n  </thead>\n  <tbody>\n    <tr>\n      <th>0</th>\n      <td>1/5/2015</td>\n      <td>289</td>\n      <td>2776.0</td>\n      <td>Cases</td>\n      <td>Guinea</td>\n    </tr>\n    <tr>\n      <th>1</th>\n      <td>1/4/2015</td>\n      <td>288</td>\n      <td>2775.0</td>\n      <td>Cases</td>\n      <td>Guinea</td>\n    </tr>\n    <tr>\n      <th>2</th>\n      <td>1/3/2015</td>\n      <td>287</td>\n      <td>2769.0</td>\n      <td>Cases</td>\n      <td>Guinea</td>\n    </tr>\n    <tr>\n      <th>3</th>\n      <td>1/2/2015</td>\n      <td>286</td>\n      <td>NaN</td>\n      <td>Cases</td>\n      <td>Guinea</td>\n    </tr>\n    <tr>\n      <th>4</th>\n      <td>12/31/2014</td>\n      <td>284</td>\n      <td>2730.0</td>\n      <td>Cases</td>\n      <td>Guinea</td>\n    </tr>\n    <tr>\n      <th>5</th>\n      <td>12/28/2014</td>\n      <td>281</td>\n      <td>2706.0</td>\n      <td>Cases</td>\n      <td>Guinea</td>\n    </tr>\n    <tr>\n      <th>6</th>\n      <td>12/27/2014</td>\n      <td>280</td>\n      <td>2695.0</td>\n      <td>Cases</td>\n      <td>Guinea</td>\n    </tr>\n    <tr>\n      <th>7</th>\n      <td>12/24/2014</td>\n      <td>277</td>\n      <td>2630.0</td>\n      <td>Cases</td>\n      <td>Guinea</td>\n    </tr>\n    <tr>\n      <th>8</th>\n      <td>12/21/2014</td>\n      <td>273</td>\n      <td>2597.0</td>\n      <td>Cases</td>\n      <td>Guinea</td>\n    </tr>\n    <tr>\n      <th>9</th>\n      <td>12/20/2014</td>\n      <td>272</td>\n      <td>2571.0</td>\n      <td>Cases</td>\n      <td>Guinea</td>\n    </tr>\n    <tr>\n      <th>10</th>\n      <td>12/18/2014</td>\n      <td>271</td>\n      <td>NaN</td>\n      <td>Cases</td>\n      <td>Guinea</td>\n    </tr>\n    <tr>\n      <th>11</th>\n      <td>12/14/2014</td>\n      <td>267</td>\n      <td>2416.0</td>\n      <td>Cases</td>\n      <td>Guinea</td>\n    </tr>\n    <tr>\n      <th>12</th>\n      <td>12/9/2014</td>\n      <td>262</td>\n      <td>NaN</td>\n      <td>Cases</td>\n      <td>Guinea</td>\n    </tr>\n    <tr>\n      <th>13</th>\n      <td>12/7/2014</td>\n      <td>260</td>\n      <td>2292.0</td>\n      <td>Cases</td>\n      <td>Guinea</td>\n    </tr>\n    <tr>\n      <th>14</th>\n      <td>12/3/2014</td>\n      <td>256</td>\n      <td>NaN</td>\n      <td>Cases</td>\n      <td>Guinea</td>\n    </tr>\n    <tr>\n      <th>15</th>\n      <td>11/30/2014</td>\n      <td>253</td>\n      <td>2164.0</td>\n      <td>Cases</td>\n      <td>Guinea</td>\n    </tr>\n    <tr>\n      <th>16</th>\n      <td>11/28/2014</td>\n      <td>251</td>\n      <td>NaN</td>\n      <td>Cases</td>\n      <td>Guinea</td>\n    </tr>\n    <tr>\n      <th>17</th>\n      <td>11/23/2014</td>\n      <td>246</td>\n      <td>2134.0</td>\n      <td>Cases</td>\n      <td>Guinea</td>\n    </tr>\n    <tr>\n      <th>18</th>\n      <td>11/22/2014</td>\n      <td>245</td>\n      <td>NaN</td>\n      <td>Cases</td>\n      <td>Guinea</td>\n    </tr>\n    <tr>\n      <th>19</th>\n      <td>11/18/2014</td>\n      <td>241</td>\n      <td>2047.0</td>\n      <td>Cases</td>\n      <td>Guinea</td>\n    </tr>\n    <tr>\n      <th>20</th>\n      <td>11/16/2014</td>\n      <td>239</td>\n      <td>1971.0</td>\n      <td>Cases</td>\n      <td>Guinea</td>\n    </tr>\n    <tr>\n      <th>21</th>\n      <td>11/15/2014</td>\n      <td>238</td>\n      <td>NaN</td>\n      <td>Cases</td>\n      <td>Guinea</td>\n    </tr>\n    <tr>\n      <th>22</th>\n      <td>11/11/2014</td>\n      <td>234</td>\n      <td>1919.0</td>\n      <td>Cases</td>\n      <td>Guinea</td>\n    </tr>\n    <tr>\n      <th>23</th>\n      <td>11/10/2014</td>\n      <td>233</td>\n      <td>NaN</td>\n      <td>Cases</td>\n      <td>Guinea</td>\n    </tr>\n    <tr>\n      <th>24</th>\n      <td>11/9/2014</td>\n      <td>232</td>\n      <td>1878.0</td>\n      <td>Cases</td>\n      <td>Guinea</td>\n    </tr>\n    <tr>\n      <th>25</th>\n      <td>11/8/2014</td>\n      <td>231</td>\n      <td>NaN</td>\n      <td>Cases</td>\n      <td>Guinea</td>\n    </tr>\n    <tr>\n      <th>26</th>\n      <td>11/4/2014</td>\n      <td>227</td>\n      <td>NaN</td>\n      <td>Cases</td>\n      <td>Guinea</td>\n    </tr>\n    <tr>\n      <th>27</th>\n      <td>11/3/2014</td>\n      <td>226</td>\n      <td>1760.0</td>\n      <td>Cases</td>\n      <td>Guinea</td>\n    </tr>\n    <tr>\n      <th>28</th>\n      <td>11/2/2014</td>\n      <td>225</td>\n      <td>1731.0</td>\n      <td>Cases</td>\n      <td>Guinea</td>\n    </tr>\n    <tr>\n      <th>29</th>\n      <td>10/31/2014</td>\n      <td>222</td>\n      <td>NaN</td>\n      <td>Cases</td>\n      <td>Guinea</td>\n    </tr>\n    <tr>\n      <th>...</th>\n      <td>...</td>\n      <td>...</td>\n      <td>...</td>\n      <td>...</td>\n      <td>...</td>\n    </tr>\n    <tr>\n      <th>946</th>\n      <td>5/23/2014</td>\n      <td>62</td>\n      <td>NaN</td>\n      <td>Cases</td>\n      <td>Mali</td>\n    </tr>\n    <tr>\n      <th>947</th>\n      <td>5/12/2014</td>\n      <td>51</td>\n      <td>NaN</td>\n      <td>Cases</td>\n      <td>Mali</td>\n    </tr>\n    <tr>\n      <th>948</th>\n      <td>5/10/2014</td>\n      <td>49</td>\n      <td>NaN</td>\n      <td>Cases</td>\n      <td>Mali</td>\n    </tr>\n    <tr>\n      <th>949</th>\n      <td>5/7/2014</td>\n      <td>46</td>\n      <td>NaN</td>\n      <td>Cases</td>\n      <td>Mali</td>\n    </tr>\n    <tr>\n      <th>950</th>\n      <td>5/5/2014</td>\n      <td>44</td>\n      <td>NaN</td>\n      <td>Cases</td>\n      <td>Mali</td>\n    </tr>\n    <tr>\n      <th>951</th>\n      <td>5/3/2014</td>\n      <td>42</td>\n      <td>NaN</td>\n      <td>Cases</td>\n      <td>Mali</td>\n    </tr>\n    <tr>\n      <th>952</th>\n      <td>5/1/2014</td>\n      <td>40</td>\n      <td>NaN</td>\n      <td>Cases</td>\n      <td>Mali</td>\n    </tr>\n    <tr>\n      <th>953</th>\n      <td>4/26/2014</td>\n      <td>35</td>\n      <td>NaN</td>\n      <td>Cases</td>\n      <td>Mali</td>\n    </tr>\n    <tr>\n      <th>954</th>\n      <td>4/24/2014</td>\n      <td>33</td>\n      <td>NaN</td>\n      <td>Cases</td>\n      <td>Mali</td>\n    </tr>\n    <tr>\n      <th>955</th>\n      <td>4/23/2014</td>\n      <td>32</td>\n      <td>NaN</td>\n      <td>Cases</td>\n      <td>Mali</td>\n    </tr>\n    <tr>\n      <th>956</th>\n      <td>4/22/2014</td>\n      <td>31</td>\n      <td>NaN</td>\n      <td>Cases</td>\n      <td>Mali</td>\n    </tr>\n    <tr>\n      <th>957</th>\n      <td>4/21/2014</td>\n      <td>30</td>\n      <td>NaN</td>\n      <td>Cases</td>\n      <td>Mali</td>\n    </tr>\n    <tr>\n      <th>958</th>\n      <td>4/20/2014</td>\n      <td>29</td>\n      <td>NaN</td>\n      <td>Cases</td>\n      <td>Mali</td>\n    </tr>\n    <tr>\n      <th>959</th>\n      <td>4/17/2014</td>\n      <td>26</td>\n      <td>NaN</td>\n      <td>Cases</td>\n      <td>Mali</td>\n    </tr>\n    <tr>\n      <th>960</th>\n      <td>4/16/2014</td>\n      <td>25</td>\n      <td>NaN</td>\n      <td>Cases</td>\n      <td>Mali</td>\n    </tr>\n    <tr>\n      <th>961</th>\n      <td>4/15/2014</td>\n      <td>24</td>\n      <td>NaN</td>\n      <td>Cases</td>\n      <td>Mali</td>\n    </tr>\n    <tr>\n      <th>962</th>\n      <td>4/14/2014</td>\n      <td>23</td>\n      <td>NaN</td>\n      <td>Cases</td>\n      <td>Mali</td>\n    </tr>\n    <tr>\n      <th>963</th>\n      <td>4/11/2014</td>\n      <td>20</td>\n      <td>NaN</td>\n      <td>Cases</td>\n      <td>Mali</td>\n    </tr>\n    <tr>\n      <th>964</th>\n      <td>4/9/2014</td>\n      <td>18</td>\n      <td>NaN</td>\n      <td>Cases</td>\n      <td>Mali</td>\n    </tr>\n    <tr>\n      <th>965</th>\n      <td>4/7/2014</td>\n      <td>16</td>\n      <td>NaN</td>\n      <td>Cases</td>\n      <td>Mali</td>\n    </tr>\n    <tr>\n      <th>966</th>\n      <td>4/4/2014</td>\n      <td>13</td>\n      <td>NaN</td>\n      <td>Cases</td>\n      <td>Mali</td>\n    </tr>\n    <tr>\n      <th>967</th>\n      <td>4/1/2014</td>\n      <td>10</td>\n      <td>NaN</td>\n      <td>Cases</td>\n      <td>Mali</td>\n    </tr>\n    <tr>\n      <th>968</th>\n      <td>3/31/2014</td>\n      <td>9</td>\n      <td>NaN</td>\n      <td>Cases</td>\n      <td>Mali</td>\n    </tr>\n    <tr>\n      <th>969</th>\n      <td>3/29/2014</td>\n      <td>7</td>\n      <td>NaN</td>\n      <td>Cases</td>\n      <td>Mali</td>\n    </tr>\n    <tr>\n      <th>970</th>\n      <td>3/28/2014</td>\n      <td>6</td>\n      <td>NaN</td>\n      <td>Cases</td>\n      <td>Mali</td>\n    </tr>\n    <tr>\n      <th>971</th>\n      <td>3/27/2014</td>\n      <td>5</td>\n      <td>NaN</td>\n      <td>Cases</td>\n      <td>Mali</td>\n    </tr>\n    <tr>\n      <th>972</th>\n      <td>3/26/2014</td>\n      <td>4</td>\n      <td>NaN</td>\n      <td>Cases</td>\n      <td>Mali</td>\n    </tr>\n    <tr>\n      <th>973</th>\n      <td>3/25/2014</td>\n      <td>3</td>\n      <td>NaN</td>\n      <td>Cases</td>\n      <td>Mali</td>\n    </tr>\n    <tr>\n      <th>974</th>\n      <td>3/24/2014</td>\n      <td>2</td>\n      <td>NaN</td>\n      <td>Cases</td>\n      <td>Mali</td>\n    </tr>\n    <tr>\n      <th>975</th>\n      <td>3/22/2014</td>\n      <td>0</td>\n      <td>NaN</td>\n      <td>Cases</td>\n      <td>Mali</td>\n    </tr>\n  </tbody>\n</table>\n<p>976 rows × 5 columns</p>\n</div>"
     },
     "metadata": {},
     "execution_count": 87
    }
   ],
   "source": [
    "case = x.loc[x['status']=='Cases']\n",
    "case"
   ]
  },
  {
   "cell_type": "code",
   "execution_count": 88,
   "metadata": {},
   "outputs": [
    {
     "output_type": "execute_result",
     "data": {
      "text/plain": [
       "            Date  Day   count  status country\n",
       "976     1/5/2015  289  1786.0  Deaths  Guinea\n",
       "977     1/4/2015  288  1781.0  Deaths  Guinea\n",
       "978     1/3/2015  287  1767.0  Deaths  Guinea\n",
       "979     1/2/2015  286     NaN  Deaths  Guinea\n",
       "980   12/31/2014  284  1739.0  Deaths  Guinea\n",
       "981   12/28/2014  281  1708.0  Deaths  Guinea\n",
       "982   12/27/2014  280  1697.0  Deaths  Guinea\n",
       "983   12/24/2014  277     NaN  Deaths  Guinea\n",
       "984   12/21/2014  273  1607.0  Deaths  Guinea\n",
       "985   12/20/2014  272  1586.0  Deaths  Guinea\n",
       "986   12/18/2014  271     NaN  Deaths  Guinea\n",
       "987   12/14/2014  267  1525.0  Deaths  Guinea\n",
       "988    12/9/2014  262     NaN  Deaths  Guinea\n",
       "989    12/7/2014  260  1428.0  Deaths  Guinea\n",
       "990    12/3/2014  256     NaN  Deaths  Guinea\n",
       "991   11/30/2014  253  1327.0  Deaths  Guinea\n",
       "992   11/28/2014  251     NaN  Deaths  Guinea\n",
       "993   11/23/2014  246  1260.0  Deaths  Guinea\n",
       "994   11/22/2014  245     NaN  Deaths  Guinea\n",
       "995   11/18/2014  241  1214.0  Deaths  Guinea\n",
       "996   11/16/2014  239  1192.0  Deaths  Guinea\n",
       "997   11/15/2014  238     NaN  Deaths  Guinea\n",
       "998   11/11/2014  234  1166.0  Deaths  Guinea\n",
       "999   11/10/2014  233     NaN  Deaths  Guinea\n",
       "1000   11/9/2014  232  1142.0  Deaths  Guinea\n",
       "1001   11/8/2014  231     NaN  Deaths  Guinea\n",
       "1002   11/4/2014  227     NaN  Deaths  Guinea\n",
       "1003   11/3/2014  226  1054.0  Deaths  Guinea\n",
       "1004   11/2/2014  225  1041.0  Deaths  Guinea\n",
       "1005  10/31/2014  222     NaN  Deaths  Guinea\n",
       "...          ...  ...     ...     ...     ...\n",
       "1922   5/23/2014   62     NaN  Deaths    Mali\n",
       "1923   5/12/2014   51     NaN  Deaths    Mali\n",
       "1924   5/10/2014   49     NaN  Deaths    Mali\n",
       "1925    5/7/2014   46     NaN  Deaths    Mali\n",
       "1926    5/5/2014   44     NaN  Deaths    Mali\n",
       "1927    5/3/2014   42     NaN  Deaths    Mali\n",
       "1928    5/1/2014   40     NaN  Deaths    Mali\n",
       "1929   4/26/2014   35     NaN  Deaths    Mali\n",
       "1930   4/24/2014   33     NaN  Deaths    Mali\n",
       "1931   4/23/2014   32     NaN  Deaths    Mali\n",
       "1932   4/22/2014   31     NaN  Deaths    Mali\n",
       "1933   4/21/2014   30     NaN  Deaths    Mali\n",
       "1934   4/20/2014   29     NaN  Deaths    Mali\n",
       "1935   4/17/2014   26     NaN  Deaths    Mali\n",
       "1936   4/16/2014   25     NaN  Deaths    Mali\n",
       "1937   4/15/2014   24     NaN  Deaths    Mali\n",
       "1938   4/14/2014   23     NaN  Deaths    Mali\n",
       "1939   4/11/2014   20     NaN  Deaths    Mali\n",
       "1940    4/9/2014   18     NaN  Deaths    Mali\n",
       "1941    4/7/2014   16     NaN  Deaths    Mali\n",
       "1942    4/4/2014   13     NaN  Deaths    Mali\n",
       "1943    4/1/2014   10     NaN  Deaths    Mali\n",
       "1944   3/31/2014    9     NaN  Deaths    Mali\n",
       "1945   3/29/2014    7     NaN  Deaths    Mali\n",
       "1946   3/28/2014    6     NaN  Deaths    Mali\n",
       "1947   3/27/2014    5     NaN  Deaths    Mali\n",
       "1948   3/26/2014    4     NaN  Deaths    Mali\n",
       "1949   3/25/2014    3     NaN  Deaths    Mali\n",
       "1950   3/24/2014    2     NaN  Deaths    Mali\n",
       "1951   3/22/2014    0     NaN  Deaths    Mali\n",
       "\n",
       "[976 rows x 5 columns]"
      ],
      "text/html": "<div>\n<style scoped>\n    .dataframe tbody tr th:only-of-type {\n        vertical-align: middle;\n    }\n\n    .dataframe tbody tr th {\n        vertical-align: top;\n    }\n\n    .dataframe thead th {\n        text-align: right;\n    }\n</style>\n<table border=\"1\" class=\"dataframe\">\n  <thead>\n    <tr style=\"text-align: right;\">\n      <th></th>\n      <th>Date</th>\n      <th>Day</th>\n      <th>count</th>\n      <th>status</th>\n      <th>country</th>\n    </tr>\n  </thead>\n  <tbody>\n    <tr>\n      <th>976</th>\n      <td>1/5/2015</td>\n      <td>289</td>\n      <td>1786.0</td>\n      <td>Deaths</td>\n      <td>Guinea</td>\n    </tr>\n    <tr>\n      <th>977</th>\n      <td>1/4/2015</td>\n      <td>288</td>\n      <td>1781.0</td>\n      <td>Deaths</td>\n      <td>Guinea</td>\n    </tr>\n    <tr>\n      <th>978</th>\n      <td>1/3/2015</td>\n      <td>287</td>\n      <td>1767.0</td>\n      <td>Deaths</td>\n      <td>Guinea</td>\n    </tr>\n    <tr>\n      <th>979</th>\n      <td>1/2/2015</td>\n      <td>286</td>\n      <td>NaN</td>\n      <td>Deaths</td>\n      <td>Guinea</td>\n    </tr>\n    <tr>\n      <th>980</th>\n      <td>12/31/2014</td>\n      <td>284</td>\n      <td>1739.0</td>\n      <td>Deaths</td>\n      <td>Guinea</td>\n    </tr>\n    <tr>\n      <th>981</th>\n      <td>12/28/2014</td>\n      <td>281</td>\n      <td>1708.0</td>\n      <td>Deaths</td>\n      <td>Guinea</td>\n    </tr>\n    <tr>\n      <th>982</th>\n      <td>12/27/2014</td>\n      <td>280</td>\n      <td>1697.0</td>\n      <td>Deaths</td>\n      <td>Guinea</td>\n    </tr>\n    <tr>\n      <th>983</th>\n      <td>12/24/2014</td>\n      <td>277</td>\n      <td>NaN</td>\n      <td>Deaths</td>\n      <td>Guinea</td>\n    </tr>\n    <tr>\n      <th>984</th>\n      <td>12/21/2014</td>\n      <td>273</td>\n      <td>1607.0</td>\n      <td>Deaths</td>\n      <td>Guinea</td>\n    </tr>\n    <tr>\n      <th>985</th>\n      <td>12/20/2014</td>\n      <td>272</td>\n      <td>1586.0</td>\n      <td>Deaths</td>\n      <td>Guinea</td>\n    </tr>\n    <tr>\n      <th>986</th>\n      <td>12/18/2014</td>\n      <td>271</td>\n      <td>NaN</td>\n      <td>Deaths</td>\n      <td>Guinea</td>\n    </tr>\n    <tr>\n      <th>987</th>\n      <td>12/14/2014</td>\n      <td>267</td>\n      <td>1525.0</td>\n      <td>Deaths</td>\n      <td>Guinea</td>\n    </tr>\n    <tr>\n      <th>988</th>\n      <td>12/9/2014</td>\n      <td>262</td>\n      <td>NaN</td>\n      <td>Deaths</td>\n      <td>Guinea</td>\n    </tr>\n    <tr>\n      <th>989</th>\n      <td>12/7/2014</td>\n      <td>260</td>\n      <td>1428.0</td>\n      <td>Deaths</td>\n      <td>Guinea</td>\n    </tr>\n    <tr>\n      <th>990</th>\n      <td>12/3/2014</td>\n      <td>256</td>\n      <td>NaN</td>\n      <td>Deaths</td>\n      <td>Guinea</td>\n    </tr>\n    <tr>\n      <th>991</th>\n      <td>11/30/2014</td>\n      <td>253</td>\n      <td>1327.0</td>\n      <td>Deaths</td>\n      <td>Guinea</td>\n    </tr>\n    <tr>\n      <th>992</th>\n      <td>11/28/2014</td>\n      <td>251</td>\n      <td>NaN</td>\n      <td>Deaths</td>\n      <td>Guinea</td>\n    </tr>\n    <tr>\n      <th>993</th>\n      <td>11/23/2014</td>\n      <td>246</td>\n      <td>1260.0</td>\n      <td>Deaths</td>\n      <td>Guinea</td>\n    </tr>\n    <tr>\n      <th>994</th>\n      <td>11/22/2014</td>\n      <td>245</td>\n      <td>NaN</td>\n      <td>Deaths</td>\n      <td>Guinea</td>\n    </tr>\n    <tr>\n      <th>995</th>\n      <td>11/18/2014</td>\n      <td>241</td>\n      <td>1214.0</td>\n      <td>Deaths</td>\n      <td>Guinea</td>\n    </tr>\n    <tr>\n      <th>996</th>\n      <td>11/16/2014</td>\n      <td>239</td>\n      <td>1192.0</td>\n      <td>Deaths</td>\n      <td>Guinea</td>\n    </tr>\n    <tr>\n      <th>997</th>\n      <td>11/15/2014</td>\n      <td>238</td>\n      <td>NaN</td>\n      <td>Deaths</td>\n      <td>Guinea</td>\n    </tr>\n    <tr>\n      <th>998</th>\n      <td>11/11/2014</td>\n      <td>234</td>\n      <td>1166.0</td>\n      <td>Deaths</td>\n      <td>Guinea</td>\n    </tr>\n    <tr>\n      <th>999</th>\n      <td>11/10/2014</td>\n      <td>233</td>\n      <td>NaN</td>\n      <td>Deaths</td>\n      <td>Guinea</td>\n    </tr>\n    <tr>\n      <th>1000</th>\n      <td>11/9/2014</td>\n      <td>232</td>\n      <td>1142.0</td>\n      <td>Deaths</td>\n      <td>Guinea</td>\n    </tr>\n    <tr>\n      <th>1001</th>\n      <td>11/8/2014</td>\n      <td>231</td>\n      <td>NaN</td>\n      <td>Deaths</td>\n      <td>Guinea</td>\n    </tr>\n    <tr>\n      <th>1002</th>\n      <td>11/4/2014</td>\n      <td>227</td>\n      <td>NaN</td>\n      <td>Deaths</td>\n      <td>Guinea</td>\n    </tr>\n    <tr>\n      <th>1003</th>\n      <td>11/3/2014</td>\n      <td>226</td>\n      <td>1054.0</td>\n      <td>Deaths</td>\n      <td>Guinea</td>\n    </tr>\n    <tr>\n      <th>1004</th>\n      <td>11/2/2014</td>\n      <td>225</td>\n      <td>1041.0</td>\n      <td>Deaths</td>\n      <td>Guinea</td>\n    </tr>\n    <tr>\n      <th>1005</th>\n      <td>10/31/2014</td>\n      <td>222</td>\n      <td>NaN</td>\n      <td>Deaths</td>\n      <td>Guinea</td>\n    </tr>\n    <tr>\n      <th>...</th>\n      <td>...</td>\n      <td>...</td>\n      <td>...</td>\n      <td>...</td>\n      <td>...</td>\n    </tr>\n    <tr>\n      <th>1922</th>\n      <td>5/23/2014</td>\n      <td>62</td>\n      <td>NaN</td>\n      <td>Deaths</td>\n      <td>Mali</td>\n    </tr>\n    <tr>\n      <th>1923</th>\n      <td>5/12/2014</td>\n      <td>51</td>\n      <td>NaN</td>\n      <td>Deaths</td>\n      <td>Mali</td>\n    </tr>\n    <tr>\n      <th>1924</th>\n      <td>5/10/2014</td>\n      <td>49</td>\n      <td>NaN</td>\n      <td>Deaths</td>\n      <td>Mali</td>\n    </tr>\n    <tr>\n      <th>1925</th>\n      <td>5/7/2014</td>\n      <td>46</td>\n      <td>NaN</td>\n      <td>Deaths</td>\n      <td>Mali</td>\n    </tr>\n    <tr>\n      <th>1926</th>\n      <td>5/5/2014</td>\n      <td>44</td>\n      <td>NaN</td>\n      <td>Deaths</td>\n      <td>Mali</td>\n    </tr>\n    <tr>\n      <th>1927</th>\n      <td>5/3/2014</td>\n      <td>42</td>\n      <td>NaN</td>\n      <td>Deaths</td>\n      <td>Mali</td>\n    </tr>\n    <tr>\n      <th>1928</th>\n      <td>5/1/2014</td>\n      <td>40</td>\n      <td>NaN</td>\n      <td>Deaths</td>\n      <td>Mali</td>\n    </tr>\n    <tr>\n      <th>1929</th>\n      <td>4/26/2014</td>\n      <td>35</td>\n      <td>NaN</td>\n      <td>Deaths</td>\n      <td>Mali</td>\n    </tr>\n    <tr>\n      <th>1930</th>\n      <td>4/24/2014</td>\n      <td>33</td>\n      <td>NaN</td>\n      <td>Deaths</td>\n      <td>Mali</td>\n    </tr>\n    <tr>\n      <th>1931</th>\n      <td>4/23/2014</td>\n      <td>32</td>\n      <td>NaN</td>\n      <td>Deaths</td>\n      <td>Mali</td>\n    </tr>\n    <tr>\n      <th>1932</th>\n      <td>4/22/2014</td>\n      <td>31</td>\n      <td>NaN</td>\n      <td>Deaths</td>\n      <td>Mali</td>\n    </tr>\n    <tr>\n      <th>1933</th>\n      <td>4/21/2014</td>\n      <td>30</td>\n      <td>NaN</td>\n      <td>Deaths</td>\n      <td>Mali</td>\n    </tr>\n    <tr>\n      <th>1934</th>\n      <td>4/20/2014</td>\n      <td>29</td>\n      <td>NaN</td>\n      <td>Deaths</td>\n      <td>Mali</td>\n    </tr>\n    <tr>\n      <th>1935</th>\n      <td>4/17/2014</td>\n      <td>26</td>\n      <td>NaN</td>\n      <td>Deaths</td>\n      <td>Mali</td>\n    </tr>\n    <tr>\n      <th>1936</th>\n      <td>4/16/2014</td>\n      <td>25</td>\n      <td>NaN</td>\n      <td>Deaths</td>\n      <td>Mali</td>\n    </tr>\n    <tr>\n      <th>1937</th>\n      <td>4/15/2014</td>\n      <td>24</td>\n      <td>NaN</td>\n      <td>Deaths</td>\n      <td>Mali</td>\n    </tr>\n    <tr>\n      <th>1938</th>\n      <td>4/14/2014</td>\n      <td>23</td>\n      <td>NaN</td>\n      <td>Deaths</td>\n      <td>Mali</td>\n    </tr>\n    <tr>\n      <th>1939</th>\n      <td>4/11/2014</td>\n      <td>20</td>\n      <td>NaN</td>\n      <td>Deaths</td>\n      <td>Mali</td>\n    </tr>\n    <tr>\n      <th>1940</th>\n      <td>4/9/2014</td>\n      <td>18</td>\n      <td>NaN</td>\n      <td>Deaths</td>\n      <td>Mali</td>\n    </tr>\n    <tr>\n      <th>1941</th>\n      <td>4/7/2014</td>\n      <td>16</td>\n      <td>NaN</td>\n      <td>Deaths</td>\n      <td>Mali</td>\n    </tr>\n    <tr>\n      <th>1942</th>\n      <td>4/4/2014</td>\n      <td>13</td>\n      <td>NaN</td>\n      <td>Deaths</td>\n      <td>Mali</td>\n    </tr>\n    <tr>\n      <th>1943</th>\n      <td>4/1/2014</td>\n      <td>10</td>\n      <td>NaN</td>\n      <td>Deaths</td>\n      <td>Mali</td>\n    </tr>\n    <tr>\n      <th>1944</th>\n      <td>3/31/2014</td>\n      <td>9</td>\n      <td>NaN</td>\n      <td>Deaths</td>\n      <td>Mali</td>\n    </tr>\n    <tr>\n      <th>1945</th>\n      <td>3/29/2014</td>\n      <td>7</td>\n      <td>NaN</td>\n      <td>Deaths</td>\n      <td>Mali</td>\n    </tr>\n    <tr>\n      <th>1946</th>\n      <td>3/28/2014</td>\n      <td>6</td>\n      <td>NaN</td>\n      <td>Deaths</td>\n      <td>Mali</td>\n    </tr>\n    <tr>\n      <th>1947</th>\n      <td>3/27/2014</td>\n      <td>5</td>\n      <td>NaN</td>\n      <td>Deaths</td>\n      <td>Mali</td>\n    </tr>\n    <tr>\n      <th>1948</th>\n      <td>3/26/2014</td>\n      <td>4</td>\n      <td>NaN</td>\n      <td>Deaths</td>\n      <td>Mali</td>\n    </tr>\n    <tr>\n      <th>1949</th>\n      <td>3/25/2014</td>\n      <td>3</td>\n      <td>NaN</td>\n      <td>Deaths</td>\n      <td>Mali</td>\n    </tr>\n    <tr>\n      <th>1950</th>\n      <td>3/24/2014</td>\n      <td>2</td>\n      <td>NaN</td>\n      <td>Deaths</td>\n      <td>Mali</td>\n    </tr>\n    <tr>\n      <th>1951</th>\n      <td>3/22/2014</td>\n      <td>0</td>\n      <td>NaN</td>\n      <td>Deaths</td>\n      <td>Mali</td>\n    </tr>\n  </tbody>\n</table>\n<p>976 rows × 5 columns</p>\n</div>"
     },
     "metadata": {},
     "execution_count": 88
    }
   ],
   "source": [
    "death = x.loc[x['status']=='Deaths']\n",
    "death"
   ]
  },
  {
   "cell_type": "code",
   "execution_count": 89,
   "metadata": {},
   "outputs": [
    {
     "output_type": "execute_result",
     "data": {
      "text/plain": [
       "         Date  Day   count status country\n",
       "0    1/5/2015  289  2776.0  Cases  Guinea\n",
       "1    1/4/2015  288  2775.0  Cases  Guinea\n",
       "2    1/3/2015  287  2769.0  Cases  Guinea\n",
       "3    1/2/2015  286     NaN  Cases  Guinea\n",
       "4  12/31/2014  284  2730.0  Cases  Guinea"
      ],
      "text/html": "<div>\n<style scoped>\n    .dataframe tbody tr th:only-of-type {\n        vertical-align: middle;\n    }\n\n    .dataframe tbody tr th {\n        vertical-align: top;\n    }\n\n    .dataframe thead th {\n        text-align: right;\n    }\n</style>\n<table border=\"1\" class=\"dataframe\">\n  <thead>\n    <tr style=\"text-align: right;\">\n      <th></th>\n      <th>Date</th>\n      <th>Day</th>\n      <th>count</th>\n      <th>status</th>\n      <th>country</th>\n    </tr>\n  </thead>\n  <tbody>\n    <tr>\n      <th>0</th>\n      <td>1/5/2015</td>\n      <td>289</td>\n      <td>2776.0</td>\n      <td>Cases</td>\n      <td>Guinea</td>\n    </tr>\n    <tr>\n      <th>1</th>\n      <td>1/4/2015</td>\n      <td>288</td>\n      <td>2775.0</td>\n      <td>Cases</td>\n      <td>Guinea</td>\n    </tr>\n    <tr>\n      <th>2</th>\n      <td>1/3/2015</td>\n      <td>287</td>\n      <td>2769.0</td>\n      <td>Cases</td>\n      <td>Guinea</td>\n    </tr>\n    <tr>\n      <th>3</th>\n      <td>1/2/2015</td>\n      <td>286</td>\n      <td>NaN</td>\n      <td>Cases</td>\n      <td>Guinea</td>\n    </tr>\n    <tr>\n      <th>4</th>\n      <td>12/31/2014</td>\n      <td>284</td>\n      <td>2730.0</td>\n      <td>Cases</td>\n      <td>Guinea</td>\n    </tr>\n  </tbody>\n</table>\n</div>"
     },
     "metadata": {},
     "execution_count": 89
    }
   ],
   "source": [
    "case.head()"
   ]
  },
  {
   "cell_type": "code",
   "execution_count": 90,
   "metadata": {},
   "outputs": [
    {
     "output_type": "execute_result",
     "data": {
      "text/plain": [
       "country\n",
       "Guinea           84729.0\n",
       "Liberia         193833.0\n",
       "Mali                42.0\n",
       "Nigeria            636.0\n",
       "Senegal             27.0\n",
       "SierraLeone     211181.0\n",
       "Spain               16.0\n",
       "UnitedStates        59.0\n",
       "Name: count, dtype: float64"
      ]
     },
     "metadata": {},
     "execution_count": 90
    }
   ],
   "source": [
    "z = case.groupby(['country'])['count'].sum()\n",
    "z"
   ]
  },
  {
   "source": [
    "Another dataframe"
   ],
   "cell_type": "markdown",
   "metadata": {}
  },
  {
   "cell_type": "code",
   "execution_count": 106,
   "metadata": {},
   "outputs": [
    {
     "output_type": "execute_result",
     "data": {
      "text/plain": [
       "        id  year  month element  d1    d2    d3  d4    d5  d6  ...  d22   d23  \\\n",
       "0  MX17004  2010      1    tmax NaN   NaN   NaN NaN   NaN NaN  ...  NaN   NaN   \n",
       "1  MX17004  2010      1    tmin NaN   NaN   NaN NaN   NaN NaN  ...  NaN   NaN   \n",
       "2  MX17004  2010      2    tmax NaN  27.3  24.1 NaN   NaN NaN  ...  NaN  29.9   \n",
       "3  MX17004  2010      2    tmin NaN  14.4  14.4 NaN   NaN NaN  ...  NaN  10.7   \n",
       "4  MX17004  2010      3    tmax NaN   NaN   NaN NaN  32.1 NaN  ...  NaN   NaN   \n",
       "\n",
       "   d24  d25  d26  d27  d28  d29   d30  d31  \n",
       "0  NaN  NaN  NaN  NaN  NaN  NaN  27.8  NaN  \n",
       "1  NaN  NaN  NaN  NaN  NaN  NaN  14.5  NaN  \n",
       "2  NaN  NaN  NaN  NaN  NaN  NaN   NaN  NaN  \n",
       "3  NaN  NaN  NaN  NaN  NaN  NaN   NaN  NaN  \n",
       "4  NaN  NaN  NaN  NaN  NaN  NaN   NaN  NaN  \n",
       "\n",
       "[5 rows x 35 columns]"
      ],
      "text/html": "<div>\n<style scoped>\n    .dataframe tbody tr th:only-of-type {\n        vertical-align: middle;\n    }\n\n    .dataframe tbody tr th {\n        vertical-align: top;\n    }\n\n    .dataframe thead th {\n        text-align: right;\n    }\n</style>\n<table border=\"1\" class=\"dataframe\">\n  <thead>\n    <tr style=\"text-align: right;\">\n      <th></th>\n      <th>id</th>\n      <th>year</th>\n      <th>month</th>\n      <th>element</th>\n      <th>d1</th>\n      <th>d2</th>\n      <th>d3</th>\n      <th>d4</th>\n      <th>d5</th>\n      <th>d6</th>\n      <th>...</th>\n      <th>d22</th>\n      <th>d23</th>\n      <th>d24</th>\n      <th>d25</th>\n      <th>d26</th>\n      <th>d27</th>\n      <th>d28</th>\n      <th>d29</th>\n      <th>d30</th>\n      <th>d31</th>\n    </tr>\n  </thead>\n  <tbody>\n    <tr>\n      <th>0</th>\n      <td>MX17004</td>\n      <td>2010</td>\n      <td>1</td>\n      <td>tmax</td>\n      <td>NaN</td>\n      <td>NaN</td>\n      <td>NaN</td>\n      <td>NaN</td>\n      <td>NaN</td>\n      <td>NaN</td>\n      <td>...</td>\n      <td>NaN</td>\n      <td>NaN</td>\n      <td>NaN</td>\n      <td>NaN</td>\n      <td>NaN</td>\n      <td>NaN</td>\n      <td>NaN</td>\n      <td>NaN</td>\n      <td>27.8</td>\n      <td>NaN</td>\n    </tr>\n    <tr>\n      <th>1</th>\n      <td>MX17004</td>\n      <td>2010</td>\n      <td>1</td>\n      <td>tmin</td>\n      <td>NaN</td>\n      <td>NaN</td>\n      <td>NaN</td>\n      <td>NaN</td>\n      <td>NaN</td>\n      <td>NaN</td>\n      <td>...</td>\n      <td>NaN</td>\n      <td>NaN</td>\n      <td>NaN</td>\n      <td>NaN</td>\n      <td>NaN</td>\n      <td>NaN</td>\n      <td>NaN</td>\n      <td>NaN</td>\n      <td>14.5</td>\n      <td>NaN</td>\n    </tr>\n    <tr>\n      <th>2</th>\n      <td>MX17004</td>\n      <td>2010</td>\n      <td>2</td>\n      <td>tmax</td>\n      <td>NaN</td>\n      <td>27.3</td>\n      <td>24.1</td>\n      <td>NaN</td>\n      <td>NaN</td>\n      <td>NaN</td>\n      <td>...</td>\n      <td>NaN</td>\n      <td>29.9</td>\n      <td>NaN</td>\n      <td>NaN</td>\n      <td>NaN</td>\n      <td>NaN</td>\n      <td>NaN</td>\n      <td>NaN</td>\n      <td>NaN</td>\n      <td>NaN</td>\n    </tr>\n    <tr>\n      <th>3</th>\n      <td>MX17004</td>\n      <td>2010</td>\n      <td>2</td>\n      <td>tmin</td>\n      <td>NaN</td>\n      <td>14.4</td>\n      <td>14.4</td>\n      <td>NaN</td>\n      <td>NaN</td>\n      <td>NaN</td>\n      <td>...</td>\n      <td>NaN</td>\n      <td>10.7</td>\n      <td>NaN</td>\n      <td>NaN</td>\n      <td>NaN</td>\n      <td>NaN</td>\n      <td>NaN</td>\n      <td>NaN</td>\n      <td>NaN</td>\n      <td>NaN</td>\n    </tr>\n    <tr>\n      <th>4</th>\n      <td>MX17004</td>\n      <td>2010</td>\n      <td>3</td>\n      <td>tmax</td>\n      <td>NaN</td>\n      <td>NaN</td>\n      <td>NaN</td>\n      <td>NaN</td>\n      <td>32.1</td>\n      <td>NaN</td>\n      <td>...</td>\n      <td>NaN</td>\n      <td>NaN</td>\n      <td>NaN</td>\n      <td>NaN</td>\n      <td>NaN</td>\n      <td>NaN</td>\n      <td>NaN</td>\n      <td>NaN</td>\n      <td>NaN</td>\n      <td>NaN</td>\n    </tr>\n  </tbody>\n</table>\n<p>5 rows × 35 columns</p>\n</div>"
     },
     "metadata": {},
     "execution_count": 106
    }
   ],
   "source": [
    "weather = pd.read_csv(\"../data/weather.csv\")\n",
    "weather.head()"
   ]
  },
  {
   "cell_type": "code",
   "execution_count": 94,
   "metadata": {},
   "outputs": [
    {
     "output_type": "execute_result",
     "data": {
      "text/plain": [
       "        id  year  month element day  temp\n",
       "0  MX17004  2010      1    tmax  d1   NaN\n",
       "1  MX17004  2010      1    tmin  d1   NaN\n",
       "2  MX17004  2010      2    tmax  d1   NaN\n",
       "3  MX17004  2010      2    tmin  d1   NaN\n",
       "4  MX17004  2010      3    tmax  d1   NaN"
      ],
      "text/html": "<div>\n<style scoped>\n    .dataframe tbody tr th:only-of-type {\n        vertical-align: middle;\n    }\n\n    .dataframe tbody tr th {\n        vertical-align: top;\n    }\n\n    .dataframe thead th {\n        text-align: right;\n    }\n</style>\n<table border=\"1\" class=\"dataframe\">\n  <thead>\n    <tr style=\"text-align: right;\">\n      <th></th>\n      <th>id</th>\n      <th>year</th>\n      <th>month</th>\n      <th>element</th>\n      <th>day</th>\n      <th>temp</th>\n    </tr>\n  </thead>\n  <tbody>\n    <tr>\n      <th>0</th>\n      <td>MX17004</td>\n      <td>2010</td>\n      <td>1</td>\n      <td>tmax</td>\n      <td>d1</td>\n      <td>NaN</td>\n    </tr>\n    <tr>\n      <th>1</th>\n      <td>MX17004</td>\n      <td>2010</td>\n      <td>1</td>\n      <td>tmin</td>\n      <td>d1</td>\n      <td>NaN</td>\n    </tr>\n    <tr>\n      <th>2</th>\n      <td>MX17004</td>\n      <td>2010</td>\n      <td>2</td>\n      <td>tmax</td>\n      <td>d1</td>\n      <td>NaN</td>\n    </tr>\n    <tr>\n      <th>3</th>\n      <td>MX17004</td>\n      <td>2010</td>\n      <td>2</td>\n      <td>tmin</td>\n      <td>d1</td>\n      <td>NaN</td>\n    </tr>\n    <tr>\n      <th>4</th>\n      <td>MX17004</td>\n      <td>2010</td>\n      <td>3</td>\n      <td>tmax</td>\n      <td>d1</td>\n      <td>NaN</td>\n    </tr>\n  </tbody>\n</table>\n</div>"
     },
     "metadata": {},
     "execution_count": 94
    }
   ],
   "source": [
    "we_tiny = weather.melt(id_vars=['id','year','month','element'],var_name='day',value_name='temp')\n",
    "we_tiny.head()"
   ]
  },
  {
   "cell_type": "code",
   "execution_count": 95,
   "metadata": {},
   "outputs": [
    {
     "output_type": "execute_result",
     "data": {
      "text/plain": [
       "          id  year  month element  day  temp\n",
       "20   MX17004  2010     12    tmax   d1  29.9\n",
       "21   MX17004  2010     12    tmin   d1  13.8\n",
       "24   MX17004  2010      2    tmax   d2  27.3\n",
       "25   MX17004  2010      2    tmin   d2  14.4\n",
       "40   MX17004  2010     11    tmax   d2  31.3\n",
       "41   MX17004  2010     11    tmin   d2  16.3\n",
       "46   MX17004  2010      2    tmax   d3  24.1\n",
       "47   MX17004  2010      2    tmin   d3  14.4\n",
       "56   MX17004  2010      7    tmax   d3  28.6\n",
       "57   MX17004  2010      7    tmin   d3  17.5\n",
       "84   MX17004  2010     11    tmax   d4  27.2\n",
       "85   MX17004  2010     11    tmin   d4  12.0\n",
       "92   MX17004  2010      3    tmax   d5  32.1\n",
       "93   MX17004  2010      3    tmin   d5  14.2\n",
       "102  MX17004  2010      8    tmax   d5  29.6\n",
       "103  MX17004  2010      8    tmin   d5  15.8\n",
       "104  MX17004  2010     10    tmax   d5  27.0\n",
       "105  MX17004  2010     10    tmin   d5  14.0\n",
       "106  MX17004  2010     11    tmax   d5  26.3\n",
       "107  MX17004  2010     11    tmin   d5   7.9\n",
       "130  MX17004  2010     12    tmax   d6  27.8\n",
       "131  MX17004  2010     12    tmin   d6  10.5\n",
       "148  MX17004  2010     10    tmax   d7  28.1\n",
       "149  MX17004  2010     10    tmin   d7  12.9\n",
       "168  MX17004  2010      8    tmax   d8  29.0\n",
       "169  MX17004  2010      8    tmin   d8  17.3\n",
       "202  MX17004  2010      3    tmax  d10  34.5\n",
       "203  MX17004  2010      3    tmin  d10  16.8\n",
       "222  MX17004  2010      2    tmax  d11  29.7\n",
       "223  MX17004  2010      2    tmin  d11  13.4\n",
       "..       ...   ...    ...     ...  ...   ...\n",
       "324  MX17004  2010     10    tmax  d15  28.7\n",
       "325  MX17004  2010     10    tmin  d15  10.5\n",
       "334  MX17004  2010      3    tmax  d16  31.1\n",
       "335  MX17004  2010      3    tmin  d16  17.6\n",
       "362  MX17004  2010      6    tmax  d17  28.0\n",
       "363  MX17004  2010      6    tmin  d17  17.5\n",
       "486  MX17004  2010      2    tmax  d23  29.9\n",
       "487  MX17004  2010      2    tmin  d23  10.7\n",
       "498  MX17004  2010      8    tmax  d23  26.4\n",
       "499  MX17004  2010      8    tmin  d23  15.0\n",
       "542  MX17004  2010      8    tmax  d25  29.7\n",
       "543  MX17004  2010      8    tmin  d25  15.6\n",
       "568  MX17004  2010     11    tmax  d26  28.1\n",
       "569  MX17004  2010     11    tmin  d26  12.1\n",
       "578  MX17004  2010      4    tmax  d27  36.3\n",
       "579  MX17004  2010      4    tmin  d27  16.7\n",
       "580  MX17004  2010      5    tmax  d27  33.2\n",
       "581  MX17004  2010      5    tmin  d27  18.2\n",
       "590  MX17004  2010     11    tmax  d27  27.7\n",
       "591  MX17004  2010     11    tmin  d27  14.2\n",
       "610  MX17004  2010     10    tmax  d28  31.2\n",
       "611  MX17004  2010     10    tmin  d28  15.0\n",
       "626  MX17004  2010      6    tmax  d29  30.1\n",
       "627  MX17004  2010      6    tmin  d29  18.0\n",
       "630  MX17004  2010      8    tmax  d29  28.0\n",
       "631  MX17004  2010      8    tmin  d29  15.3\n",
       "638  MX17004  2010      1    tmax  d30  27.8\n",
       "639  MX17004  2010      1    tmin  d30  14.5\n",
       "674  MX17004  2010      8    tmax  d31  25.4\n",
       "675  MX17004  2010      8    tmin  d31  15.4\n",
       "\n",
       "[66 rows x 6 columns]"
      ],
      "text/html": "<div>\n<style scoped>\n    .dataframe tbody tr th:only-of-type {\n        vertical-align: middle;\n    }\n\n    .dataframe tbody tr th {\n        vertical-align: top;\n    }\n\n    .dataframe thead th {\n        text-align: right;\n    }\n</style>\n<table border=\"1\" class=\"dataframe\">\n  <thead>\n    <tr style=\"text-align: right;\">\n      <th></th>\n      <th>id</th>\n      <th>year</th>\n      <th>month</th>\n      <th>element</th>\n      <th>day</th>\n      <th>temp</th>\n    </tr>\n  </thead>\n  <tbody>\n    <tr>\n      <th>20</th>\n      <td>MX17004</td>\n      <td>2010</td>\n      <td>12</td>\n      <td>tmax</td>\n      <td>d1</td>\n      <td>29.9</td>\n    </tr>\n    <tr>\n      <th>21</th>\n      <td>MX17004</td>\n      <td>2010</td>\n      <td>12</td>\n      <td>tmin</td>\n      <td>d1</td>\n      <td>13.8</td>\n    </tr>\n    <tr>\n      <th>24</th>\n      <td>MX17004</td>\n      <td>2010</td>\n      <td>2</td>\n      <td>tmax</td>\n      <td>d2</td>\n      <td>27.3</td>\n    </tr>\n    <tr>\n      <th>25</th>\n      <td>MX17004</td>\n      <td>2010</td>\n      <td>2</td>\n      <td>tmin</td>\n      <td>d2</td>\n      <td>14.4</td>\n    </tr>\n    <tr>\n      <th>40</th>\n      <td>MX17004</td>\n      <td>2010</td>\n      <td>11</td>\n      <td>tmax</td>\n      <td>d2</td>\n      <td>31.3</td>\n    </tr>\n    <tr>\n      <th>41</th>\n      <td>MX17004</td>\n      <td>2010</td>\n      <td>11</td>\n      <td>tmin</td>\n      <td>d2</td>\n      <td>16.3</td>\n    </tr>\n    <tr>\n      <th>46</th>\n      <td>MX17004</td>\n      <td>2010</td>\n      <td>2</td>\n      <td>tmax</td>\n      <td>d3</td>\n      <td>24.1</td>\n    </tr>\n    <tr>\n      <th>47</th>\n      <td>MX17004</td>\n      <td>2010</td>\n      <td>2</td>\n      <td>tmin</td>\n      <td>d3</td>\n      <td>14.4</td>\n    </tr>\n    <tr>\n      <th>56</th>\n      <td>MX17004</td>\n      <td>2010</td>\n      <td>7</td>\n      <td>tmax</td>\n      <td>d3</td>\n      <td>28.6</td>\n    </tr>\n    <tr>\n      <th>57</th>\n      <td>MX17004</td>\n      <td>2010</td>\n      <td>7</td>\n      <td>tmin</td>\n      <td>d3</td>\n      <td>17.5</td>\n    </tr>\n    <tr>\n      <th>84</th>\n      <td>MX17004</td>\n      <td>2010</td>\n      <td>11</td>\n      <td>tmax</td>\n      <td>d4</td>\n      <td>27.2</td>\n    </tr>\n    <tr>\n      <th>85</th>\n      <td>MX17004</td>\n      <td>2010</td>\n      <td>11</td>\n      <td>tmin</td>\n      <td>d4</td>\n      <td>12.0</td>\n    </tr>\n    <tr>\n      <th>92</th>\n      <td>MX17004</td>\n      <td>2010</td>\n      <td>3</td>\n      <td>tmax</td>\n      <td>d5</td>\n      <td>32.1</td>\n    </tr>\n    <tr>\n      <th>93</th>\n      <td>MX17004</td>\n      <td>2010</td>\n      <td>3</td>\n      <td>tmin</td>\n      <td>d5</td>\n      <td>14.2</td>\n    </tr>\n    <tr>\n      <th>102</th>\n      <td>MX17004</td>\n      <td>2010</td>\n      <td>8</td>\n      <td>tmax</td>\n      <td>d5</td>\n      <td>29.6</td>\n    </tr>\n    <tr>\n      <th>103</th>\n      <td>MX17004</td>\n      <td>2010</td>\n      <td>8</td>\n      <td>tmin</td>\n      <td>d5</td>\n      <td>15.8</td>\n    </tr>\n    <tr>\n      <th>104</th>\n      <td>MX17004</td>\n      <td>2010</td>\n      <td>10</td>\n      <td>tmax</td>\n      <td>d5</td>\n      <td>27.0</td>\n    </tr>\n    <tr>\n      <th>105</th>\n      <td>MX17004</td>\n      <td>2010</td>\n      <td>10</td>\n      <td>tmin</td>\n      <td>d5</td>\n      <td>14.0</td>\n    </tr>\n    <tr>\n      <th>106</th>\n      <td>MX17004</td>\n      <td>2010</td>\n      <td>11</td>\n      <td>tmax</td>\n      <td>d5</td>\n      <td>26.3</td>\n    </tr>\n    <tr>\n      <th>107</th>\n      <td>MX17004</td>\n      <td>2010</td>\n      <td>11</td>\n      <td>tmin</td>\n      <td>d5</td>\n      <td>7.9</td>\n    </tr>\n    <tr>\n      <th>130</th>\n      <td>MX17004</td>\n      <td>2010</td>\n      <td>12</td>\n      <td>tmax</td>\n      <td>d6</td>\n      <td>27.8</td>\n    </tr>\n    <tr>\n      <th>131</th>\n      <td>MX17004</td>\n      <td>2010</td>\n      <td>12</td>\n      <td>tmin</td>\n      <td>d6</td>\n      <td>10.5</td>\n    </tr>\n    <tr>\n      <th>148</th>\n      <td>MX17004</td>\n      <td>2010</td>\n      <td>10</td>\n      <td>tmax</td>\n      <td>d7</td>\n      <td>28.1</td>\n    </tr>\n    <tr>\n      <th>149</th>\n      <td>MX17004</td>\n      <td>2010</td>\n      <td>10</td>\n      <td>tmin</td>\n      <td>d7</td>\n      <td>12.9</td>\n    </tr>\n    <tr>\n      <th>168</th>\n      <td>MX17004</td>\n      <td>2010</td>\n      <td>8</td>\n      <td>tmax</td>\n      <td>d8</td>\n      <td>29.0</td>\n    </tr>\n    <tr>\n      <th>169</th>\n      <td>MX17004</td>\n      <td>2010</td>\n      <td>8</td>\n      <td>tmin</td>\n      <td>d8</td>\n      <td>17.3</td>\n    </tr>\n    <tr>\n      <th>202</th>\n      <td>MX17004</td>\n      <td>2010</td>\n      <td>3</td>\n      <td>tmax</td>\n      <td>d10</td>\n      <td>34.5</td>\n    </tr>\n    <tr>\n      <th>203</th>\n      <td>MX17004</td>\n      <td>2010</td>\n      <td>3</td>\n      <td>tmin</td>\n      <td>d10</td>\n      <td>16.8</td>\n    </tr>\n    <tr>\n      <th>222</th>\n      <td>MX17004</td>\n      <td>2010</td>\n      <td>2</td>\n      <td>tmax</td>\n      <td>d11</td>\n      <td>29.7</td>\n    </tr>\n    <tr>\n      <th>223</th>\n      <td>MX17004</td>\n      <td>2010</td>\n      <td>2</td>\n      <td>tmin</td>\n      <td>d11</td>\n      <td>13.4</td>\n    </tr>\n    <tr>\n      <th>...</th>\n      <td>...</td>\n      <td>...</td>\n      <td>...</td>\n      <td>...</td>\n      <td>...</td>\n      <td>...</td>\n    </tr>\n    <tr>\n      <th>324</th>\n      <td>MX17004</td>\n      <td>2010</td>\n      <td>10</td>\n      <td>tmax</td>\n      <td>d15</td>\n      <td>28.7</td>\n    </tr>\n    <tr>\n      <th>325</th>\n      <td>MX17004</td>\n      <td>2010</td>\n      <td>10</td>\n      <td>tmin</td>\n      <td>d15</td>\n      <td>10.5</td>\n    </tr>\n    <tr>\n      <th>334</th>\n      <td>MX17004</td>\n      <td>2010</td>\n      <td>3</td>\n      <td>tmax</td>\n      <td>d16</td>\n      <td>31.1</td>\n    </tr>\n    <tr>\n      <th>335</th>\n      <td>MX17004</td>\n      <td>2010</td>\n      <td>3</td>\n      <td>tmin</td>\n      <td>d16</td>\n      <td>17.6</td>\n    </tr>\n    <tr>\n      <th>362</th>\n      <td>MX17004</td>\n      <td>2010</td>\n      <td>6</td>\n      <td>tmax</td>\n      <td>d17</td>\n      <td>28.0</td>\n    </tr>\n    <tr>\n      <th>363</th>\n      <td>MX17004</td>\n      <td>2010</td>\n      <td>6</td>\n      <td>tmin</td>\n      <td>d17</td>\n      <td>17.5</td>\n    </tr>\n    <tr>\n      <th>486</th>\n      <td>MX17004</td>\n      <td>2010</td>\n      <td>2</td>\n      <td>tmax</td>\n      <td>d23</td>\n      <td>29.9</td>\n    </tr>\n    <tr>\n      <th>487</th>\n      <td>MX17004</td>\n      <td>2010</td>\n      <td>2</td>\n      <td>tmin</td>\n      <td>d23</td>\n      <td>10.7</td>\n    </tr>\n    <tr>\n      <th>498</th>\n      <td>MX17004</td>\n      <td>2010</td>\n      <td>8</td>\n      <td>tmax</td>\n      <td>d23</td>\n      <td>26.4</td>\n    </tr>\n    <tr>\n      <th>499</th>\n      <td>MX17004</td>\n      <td>2010</td>\n      <td>8</td>\n      <td>tmin</td>\n      <td>d23</td>\n      <td>15.0</td>\n    </tr>\n    <tr>\n      <th>542</th>\n      <td>MX17004</td>\n      <td>2010</td>\n      <td>8</td>\n      <td>tmax</td>\n      <td>d25</td>\n      <td>29.7</td>\n    </tr>\n    <tr>\n      <th>543</th>\n      <td>MX17004</td>\n      <td>2010</td>\n      <td>8</td>\n      <td>tmin</td>\n      <td>d25</td>\n      <td>15.6</td>\n    </tr>\n    <tr>\n      <th>568</th>\n      <td>MX17004</td>\n      <td>2010</td>\n      <td>11</td>\n      <td>tmax</td>\n      <td>d26</td>\n      <td>28.1</td>\n    </tr>\n    <tr>\n      <th>569</th>\n      <td>MX17004</td>\n      <td>2010</td>\n      <td>11</td>\n      <td>tmin</td>\n      <td>d26</td>\n      <td>12.1</td>\n    </tr>\n    <tr>\n      <th>578</th>\n      <td>MX17004</td>\n      <td>2010</td>\n      <td>4</td>\n      <td>tmax</td>\n      <td>d27</td>\n      <td>36.3</td>\n    </tr>\n    <tr>\n      <th>579</th>\n      <td>MX17004</td>\n      <td>2010</td>\n      <td>4</td>\n      <td>tmin</td>\n      <td>d27</td>\n      <td>16.7</td>\n    </tr>\n    <tr>\n      <th>580</th>\n      <td>MX17004</td>\n      <td>2010</td>\n      <td>5</td>\n      <td>tmax</td>\n      <td>d27</td>\n      <td>33.2</td>\n    </tr>\n    <tr>\n      <th>581</th>\n      <td>MX17004</td>\n      <td>2010</td>\n      <td>5</td>\n      <td>tmin</td>\n      <td>d27</td>\n      <td>18.2</td>\n    </tr>\n    <tr>\n      <th>590</th>\n      <td>MX17004</td>\n      <td>2010</td>\n      <td>11</td>\n      <td>tmax</td>\n      <td>d27</td>\n      <td>27.7</td>\n    </tr>\n    <tr>\n      <th>591</th>\n      <td>MX17004</td>\n      <td>2010</td>\n      <td>11</td>\n      <td>tmin</td>\n      <td>d27</td>\n      <td>14.2</td>\n    </tr>\n    <tr>\n      <th>610</th>\n      <td>MX17004</td>\n      <td>2010</td>\n      <td>10</td>\n      <td>tmax</td>\n      <td>d28</td>\n      <td>31.2</td>\n    </tr>\n    <tr>\n      <th>611</th>\n      <td>MX17004</td>\n      <td>2010</td>\n      <td>10</td>\n      <td>tmin</td>\n      <td>d28</td>\n      <td>15.0</td>\n    </tr>\n    <tr>\n      <th>626</th>\n      <td>MX17004</td>\n      <td>2010</td>\n      <td>6</td>\n      <td>tmax</td>\n      <td>d29</td>\n      <td>30.1</td>\n    </tr>\n    <tr>\n      <th>627</th>\n      <td>MX17004</td>\n      <td>2010</td>\n      <td>6</td>\n      <td>tmin</td>\n      <td>d29</td>\n      <td>18.0</td>\n    </tr>\n    <tr>\n      <th>630</th>\n      <td>MX17004</td>\n      <td>2010</td>\n      <td>8</td>\n      <td>tmax</td>\n      <td>d29</td>\n      <td>28.0</td>\n    </tr>\n    <tr>\n      <th>631</th>\n      <td>MX17004</td>\n      <td>2010</td>\n      <td>8</td>\n      <td>tmin</td>\n      <td>d29</td>\n      <td>15.3</td>\n    </tr>\n    <tr>\n      <th>638</th>\n      <td>MX17004</td>\n      <td>2010</td>\n      <td>1</td>\n      <td>tmax</td>\n      <td>d30</td>\n      <td>27.8</td>\n    </tr>\n    <tr>\n      <th>639</th>\n      <td>MX17004</td>\n      <td>2010</td>\n      <td>1</td>\n      <td>tmin</td>\n      <td>d30</td>\n      <td>14.5</td>\n    </tr>\n    <tr>\n      <th>674</th>\n      <td>MX17004</td>\n      <td>2010</td>\n      <td>8</td>\n      <td>tmax</td>\n      <td>d31</td>\n      <td>25.4</td>\n    </tr>\n    <tr>\n      <th>675</th>\n      <td>MX17004</td>\n      <td>2010</td>\n      <td>8</td>\n      <td>tmin</td>\n      <td>d31</td>\n      <td>15.4</td>\n    </tr>\n  </tbody>\n</table>\n<p>66 rows × 6 columns</p>\n</div>"
     },
     "metadata": {},
     "execution_count": 95
    }
   ],
   "source": [
    "we_tiny.dropna()"
   ]
  },
  {
   "cell_type": "code",
   "execution_count": 99,
   "metadata": {},
   "outputs": [
    {
     "output_type": "execute_result",
     "data": {
      "text/plain": [
       "element       id  year  month  day  tmax  tmin\n",
       "0        MX17004  2010      1  d30  27.8  14.5\n",
       "1        MX17004  2010      2  d11  29.7  13.4\n",
       "2        MX17004  2010      2   d2  27.3  14.4\n",
       "3        MX17004  2010      2  d23  29.9  10.7\n",
       "4        MX17004  2010      2   d3  24.1  14.4\n",
       "5        MX17004  2010      3  d10  34.5  16.8\n",
       "6        MX17004  2010      3  d16  31.1  17.6\n",
       "7        MX17004  2010      3   d5  32.1  14.2\n",
       "8        MX17004  2010      4  d27  36.3  16.7\n",
       "9        MX17004  2010      5  d27  33.2  18.2\n",
       "10       MX17004  2010      6  d17  28.0  17.5\n",
       "11       MX17004  2010      6  d29  30.1  18.0\n",
       "12       MX17004  2010      7   d3  28.6  17.5\n",
       "13       MX17004  2010      7  d14  29.9  16.5\n",
       "14       MX17004  2010      8  d23  26.4  15.0\n",
       "15       MX17004  2010      8   d5  29.6  15.8\n",
       "16       MX17004  2010      8  d29  28.0  15.3\n",
       "17       MX17004  2010      8  d13  29.8  16.5\n",
       "18       MX17004  2010      8  d25  29.7  15.6\n",
       "19       MX17004  2010      8  d31  25.4  15.4\n",
       "20       MX17004  2010      8   d8  29.0  17.3\n",
       "21       MX17004  2010     10   d5  27.0  14.0\n",
       "22       MX17004  2010     10  d14  29.5  13.0\n",
       "23       MX17004  2010     10  d15  28.7  10.5\n",
       "24       MX17004  2010     10  d28  31.2  15.0\n",
       "25       MX17004  2010     10   d7  28.1  12.9\n",
       "26       MX17004  2010     11   d2  31.3  16.3\n",
       "27       MX17004  2010     11   d5  26.3   7.9\n",
       "28       MX17004  2010     11  d27  27.7  14.2\n",
       "29       MX17004  2010     11  d26  28.1  12.1\n",
       "30       MX17004  2010     11   d4  27.2  12.0\n",
       "31       MX17004  2010     12   d1  29.9  13.8\n",
       "32       MX17004  2010     12   d6  27.8  10.5"
      ],
      "text/html": "<div>\n<style scoped>\n    .dataframe tbody tr th:only-of-type {\n        vertical-align: middle;\n    }\n\n    .dataframe tbody tr th {\n        vertical-align: top;\n    }\n\n    .dataframe thead th {\n        text-align: right;\n    }\n</style>\n<table border=\"1\" class=\"dataframe\">\n  <thead>\n    <tr style=\"text-align: right;\">\n      <th>element</th>\n      <th>id</th>\n      <th>year</th>\n      <th>month</th>\n      <th>day</th>\n      <th>tmax</th>\n      <th>tmin</th>\n    </tr>\n  </thead>\n  <tbody>\n    <tr>\n      <th>0</th>\n      <td>MX17004</td>\n      <td>2010</td>\n      <td>1</td>\n      <td>d30</td>\n      <td>27.8</td>\n      <td>14.5</td>\n    </tr>\n    <tr>\n      <th>1</th>\n      <td>MX17004</td>\n      <td>2010</td>\n      <td>2</td>\n      <td>d11</td>\n      <td>29.7</td>\n      <td>13.4</td>\n    </tr>\n    <tr>\n      <th>2</th>\n      <td>MX17004</td>\n      <td>2010</td>\n      <td>2</td>\n      <td>d2</td>\n      <td>27.3</td>\n      <td>14.4</td>\n    </tr>\n    <tr>\n      <th>3</th>\n      <td>MX17004</td>\n      <td>2010</td>\n      <td>2</td>\n      <td>d23</td>\n      <td>29.9</td>\n      <td>10.7</td>\n    </tr>\n    <tr>\n      <th>4</th>\n      <td>MX17004</td>\n      <td>2010</td>\n      <td>2</td>\n      <td>d3</td>\n      <td>24.1</td>\n      <td>14.4</td>\n    </tr>\n    <tr>\n      <th>5</th>\n      <td>MX17004</td>\n      <td>2010</td>\n      <td>3</td>\n      <td>d10</td>\n      <td>34.5</td>\n      <td>16.8</td>\n    </tr>\n    <tr>\n      <th>6</th>\n      <td>MX17004</td>\n      <td>2010</td>\n      <td>3</td>\n      <td>d16</td>\n      <td>31.1</td>\n      <td>17.6</td>\n    </tr>\n    <tr>\n      <th>7</th>\n      <td>MX17004</td>\n      <td>2010</td>\n      <td>3</td>\n      <td>d5</td>\n      <td>32.1</td>\n      <td>14.2</td>\n    </tr>\n    <tr>\n      <th>8</th>\n      <td>MX17004</td>\n      <td>2010</td>\n      <td>4</td>\n      <td>d27</td>\n      <td>36.3</td>\n      <td>16.7</td>\n    </tr>\n    <tr>\n      <th>9</th>\n      <td>MX17004</td>\n      <td>2010</td>\n      <td>5</td>\n      <td>d27</td>\n      <td>33.2</td>\n      <td>18.2</td>\n    </tr>\n    <tr>\n      <th>10</th>\n      <td>MX17004</td>\n      <td>2010</td>\n      <td>6</td>\n      <td>d17</td>\n      <td>28.0</td>\n      <td>17.5</td>\n    </tr>\n    <tr>\n      <th>11</th>\n      <td>MX17004</td>\n      <td>2010</td>\n      <td>6</td>\n      <td>d29</td>\n      <td>30.1</td>\n      <td>18.0</td>\n    </tr>\n    <tr>\n      <th>12</th>\n      <td>MX17004</td>\n      <td>2010</td>\n      <td>7</td>\n      <td>d3</td>\n      <td>28.6</td>\n      <td>17.5</td>\n    </tr>\n    <tr>\n      <th>13</th>\n      <td>MX17004</td>\n      <td>2010</td>\n      <td>7</td>\n      <td>d14</td>\n      <td>29.9</td>\n      <td>16.5</td>\n    </tr>\n    <tr>\n      <th>14</th>\n      <td>MX17004</td>\n      <td>2010</td>\n      <td>8</td>\n      <td>d23</td>\n      <td>26.4</td>\n      <td>15.0</td>\n    </tr>\n    <tr>\n      <th>15</th>\n      <td>MX17004</td>\n      <td>2010</td>\n      <td>8</td>\n      <td>d5</td>\n      <td>29.6</td>\n      <td>15.8</td>\n    </tr>\n    <tr>\n      <th>16</th>\n      <td>MX17004</td>\n      <td>2010</td>\n      <td>8</td>\n      <td>d29</td>\n      <td>28.0</td>\n      <td>15.3</td>\n    </tr>\n    <tr>\n      <th>17</th>\n      <td>MX17004</td>\n      <td>2010</td>\n      <td>8</td>\n      <td>d13</td>\n      <td>29.8</td>\n      <td>16.5</td>\n    </tr>\n    <tr>\n      <th>18</th>\n      <td>MX17004</td>\n      <td>2010</td>\n      <td>8</td>\n      <td>d25</td>\n      <td>29.7</td>\n      <td>15.6</td>\n    </tr>\n    <tr>\n      <th>19</th>\n      <td>MX17004</td>\n      <td>2010</td>\n      <td>8</td>\n      <td>d31</td>\n      <td>25.4</td>\n      <td>15.4</td>\n    </tr>\n    <tr>\n      <th>20</th>\n      <td>MX17004</td>\n      <td>2010</td>\n      <td>8</td>\n      <td>d8</td>\n      <td>29.0</td>\n      <td>17.3</td>\n    </tr>\n    <tr>\n      <th>21</th>\n      <td>MX17004</td>\n      <td>2010</td>\n      <td>10</td>\n      <td>d5</td>\n      <td>27.0</td>\n      <td>14.0</td>\n    </tr>\n    <tr>\n      <th>22</th>\n      <td>MX17004</td>\n      <td>2010</td>\n      <td>10</td>\n      <td>d14</td>\n      <td>29.5</td>\n      <td>13.0</td>\n    </tr>\n    <tr>\n      <th>23</th>\n      <td>MX17004</td>\n      <td>2010</td>\n      <td>10</td>\n      <td>d15</td>\n      <td>28.7</td>\n      <td>10.5</td>\n    </tr>\n    <tr>\n      <th>24</th>\n      <td>MX17004</td>\n      <td>2010</td>\n      <td>10</td>\n      <td>d28</td>\n      <td>31.2</td>\n      <td>15.0</td>\n    </tr>\n    <tr>\n      <th>25</th>\n      <td>MX17004</td>\n      <td>2010</td>\n      <td>10</td>\n      <td>d7</td>\n      <td>28.1</td>\n      <td>12.9</td>\n    </tr>\n    <tr>\n      <th>26</th>\n      <td>MX17004</td>\n      <td>2010</td>\n      <td>11</td>\n      <td>d2</td>\n      <td>31.3</td>\n      <td>16.3</td>\n    </tr>\n    <tr>\n      <th>27</th>\n      <td>MX17004</td>\n      <td>2010</td>\n      <td>11</td>\n      <td>d5</td>\n      <td>26.3</td>\n      <td>7.9</td>\n    </tr>\n    <tr>\n      <th>28</th>\n      <td>MX17004</td>\n      <td>2010</td>\n      <td>11</td>\n      <td>d27</td>\n      <td>27.7</td>\n      <td>14.2</td>\n    </tr>\n    <tr>\n      <th>29</th>\n      <td>MX17004</td>\n      <td>2010</td>\n      <td>11</td>\n      <td>d26</td>\n      <td>28.1</td>\n      <td>12.1</td>\n    </tr>\n    <tr>\n      <th>30</th>\n      <td>MX17004</td>\n      <td>2010</td>\n      <td>11</td>\n      <td>d4</td>\n      <td>27.2</td>\n      <td>12.0</td>\n    </tr>\n    <tr>\n      <th>31</th>\n      <td>MX17004</td>\n      <td>2010</td>\n      <td>12</td>\n      <td>d1</td>\n      <td>29.9</td>\n      <td>13.8</td>\n    </tr>\n    <tr>\n      <th>32</th>\n      <td>MX17004</td>\n      <td>2010</td>\n      <td>12</td>\n      <td>d6</td>\n      <td>27.8</td>\n      <td>10.5</td>\n    </tr>\n  </tbody>\n</table>\n</div>"
     },
     "metadata": {},
     "execution_count": 99
    }
   ],
   "source": [
    "x= we_tiny.pivot_table(index=['id','year','month','day'],columns='element',values='temp').reset_index()\n",
    "x"
   ]
  },
  {
   "cell_type": "code",
   "execution_count": 100,
   "metadata": {},
   "outputs": [
    {
     "output_type": "execute_result",
     "data": {
      "text/plain": [
       "element       id  year  month  day  tmax  tmin\n",
       "27       MX17004  2010     11   d5  26.3   7.9\n",
       "32       MX17004  2010     12   d6  27.8  10.5\n",
       "23       MX17004  2010     10  d15  28.7  10.5\n",
       "3        MX17004  2010      2  d23  29.9  10.7\n",
       "30       MX17004  2010     11   d4  27.2  12.0\n",
       "29       MX17004  2010     11  d26  28.1  12.1\n",
       "25       MX17004  2010     10   d7  28.1  12.9\n",
       "22       MX17004  2010     10  d14  29.5  13.0\n",
       "1        MX17004  2010      2  d11  29.7  13.4\n",
       "31       MX17004  2010     12   d1  29.9  13.8\n",
       "21       MX17004  2010     10   d5  27.0  14.0\n",
       "7        MX17004  2010      3   d5  32.1  14.2\n",
       "28       MX17004  2010     11  d27  27.7  14.2\n",
       "2        MX17004  2010      2   d2  27.3  14.4\n",
       "4        MX17004  2010      2   d3  24.1  14.4\n",
       "0        MX17004  2010      1  d30  27.8  14.5\n",
       "14       MX17004  2010      8  d23  26.4  15.0\n",
       "24       MX17004  2010     10  d28  31.2  15.0\n",
       "16       MX17004  2010      8  d29  28.0  15.3\n",
       "19       MX17004  2010      8  d31  25.4  15.4\n",
       "18       MX17004  2010      8  d25  29.7  15.6\n",
       "15       MX17004  2010      8   d5  29.6  15.8\n",
       "26       MX17004  2010     11   d2  31.3  16.3\n",
       "13       MX17004  2010      7  d14  29.9  16.5\n",
       "17       MX17004  2010      8  d13  29.8  16.5\n",
       "8        MX17004  2010      4  d27  36.3  16.7\n",
       "5        MX17004  2010      3  d10  34.5  16.8\n",
       "20       MX17004  2010      8   d8  29.0  17.3\n",
       "12       MX17004  2010      7   d3  28.6  17.5\n",
       "10       MX17004  2010      6  d17  28.0  17.5\n",
       "6        MX17004  2010      3  d16  31.1  17.6\n",
       "11       MX17004  2010      6  d29  30.1  18.0\n",
       "9        MX17004  2010      5  d27  33.2  18.2"
      ],
      "text/html": "<div>\n<style scoped>\n    .dataframe tbody tr th:only-of-type {\n        vertical-align: middle;\n    }\n\n    .dataframe tbody tr th {\n        vertical-align: top;\n    }\n\n    .dataframe thead th {\n        text-align: right;\n    }\n</style>\n<table border=\"1\" class=\"dataframe\">\n  <thead>\n    <tr style=\"text-align: right;\">\n      <th>element</th>\n      <th>id</th>\n      <th>year</th>\n      <th>month</th>\n      <th>day</th>\n      <th>tmax</th>\n      <th>tmin</th>\n    </tr>\n  </thead>\n  <tbody>\n    <tr>\n      <th>27</th>\n      <td>MX17004</td>\n      <td>2010</td>\n      <td>11</td>\n      <td>d5</td>\n      <td>26.3</td>\n      <td>7.9</td>\n    </tr>\n    <tr>\n      <th>32</th>\n      <td>MX17004</td>\n      <td>2010</td>\n      <td>12</td>\n      <td>d6</td>\n      <td>27.8</td>\n      <td>10.5</td>\n    </tr>\n    <tr>\n      <th>23</th>\n      <td>MX17004</td>\n      <td>2010</td>\n      <td>10</td>\n      <td>d15</td>\n      <td>28.7</td>\n      <td>10.5</td>\n    </tr>\n    <tr>\n      <th>3</th>\n      <td>MX17004</td>\n      <td>2010</td>\n      <td>2</td>\n      <td>d23</td>\n      <td>29.9</td>\n      <td>10.7</td>\n    </tr>\n    <tr>\n      <th>30</th>\n      <td>MX17004</td>\n      <td>2010</td>\n      <td>11</td>\n      <td>d4</td>\n      <td>27.2</td>\n      <td>12.0</td>\n    </tr>\n    <tr>\n      <th>29</th>\n      <td>MX17004</td>\n      <td>2010</td>\n      <td>11</td>\n      <td>d26</td>\n      <td>28.1</td>\n      <td>12.1</td>\n    </tr>\n    <tr>\n      <th>25</th>\n      <td>MX17004</td>\n      <td>2010</td>\n      <td>10</td>\n      <td>d7</td>\n      <td>28.1</td>\n      <td>12.9</td>\n    </tr>\n    <tr>\n      <th>22</th>\n      <td>MX17004</td>\n      <td>2010</td>\n      <td>10</td>\n      <td>d14</td>\n      <td>29.5</td>\n      <td>13.0</td>\n    </tr>\n    <tr>\n      <th>1</th>\n      <td>MX17004</td>\n      <td>2010</td>\n      <td>2</td>\n      <td>d11</td>\n      <td>29.7</td>\n      <td>13.4</td>\n    </tr>\n    <tr>\n      <th>31</th>\n      <td>MX17004</td>\n      <td>2010</td>\n      <td>12</td>\n      <td>d1</td>\n      <td>29.9</td>\n      <td>13.8</td>\n    </tr>\n    <tr>\n      <th>21</th>\n      <td>MX17004</td>\n      <td>2010</td>\n      <td>10</td>\n      <td>d5</td>\n      <td>27.0</td>\n      <td>14.0</td>\n    </tr>\n    <tr>\n      <th>7</th>\n      <td>MX17004</td>\n      <td>2010</td>\n      <td>3</td>\n      <td>d5</td>\n      <td>32.1</td>\n      <td>14.2</td>\n    </tr>\n    <tr>\n      <th>28</th>\n      <td>MX17004</td>\n      <td>2010</td>\n      <td>11</td>\n      <td>d27</td>\n      <td>27.7</td>\n      <td>14.2</td>\n    </tr>\n    <tr>\n      <th>2</th>\n      <td>MX17004</td>\n      <td>2010</td>\n      <td>2</td>\n      <td>d2</td>\n      <td>27.3</td>\n      <td>14.4</td>\n    </tr>\n    <tr>\n      <th>4</th>\n      <td>MX17004</td>\n      <td>2010</td>\n      <td>2</td>\n      <td>d3</td>\n      <td>24.1</td>\n      <td>14.4</td>\n    </tr>\n    <tr>\n      <th>0</th>\n      <td>MX17004</td>\n      <td>2010</td>\n      <td>1</td>\n      <td>d30</td>\n      <td>27.8</td>\n      <td>14.5</td>\n    </tr>\n    <tr>\n      <th>14</th>\n      <td>MX17004</td>\n      <td>2010</td>\n      <td>8</td>\n      <td>d23</td>\n      <td>26.4</td>\n      <td>15.0</td>\n    </tr>\n    <tr>\n      <th>24</th>\n      <td>MX17004</td>\n      <td>2010</td>\n      <td>10</td>\n      <td>d28</td>\n      <td>31.2</td>\n      <td>15.0</td>\n    </tr>\n    <tr>\n      <th>16</th>\n      <td>MX17004</td>\n      <td>2010</td>\n      <td>8</td>\n      <td>d29</td>\n      <td>28.0</td>\n      <td>15.3</td>\n    </tr>\n    <tr>\n      <th>19</th>\n      <td>MX17004</td>\n      <td>2010</td>\n      <td>8</td>\n      <td>d31</td>\n      <td>25.4</td>\n      <td>15.4</td>\n    </tr>\n    <tr>\n      <th>18</th>\n      <td>MX17004</td>\n      <td>2010</td>\n      <td>8</td>\n      <td>d25</td>\n      <td>29.7</td>\n      <td>15.6</td>\n    </tr>\n    <tr>\n      <th>15</th>\n      <td>MX17004</td>\n      <td>2010</td>\n      <td>8</td>\n      <td>d5</td>\n      <td>29.6</td>\n      <td>15.8</td>\n    </tr>\n    <tr>\n      <th>26</th>\n      <td>MX17004</td>\n      <td>2010</td>\n      <td>11</td>\n      <td>d2</td>\n      <td>31.3</td>\n      <td>16.3</td>\n    </tr>\n    <tr>\n      <th>13</th>\n      <td>MX17004</td>\n      <td>2010</td>\n      <td>7</td>\n      <td>d14</td>\n      <td>29.9</td>\n      <td>16.5</td>\n    </tr>\n    <tr>\n      <th>17</th>\n      <td>MX17004</td>\n      <td>2010</td>\n      <td>8</td>\n      <td>d13</td>\n      <td>29.8</td>\n      <td>16.5</td>\n    </tr>\n    <tr>\n      <th>8</th>\n      <td>MX17004</td>\n      <td>2010</td>\n      <td>4</td>\n      <td>d27</td>\n      <td>36.3</td>\n      <td>16.7</td>\n    </tr>\n    <tr>\n      <th>5</th>\n      <td>MX17004</td>\n      <td>2010</td>\n      <td>3</td>\n      <td>d10</td>\n      <td>34.5</td>\n      <td>16.8</td>\n    </tr>\n    <tr>\n      <th>20</th>\n      <td>MX17004</td>\n      <td>2010</td>\n      <td>8</td>\n      <td>d8</td>\n      <td>29.0</td>\n      <td>17.3</td>\n    </tr>\n    <tr>\n      <th>12</th>\n      <td>MX17004</td>\n      <td>2010</td>\n      <td>7</td>\n      <td>d3</td>\n      <td>28.6</td>\n      <td>17.5</td>\n    </tr>\n    <tr>\n      <th>10</th>\n      <td>MX17004</td>\n      <td>2010</td>\n      <td>6</td>\n      <td>d17</td>\n      <td>28.0</td>\n      <td>17.5</td>\n    </tr>\n    <tr>\n      <th>6</th>\n      <td>MX17004</td>\n      <td>2010</td>\n      <td>3</td>\n      <td>d16</td>\n      <td>31.1</td>\n      <td>17.6</td>\n    </tr>\n    <tr>\n      <th>11</th>\n      <td>MX17004</td>\n      <td>2010</td>\n      <td>6</td>\n      <td>d29</td>\n      <td>30.1</td>\n      <td>18.0</td>\n    </tr>\n    <tr>\n      <th>9</th>\n      <td>MX17004</td>\n      <td>2010</td>\n      <td>5</td>\n      <td>d27</td>\n      <td>33.2</td>\n      <td>18.2</td>\n    </tr>\n  </tbody>\n</table>\n</div>"
     },
     "metadata": {},
     "execution_count": 100
    }
   ],
   "source": [
    "x.sort_values('tmin')"
   ]
  },
  {
   "cell_type": "code",
   "execution_count": 102,
   "metadata": {},
   "outputs": [
    {
     "output_type": "execute_result",
     "data": {
      "text/plain": [
       "element       id  year  month  day  tmax  tmin\n",
       "0        MX17004  2010      1  d30  27.8  14.5\n",
       "1        MX17004  2010      2  d11  29.7  13.4\n",
       "2        MX17004  2010      2   d2  27.3  14.4\n",
       "3        MX17004  2010      2  d23  29.9  10.7\n",
       "4        MX17004  2010      2   d3  24.1  14.4\n",
       "5        MX17004  2010      3  d10  34.5  16.8\n",
       "6        MX17004  2010      3  d16  31.1  17.6\n",
       "7        MX17004  2010      3   d5  32.1  14.2\n",
       "8        MX17004  2010      4  d27  36.3  16.7\n",
       "9        MX17004  2010      5  d27  33.2  18.2\n",
       "10       MX17004  2010      6  d17  28.0  17.5\n",
       "11       MX17004  2010      6  d29  30.1  18.0\n",
       "13       MX17004  2010      7  d14  29.9  16.5\n",
       "12       MX17004  2010      7   d3  28.6  17.5\n",
       "17       MX17004  2010      8  d13  29.8  16.5\n",
       "14       MX17004  2010      8  d23  26.4  15.0\n",
       "18       MX17004  2010      8  d25  29.7  15.6\n",
       "16       MX17004  2010      8  d29  28.0  15.3\n",
       "19       MX17004  2010      8  d31  25.4  15.4\n",
       "15       MX17004  2010      8   d5  29.6  15.8\n",
       "20       MX17004  2010      8   d8  29.0  17.3\n",
       "22       MX17004  2010     10  d14  29.5  13.0\n",
       "23       MX17004  2010     10  d15  28.7  10.5\n",
       "24       MX17004  2010     10  d28  31.2  15.0\n",
       "21       MX17004  2010     10   d5  27.0  14.0\n",
       "25       MX17004  2010     10   d7  28.1  12.9\n",
       "26       MX17004  2010     11   d2  31.3  16.3\n",
       "29       MX17004  2010     11  d26  28.1  12.1\n",
       "28       MX17004  2010     11  d27  27.7  14.2\n",
       "30       MX17004  2010     11   d4  27.2  12.0\n",
       "27       MX17004  2010     11   d5  26.3   7.9\n",
       "31       MX17004  2010     12   d1  29.9  13.8\n",
       "32       MX17004  2010     12   d6  27.8  10.5"
      ],
      "text/html": "<div>\n<style scoped>\n    .dataframe tbody tr th:only-of-type {\n        vertical-align: middle;\n    }\n\n    .dataframe tbody tr th {\n        vertical-align: top;\n    }\n\n    .dataframe thead th {\n        text-align: right;\n    }\n</style>\n<table border=\"1\" class=\"dataframe\">\n  <thead>\n    <tr style=\"text-align: right;\">\n      <th>element</th>\n      <th>id</th>\n      <th>year</th>\n      <th>month</th>\n      <th>day</th>\n      <th>tmax</th>\n      <th>tmin</th>\n    </tr>\n  </thead>\n  <tbody>\n    <tr>\n      <th>0</th>\n      <td>MX17004</td>\n      <td>2010</td>\n      <td>1</td>\n      <td>d30</td>\n      <td>27.8</td>\n      <td>14.5</td>\n    </tr>\n    <tr>\n      <th>1</th>\n      <td>MX17004</td>\n      <td>2010</td>\n      <td>2</td>\n      <td>d11</td>\n      <td>29.7</td>\n      <td>13.4</td>\n    </tr>\n    <tr>\n      <th>2</th>\n      <td>MX17004</td>\n      <td>2010</td>\n      <td>2</td>\n      <td>d2</td>\n      <td>27.3</td>\n      <td>14.4</td>\n    </tr>\n    <tr>\n      <th>3</th>\n      <td>MX17004</td>\n      <td>2010</td>\n      <td>2</td>\n      <td>d23</td>\n      <td>29.9</td>\n      <td>10.7</td>\n    </tr>\n    <tr>\n      <th>4</th>\n      <td>MX17004</td>\n      <td>2010</td>\n      <td>2</td>\n      <td>d3</td>\n      <td>24.1</td>\n      <td>14.4</td>\n    </tr>\n    <tr>\n      <th>5</th>\n      <td>MX17004</td>\n      <td>2010</td>\n      <td>3</td>\n      <td>d10</td>\n      <td>34.5</td>\n      <td>16.8</td>\n    </tr>\n    <tr>\n      <th>6</th>\n      <td>MX17004</td>\n      <td>2010</td>\n      <td>3</td>\n      <td>d16</td>\n      <td>31.1</td>\n      <td>17.6</td>\n    </tr>\n    <tr>\n      <th>7</th>\n      <td>MX17004</td>\n      <td>2010</td>\n      <td>3</td>\n      <td>d5</td>\n      <td>32.1</td>\n      <td>14.2</td>\n    </tr>\n    <tr>\n      <th>8</th>\n      <td>MX17004</td>\n      <td>2010</td>\n      <td>4</td>\n      <td>d27</td>\n      <td>36.3</td>\n      <td>16.7</td>\n    </tr>\n    <tr>\n      <th>9</th>\n      <td>MX17004</td>\n      <td>2010</td>\n      <td>5</td>\n      <td>d27</td>\n      <td>33.2</td>\n      <td>18.2</td>\n    </tr>\n    <tr>\n      <th>10</th>\n      <td>MX17004</td>\n      <td>2010</td>\n      <td>6</td>\n      <td>d17</td>\n      <td>28.0</td>\n      <td>17.5</td>\n    </tr>\n    <tr>\n      <th>11</th>\n      <td>MX17004</td>\n      <td>2010</td>\n      <td>6</td>\n      <td>d29</td>\n      <td>30.1</td>\n      <td>18.0</td>\n    </tr>\n    <tr>\n      <th>13</th>\n      <td>MX17004</td>\n      <td>2010</td>\n      <td>7</td>\n      <td>d14</td>\n      <td>29.9</td>\n      <td>16.5</td>\n    </tr>\n    <tr>\n      <th>12</th>\n      <td>MX17004</td>\n      <td>2010</td>\n      <td>7</td>\n      <td>d3</td>\n      <td>28.6</td>\n      <td>17.5</td>\n    </tr>\n    <tr>\n      <th>17</th>\n      <td>MX17004</td>\n      <td>2010</td>\n      <td>8</td>\n      <td>d13</td>\n      <td>29.8</td>\n      <td>16.5</td>\n    </tr>\n    <tr>\n      <th>14</th>\n      <td>MX17004</td>\n      <td>2010</td>\n      <td>8</td>\n      <td>d23</td>\n      <td>26.4</td>\n      <td>15.0</td>\n    </tr>\n    <tr>\n      <th>18</th>\n      <td>MX17004</td>\n      <td>2010</td>\n      <td>8</td>\n      <td>d25</td>\n      <td>29.7</td>\n      <td>15.6</td>\n    </tr>\n    <tr>\n      <th>16</th>\n      <td>MX17004</td>\n      <td>2010</td>\n      <td>8</td>\n      <td>d29</td>\n      <td>28.0</td>\n      <td>15.3</td>\n    </tr>\n    <tr>\n      <th>19</th>\n      <td>MX17004</td>\n      <td>2010</td>\n      <td>8</td>\n      <td>d31</td>\n      <td>25.4</td>\n      <td>15.4</td>\n    </tr>\n    <tr>\n      <th>15</th>\n      <td>MX17004</td>\n      <td>2010</td>\n      <td>8</td>\n      <td>d5</td>\n      <td>29.6</td>\n      <td>15.8</td>\n    </tr>\n    <tr>\n      <th>20</th>\n      <td>MX17004</td>\n      <td>2010</td>\n      <td>8</td>\n      <td>d8</td>\n      <td>29.0</td>\n      <td>17.3</td>\n    </tr>\n    <tr>\n      <th>22</th>\n      <td>MX17004</td>\n      <td>2010</td>\n      <td>10</td>\n      <td>d14</td>\n      <td>29.5</td>\n      <td>13.0</td>\n    </tr>\n    <tr>\n      <th>23</th>\n      <td>MX17004</td>\n      <td>2010</td>\n      <td>10</td>\n      <td>d15</td>\n      <td>28.7</td>\n      <td>10.5</td>\n    </tr>\n    <tr>\n      <th>24</th>\n      <td>MX17004</td>\n      <td>2010</td>\n      <td>10</td>\n      <td>d28</td>\n      <td>31.2</td>\n      <td>15.0</td>\n    </tr>\n    <tr>\n      <th>21</th>\n      <td>MX17004</td>\n      <td>2010</td>\n      <td>10</td>\n      <td>d5</td>\n      <td>27.0</td>\n      <td>14.0</td>\n    </tr>\n    <tr>\n      <th>25</th>\n      <td>MX17004</td>\n      <td>2010</td>\n      <td>10</td>\n      <td>d7</td>\n      <td>28.1</td>\n      <td>12.9</td>\n    </tr>\n    <tr>\n      <th>26</th>\n      <td>MX17004</td>\n      <td>2010</td>\n      <td>11</td>\n      <td>d2</td>\n      <td>31.3</td>\n      <td>16.3</td>\n    </tr>\n    <tr>\n      <th>29</th>\n      <td>MX17004</td>\n      <td>2010</td>\n      <td>11</td>\n      <td>d26</td>\n      <td>28.1</td>\n      <td>12.1</td>\n    </tr>\n    <tr>\n      <th>28</th>\n      <td>MX17004</td>\n      <td>2010</td>\n      <td>11</td>\n      <td>d27</td>\n      <td>27.7</td>\n      <td>14.2</td>\n    </tr>\n    <tr>\n      <th>30</th>\n      <td>MX17004</td>\n      <td>2010</td>\n      <td>11</td>\n      <td>d4</td>\n      <td>27.2</td>\n      <td>12.0</td>\n    </tr>\n    <tr>\n      <th>27</th>\n      <td>MX17004</td>\n      <td>2010</td>\n      <td>11</td>\n      <td>d5</td>\n      <td>26.3</td>\n      <td>7.9</td>\n    </tr>\n    <tr>\n      <th>31</th>\n      <td>MX17004</td>\n      <td>2010</td>\n      <td>12</td>\n      <td>d1</td>\n      <td>29.9</td>\n      <td>13.8</td>\n    </tr>\n    <tr>\n      <th>32</th>\n      <td>MX17004</td>\n      <td>2010</td>\n      <td>12</td>\n      <td>d6</td>\n      <td>27.8</td>\n      <td>10.5</td>\n    </tr>\n  </tbody>\n</table>\n</div>"
     },
     "metadata": {},
     "execution_count": 102
    }
   ],
   "source": [
    "x.sort_values(['year','month','day']) #d30 is not int class type so we it is string class type so we need more processing "
   ]
  },
  {
   "cell_type": "code",
   "execution_count": 107,
   "metadata": {},
   "outputs": [],
   "source": [
    "x.to_csv(\"../data/weather_clean.csv\",index=False)"
   ]
  },
  {
   "cell_type": "code",
   "execution_count": 1,
   "metadata": {},
   "outputs": [],
   "source": []
  }
 ]
}